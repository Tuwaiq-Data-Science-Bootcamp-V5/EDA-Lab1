{
 "cells": [
  {
   "cell_type": "markdown",
   "id": "through-estimate",
   "metadata": {},
   "source": [
    "### Choose a dataset to Visulaize\n",
    "* Import needed libraries \n",
    "* Load your own dataset"
   ]
  },
  {
   "cell_type": "code",
   "execution_count": 1,
   "id": "objective-zealand",
   "metadata": {},
   "outputs": [],
   "source": [
    "import numpy as np\n",
    "import pandas as pd\n",
    "import plotly.express as px\n"
   ]
  },
  {
   "cell_type": "markdown",
   "id": "4315312d",
   "metadata": {},
   "source": [
    "### Descriptive Analysis\n",
    "* Write the codes for summarizing the dataset (head, tail, shape, describe, info, etc).\n",
    "* Write your findings of the summarizations (write at least 10 findings)."
   ]
  },
  {
   "cell_type": "code",
   "execution_count": 17,
   "id": "69d38288",
   "metadata": {},
   "outputs": [],
   "source": [
    "df = pd.read_csv('smmh.csv')\n",
    "pd.set_option('display.max_columns', None)"
   ]
  },
  {
   "cell_type": "code",
   "execution_count": 18,
   "id": "0f0066fe-c4b5-499b-828f-2078420fd3e6",
   "metadata": {},
   "outputs": [
    {
     "data": {
      "text/html": [
       "<div>\n",
       "<style scoped>\n",
       "    .dataframe tbody tr th:only-of-type {\n",
       "        vertical-align: middle;\n",
       "    }\n",
       "\n",
       "    .dataframe tbody tr th {\n",
       "        vertical-align: top;\n",
       "    }\n",
       "\n",
       "    .dataframe thead th {\n",
       "        text-align: right;\n",
       "    }\n",
       "</style>\n",
       "<table border=\"1\" class=\"dataframe\">\n",
       "  <thead>\n",
       "    <tr style=\"text-align: right;\">\n",
       "      <th></th>\n",
       "      <th>Timestamp</th>\n",
       "      <th>1. What is your age?</th>\n",
       "      <th>2. Gender</th>\n",
       "      <th>3. Relationship Status</th>\n",
       "      <th>4. Occupation Status</th>\n",
       "      <th>5. What type of organizations are you affiliated with?</th>\n",
       "      <th>6. Do you use social media?</th>\n",
       "      <th>7. What social media platforms do you commonly use?</th>\n",
       "      <th>8. What is the average time you spend on social media every day?</th>\n",
       "      <th>9. How often do you find yourself using Social media without a specific purpose?</th>\n",
       "      <th>10. How often do you get distracted by Social media when you are busy doing something?</th>\n",
       "      <th>11. Do you feel restless if you haven't used Social media in a while?</th>\n",
       "      <th>12. On a scale of 1 to 5, how easily distracted are you?</th>\n",
       "      <th>13. On a scale of 1 to 5, how much are you bothered by worries?</th>\n",
       "      <th>14. Do you find it difficult to concentrate on things?</th>\n",
       "      <th>15. On a scale of 1-5, how often do you compare yourself to other successful people through the use of social media?</th>\n",
       "      <th>16. Following the previous question, how do you feel about these comparisons, generally speaking?</th>\n",
       "      <th>17. How often do you look to seek validation from features of social media?</th>\n",
       "      <th>18. How often do you feel depressed or down?</th>\n",
       "      <th>19. On a scale of 1 to 5, how frequently does your interest in daily activities fluctuate?</th>\n",
       "      <th>20. On a scale of 1 to 5, how often do you face issues regarding sleep?</th>\n",
       "    </tr>\n",
       "  </thead>\n",
       "  <tbody>\n",
       "    <tr>\n",
       "      <th>0</th>\n",
       "      <td>4/18/2022 19:18:47</td>\n",
       "      <td>21.0</td>\n",
       "      <td>Male</td>\n",
       "      <td>In a relationship</td>\n",
       "      <td>University Student</td>\n",
       "      <td>University</td>\n",
       "      <td>Yes</td>\n",
       "      <td>Facebook, Twitter, Instagram, YouTube, Discord...</td>\n",
       "      <td>Between 2 and 3 hours</td>\n",
       "      <td>5</td>\n",
       "      <td>3</td>\n",
       "      <td>2</td>\n",
       "      <td>5</td>\n",
       "      <td>2</td>\n",
       "      <td>5</td>\n",
       "      <td>2</td>\n",
       "      <td>3</td>\n",
       "      <td>2</td>\n",
       "      <td>5</td>\n",
       "      <td>4</td>\n",
       "      <td>5</td>\n",
       "    </tr>\n",
       "    <tr>\n",
       "      <th>1</th>\n",
       "      <td>4/18/2022 19:19:28</td>\n",
       "      <td>21.0</td>\n",
       "      <td>Female</td>\n",
       "      <td>Single</td>\n",
       "      <td>University Student</td>\n",
       "      <td>University</td>\n",
       "      <td>Yes</td>\n",
       "      <td>Facebook, Twitter, Instagram, YouTube, Discord...</td>\n",
       "      <td>More than 5 hours</td>\n",
       "      <td>4</td>\n",
       "      <td>3</td>\n",
       "      <td>2</td>\n",
       "      <td>4</td>\n",
       "      <td>5</td>\n",
       "      <td>4</td>\n",
       "      <td>5</td>\n",
       "      <td>1</td>\n",
       "      <td>1</td>\n",
       "      <td>5</td>\n",
       "      <td>4</td>\n",
       "      <td>5</td>\n",
       "    </tr>\n",
       "    <tr>\n",
       "      <th>2</th>\n",
       "      <td>4/18/2022 19:25:59</td>\n",
       "      <td>21.0</td>\n",
       "      <td>Female</td>\n",
       "      <td>Single</td>\n",
       "      <td>University Student</td>\n",
       "      <td>University</td>\n",
       "      <td>Yes</td>\n",
       "      <td>Facebook, Instagram, YouTube, Pinterest</td>\n",
       "      <td>Between 3 and 4 hours</td>\n",
       "      <td>3</td>\n",
       "      <td>2</td>\n",
       "      <td>1</td>\n",
       "      <td>2</td>\n",
       "      <td>5</td>\n",
       "      <td>4</td>\n",
       "      <td>3</td>\n",
       "      <td>3</td>\n",
       "      <td>1</td>\n",
       "      <td>4</td>\n",
       "      <td>2</td>\n",
       "      <td>5</td>\n",
       "    </tr>\n",
       "    <tr>\n",
       "      <th>3</th>\n",
       "      <td>4/18/2022 19:29:43</td>\n",
       "      <td>21.0</td>\n",
       "      <td>Female</td>\n",
       "      <td>Single</td>\n",
       "      <td>University Student</td>\n",
       "      <td>University</td>\n",
       "      <td>Yes</td>\n",
       "      <td>Facebook, Instagram</td>\n",
       "      <td>More than 5 hours</td>\n",
       "      <td>4</td>\n",
       "      <td>2</td>\n",
       "      <td>1</td>\n",
       "      <td>3</td>\n",
       "      <td>5</td>\n",
       "      <td>3</td>\n",
       "      <td>5</td>\n",
       "      <td>1</td>\n",
       "      <td>2</td>\n",
       "      <td>4</td>\n",
       "      <td>3</td>\n",
       "      <td>2</td>\n",
       "    </tr>\n",
       "    <tr>\n",
       "      <th>4</th>\n",
       "      <td>4/18/2022 19:33:31</td>\n",
       "      <td>21.0</td>\n",
       "      <td>Female</td>\n",
       "      <td>Single</td>\n",
       "      <td>University Student</td>\n",
       "      <td>University</td>\n",
       "      <td>Yes</td>\n",
       "      <td>Facebook, Instagram, YouTube</td>\n",
       "      <td>Between 2 and 3 hours</td>\n",
       "      <td>3</td>\n",
       "      <td>5</td>\n",
       "      <td>4</td>\n",
       "      <td>4</td>\n",
       "      <td>5</td>\n",
       "      <td>5</td>\n",
       "      <td>3</td>\n",
       "      <td>3</td>\n",
       "      <td>3</td>\n",
       "      <td>4</td>\n",
       "      <td>4</td>\n",
       "      <td>1</td>\n",
       "    </tr>\n",
       "  </tbody>\n",
       "</table>\n",
       "</div>"
      ],
      "text/plain": [
       "            Timestamp  1. What is your age? 2. Gender 3. Relationship Status  \\\n",
       "0  4/18/2022 19:18:47                  21.0      Male      In a relationship   \n",
       "1  4/18/2022 19:19:28                  21.0    Female                 Single   \n",
       "2  4/18/2022 19:25:59                  21.0    Female                 Single   \n",
       "3  4/18/2022 19:29:43                  21.0    Female                 Single   \n",
       "4  4/18/2022 19:33:31                  21.0    Female                 Single   \n",
       "\n",
       "  4. Occupation Status 5. What type of organizations are you affiliated with?  \\\n",
       "0   University Student                                         University       \n",
       "1   University Student                                         University       \n",
       "2   University Student                                         University       \n",
       "3   University Student                                         University       \n",
       "4   University Student                                         University       \n",
       "\n",
       "  6. Do you use social media?  \\\n",
       "0                         Yes   \n",
       "1                         Yes   \n",
       "2                         Yes   \n",
       "3                         Yes   \n",
       "4                         Yes   \n",
       "\n",
       "  7. What social media platforms do you commonly use?  \\\n",
       "0  Facebook, Twitter, Instagram, YouTube, Discord...    \n",
       "1  Facebook, Twitter, Instagram, YouTube, Discord...    \n",
       "2            Facebook, Instagram, YouTube, Pinterest    \n",
       "3                                Facebook, Instagram    \n",
       "4                       Facebook, Instagram, YouTube    \n",
       "\n",
       "  8. What is the average time you spend on social media every day?  \\\n",
       "0                              Between 2 and 3 hours                 \n",
       "1                                  More than 5 hours                 \n",
       "2                              Between 3 and 4 hours                 \n",
       "3                                  More than 5 hours                 \n",
       "4                              Between 2 and 3 hours                 \n",
       "\n",
       "   9. How often do you find yourself using Social media without a specific purpose?  \\\n",
       "0                                                  5                                  \n",
       "1                                                  4                                  \n",
       "2                                                  3                                  \n",
       "3                                                  4                                  \n",
       "4                                                  3                                  \n",
       "\n",
       "   10. How often do you get distracted by Social media when you are busy doing something?  \\\n",
       "0                                                  3                                        \n",
       "1                                                  3                                        \n",
       "2                                                  2                                        \n",
       "3                                                  2                                        \n",
       "4                                                  5                                        \n",
       "\n",
       "   11. Do you feel restless if you haven't used Social media in a while?  \\\n",
       "0                                                  2                       \n",
       "1                                                  2                       \n",
       "2                                                  1                       \n",
       "3                                                  1                       \n",
       "4                                                  4                       \n",
       "\n",
       "   12. On a scale of 1 to 5, how easily distracted are you?  \\\n",
       "0                                                  5          \n",
       "1                                                  4          \n",
       "2                                                  2          \n",
       "3                                                  3          \n",
       "4                                                  4          \n",
       "\n",
       "   13. On a scale of 1 to 5, how much are you bothered by worries?  \\\n",
       "0                                                  2                 \n",
       "1                                                  5                 \n",
       "2                                                  5                 \n",
       "3                                                  5                 \n",
       "4                                                  5                 \n",
       "\n",
       "   14. Do you find it difficult to concentrate on things?  \\\n",
       "0                                                  5        \n",
       "1                                                  4        \n",
       "2                                                  4        \n",
       "3                                                  3        \n",
       "4                                                  5        \n",
       "\n",
       "   15. On a scale of 1-5, how often do you compare yourself to other successful people through the use of social media?  \\\n",
       "0                                                  2                                                                      \n",
       "1                                                  5                                                                      \n",
       "2                                                  3                                                                      \n",
       "3                                                  5                                                                      \n",
       "4                                                  3                                                                      \n",
       "\n",
       "   16. Following the previous question, how do you feel about these comparisons, generally speaking?  \\\n",
       "0                                                  3                                                   \n",
       "1                                                  1                                                   \n",
       "2                                                  3                                                   \n",
       "3                                                  1                                                   \n",
       "4                                                  3                                                   \n",
       "\n",
       "   17. How often do you look to seek validation from features of social media?  \\\n",
       "0                                                  2                             \n",
       "1                                                  1                             \n",
       "2                                                  1                             \n",
       "3                                                  2                             \n",
       "4                                                  3                             \n",
       "\n",
       "   18. How often do you feel depressed or down?  \\\n",
       "0                                             5   \n",
       "1                                             5   \n",
       "2                                             4   \n",
       "3                                             4   \n",
       "4                                             4   \n",
       "\n",
       "   19. On a scale of 1 to 5, how frequently does your interest in daily activities fluctuate?  \\\n",
       "0                                                  4                                            \n",
       "1                                                  4                                            \n",
       "2                                                  2                                            \n",
       "3                                                  3                                            \n",
       "4                                                  4                                            \n",
       "\n",
       "   20. On a scale of 1 to 5, how often do you face issues regarding sleep?  \n",
       "0                                                  5                        \n",
       "1                                                  5                        \n",
       "2                                                  5                        \n",
       "3                                                  2                        \n",
       "4                                                  1                        "
      ]
     },
     "execution_count": 18,
     "metadata": {},
     "output_type": "execute_result"
    }
   ],
   "source": [
    "df.head()"
   ]
  },
  {
   "cell_type": "code",
   "execution_count": 19,
   "id": "c8be926b-0eb8-4a64-969d-0084df19ab0b",
   "metadata": {},
   "outputs": [
    {
     "data": {
      "text/html": [
       "<div>\n",
       "<style scoped>\n",
       "    .dataframe tbody tr th:only-of-type {\n",
       "        vertical-align: middle;\n",
       "    }\n",
       "\n",
       "    .dataframe tbody tr th {\n",
       "        vertical-align: top;\n",
       "    }\n",
       "\n",
       "    .dataframe thead th {\n",
       "        text-align: right;\n",
       "    }\n",
       "</style>\n",
       "<table border=\"1\" class=\"dataframe\">\n",
       "  <thead>\n",
       "    <tr style=\"text-align: right;\">\n",
       "      <th></th>\n",
       "      <th>Timestamp</th>\n",
       "      <th>1. What is your age?</th>\n",
       "      <th>2. Gender</th>\n",
       "      <th>3. Relationship Status</th>\n",
       "      <th>4. Occupation Status</th>\n",
       "      <th>5. What type of organizations are you affiliated with?</th>\n",
       "      <th>6. Do you use social media?</th>\n",
       "      <th>7. What social media platforms do you commonly use?</th>\n",
       "      <th>8. What is the average time you spend on social media every day?</th>\n",
       "      <th>9. How often do you find yourself using Social media without a specific purpose?</th>\n",
       "      <th>10. How often do you get distracted by Social media when you are busy doing something?</th>\n",
       "      <th>11. Do you feel restless if you haven't used Social media in a while?</th>\n",
       "      <th>12. On a scale of 1 to 5, how easily distracted are you?</th>\n",
       "      <th>13. On a scale of 1 to 5, how much are you bothered by worries?</th>\n",
       "      <th>14. Do you find it difficult to concentrate on things?</th>\n",
       "      <th>15. On a scale of 1-5, how often do you compare yourself to other successful people through the use of social media?</th>\n",
       "      <th>16. Following the previous question, how do you feel about these comparisons, generally speaking?</th>\n",
       "      <th>17. How often do you look to seek validation from features of social media?</th>\n",
       "      <th>18. How often do you feel depressed or down?</th>\n",
       "      <th>19. On a scale of 1 to 5, how frequently does your interest in daily activities fluctuate?</th>\n",
       "      <th>20. On a scale of 1 to 5, how often do you face issues regarding sleep?</th>\n",
       "    </tr>\n",
       "  </thead>\n",
       "  <tbody>\n",
       "    <tr>\n",
       "      <th>476</th>\n",
       "      <td>5/21/2022 23:38:28</td>\n",
       "      <td>24.0</td>\n",
       "      <td>Male</td>\n",
       "      <td>Single</td>\n",
       "      <td>Salaried Worker</td>\n",
       "      <td>University, Private</td>\n",
       "      <td>Yes</td>\n",
       "      <td>Facebook, Instagram, YouTube</td>\n",
       "      <td>Between 2 and 3 hours</td>\n",
       "      <td>3</td>\n",
       "      <td>4</td>\n",
       "      <td>3</td>\n",
       "      <td>4</td>\n",
       "      <td>3</td>\n",
       "      <td>4</td>\n",
       "      <td>4</td>\n",
       "      <td>2</td>\n",
       "      <td>4</td>\n",
       "      <td>3</td>\n",
       "      <td>4</td>\n",
       "      <td>4</td>\n",
       "    </tr>\n",
       "    <tr>\n",
       "      <th>477</th>\n",
       "      <td>5/22/2022 0:01:05</td>\n",
       "      <td>26.0</td>\n",
       "      <td>Female</td>\n",
       "      <td>Married</td>\n",
       "      <td>Salaried Worker</td>\n",
       "      <td>University</td>\n",
       "      <td>Yes</td>\n",
       "      <td>Facebook, YouTube</td>\n",
       "      <td>Between 1 and 2 hours</td>\n",
       "      <td>2</td>\n",
       "      <td>1</td>\n",
       "      <td>2</td>\n",
       "      <td>3</td>\n",
       "      <td>4</td>\n",
       "      <td>4</td>\n",
       "      <td>4</td>\n",
       "      <td>2</td>\n",
       "      <td>4</td>\n",
       "      <td>4</td>\n",
       "      <td>4</td>\n",
       "      <td>1</td>\n",
       "    </tr>\n",
       "    <tr>\n",
       "      <th>478</th>\n",
       "      <td>5/22/2022 10:29:21</td>\n",
       "      <td>29.0</td>\n",
       "      <td>Female</td>\n",
       "      <td>Married</td>\n",
       "      <td>Salaried Worker</td>\n",
       "      <td>University</td>\n",
       "      <td>Yes</td>\n",
       "      <td>Facebook, YouTube</td>\n",
       "      <td>Between 2 and 3 hours</td>\n",
       "      <td>3</td>\n",
       "      <td>3</td>\n",
       "      <td>4</td>\n",
       "      <td>3</td>\n",
       "      <td>2</td>\n",
       "      <td>3</td>\n",
       "      <td>3</td>\n",
       "      <td>3</td>\n",
       "      <td>4</td>\n",
       "      <td>2</td>\n",
       "      <td>2</td>\n",
       "      <td>2</td>\n",
       "    </tr>\n",
       "    <tr>\n",
       "      <th>479</th>\n",
       "      <td>7/14/2022 19:33:47</td>\n",
       "      <td>21.0</td>\n",
       "      <td>Male</td>\n",
       "      <td>Single</td>\n",
       "      <td>University Student</td>\n",
       "      <td>University</td>\n",
       "      <td>Yes</td>\n",
       "      <td>Facebook, Twitter, Instagram, YouTube, Discord...</td>\n",
       "      <td>Between 2 and 3 hours</td>\n",
       "      <td>2</td>\n",
       "      <td>3</td>\n",
       "      <td>2</td>\n",
       "      <td>3</td>\n",
       "      <td>3</td>\n",
       "      <td>2</td>\n",
       "      <td>2</td>\n",
       "      <td>3</td>\n",
       "      <td>4</td>\n",
       "      <td>4</td>\n",
       "      <td>5</td>\n",
       "      <td>4</td>\n",
       "    </tr>\n",
       "    <tr>\n",
       "      <th>480</th>\n",
       "      <td>11/12/2022 13:16:50</td>\n",
       "      <td>53.0</td>\n",
       "      <td>Male</td>\n",
       "      <td>Married</td>\n",
       "      <td>Salaried Worker</td>\n",
       "      <td>Private</td>\n",
       "      <td>Yes</td>\n",
       "      <td>Facebook, YouTube</td>\n",
       "      <td>Less than an Hour</td>\n",
       "      <td>2</td>\n",
       "      <td>3</td>\n",
       "      <td>1</td>\n",
       "      <td>3</td>\n",
       "      <td>1</td>\n",
       "      <td>1</td>\n",
       "      <td>3</td>\n",
       "      <td>3</td>\n",
       "      <td>2</td>\n",
       "      <td>2</td>\n",
       "      <td>2</td>\n",
       "      <td>3</td>\n",
       "    </tr>\n",
       "  </tbody>\n",
       "</table>\n",
       "</div>"
      ],
      "text/plain": [
       "               Timestamp  1. What is your age? 2. Gender  \\\n",
       "476   5/21/2022 23:38:28                  24.0      Male   \n",
       "477    5/22/2022 0:01:05                  26.0    Female   \n",
       "478   5/22/2022 10:29:21                  29.0    Female   \n",
       "479   7/14/2022 19:33:47                  21.0      Male   \n",
       "480  11/12/2022 13:16:50                  53.0      Male   \n",
       "\n",
       "    3. Relationship Status 4. Occupation Status  \\\n",
       "476                 Single      Salaried Worker   \n",
       "477                Married      Salaried Worker   \n",
       "478                Married      Salaried Worker   \n",
       "479                 Single   University Student   \n",
       "480                Married      Salaried Worker   \n",
       "\n",
       "    5. What type of organizations are you affiliated with?  \\\n",
       "476                                University, Private       \n",
       "477                                         University       \n",
       "478                                         University       \n",
       "479                                         University       \n",
       "480                                            Private       \n",
       "\n",
       "    6. Do you use social media?  \\\n",
       "476                         Yes   \n",
       "477                         Yes   \n",
       "478                         Yes   \n",
       "479                         Yes   \n",
       "480                         Yes   \n",
       "\n",
       "    7. What social media platforms do you commonly use?  \\\n",
       "476                       Facebook, Instagram, YouTube    \n",
       "477                                  Facebook, YouTube    \n",
       "478                                  Facebook, YouTube    \n",
       "479  Facebook, Twitter, Instagram, YouTube, Discord...    \n",
       "480                                  Facebook, YouTube    \n",
       "\n",
       "    8. What is the average time you spend on social media every day?  \\\n",
       "476                              Between 2 and 3 hours                 \n",
       "477                              Between 1 and 2 hours                 \n",
       "478                              Between 2 and 3 hours                 \n",
       "479                              Between 2 and 3 hours                 \n",
       "480                                  Less than an Hour                 \n",
       "\n",
       "     9. How often do you find yourself using Social media without a specific purpose?  \\\n",
       "476                                                  3                                  \n",
       "477                                                  2                                  \n",
       "478                                                  3                                  \n",
       "479                                                  2                                  \n",
       "480                                                  2                                  \n",
       "\n",
       "     10. How often do you get distracted by Social media when you are busy doing something?  \\\n",
       "476                                                  4                                        \n",
       "477                                                  1                                        \n",
       "478                                                  3                                        \n",
       "479                                                  3                                        \n",
       "480                                                  3                                        \n",
       "\n",
       "     11. Do you feel restless if you haven't used Social media in a while?  \\\n",
       "476                                                  3                       \n",
       "477                                                  2                       \n",
       "478                                                  4                       \n",
       "479                                                  2                       \n",
       "480                                                  1                       \n",
       "\n",
       "     12. On a scale of 1 to 5, how easily distracted are you?  \\\n",
       "476                                                  4          \n",
       "477                                                  3          \n",
       "478                                                  3          \n",
       "479                                                  3          \n",
       "480                                                  3          \n",
       "\n",
       "     13. On a scale of 1 to 5, how much are you bothered by worries?  \\\n",
       "476                                                  3                 \n",
       "477                                                  4                 \n",
       "478                                                  2                 \n",
       "479                                                  3                 \n",
       "480                                                  1                 \n",
       "\n",
       "     14. Do you find it difficult to concentrate on things?  \\\n",
       "476                                                  4        \n",
       "477                                                  4        \n",
       "478                                                  3        \n",
       "479                                                  2        \n",
       "480                                                  1        \n",
       "\n",
       "     15. On a scale of 1-5, how often do you compare yourself to other successful people through the use of social media?  \\\n",
       "476                                                  4                                                                      \n",
       "477                                                  4                                                                      \n",
       "478                                                  3                                                                      \n",
       "479                                                  2                                                                      \n",
       "480                                                  3                                                                      \n",
       "\n",
       "     16. Following the previous question, how do you feel about these comparisons, generally speaking?  \\\n",
       "476                                                  2                                                   \n",
       "477                                                  2                                                   \n",
       "478                                                  3                                                   \n",
       "479                                                  3                                                   \n",
       "480                                                  3                                                   \n",
       "\n",
       "     17. How often do you look to seek validation from features of social media?  \\\n",
       "476                                                  4                             \n",
       "477                                                  4                             \n",
       "478                                                  4                             \n",
       "479                                                  4                             \n",
       "480                                                  2                             \n",
       "\n",
       "     18. How often do you feel depressed or down?  \\\n",
       "476                                             3   \n",
       "477                                             4   \n",
       "478                                             2   \n",
       "479                                             4   \n",
       "480                                             2   \n",
       "\n",
       "     19. On a scale of 1 to 5, how frequently does your interest in daily activities fluctuate?  \\\n",
       "476                                                  4                                            \n",
       "477                                                  4                                            \n",
       "478                                                  2                                            \n",
       "479                                                  5                                            \n",
       "480                                                  2                                            \n",
       "\n",
       "     20. On a scale of 1 to 5, how often do you face issues regarding sleep?  \n",
       "476                                                  4                        \n",
       "477                                                  1                        \n",
       "478                                                  2                        \n",
       "479                                                  4                        \n",
       "480                                                  3                        "
      ]
     },
     "execution_count": 19,
     "metadata": {},
     "output_type": "execute_result"
    }
   ],
   "source": [
    "df.tail()"
   ]
  },
  {
   "cell_type": "code",
   "execution_count": 20,
   "id": "5f9c3afa-7251-48ce-97d5-232d9b8ed794",
   "metadata": {},
   "outputs": [
    {
     "data": {
      "text/plain": [
       "(481, 21)"
      ]
     },
     "execution_count": 20,
     "metadata": {},
     "output_type": "execute_result"
    }
   ],
   "source": [
    "df.shape"
   ]
  },
  {
   "cell_type": "code",
   "execution_count": 23,
   "id": "d6b20ff3-6c25-446b-a531-4787e9728247",
   "metadata": {},
   "outputs": [
    {
     "name": "stdout",
     "output_type": "stream",
     "text": [
      "<class 'pandas.core.frame.DataFrame'>\n",
      "RangeIndex: 481 entries, 0 to 480\n",
      "Data columns (total 21 columns):\n",
      " #   Column                                                                                                                Non-Null Count  Dtype  \n",
      "---  ------                                                                                                                --------------  -----  \n",
      " 0   Timestamp                                                                                                             481 non-null    object \n",
      " 1   1. What is your age?                                                                                                  481 non-null    float64\n",
      " 2   2. Gender                                                                                                             481 non-null    object \n",
      " 3   3. Relationship Status                                                                                                481 non-null    object \n",
      " 4   4. Occupation Status                                                                                                  481 non-null    object \n",
      " 5   5. What type of organizations are you affiliated with?                                                                451 non-null    object \n",
      " 6   6. Do you use social media?                                                                                           481 non-null    object \n",
      " 7   7. What social media platforms do you commonly use?                                                                   481 non-null    object \n",
      " 8   8. What is the average time you spend on social media every day?                                                      481 non-null    object \n",
      " 9   9. How often do you find yourself using Social media without a specific purpose?                                      481 non-null    int64  \n",
      " 10  10. How often do you get distracted by Social media when you are busy doing something?                                481 non-null    int64  \n",
      " 11  11. Do you feel restless if you haven't used Social media in a while?                                                 481 non-null    int64  \n",
      " 12  12. On a scale of 1 to 5, how easily distracted are you?                                                              481 non-null    int64  \n",
      " 13  13. On a scale of 1 to 5, how much are you bothered by worries?                                                       481 non-null    int64  \n",
      " 14  14. Do you find it difficult to concentrate on things?                                                                481 non-null    int64  \n",
      " 15  15. On a scale of 1-5, how often do you compare yourself to other successful people through the use of social media?  481 non-null    int64  \n",
      " 16  16. Following the previous question, how do you feel about these comparisons, generally speaking?                     481 non-null    int64  \n",
      " 17  17. How often do you look to seek validation from features of social media?                                           481 non-null    int64  \n",
      " 18  18. How often do you feel depressed or down?                                                                          481 non-null    int64  \n",
      " 19  19. On a scale of 1 to 5, how frequently does your interest in daily activities fluctuate?                            481 non-null    int64  \n",
      " 20  20. On a scale of 1 to 5, how often do you face issues regarding sleep?                                               481 non-null    int64  \n",
      "dtypes: float64(1), int64(12), object(8)\n",
      "memory usage: 79.0+ KB\n"
     ]
    }
   ],
   "source": [
    "df.info()"
   ]
  },
  {
   "cell_type": "code",
   "execution_count": 27,
   "id": "6edf054b-6237-4eeb-84d1-b34eb72a89c5",
   "metadata": {},
   "outputs": [
    {
     "data": {
      "text/plain": [
       "1. What is your age?\n",
       "21.0    82\n",
       "22.0    81\n",
       "20.0    45\n",
       "23.0    42\n",
       "24.0    27\n",
       "19.0    19\n",
       "26.0    18\n",
       "25.0    17\n",
       "47.0    16\n",
       "48.0    13\n",
       "18.0    13\n",
       "27.0    11\n",
       "17.0     9\n",
       "35.0     8\n",
       "29.0     6\n",
       "30.0     6\n",
       "34.0     6\n",
       "50.0     6\n",
       "28.0     5\n",
       "37.0     4\n",
       "14.0     4\n",
       "32.0     4\n",
       "38.0     3\n",
       "49.0     3\n",
       "36.0     3\n",
       "44.0     2\n",
       "46.0     2\n",
       "15.0     2\n",
       "13.0     2\n",
       "16.0     2\n",
       "51.0     2\n",
       "33.0     2\n",
       "40.0     2\n",
       "56.0     2\n",
       "55.0     1\n",
       "45.0     1\n",
       "42.0     1\n",
       "31.0     1\n",
       "69.0     1\n",
       "91.0     1\n",
       "43.0     1\n",
       "26.7     1\n",
       "52.0     1\n",
       "65.0     1\n",
       "60.0     1\n",
       "53.0     1\n",
       "Name: count, dtype: int64"
      ]
     },
     "execution_count": 27,
     "metadata": {},
     "output_type": "execute_result"
    }
   ],
   "source": [
    "df['1. What is your age?'].value_counts()"
   ]
  },
  {
   "cell_type": "code",
   "execution_count": 22,
   "id": "45bcebc5-d6e0-46d0-ab84-2c6c9f8ea116",
   "metadata": {},
   "outputs": [
    {
     "data": {
      "text/html": [
       "<div>\n",
       "<style scoped>\n",
       "    .dataframe tbody tr th:only-of-type {\n",
       "        vertical-align: middle;\n",
       "    }\n",
       "\n",
       "    .dataframe tbody tr th {\n",
       "        vertical-align: top;\n",
       "    }\n",
       "\n",
       "    .dataframe thead th {\n",
       "        text-align: right;\n",
       "    }\n",
       "</style>\n",
       "<table border=\"1\" class=\"dataframe\">\n",
       "  <thead>\n",
       "    <tr style=\"text-align: right;\">\n",
       "      <th></th>\n",
       "      <th>Timestamp</th>\n",
       "      <th>1. What is your age?</th>\n",
       "      <th>2. Gender</th>\n",
       "      <th>3. Relationship Status</th>\n",
       "      <th>4. Occupation Status</th>\n",
       "      <th>5. What type of organizations are you affiliated with?</th>\n",
       "      <th>6. Do you use social media?</th>\n",
       "      <th>7. What social media platforms do you commonly use?</th>\n",
       "      <th>8. What is the average time you spend on social media every day?</th>\n",
       "      <th>9. How often do you find yourself using Social media without a specific purpose?</th>\n",
       "      <th>10. How often do you get distracted by Social media when you are busy doing something?</th>\n",
       "      <th>11. Do you feel restless if you haven't used Social media in a while?</th>\n",
       "      <th>12. On a scale of 1 to 5, how easily distracted are you?</th>\n",
       "      <th>13. On a scale of 1 to 5, how much are you bothered by worries?</th>\n",
       "      <th>14. Do you find it difficult to concentrate on things?</th>\n",
       "      <th>15. On a scale of 1-5, how often do you compare yourself to other successful people through the use of social media?</th>\n",
       "      <th>16. Following the previous question, how do you feel about these comparisons, generally speaking?</th>\n",
       "      <th>17. How often do you look to seek validation from features of social media?</th>\n",
       "      <th>18. How often do you feel depressed or down?</th>\n",
       "      <th>19. On a scale of 1 to 5, how frequently does your interest in daily activities fluctuate?</th>\n",
       "      <th>20. On a scale of 1 to 5, how often do you face issues regarding sleep?</th>\n",
       "    </tr>\n",
       "  </thead>\n",
       "  <tbody>\n",
       "    <tr>\n",
       "      <th>count</th>\n",
       "      <td>481</td>\n",
       "      <td>481.00000</td>\n",
       "      <td>481</td>\n",
       "      <td>481</td>\n",
       "      <td>481</td>\n",
       "      <td>451</td>\n",
       "      <td>481</td>\n",
       "      <td>481</td>\n",
       "      <td>481</td>\n",
       "      <td>481.000000</td>\n",
       "      <td>481.000000</td>\n",
       "      <td>481.000000</td>\n",
       "      <td>481.000000</td>\n",
       "      <td>481.000000</td>\n",
       "      <td>481.000000</td>\n",
       "      <td>481.000000</td>\n",
       "      <td>481.000000</td>\n",
       "      <td>481.000000</td>\n",
       "      <td>481.000000</td>\n",
       "      <td>481.000000</td>\n",
       "      <td>481.000000</td>\n",
       "    </tr>\n",
       "    <tr>\n",
       "      <th>unique</th>\n",
       "      <td>480</td>\n",
       "      <td>NaN</td>\n",
       "      <td>9</td>\n",
       "      <td>4</td>\n",
       "      <td>4</td>\n",
       "      <td>18</td>\n",
       "      <td>2</td>\n",
       "      <td>125</td>\n",
       "      <td>6</td>\n",
       "      <td>NaN</td>\n",
       "      <td>NaN</td>\n",
       "      <td>NaN</td>\n",
       "      <td>NaN</td>\n",
       "      <td>NaN</td>\n",
       "      <td>NaN</td>\n",
       "      <td>NaN</td>\n",
       "      <td>NaN</td>\n",
       "      <td>NaN</td>\n",
       "      <td>NaN</td>\n",
       "      <td>NaN</td>\n",
       "      <td>NaN</td>\n",
       "    </tr>\n",
       "    <tr>\n",
       "      <th>top</th>\n",
       "      <td>5/11/2022 22:54:32</td>\n",
       "      <td>NaN</td>\n",
       "      <td>Female</td>\n",
       "      <td>Single</td>\n",
       "      <td>University Student</td>\n",
       "      <td>University</td>\n",
       "      <td>Yes</td>\n",
       "      <td>Facebook, Instagram, YouTube</td>\n",
       "      <td>More than 5 hours</td>\n",
       "      <td>NaN</td>\n",
       "      <td>NaN</td>\n",
       "      <td>NaN</td>\n",
       "      <td>NaN</td>\n",
       "      <td>NaN</td>\n",
       "      <td>NaN</td>\n",
       "      <td>NaN</td>\n",
       "      <td>NaN</td>\n",
       "      <td>NaN</td>\n",
       "      <td>NaN</td>\n",
       "      <td>NaN</td>\n",
       "      <td>NaN</td>\n",
       "    </tr>\n",
       "    <tr>\n",
       "      <th>freq</th>\n",
       "      <td>2</td>\n",
       "      <td>NaN</td>\n",
       "      <td>263</td>\n",
       "      <td>285</td>\n",
       "      <td>292</td>\n",
       "      <td>239</td>\n",
       "      <td>478</td>\n",
       "      <td>35</td>\n",
       "      <td>116</td>\n",
       "      <td>NaN</td>\n",
       "      <td>NaN</td>\n",
       "      <td>NaN</td>\n",
       "      <td>NaN</td>\n",
       "      <td>NaN</td>\n",
       "      <td>NaN</td>\n",
       "      <td>NaN</td>\n",
       "      <td>NaN</td>\n",
       "      <td>NaN</td>\n",
       "      <td>NaN</td>\n",
       "      <td>NaN</td>\n",
       "      <td>NaN</td>\n",
       "    </tr>\n",
       "    <tr>\n",
       "      <th>mean</th>\n",
       "      <td>NaN</td>\n",
       "      <td>26.13659</td>\n",
       "      <td>NaN</td>\n",
       "      <td>NaN</td>\n",
       "      <td>NaN</td>\n",
       "      <td>NaN</td>\n",
       "      <td>NaN</td>\n",
       "      <td>NaN</td>\n",
       "      <td>NaN</td>\n",
       "      <td>3.553015</td>\n",
       "      <td>3.320166</td>\n",
       "      <td>2.588358</td>\n",
       "      <td>3.349272</td>\n",
       "      <td>3.559252</td>\n",
       "      <td>3.245322</td>\n",
       "      <td>2.831601</td>\n",
       "      <td>2.775468</td>\n",
       "      <td>2.455301</td>\n",
       "      <td>3.255717</td>\n",
       "      <td>3.170478</td>\n",
       "      <td>3.201663</td>\n",
       "    </tr>\n",
       "    <tr>\n",
       "      <th>std</th>\n",
       "      <td>NaN</td>\n",
       "      <td>9.91511</td>\n",
       "      <td>NaN</td>\n",
       "      <td>NaN</td>\n",
       "      <td>NaN</td>\n",
       "      <td>NaN</td>\n",
       "      <td>NaN</td>\n",
       "      <td>NaN</td>\n",
       "      <td>NaN</td>\n",
       "      <td>1.096299</td>\n",
       "      <td>1.328137</td>\n",
       "      <td>1.257059</td>\n",
       "      <td>1.175552</td>\n",
       "      <td>1.283356</td>\n",
       "      <td>1.347105</td>\n",
       "      <td>1.407835</td>\n",
       "      <td>1.056479</td>\n",
       "      <td>1.247739</td>\n",
       "      <td>1.313033</td>\n",
       "      <td>1.256666</td>\n",
       "      <td>1.461619</td>\n",
       "    </tr>\n",
       "    <tr>\n",
       "      <th>min</th>\n",
       "      <td>NaN</td>\n",
       "      <td>13.00000</td>\n",
       "      <td>NaN</td>\n",
       "      <td>NaN</td>\n",
       "      <td>NaN</td>\n",
       "      <td>NaN</td>\n",
       "      <td>NaN</td>\n",
       "      <td>NaN</td>\n",
       "      <td>NaN</td>\n",
       "      <td>1.000000</td>\n",
       "      <td>1.000000</td>\n",
       "      <td>1.000000</td>\n",
       "      <td>1.000000</td>\n",
       "      <td>1.000000</td>\n",
       "      <td>1.000000</td>\n",
       "      <td>1.000000</td>\n",
       "      <td>1.000000</td>\n",
       "      <td>1.000000</td>\n",
       "      <td>1.000000</td>\n",
       "      <td>1.000000</td>\n",
       "      <td>1.000000</td>\n",
       "    </tr>\n",
       "    <tr>\n",
       "      <th>25%</th>\n",
       "      <td>NaN</td>\n",
       "      <td>21.00000</td>\n",
       "      <td>NaN</td>\n",
       "      <td>NaN</td>\n",
       "      <td>NaN</td>\n",
       "      <td>NaN</td>\n",
       "      <td>NaN</td>\n",
       "      <td>NaN</td>\n",
       "      <td>NaN</td>\n",
       "      <td>3.000000</td>\n",
       "      <td>2.000000</td>\n",
       "      <td>2.000000</td>\n",
       "      <td>3.000000</td>\n",
       "      <td>3.000000</td>\n",
       "      <td>2.000000</td>\n",
       "      <td>2.000000</td>\n",
       "      <td>2.000000</td>\n",
       "      <td>1.000000</td>\n",
       "      <td>2.000000</td>\n",
       "      <td>2.000000</td>\n",
       "      <td>2.000000</td>\n",
       "    </tr>\n",
       "    <tr>\n",
       "      <th>50%</th>\n",
       "      <td>NaN</td>\n",
       "      <td>22.00000</td>\n",
       "      <td>NaN</td>\n",
       "      <td>NaN</td>\n",
       "      <td>NaN</td>\n",
       "      <td>NaN</td>\n",
       "      <td>NaN</td>\n",
       "      <td>NaN</td>\n",
       "      <td>NaN</td>\n",
       "      <td>4.000000</td>\n",
       "      <td>3.000000</td>\n",
       "      <td>2.000000</td>\n",
       "      <td>3.000000</td>\n",
       "      <td>4.000000</td>\n",
       "      <td>3.000000</td>\n",
       "      <td>3.000000</td>\n",
       "      <td>3.000000</td>\n",
       "      <td>2.000000</td>\n",
       "      <td>3.000000</td>\n",
       "      <td>3.000000</td>\n",
       "      <td>3.000000</td>\n",
       "    </tr>\n",
       "    <tr>\n",
       "      <th>75%</th>\n",
       "      <td>NaN</td>\n",
       "      <td>26.00000</td>\n",
       "      <td>NaN</td>\n",
       "      <td>NaN</td>\n",
       "      <td>NaN</td>\n",
       "      <td>NaN</td>\n",
       "      <td>NaN</td>\n",
       "      <td>NaN</td>\n",
       "      <td>NaN</td>\n",
       "      <td>4.000000</td>\n",
       "      <td>4.000000</td>\n",
       "      <td>3.000000</td>\n",
       "      <td>4.000000</td>\n",
       "      <td>5.000000</td>\n",
       "      <td>4.000000</td>\n",
       "      <td>4.000000</td>\n",
       "      <td>3.000000</td>\n",
       "      <td>3.000000</td>\n",
       "      <td>4.000000</td>\n",
       "      <td>4.000000</td>\n",
       "      <td>5.000000</td>\n",
       "    </tr>\n",
       "    <tr>\n",
       "      <th>max</th>\n",
       "      <td>NaN</td>\n",
       "      <td>91.00000</td>\n",
       "      <td>NaN</td>\n",
       "      <td>NaN</td>\n",
       "      <td>NaN</td>\n",
       "      <td>NaN</td>\n",
       "      <td>NaN</td>\n",
       "      <td>NaN</td>\n",
       "      <td>NaN</td>\n",
       "      <td>5.000000</td>\n",
       "      <td>5.000000</td>\n",
       "      <td>5.000000</td>\n",
       "      <td>5.000000</td>\n",
       "      <td>5.000000</td>\n",
       "      <td>5.000000</td>\n",
       "      <td>5.000000</td>\n",
       "      <td>5.000000</td>\n",
       "      <td>5.000000</td>\n",
       "      <td>5.000000</td>\n",
       "      <td>5.000000</td>\n",
       "      <td>5.000000</td>\n",
       "    </tr>\n",
       "  </tbody>\n",
       "</table>\n",
       "</div>"
      ],
      "text/plain": [
       "                 Timestamp  1. What is your age? 2. Gender  \\\n",
       "count                  481             481.00000       481   \n",
       "unique                 480                   NaN         9   \n",
       "top     5/11/2022 22:54:32                   NaN    Female   \n",
       "freq                     2                   NaN       263   \n",
       "mean                   NaN              26.13659       NaN   \n",
       "std                    NaN               9.91511       NaN   \n",
       "min                    NaN              13.00000       NaN   \n",
       "25%                    NaN              21.00000       NaN   \n",
       "50%                    NaN              22.00000       NaN   \n",
       "75%                    NaN              26.00000       NaN   \n",
       "max                    NaN              91.00000       NaN   \n",
       "\n",
       "       3. Relationship Status 4. Occupation Status  \\\n",
       "count                     481                  481   \n",
       "unique                      4                    4   \n",
       "top                    Single   University Student   \n",
       "freq                      285                  292   \n",
       "mean                      NaN                  NaN   \n",
       "std                       NaN                  NaN   \n",
       "min                       NaN                  NaN   \n",
       "25%                       NaN                  NaN   \n",
       "50%                       NaN                  NaN   \n",
       "75%                       NaN                  NaN   \n",
       "max                       NaN                  NaN   \n",
       "\n",
       "       5. What type of organizations are you affiliated with?  \\\n",
       "count                                                 451       \n",
       "unique                                                 18       \n",
       "top                                            University       \n",
       "freq                                                  239       \n",
       "mean                                                  NaN       \n",
       "std                                                   NaN       \n",
       "min                                                   NaN       \n",
       "25%                                                   NaN       \n",
       "50%                                                   NaN       \n",
       "75%                                                   NaN       \n",
       "max                                                   NaN       \n",
       "\n",
       "       6. Do you use social media?  \\\n",
       "count                          481   \n",
       "unique                           2   \n",
       "top                            Yes   \n",
       "freq                           478   \n",
       "mean                           NaN   \n",
       "std                            NaN   \n",
       "min                            NaN   \n",
       "25%                            NaN   \n",
       "50%                            NaN   \n",
       "75%                            NaN   \n",
       "max                            NaN   \n",
       "\n",
       "       7. What social media platforms do you commonly use?  \\\n",
       "count                                                 481    \n",
       "unique                                                125    \n",
       "top                          Facebook, Instagram, YouTube    \n",
       "freq                                                   35    \n",
       "mean                                                  NaN    \n",
       "std                                                   NaN    \n",
       "min                                                   NaN    \n",
       "25%                                                   NaN    \n",
       "50%                                                   NaN    \n",
       "75%                                                   NaN    \n",
       "max                                                   NaN    \n",
       "\n",
       "       8. What is the average time you spend on social media every day?  \\\n",
       "count                                                 481                 \n",
       "unique                                                  6                 \n",
       "top                                     More than 5 hours                 \n",
       "freq                                                  116                 \n",
       "mean                                                  NaN                 \n",
       "std                                                   NaN                 \n",
       "min                                                   NaN                 \n",
       "25%                                                   NaN                 \n",
       "50%                                                   NaN                 \n",
       "75%                                                   NaN                 \n",
       "max                                                   NaN                 \n",
       "\n",
       "        9. How often do you find yourself using Social media without a specific purpose?  \\\n",
       "count                                          481.000000                                  \n",
       "unique                                                NaN                                  \n",
       "top                                                   NaN                                  \n",
       "freq                                                  NaN                                  \n",
       "mean                                             3.553015                                  \n",
       "std                                              1.096299                                  \n",
       "min                                              1.000000                                  \n",
       "25%                                              3.000000                                  \n",
       "50%                                              4.000000                                  \n",
       "75%                                              4.000000                                  \n",
       "max                                              5.000000                                  \n",
       "\n",
       "        10. How often do you get distracted by Social media when you are busy doing something?  \\\n",
       "count                                          481.000000                                        \n",
       "unique                                                NaN                                        \n",
       "top                                                   NaN                                        \n",
       "freq                                                  NaN                                        \n",
       "mean                                             3.320166                                        \n",
       "std                                              1.328137                                        \n",
       "min                                              1.000000                                        \n",
       "25%                                              2.000000                                        \n",
       "50%                                              3.000000                                        \n",
       "75%                                              4.000000                                        \n",
       "max                                              5.000000                                        \n",
       "\n",
       "        11. Do you feel restless if you haven't used Social media in a while?  \\\n",
       "count                                          481.000000                       \n",
       "unique                                                NaN                       \n",
       "top                                                   NaN                       \n",
       "freq                                                  NaN                       \n",
       "mean                                             2.588358                       \n",
       "std                                              1.257059                       \n",
       "min                                              1.000000                       \n",
       "25%                                              2.000000                       \n",
       "50%                                              2.000000                       \n",
       "75%                                              3.000000                       \n",
       "max                                              5.000000                       \n",
       "\n",
       "        12. On a scale of 1 to 5, how easily distracted are you?  \\\n",
       "count                                          481.000000          \n",
       "unique                                                NaN          \n",
       "top                                                   NaN          \n",
       "freq                                                  NaN          \n",
       "mean                                             3.349272          \n",
       "std                                              1.175552          \n",
       "min                                              1.000000          \n",
       "25%                                              3.000000          \n",
       "50%                                              3.000000          \n",
       "75%                                              4.000000          \n",
       "max                                              5.000000          \n",
       "\n",
       "        13. On a scale of 1 to 5, how much are you bothered by worries?  \\\n",
       "count                                          481.000000                 \n",
       "unique                                                NaN                 \n",
       "top                                                   NaN                 \n",
       "freq                                                  NaN                 \n",
       "mean                                             3.559252                 \n",
       "std                                              1.283356                 \n",
       "min                                              1.000000                 \n",
       "25%                                              3.000000                 \n",
       "50%                                              4.000000                 \n",
       "75%                                              5.000000                 \n",
       "max                                              5.000000                 \n",
       "\n",
       "        14. Do you find it difficult to concentrate on things?  \\\n",
       "count                                          481.000000        \n",
       "unique                                                NaN        \n",
       "top                                                   NaN        \n",
       "freq                                                  NaN        \n",
       "mean                                             3.245322        \n",
       "std                                              1.347105        \n",
       "min                                              1.000000        \n",
       "25%                                              2.000000        \n",
       "50%                                              3.000000        \n",
       "75%                                              4.000000        \n",
       "max                                              5.000000        \n",
       "\n",
       "        15. On a scale of 1-5, how often do you compare yourself to other successful people through the use of social media?  \\\n",
       "count                                          481.000000                                                                      \n",
       "unique                                                NaN                                                                      \n",
       "top                                                   NaN                                                                      \n",
       "freq                                                  NaN                                                                      \n",
       "mean                                             2.831601                                                                      \n",
       "std                                              1.407835                                                                      \n",
       "min                                              1.000000                                                                      \n",
       "25%                                              2.000000                                                                      \n",
       "50%                                              3.000000                                                                      \n",
       "75%                                              4.000000                                                                      \n",
       "max                                              5.000000                                                                      \n",
       "\n",
       "        16. Following the previous question, how do you feel about these comparisons, generally speaking?  \\\n",
       "count                                          481.000000                                                   \n",
       "unique                                                NaN                                                   \n",
       "top                                                   NaN                                                   \n",
       "freq                                                  NaN                                                   \n",
       "mean                                             2.775468                                                   \n",
       "std                                              1.056479                                                   \n",
       "min                                              1.000000                                                   \n",
       "25%                                              2.000000                                                   \n",
       "50%                                              3.000000                                                   \n",
       "75%                                              3.000000                                                   \n",
       "max                                              5.000000                                                   \n",
       "\n",
       "        17. How often do you look to seek validation from features of social media?  \\\n",
       "count                                          481.000000                             \n",
       "unique                                                NaN                             \n",
       "top                                                   NaN                             \n",
       "freq                                                  NaN                             \n",
       "mean                                             2.455301                             \n",
       "std                                              1.247739                             \n",
       "min                                              1.000000                             \n",
       "25%                                              1.000000                             \n",
       "50%                                              2.000000                             \n",
       "75%                                              3.000000                             \n",
       "max                                              5.000000                             \n",
       "\n",
       "        18. How often do you feel depressed or down?  \\\n",
       "count                                     481.000000   \n",
       "unique                                           NaN   \n",
       "top                                              NaN   \n",
       "freq                                             NaN   \n",
       "mean                                        3.255717   \n",
       "std                                         1.313033   \n",
       "min                                         1.000000   \n",
       "25%                                         2.000000   \n",
       "50%                                         3.000000   \n",
       "75%                                         4.000000   \n",
       "max                                         5.000000   \n",
       "\n",
       "        19. On a scale of 1 to 5, how frequently does your interest in daily activities fluctuate?  \\\n",
       "count                                          481.000000                                            \n",
       "unique                                                NaN                                            \n",
       "top                                                   NaN                                            \n",
       "freq                                                  NaN                                            \n",
       "mean                                             3.170478                                            \n",
       "std                                              1.256666                                            \n",
       "min                                              1.000000                                            \n",
       "25%                                              2.000000                                            \n",
       "50%                                              3.000000                                            \n",
       "75%                                              4.000000                                            \n",
       "max                                              5.000000                                            \n",
       "\n",
       "        20. On a scale of 1 to 5, how often do you face issues regarding sleep?  \n",
       "count                                          481.000000                        \n",
       "unique                                                NaN                        \n",
       "top                                                   NaN                        \n",
       "freq                                                  NaN                        \n",
       "mean                                             3.201663                        \n",
       "std                                              1.461619                        \n",
       "min                                              1.000000                        \n",
       "25%                                              2.000000                        \n",
       "50%                                              3.000000                        \n",
       "75%                                              5.000000                        \n",
       "max                                              5.000000                        "
      ]
     },
     "execution_count": 22,
     "metadata": {},
     "output_type": "execute_result"
    }
   ],
   "source": [
    "df.describe(include='all')"
   ]
  },
  {
   "cell_type": "markdown",
   "id": "b13d5db4-80cd-4a8a-8c35-eb514ee600c2",
   "metadata": {},
   "source": [
    "- Minimum age is 13.\n",
    "- Mean of ages is 26.\n",
    "- Most of the responses are university students.\n",
    "- Almost all of the responses use social media.\n",
    "- About quarter of the survey responses use social media over 5 hours a day.\n",
    "- Most responses are females.\n",
    "- Most responses are singles.\n",
    "- The most frequent social media apps are(Facebook, Instagram, YouTube).\n",
    "- The minimum relationship status value is divorced.\n",
    "- The max age value is 91."
   ]
  },
  {
   "cell_type": "markdown",
   "id": "valued-proof",
   "metadata": {},
   "source": [
    "### Univariate Visualization\n",
    "* Plot two Charts\n",
    "* Provide each charts with at least two insights "
   ]
  },
  {
   "cell_type": "code",
   "execution_count": 30,
   "id": "anticipated-soldier",
   "metadata": {},
   "outputs": [
    {
     "data": {
      "application/vnd.plotly.v1+json": {
       "config": {
        "plotlyServerURL": "https://plot.ly"
       },
       "data": [
        {
         "alignmentgroup": "True",
         "bingroup": "x",
         "hovertemplate": "1. What is your age?=%{x}<br>count=%{y}<extra></extra>",
         "legendgroup": "",
         "marker": {
          "color": "#636efa",
          "pattern": {
           "shape": ""
          }
         },
         "name": "",
         "offsetgroup": "",
         "orientation": "v",
         "showlegend": false,
         "type": "histogram",
         "x": [
          21,
          21,
          21,
          21,
          21,
          22,
          21,
          21,
          21,
          20,
          24,
          21,
          22,
          21,
          22,
          23,
          21,
          25,
          28,
          34,
          22,
          23,
          26,
          23,
          23,
          35,
          20,
          35,
          22,
          21,
          22,
          35,
          24,
          18,
          19,
          21,
          21,
          23,
          22,
          22,
          21,
          21,
          56,
          19,
          24,
          22,
          65,
          17,
          40,
          33,
          22,
          24,
          26,
          55,
          26,
          27,
          22,
          19,
          22,
          20,
          25,
          25,
          18,
          25,
          19,
          24,
          21,
          18,
          14,
          25,
          33,
          23,
          14,
          38,
          23,
          26,
          24,
          21,
          18,
          28,
          22,
          21,
          21,
          21,
          17,
          24,
          22,
          32,
          22,
          20,
          22,
          28,
          22,
          17,
          30,
          22,
          14,
          20,
          22,
          16,
          22,
          22,
          22,
          22,
          21,
          23,
          23,
          48,
          21,
          47,
          48,
          26,
          47,
          47,
          27,
          34,
          20,
          22,
          23,
          20,
          48,
          20,
          20,
          22,
          22,
          20,
          24,
          23,
          20,
          16,
          50,
          47,
          24,
          38,
          50,
          49,
          47,
          48,
          51,
          50,
          47,
          27,
          40,
          46,
          21,
          47,
          20,
          47,
          48,
          49,
          21,
          32,
          47,
          50,
          48,
          21,
          47,
          36,
          37,
          19,
          30,
          48,
          48,
          48,
          47,
          47,
          48,
          21,
          48,
          21,
          20,
          20,
          20,
          21,
          20,
          47,
          35,
          23,
          21,
          21,
          37,
          48,
          47,
          25,
          22,
          45,
          47,
          47,
          24,
          21,
          22,
          19,
          21,
          22,
          20,
          42,
          35,
          38,
          17,
          32,
          21,
          22,
          27,
          21,
          27,
          20,
          27,
          24,
          26,
          20,
          31,
          21,
          34,
          22,
          20,
          23,
          48,
          37,
          22,
          50,
          21,
          23,
          21,
          22,
          22,
          22,
          19,
          23,
          46,
          21,
          24,
          20,
          25,
          21,
          23,
          22,
          36,
          22,
          69,
          25,
          22,
          23,
          23,
          19,
          21,
          27,
          25,
          20,
          34,
          23,
          34,
          26,
          25,
          22,
          20,
          23,
          91,
          22,
          23,
          21,
          36,
          21,
          22,
          22,
          22,
          20,
          26,
          21,
          20,
          21,
          19,
          20,
          22,
          23,
          21,
          21,
          22,
          26,
          22,
          17,
          23,
          21,
          22,
          20,
          24,
          22,
          24,
          22,
          26,
          24,
          22,
          25,
          21,
          20,
          22,
          25,
          17,
          22,
          26,
          22,
          23,
          25,
          21,
          30,
          23,
          22,
          21,
          20,
          18,
          20,
          15,
          22,
          17,
          21,
          22,
          23,
          24,
          21,
          22,
          22,
          21,
          21,
          18,
          19,
          22,
          21,
          21,
          22,
          21,
          23,
          19,
          26,
          27,
          25,
          20,
          20,
          22,
          18,
          22,
          20,
          24,
          21,
          29,
          21,
          19,
          21,
          43,
          22,
          24,
          18,
          19,
          37,
          24,
          29,
          19,
          35,
          22,
          23,
          22,
          25,
          19,
          29,
          21,
          21,
          22,
          23,
          22,
          20,
          22,
          27,
          24,
          21,
          23,
          21,
          23,
          24,
          21,
          30,
          23,
          22,
          29,
          20,
          26.7,
          24,
          26,
          22,
          23,
          19,
          21,
          20,
          22,
          22,
          23,
          22,
          20,
          27,
          22,
          21,
          21,
          24,
          19,
          52,
          26,
          44,
          44,
          19,
          35,
          21,
          20,
          24,
          21,
          24,
          21,
          17,
          26,
          18,
          18,
          18,
          23,
          20,
          23,
          25,
          26,
          20,
          19,
          17,
          24,
          29,
          30,
          21,
          23,
          21,
          20,
          21,
          22,
          22,
          22,
          27,
          21,
          23,
          22,
          21,
          23,
          21,
          20,
          23,
          22,
          20,
          21,
          25,
          21,
          28,
          22,
          60,
          49,
          34,
          56,
          51,
          23,
          21,
          50,
          22,
          28,
          13,
          14,
          13,
          23,
          18,
          18,
          15,
          20,
          20,
          35,
          26,
          30,
          32,
          24,
          26,
          29,
          21,
          53
         ],
         "xaxis": "x",
         "yaxis": "y"
        }
       ],
       "layout": {
        "autosize": true,
        "barmode": "relative",
        "legend": {
         "tracegroupgap": 0
        },
        "template": {
         "data": {
          "bar": [
           {
            "error_x": {
             "color": "#2a3f5f"
            },
            "error_y": {
             "color": "#2a3f5f"
            },
            "marker": {
             "line": {
              "color": "#E5ECF6",
              "width": 0.5
             },
             "pattern": {
              "fillmode": "overlay",
              "size": 10,
              "solidity": 0.2
             }
            },
            "type": "bar"
           }
          ],
          "barpolar": [
           {
            "marker": {
             "line": {
              "color": "#E5ECF6",
              "width": 0.5
             },
             "pattern": {
              "fillmode": "overlay",
              "size": 10,
              "solidity": 0.2
             }
            },
            "type": "barpolar"
           }
          ],
          "carpet": [
           {
            "aaxis": {
             "endlinecolor": "#2a3f5f",
             "gridcolor": "white",
             "linecolor": "white",
             "minorgridcolor": "white",
             "startlinecolor": "#2a3f5f"
            },
            "baxis": {
             "endlinecolor": "#2a3f5f",
             "gridcolor": "white",
             "linecolor": "white",
             "minorgridcolor": "white",
             "startlinecolor": "#2a3f5f"
            },
            "type": "carpet"
           }
          ],
          "choropleth": [
           {
            "colorbar": {
             "outlinewidth": 0,
             "ticks": ""
            },
            "type": "choropleth"
           }
          ],
          "contour": [
           {
            "colorbar": {
             "outlinewidth": 0,
             "ticks": ""
            },
            "colorscale": [
             [
              0,
              "#0d0887"
             ],
             [
              0.1111111111111111,
              "#46039f"
             ],
             [
              0.2222222222222222,
              "#7201a8"
             ],
             [
              0.3333333333333333,
              "#9c179e"
             ],
             [
              0.4444444444444444,
              "#bd3786"
             ],
             [
              0.5555555555555556,
              "#d8576b"
             ],
             [
              0.6666666666666666,
              "#ed7953"
             ],
             [
              0.7777777777777778,
              "#fb9f3a"
             ],
             [
              0.8888888888888888,
              "#fdca26"
             ],
             [
              1,
              "#f0f921"
             ]
            ],
            "type": "contour"
           }
          ],
          "contourcarpet": [
           {
            "colorbar": {
             "outlinewidth": 0,
             "ticks": ""
            },
            "type": "contourcarpet"
           }
          ],
          "heatmap": [
           {
            "colorbar": {
             "outlinewidth": 0,
             "ticks": ""
            },
            "colorscale": [
             [
              0,
              "#0d0887"
             ],
             [
              0.1111111111111111,
              "#46039f"
             ],
             [
              0.2222222222222222,
              "#7201a8"
             ],
             [
              0.3333333333333333,
              "#9c179e"
             ],
             [
              0.4444444444444444,
              "#bd3786"
             ],
             [
              0.5555555555555556,
              "#d8576b"
             ],
             [
              0.6666666666666666,
              "#ed7953"
             ],
             [
              0.7777777777777778,
              "#fb9f3a"
             ],
             [
              0.8888888888888888,
              "#fdca26"
             ],
             [
              1,
              "#f0f921"
             ]
            ],
            "type": "heatmap"
           }
          ],
          "heatmapgl": [
           {
            "colorbar": {
             "outlinewidth": 0,
             "ticks": ""
            },
            "colorscale": [
             [
              0,
              "#0d0887"
             ],
             [
              0.1111111111111111,
              "#46039f"
             ],
             [
              0.2222222222222222,
              "#7201a8"
             ],
             [
              0.3333333333333333,
              "#9c179e"
             ],
             [
              0.4444444444444444,
              "#bd3786"
             ],
             [
              0.5555555555555556,
              "#d8576b"
             ],
             [
              0.6666666666666666,
              "#ed7953"
             ],
             [
              0.7777777777777778,
              "#fb9f3a"
             ],
             [
              0.8888888888888888,
              "#fdca26"
             ],
             [
              1,
              "#f0f921"
             ]
            ],
            "type": "heatmapgl"
           }
          ],
          "histogram": [
           {
            "marker": {
             "pattern": {
              "fillmode": "overlay",
              "size": 10,
              "solidity": 0.2
             }
            },
            "type": "histogram"
           }
          ],
          "histogram2d": [
           {
            "colorbar": {
             "outlinewidth": 0,
             "ticks": ""
            },
            "colorscale": [
             [
              0,
              "#0d0887"
             ],
             [
              0.1111111111111111,
              "#46039f"
             ],
             [
              0.2222222222222222,
              "#7201a8"
             ],
             [
              0.3333333333333333,
              "#9c179e"
             ],
             [
              0.4444444444444444,
              "#bd3786"
             ],
             [
              0.5555555555555556,
              "#d8576b"
             ],
             [
              0.6666666666666666,
              "#ed7953"
             ],
             [
              0.7777777777777778,
              "#fb9f3a"
             ],
             [
              0.8888888888888888,
              "#fdca26"
             ],
             [
              1,
              "#f0f921"
             ]
            ],
            "type": "histogram2d"
           }
          ],
          "histogram2dcontour": [
           {
            "colorbar": {
             "outlinewidth": 0,
             "ticks": ""
            },
            "colorscale": [
             [
              0,
              "#0d0887"
             ],
             [
              0.1111111111111111,
              "#46039f"
             ],
             [
              0.2222222222222222,
              "#7201a8"
             ],
             [
              0.3333333333333333,
              "#9c179e"
             ],
             [
              0.4444444444444444,
              "#bd3786"
             ],
             [
              0.5555555555555556,
              "#d8576b"
             ],
             [
              0.6666666666666666,
              "#ed7953"
             ],
             [
              0.7777777777777778,
              "#fb9f3a"
             ],
             [
              0.8888888888888888,
              "#fdca26"
             ],
             [
              1,
              "#f0f921"
             ]
            ],
            "type": "histogram2dcontour"
           }
          ],
          "mesh3d": [
           {
            "colorbar": {
             "outlinewidth": 0,
             "ticks": ""
            },
            "type": "mesh3d"
           }
          ],
          "parcoords": [
           {
            "line": {
             "colorbar": {
              "outlinewidth": 0,
              "ticks": ""
             }
            },
            "type": "parcoords"
           }
          ],
          "pie": [
           {
            "automargin": true,
            "type": "pie"
           }
          ],
          "scatter": [
           {
            "fillpattern": {
             "fillmode": "overlay",
             "size": 10,
             "solidity": 0.2
            },
            "type": "scatter"
           }
          ],
          "scatter3d": [
           {
            "line": {
             "colorbar": {
              "outlinewidth": 0,
              "ticks": ""
             }
            },
            "marker": {
             "colorbar": {
              "outlinewidth": 0,
              "ticks": ""
             }
            },
            "type": "scatter3d"
           }
          ],
          "scattercarpet": [
           {
            "marker": {
             "colorbar": {
              "outlinewidth": 0,
              "ticks": ""
             }
            },
            "type": "scattercarpet"
           }
          ],
          "scattergeo": [
           {
            "marker": {
             "colorbar": {
              "outlinewidth": 0,
              "ticks": ""
             }
            },
            "type": "scattergeo"
           }
          ],
          "scattergl": [
           {
            "marker": {
             "colorbar": {
              "outlinewidth": 0,
              "ticks": ""
             }
            },
            "type": "scattergl"
           }
          ],
          "scattermapbox": [
           {
            "marker": {
             "colorbar": {
              "outlinewidth": 0,
              "ticks": ""
             }
            },
            "type": "scattermapbox"
           }
          ],
          "scatterpolar": [
           {
            "marker": {
             "colorbar": {
              "outlinewidth": 0,
              "ticks": ""
             }
            },
            "type": "scatterpolar"
           }
          ],
          "scatterpolargl": [
           {
            "marker": {
             "colorbar": {
              "outlinewidth": 0,
              "ticks": ""
             }
            },
            "type": "scatterpolargl"
           }
          ],
          "scatterternary": [
           {
            "marker": {
             "colorbar": {
              "outlinewidth": 0,
              "ticks": ""
             }
            },
            "type": "scatterternary"
           }
          ],
          "surface": [
           {
            "colorbar": {
             "outlinewidth": 0,
             "ticks": ""
            },
            "colorscale": [
             [
              0,
              "#0d0887"
             ],
             [
              0.1111111111111111,
              "#46039f"
             ],
             [
              0.2222222222222222,
              "#7201a8"
             ],
             [
              0.3333333333333333,
              "#9c179e"
             ],
             [
              0.4444444444444444,
              "#bd3786"
             ],
             [
              0.5555555555555556,
              "#d8576b"
             ],
             [
              0.6666666666666666,
              "#ed7953"
             ],
             [
              0.7777777777777778,
              "#fb9f3a"
             ],
             [
              0.8888888888888888,
              "#fdca26"
             ],
             [
              1,
              "#f0f921"
             ]
            ],
            "type": "surface"
           }
          ],
          "table": [
           {
            "cells": {
             "fill": {
              "color": "#EBF0F8"
             },
             "line": {
              "color": "white"
             }
            },
            "header": {
             "fill": {
              "color": "#C8D4E3"
             },
             "line": {
              "color": "white"
             }
            },
            "type": "table"
           }
          ]
         },
         "layout": {
          "annotationdefaults": {
           "arrowcolor": "#2a3f5f",
           "arrowhead": 0,
           "arrowwidth": 1
          },
          "autotypenumbers": "strict",
          "coloraxis": {
           "colorbar": {
            "outlinewidth": 0,
            "ticks": ""
           }
          },
          "colorscale": {
           "diverging": [
            [
             0,
             "#8e0152"
            ],
            [
             0.1,
             "#c51b7d"
            ],
            [
             0.2,
             "#de77ae"
            ],
            [
             0.3,
             "#f1b6da"
            ],
            [
             0.4,
             "#fde0ef"
            ],
            [
             0.5,
             "#f7f7f7"
            ],
            [
             0.6,
             "#e6f5d0"
            ],
            [
             0.7,
             "#b8e186"
            ],
            [
             0.8,
             "#7fbc41"
            ],
            [
             0.9,
             "#4d9221"
            ],
            [
             1,
             "#276419"
            ]
           ],
           "sequential": [
            [
             0,
             "#0d0887"
            ],
            [
             0.1111111111111111,
             "#46039f"
            ],
            [
             0.2222222222222222,
             "#7201a8"
            ],
            [
             0.3333333333333333,
             "#9c179e"
            ],
            [
             0.4444444444444444,
             "#bd3786"
            ],
            [
             0.5555555555555556,
             "#d8576b"
            ],
            [
             0.6666666666666666,
             "#ed7953"
            ],
            [
             0.7777777777777778,
             "#fb9f3a"
            ],
            [
             0.8888888888888888,
             "#fdca26"
            ],
            [
             1,
             "#f0f921"
            ]
           ],
           "sequentialminus": [
            [
             0,
             "#0d0887"
            ],
            [
             0.1111111111111111,
             "#46039f"
            ],
            [
             0.2222222222222222,
             "#7201a8"
            ],
            [
             0.3333333333333333,
             "#9c179e"
            ],
            [
             0.4444444444444444,
             "#bd3786"
            ],
            [
             0.5555555555555556,
             "#d8576b"
            ],
            [
             0.6666666666666666,
             "#ed7953"
            ],
            [
             0.7777777777777778,
             "#fb9f3a"
            ],
            [
             0.8888888888888888,
             "#fdca26"
            ],
            [
             1,
             "#f0f921"
            ]
           ]
          },
          "colorway": [
           "#636efa",
           "#EF553B",
           "#00cc96",
           "#ab63fa",
           "#FFA15A",
           "#19d3f3",
           "#FF6692",
           "#B6E880",
           "#FF97FF",
           "#FECB52"
          ],
          "font": {
           "color": "#2a3f5f"
          },
          "geo": {
           "bgcolor": "white",
           "lakecolor": "white",
           "landcolor": "#E5ECF6",
           "showlakes": true,
           "showland": true,
           "subunitcolor": "white"
          },
          "hoverlabel": {
           "align": "left"
          },
          "hovermode": "closest",
          "mapbox": {
           "style": "light"
          },
          "paper_bgcolor": "white",
          "plot_bgcolor": "#E5ECF6",
          "polar": {
           "angularaxis": {
            "gridcolor": "white",
            "linecolor": "white",
            "ticks": ""
           },
           "bgcolor": "#E5ECF6",
           "radialaxis": {
            "gridcolor": "white",
            "linecolor": "white",
            "ticks": ""
           }
          },
          "scene": {
           "xaxis": {
            "backgroundcolor": "#E5ECF6",
            "gridcolor": "white",
            "gridwidth": 2,
            "linecolor": "white",
            "showbackground": true,
            "ticks": "",
            "zerolinecolor": "white"
           },
           "yaxis": {
            "backgroundcolor": "#E5ECF6",
            "gridcolor": "white",
            "gridwidth": 2,
            "linecolor": "white",
            "showbackground": true,
            "ticks": "",
            "zerolinecolor": "white"
           },
           "zaxis": {
            "backgroundcolor": "#E5ECF6",
            "gridcolor": "white",
            "gridwidth": 2,
            "linecolor": "white",
            "showbackground": true,
            "ticks": "",
            "zerolinecolor": "white"
           }
          },
          "shapedefaults": {
           "line": {
            "color": "#2a3f5f"
           }
          },
          "ternary": {
           "aaxis": {
            "gridcolor": "white",
            "linecolor": "white",
            "ticks": ""
           },
           "baxis": {
            "gridcolor": "white",
            "linecolor": "white",
            "ticks": ""
           },
           "bgcolor": "#E5ECF6",
           "caxis": {
            "gridcolor": "white",
            "linecolor": "white",
            "ticks": ""
           }
          },
          "title": {
           "x": 0.05
          },
          "xaxis": {
           "automargin": true,
           "gridcolor": "white",
           "linecolor": "white",
           "ticks": "",
           "title": {
            "standoff": 15
           },
           "zerolinecolor": "white",
           "zerolinewidth": 2
          },
          "yaxis": {
           "automargin": true,
           "gridcolor": "white",
           "linecolor": "white",
           "ticks": "",
           "title": {
            "standoff": 15
           },
           "zerolinecolor": "white",
           "zerolinewidth": 2
          }
         }
        },
        "title": {
         "text": "Age disterbution"
        },
        "xaxis": {
         "anchor": "y",
         "autorange": true,
         "domain": [
          0,
          1
         ],
         "range": [
          12,
          92
         ],
         "title": {
          "text": "1. What is your age?"
         },
         "type": "linear"
        },
        "yaxis": {
         "anchor": "x",
         "autorange": true,
         "domain": [
          0,
          1
         ],
         "range": [
          0,
          133.68421052631578
         ],
         "title": {
          "text": "count"
         }
        }
       }
      },
      "image/png": "[encoded data removed]",
      "text/html": [
       "<div>                            <div id=\"2739316f-37a9-4f2a-85c1-f704253bf93c\" class=\"plotly-graph-div\" style=\"height:525px; width:100%;\"></div>            <script type=\"text/javascript\">                require([\"plotly\"], function(Plotly) {                    window.PLOTLYENV=window.PLOTLYENV || {};                                    if (document.getElementById(\"2739316f-37a9-4f2a-85c1-f704253bf93c\")) {                    Plotly.newPlot(                        \"2739316f-37a9-4f2a-85c1-f704253bf93c\",                        [{\"alignmentgroup\":\"True\",\"bingroup\":\"x\",\"hovertemplate\":\"1. What is your age?=%{x}\\u003cbr\\u003ecount=%{y}\\u003cextra\\u003e\\u003c\\u002fextra\\u003e\",\"legendgroup\":\"\",\"marker\":{\"color\":\"#636efa\",\"pattern\":{\"shape\":\"\"}},\"name\":\"\",\"offsetgroup\":\"\",\"orientation\":\"v\",\"showlegend\":false,\"x\":[21.0,21.0,21.0,21.0,21.0,22.0,21.0,21.0,21.0,20.0,24.0,21.0,22.0,21.0,22.0,23.0,21.0,25.0,28.0,34.0,22.0,23.0,26.0,23.0,23.0,35.0,20.0,35.0,22.0,21.0,22.0,35.0,24.0,18.0,19.0,21.0,21.0,23.0,22.0,22.0,21.0,21.0,56.0,19.0,24.0,22.0,65.0,17.0,40.0,33.0,22.0,24.0,26.0,55.0,26.0,27.0,22.0,19.0,22.0,20.0,25.0,25.0,18.0,25.0,19.0,24.0,21.0,18.0,14.0,25.0,33.0,23.0,14.0,38.0,23.0,26.0,24.0,21.0,18.0,28.0,22.0,21.0,21.0,21.0,17.0,24.0,22.0,32.0,22.0,20.0,22.0,28.0,22.0,17.0,30.0,22.0,14.0,20.0,22.0,16.0,22.0,22.0,22.0,22.0,21.0,23.0,23.0,48.0,21.0,47.0,48.0,26.0,47.0,47.0,27.0,34.0,20.0,22.0,23.0,20.0,48.0,20.0,20.0,22.0,22.0,20.0,24.0,23.0,20.0,16.0,50.0,47.0,24.0,38.0,50.0,49.0,47.0,48.0,51.0,50.0,47.0,27.0,40.0,46.0,21.0,47.0,20.0,47.0,48.0,49.0,21.0,32.0,47.0,50.0,48.0,21.0,47.0,36.0,37.0,19.0,30.0,48.0,48.0,48.0,47.0,47.0,48.0,21.0,48.0,21.0,20.0,20.0,20.0,21.0,20.0,47.0,35.0,23.0,21.0,21.0,37.0,48.0,47.0,25.0,22.0,45.0,47.0,47.0,24.0,21.0,22.0,19.0,21.0,22.0,20.0,42.0,35.0,38.0,17.0,32.0,21.0,22.0,27.0,21.0,27.0,20.0,27.0,24.0,26.0,20.0,31.0,21.0,34.0,22.0,20.0,23.0,48.0,37.0,22.0,50.0,21.0,23.0,21.0,22.0,22.0,22.0,19.0,23.0,46.0,21.0,24.0,20.0,25.0,21.0,23.0,22.0,36.0,22.0,69.0,25.0,22.0,23.0,23.0,19.0,21.0,27.0,25.0,20.0,34.0,23.0,34.0,26.0,25.0,22.0,20.0,23.0,91.0,22.0,23.0,21.0,36.0,21.0,22.0,22.0,22.0,20.0,26.0,21.0,20.0,21.0,19.0,20.0,22.0,23.0,21.0,21.0,22.0,26.0,22.0,17.0,23.0,21.0,22.0,20.0,24.0,22.0,24.0,22.0,26.0,24.0,22.0,25.0,21.0,20.0,22.0,25.0,17.0,22.0,26.0,22.0,23.0,25.0,21.0,30.0,23.0,22.0,21.0,20.0,18.0,20.0,15.0,22.0,17.0,21.0,22.0,23.0,24.0,21.0,22.0,22.0,21.0,21.0,18.0,19.0,22.0,21.0,21.0,22.0,21.0,23.0,19.0,26.0,27.0,25.0,20.0,20.0,22.0,18.0,22.0,20.0,24.0,21.0,29.0,21.0,19.0,21.0,43.0,22.0,24.0,18.0,19.0,37.0,24.0,29.0,19.0,35.0,22.0,23.0,22.0,25.0,19.0,29.0,21.0,21.0,22.0,23.0,22.0,20.0,22.0,27.0,24.0,21.0,23.0,21.0,23.0,24.0,21.0,30.0,23.0,22.0,29.0,20.0,26.7,24.0,26.0,22.0,23.0,19.0,21.0,20.0,22.0,22.0,23.0,22.0,20.0,27.0,22.0,21.0,21.0,24.0,19.0,52.0,26.0,44.0,44.0,19.0,35.0,21.0,20.0,24.0,21.0,24.0,21.0,17.0,26.0,18.0,18.0,18.0,23.0,20.0,23.0,25.0,26.0,20.0,19.0,17.0,24.0,29.0,30.0,21.0,23.0,21.0,20.0,21.0,22.0,22.0,22.0,27.0,21.0,23.0,22.0,21.0,23.0,21.0,20.0,23.0,22.0,20.0,21.0,25.0,21.0,28.0,22.0,60.0,49.0,34.0,56.0,51.0,23.0,21.0,50.0,22.0,28.0,13.0,14.0,13.0,23.0,18.0,18.0,15.0,20.0,20.0,35.0,26.0,30.0,32.0,24.0,26.0,29.0,21.0,53.0],\"xaxis\":\"x\",\"yaxis\":\"y\",\"type\":\"histogram\"}],                        {\"template\":{\"data\":{\"histogram2dcontour\":[{\"type\":\"histogram2dcontour\",\"colorbar\":{\"outlinewidth\":0,\"ticks\":\"\"},\"colorscale\":[[0.0,\"#0d0887\"],[0.1111111111111111,\"#46039f\"],[0.2222222222222222,\"#7201a8\"],[0.3333333333333333,\"#9c179e\"],[0.4444444444444444,\"#bd3786\"],[0.5555555555555556,\"#d8576b\"],[0.6666666666666666,\"#ed7953\"],[0.7777777777777778,\"#fb9f3a\"],[0.8888888888888888,\"#fdca26\"],[1.0,\"#f0f921\"]]}],\"choropleth\":[{\"type\":\"choropleth\",\"colorbar\":{\"outlinewidth\":0,\"ticks\":\"\"}}],\"histogram2d\":[{\"type\":\"histogram2d\",\"colorbar\":{\"outlinewidth\":0,\"ticks\":\"\"},\"colorscale\":[[0.0,\"#0d0887\"],[0.1111111111111111,\"#46039f\"],[0.2222222222222222,\"#7201a8\"],[0.3333333333333333,\"#9c179e\"],[0.4444444444444444,\"#bd3786\"],[0.5555555555555556,\"#d8576b\"],[0.6666666666666666,\"#ed7953\"],[0.7777777777777778,\"#fb9f3a\"],[0.8888888888888888,\"#fdca26\"],[1.0,\"#f0f921\"]]}],\"heatmap\":[{\"type\":\"heatmap\",\"colorbar\":{\"outlinewidth\":0,\"ticks\":\"\"},\"colorscale\":[[0.0,\"#0d0887\"],[0.1111111111111111,\"#46039f\"],[0.2222222222222222,\"#7201a8\"],[0.3333333333333333,\"#9c179e\"],[0.4444444444444444,\"#bd3786\"],[0.5555555555555556,\"#d8576b\"],[0.6666666666666666,\"#ed7953\"],[0.7777777777777778,\"#fb9f3a\"],[0.8888888888888888,\"#fdca26\"],[1.0,\"#f0f921\"]]}],\"heatmapgl\":[{\"type\":\"heatmapgl\",\"colorbar\":{\"outlinewidth\":0,\"ticks\":\"\"},\"colorscale\":[[0.0,\"#0d0887\"],[0.1111111111111111,\"#46039f\"],[0.2222222222222222,\"#7201a8\"],[0.3333333333333333,\"#9c179e\"],[0.4444444444444444,\"#bd3786\"],[0.5555555555555556,\"#d8576b\"],[0.6666666666666666,\"#ed7953\"],[0.7777777777777778,\"#fb9f3a\"],[0.8888888888888888,\"#fdca26\"],[1.0,\"#f0f921\"]]}],\"contourcarpet\":[{\"type\":\"contourcarpet\",\"colorbar\":{\"outlinewidth\":0,\"ticks\":\"\"}}],\"contour\":[{\"type\":\"contour\",\"colorbar\":{\"outlinewidth\":0,\"ticks\":\"\"},\"colorscale\":[[0.0,\"#0d0887\"],[0.1111111111111111,\"#46039f\"],[0.2222222222222222,\"#7201a8\"],[0.3333333333333333,\"#9c179e\"],[0.4444444444444444,\"#bd3786\"],[0.5555555555555556,\"#d8576b\"],[0.6666666666666666,\"#ed7953\"],[0.7777777777777778,\"#fb9f3a\"],[0.8888888888888888,\"#fdca26\"],[1.0,\"#f0f921\"]]}],\"surface\":[{\"type\":\"surface\",\"colorbar\":{\"outlinewidth\":0,\"ticks\":\"\"},\"colorscale\":[[0.0,\"#0d0887\"],[0.1111111111111111,\"#46039f\"],[0.2222222222222222,\"#7201a8\"],[0.3333333333333333,\"#9c179e\"],[0.4444444444444444,\"#bd3786\"],[0.5555555555555556,\"#d8576b\"],[0.6666666666666666,\"#ed7953\"],[0.7777777777777778,\"#fb9f3a\"],[0.8888888888888888,\"#fdca26\"],[1.0,\"#f0f921\"]]}],\"mesh3d\":[{\"type\":\"mesh3d\",\"colorbar\":{\"outlinewidth\":0,\"ticks\":\"\"}}],\"scatter\":[{\"fillpattern\":{\"fillmode\":\"overlay\",\"size\":10,\"solidity\":0.2},\"type\":\"scatter\"}],\"parcoords\":[{\"type\":\"parcoords\",\"line\":{\"colorbar\":{\"outlinewidth\":0,\"ticks\":\"\"}}}],\"scatterpolargl\":[{\"type\":\"scatterpolargl\",\"marker\":{\"colorbar\":{\"outlinewidth\":0,\"ticks\":\"\"}}}],\"bar\":[{\"error_x\":{\"color\":\"#2a3f5f\"},\"error_y\":{\"color\":\"#2a3f5f\"},\"marker\":{\"line\":{\"color\":\"#E5ECF6\",\"width\":0.5},\"pattern\":{\"fillmode\":\"overlay\",\"size\":10,\"solidity\":0.2}},\"type\":\"bar\"}],\"scattergeo\":[{\"type\":\"scattergeo\",\"marker\":{\"colorbar\":{\"outlinewidth\":0,\"ticks\":\"\"}}}],\"scatterpolar\":[{\"type\":\"scatterpolar\",\"marker\":{\"colorbar\":{\"outlinewidth\":0,\"ticks\":\"\"}}}],\"histogram\":[{\"marker\":{\"pattern\":{\"fillmode\":\"overlay\",\"size\":10,\"solidity\":0.2}},\"type\":\"histogram\"}],\"scattergl\":[{\"type\":\"scattergl\",\"marker\":{\"colorbar\":{\"outlinewidth\":0,\"ticks\":\"\"}}}],\"scatter3d\":[{\"type\":\"scatter3d\",\"line\":{\"colorbar\":{\"outlinewidth\":0,\"ticks\":\"\"}},\"marker\":{\"colorbar\":{\"outlinewidth\":0,\"ticks\":\"\"}}}],\"scattermapbox\":[{\"type\":\"scattermapbox\",\"marker\":{\"colorbar\":{\"outlinewidth\":0,\"ticks\":\"\"}}}],\"scatterternary\":[{\"type\":\"scatterternary\",\"marker\":{\"colorbar\":{\"outlinewidth\":0,\"ticks\":\"\"}}}],\"scattercarpet\":[{\"type\":\"scattercarpet\",\"marker\":{\"colorbar\":{\"outlinewidth\":0,\"ticks\":\"\"}}}],\"carpet\":[{\"aaxis\":{\"endlinecolor\":\"#2a3f5f\",\"gridcolor\":\"white\",\"linecolor\":\"white\",\"minorgridcolor\":\"white\",\"startlinecolor\":\"#2a3f5f\"},\"baxis\":{\"endlinecolor\":\"#2a3f5f\",\"gridcolor\":\"white\",\"linecolor\":\"white\",\"minorgridcolor\":\"white\",\"startlinecolor\":\"#2a3f5f\"},\"type\":\"carpet\"}],\"table\":[{\"cells\":{\"fill\":{\"color\":\"#EBF0F8\"},\"line\":{\"color\":\"white\"}},\"header\":{\"fill\":{\"color\":\"#C8D4E3\"},\"line\":{\"color\":\"white\"}},\"type\":\"table\"}],\"barpolar\":[{\"marker\":{\"line\":{\"color\":\"#E5ECF6\",\"width\":0.5},\"pattern\":{\"fillmode\":\"overlay\",\"size\":10,\"solidity\":0.2}},\"type\":\"barpolar\"}],\"pie\":[{\"automargin\":true,\"type\":\"pie\"}]},\"layout\":{\"autotypenumbers\":\"strict\",\"colorway\":[\"#636efa\",\"#EF553B\",\"#00cc96\",\"#ab63fa\",\"#FFA15A\",\"#19d3f3\",\"#FF6692\",\"#B6E880\",\"#FF97FF\",\"#FECB52\"],\"font\":{\"color\":\"#2a3f5f\"},\"hovermode\":\"closest\",\"hoverlabel\":{\"align\":\"left\"},\"paper_bgcolor\":\"white\",\"plot_bgcolor\":\"#E5ECF6\",\"polar\":{\"bgcolor\":\"#E5ECF6\",\"angularaxis\":{\"gridcolor\":\"white\",\"linecolor\":\"white\",\"ticks\":\"\"},\"radialaxis\":{\"gridcolor\":\"white\",\"linecolor\":\"white\",\"ticks\":\"\"}},\"ternary\":{\"bgcolor\":\"#E5ECF6\",\"aaxis\":{\"gridcolor\":\"white\",\"linecolor\":\"white\",\"ticks\":\"\"},\"baxis\":{\"gridcolor\":\"white\",\"linecolor\":\"white\",\"ticks\":\"\"},\"caxis\":{\"gridcolor\":\"white\",\"linecolor\":\"white\",\"ticks\":\"\"}},\"coloraxis\":{\"colorbar\":{\"outlinewidth\":0,\"ticks\":\"\"}},\"colorscale\":{\"sequential\":[[0.0,\"#0d0887\"],[0.1111111111111111,\"#46039f\"],[0.2222222222222222,\"#7201a8\"],[0.3333333333333333,\"#9c179e\"],[0.4444444444444444,\"#bd3786\"],[0.5555555555555556,\"#d8576b\"],[0.6666666666666666,\"#ed7953\"],[0.7777777777777778,\"#fb9f3a\"],[0.8888888888888888,\"#fdca26\"],[1.0,\"#f0f921\"]],\"sequentialminus\":[[0.0,\"#0d0887\"],[0.1111111111111111,\"#46039f\"],[0.2222222222222222,\"#7201a8\"],[0.3333333333333333,\"#9c179e\"],[0.4444444444444444,\"#bd3786\"],[0.5555555555555556,\"#d8576b\"],[0.6666666666666666,\"#ed7953\"],[0.7777777777777778,\"#fb9f3a\"],[0.8888888888888888,\"#fdca26\"],[1.0,\"#f0f921\"]],\"diverging\":[[0,\"#8e0152\"],[0.1,\"#c51b7d\"],[0.2,\"#de77ae\"],[0.3,\"#f1b6da\"],[0.4,\"#fde0ef\"],[0.5,\"#f7f7f7\"],[0.6,\"#e6f5d0\"],[0.7,\"#b8e186\"],[0.8,\"#7fbc41\"],[0.9,\"#4d9221\"],[1,\"#276419\"]]},\"xaxis\":{\"gridcolor\":\"white\",\"linecolor\":\"white\",\"ticks\":\"\",\"title\":{\"standoff\":15},\"zerolinecolor\":\"white\",\"automargin\":true,\"zerolinewidth\":2},\"yaxis\":{\"gridcolor\":\"white\",\"linecolor\":\"white\",\"ticks\":\"\",\"title\":{\"standoff\":15},\"zerolinecolor\":\"white\",\"automargin\":true,\"zerolinewidth\":2},\"scene\":{\"xaxis\":{\"backgroundcolor\":\"#E5ECF6\",\"gridcolor\":\"white\",\"linecolor\":\"white\",\"showbackground\":true,\"ticks\":\"\",\"zerolinecolor\":\"white\",\"gridwidth\":2},\"yaxis\":{\"backgroundcolor\":\"#E5ECF6\",\"gridcolor\":\"white\",\"linecolor\":\"white\",\"showbackground\":true,\"ticks\":\"\",\"zerolinecolor\":\"white\",\"gridwidth\":2},\"zaxis\":{\"backgroundcolor\":\"#E5ECF6\",\"gridcolor\":\"white\",\"linecolor\":\"white\",\"showbackground\":true,\"ticks\":\"\",\"zerolinecolor\":\"white\",\"gridwidth\":2}},\"shapedefaults\":{\"line\":{\"color\":\"#2a3f5f\"}},\"annotationdefaults\":{\"arrowcolor\":\"#2a3f5f\",\"arrowhead\":0,\"arrowwidth\":1},\"geo\":{\"bgcolor\":\"white\",\"landcolor\":\"#E5ECF6\",\"subunitcolor\":\"white\",\"showland\":true,\"showlakes\":true,\"lakecolor\":\"white\"},\"title\":{\"x\":0.05},\"mapbox\":{\"style\":\"light\"}}},\"xaxis\":{\"anchor\":\"y\",\"domain\":[0.0,1.0],\"title\":{\"text\":\"1. What is your age?\"}},\"yaxis\":{\"anchor\":\"x\",\"domain\":[0.0,1.0],\"title\":{\"text\":\"count\"}},\"legend\":{\"tracegroupgap\":0},\"title\":{\"text\":\"Age disterbution\"},\"barmode\":\"relative\"},                        {\"responsive\": true}                    ).then(function(){\n",
       "                            \n",
       "var gd = document.getElementById('2739316f-37a9-4f2a-85c1-f704253bf93c');\n",
       "var x = new MutationObserver(function (mutations, observer) {{\n",
       "        var display = window.getComputedStyle(gd).display;\n",
       "        if (!display || display === 'none') {{\n",
       "            console.log([gd, 'removed!']);\n",
       "            Plotly.purge(gd);\n",
       "            observer.disconnect();\n",
       "        }}\n",
       "}});\n",
       "\n",
       "// Listen for the removal of the full notebook cells\n",
       "var notebookContainer = gd.closest('#notebook-container');\n",
       "if (notebookContainer) {{\n",
       "    x.observe(notebookContainer, {childList: true});\n",
       "}}\n",
       "\n",
       "// Listen for the clearing of the current output cell\n",
       "var outputEl = gd.closest('.output');\n",
       "if (outputEl) {{\n",
       "    x.observe(outputEl, {childList: true});\n",
       "}}\n",
       "\n",
       "                        })                };                });            </script>        </div>"
      ]
     },
     "metadata": {},
     "output_type": "display_data"
    },
    {
     "data": {
      "application/vnd.plotly.v1+json": {
       "config": {
        "plotlyServerURL": "https://plot.ly"
       },
       "data": [
        {
         "autocontour": true,
         "contours": {
          "coloring": "none",
          "end": 70,
          "size": 5,
          "start": 5
         },
         "hovertemplate": "4. Occupation Status=%{x}<br>index=%{y}<br>count=%{z}<extra></extra>",
         "legendgroup": "",
         "line": {
          "color": "#636efa"
         },
         "name": "",
         "showlegend": false,
         "type": "histogram2dcontour",
         "x": [
          "University Student",
          "University Student",
          "University Student",
          "University Student",
          "University Student",
          "University Student",
          "University Student",
          "University Student",
          "University Student",
          "University Student",
          "University Student",
          "University Student",
          "University Student",
          "University Student",
          "University Student",
          "University Student",
          "University Student",
          "School Student",
          "University Student",
          "Salaried Worker",
          "University Student",
          "University Student",
          "University Student",
          "University Student",
          "University Student",
          "Salaried Worker",
          "University Student",
          "Salaried Worker",
          "University Student",
          "University Student",
          "University Student",
          "Salaried Worker",
          "Salaried Worker",
          "School Student",
          "University Student",
          "University Student",
          "University Student",
          "University Student",
          "University Student",
          "University Student",
          "University Student",
          "University Student",
          "Retired",
          "School Student",
          "Salaried Worker",
          "University Student",
          "Retired",
          "School Student",
          "Salaried Worker",
          "Salaried Worker",
          "University Student",
          "Salaried Worker",
          "University Student",
          "Salaried Worker",
          "Salaried Worker",
          "University Student",
          "University Student",
          "School Student",
          "University Student",
          "University Student",
          "University Student",
          "University Student",
          "University Student",
          "Salaried Worker",
          "University Student",
          "School Student",
          "University Student",
          "School Student",
          "School Student",
          "University Student",
          "Salaried Worker",
          "School Student",
          "School Student",
          "Salaried Worker",
          "Retired",
          "Salaried Worker",
          "University Student",
          "University Student",
          "University Student",
          "University Student",
          "University Student",
          "University Student",
          "University Student",
          "University Student",
          "School Student",
          "Salaried Worker",
          "University Student",
          "Salaried Worker",
          "University Student",
          "University Student",
          "University Student",
          "University Student",
          "University Student",
          "School Student",
          "Salaried Worker",
          "University Student",
          "School Student",
          "School Student",
          "School Student",
          "School Student",
          "University Student",
          "University Student",
          "University Student",
          "University Student",
          "University Student",
          "University Student",
          "University Student",
          "Salaried Worker",
          "University Student",
          "Salaried Worker",
          "Salaried Worker",
          "Salaried Worker",
          "Salaried Worker",
          "Salaried Worker",
          "Salaried Worker",
          "Salaried Worker",
          "University Student",
          "University Student",
          "University Student",
          "University Student",
          "Salaried Worker",
          "University Student",
          "University Student",
          "University Student",
          "University Student",
          "University Student",
          "University Student",
          "University Student",
          "University Student",
          "School Student",
          "Salaried Worker",
          "Salaried Worker",
          "Salaried Worker",
          "Salaried Worker",
          "Salaried Worker",
          "Retired",
          "Salaried Worker",
          "Salaried Worker",
          "Salaried Worker",
          "Salaried Worker",
          "Salaried Worker",
          "Salaried Worker",
          "Salaried Worker",
          "Salaried Worker",
          "University Student",
          "Salaried Worker",
          "University Student",
          "Salaried Worker",
          "Salaried Worker",
          "Salaried Worker",
          "University Student",
          "Salaried Worker",
          "Salaried Worker",
          "Salaried Worker",
          "Salaried Worker",
          "University Student",
          "Salaried Worker",
          "Salaried Worker",
          "Retired",
          "School Student",
          "Salaried Worker",
          "Salaried Worker",
          "Retired",
          "Salaried Worker",
          "Salaried Worker",
          "Salaried Worker",
          "Salaried Worker",
          "University Student",
          "Salaried Worker",
          "University Student",
          "University Student",
          "University Student",
          "University Student",
          "University Student",
          "University Student",
          "Salaried Worker",
          "Salaried Worker",
          "University Student",
          "University Student",
          "University Student",
          "Salaried Worker",
          "Salaried Worker",
          "Salaried Worker",
          "Salaried Worker",
          "University Student",
          "Salaried Worker",
          "Salaried Worker",
          "Salaried Worker",
          "University Student",
          "University Student",
          "University Student",
          "School Student",
          "University Student",
          "University Student",
          "University Student",
          "Salaried Worker",
          "Salaried Worker",
          "Salaried Worker",
          "School Student",
          "Salaried Worker",
          "University Student",
          "University Student",
          "University Student",
          "University Student",
          "Salaried Worker",
          "School Student",
          "Salaried Worker",
          "University Student",
          "Salaried Worker",
          "University Student",
          "Salaried Worker",
          "University Student",
          "Salaried Worker",
          "University Student",
          "University Student",
          "University Student",
          "Salaried Worker",
          "Salaried Worker",
          "University Student",
          "Salaried Worker",
          "University Student",
          "University Student",
          "University Student",
          "University Student",
          "University Student",
          "University Student",
          "University Student",
          "University Student",
          "Salaried Worker",
          "University Student",
          "University Student",
          "University Student",
          "University Student",
          "University Student",
          "University Student",
          "Salaried Worker",
          "Salaried Worker",
          "University Student",
          "Salaried Worker",
          "Salaried Worker",
          "University Student",
          "University Student",
          "University Student",
          "School Student",
          "University Student",
          "Salaried Worker",
          "University Student",
          "University Student",
          "Salaried Worker",
          "University Student",
          "Salaried Worker",
          "Salaried Worker",
          "University Student",
          "University Student",
          "University Student",
          "University Student",
          "University Student",
          "University Student",
          "University Student",
          "University Student",
          "Salaried Worker",
          "University Student",
          "University Student",
          "University Student",
          "University Student",
          "University Student",
          "Salaried Worker",
          "University Student",
          "University Student",
          "University Student",
          "School Student",
          "University Student",
          "University Student",
          "University Student",
          "University Student",
          "University Student",
          "University Student",
          "Salaried Worker",
          "University Student",
          "School Student",
          "University Student",
          "School Student",
          "University Student",
          "University Student",
          "University Student",
          "University Student",
          "University Student",
          "University Student",
          "University Student",
          "Salaried Worker",
          "University Student",
          "University Student",
          "University Student",
          "University Student",
          "University Student",
          "Salaried Worker",
          "School Student",
          "University Student",
          "University Student",
          "University Student",
          "University Student",
          "Salaried Worker",
          "School Student",
          "Salaried Worker",
          "University Student",
          "Salaried Worker",
          "University Student",
          "University Student",
          "University Student",
          "University Student",
          "School Student",
          "University Student",
          "School Student",
          "University Student",
          "University Student",
          "University Student",
          "University Student",
          "University Student",
          "University Student",
          "University Student",
          "University Student",
          "University Student",
          "School Student",
          "University Student",
          "University Student",
          "University Student",
          "University Student",
          "University Student",
          "University Student",
          "University Student",
          "University Student",
          "Salaried Worker",
          "Salaried Worker",
          "University Student",
          "University Student",
          "University Student",
          "University Student",
          "School Student",
          "University Student",
          "Salaried Worker",
          "Salaried Worker",
          "University Student",
          "Salaried Worker",
          "University Student",
          "University Student",
          "University Student",
          "Salaried Worker",
          "University Student",
          "University Student",
          "School Student",
          "University Student",
          "Salaried Worker",
          "University Student",
          "Salaried Worker",
          "School Student",
          "Salaried Worker",
          "University Student",
          "University Student",
          "University Student",
          "Salaried Worker",
          "School Student",
          "Salaried Worker",
          "University Student",
          "University Student",
          "University Student",
          "University Student",
          "University Student",
          "University Student",
          "Salaried Worker",
          "Salaried Worker",
          "Salaried Worker",
          "University Student",
          "University Student",
          "University Student",
          "University Student",
          "University Student",
          "University Student",
          "Salaried Worker",
          "University Student",
          "University Student",
          "University Student",
          "University Student",
          "University Student",
          "Salaried Worker",
          "University Student",
          "University Student",
          "University Student",
          "School Student",
          "University Student",
          "University Student",
          "University Student",
          "University Student",
          "University Student",
          "University Student",
          "School Student",
          "Salaried Worker",
          "University Student",
          "University Student",
          "University Student",
          "University Student",
          "University Student",
          "Salaried Worker",
          "University Student",
          "Salaried Worker",
          "Salaried Worker",
          "University Student",
          "Salaried Worker",
          "University Student",
          "University Student",
          "University Student",
          "University Student",
          "University Student",
          "University Student",
          "School Student",
          "University Student",
          "School Student",
          "School Student",
          "School Student",
          "University Student",
          "University Student",
          "University Student",
          "University Student",
          "Salaried Worker",
          "University Student",
          "School Student",
          "School Student",
          "University Student",
          "Salaried Worker",
          "Retired",
          "University Student",
          "University Student",
          "University Student",
          "University Student",
          "University Student",
          "University Student",
          "University Student",
          "University Student",
          "Salaried Worker",
          "University Student",
          "University Student",
          "University Student",
          "University Student",
          "University Student",
          "University Student",
          "University Student",
          "University Student",
          "University Student",
          "University Student",
          "University Student",
          "University Student",
          "University Student",
          "University Student",
          "Salaried Worker",
          "Retired",
          "Salaried Worker",
          "Salaried Worker",
          "Salaried Worker",
          "Salaried Worker",
          "School Student",
          "University Student",
          "University Student",
          "University Student",
          "Salaried Worker",
          "School Student",
          "School Student",
          "School Student",
          "School Student",
          "University Student",
          "School Student",
          "School Student",
          "University Student",
          "University Student",
          "Salaried Worker",
          "University Student",
          "Salaried Worker",
          "Salaried Worker",
          "Salaried Worker",
          "Salaried Worker",
          "Salaried Worker",
          "University Student",
          "Salaried Worker"
         ],
         "xaxis": "x",
         "xbingroup": "x",
         "y": [
          0,
          1,
          2,
          3,
          4,
          5,
          6,
          7,
          8,
          9,
          10,
          11,
          12,
          13,
          14,
          15,
          16,
          17,
          18,
          19,
          20,
          21,
          22,
          23,
          24,
          25,
          26,
          27,
          28,
          29,
          30,
          31,
          32,
          33,
          34,
          35,
          36,
          37,
          38,
          39,
          40,
          41,
          42,
          43,
          44,
          45,
          46,
          47,
          48,
          49,
          50,
          51,
          52,
          53,
          54,
          55,
          56,
          57,
          58,
          59,
          60,
          61,
          62,
          63,
          64,
          65,
          66,
          67,
          68,
          69,
          70,
          71,
          72,
          73,
          74,
          75,
          76,
          77,
          78,
          79,
          80,
          81,
          82,
          83,
          84,
          85,
          86,
          87,
          88,
          89,
          90,
          91,
          92,
          93,
          94,
          95,
          96,
          97,
          98,
          99,
          100,
          101,
          102,
          103,
          104,
          105,
          106,
          107,
          108,
          109,
          110,
          111,
          112,
          113,
          114,
          115,
          116,
          117,
          118,
          119,
          120,
          121,
          122,
          123,
          124,
          125,
          126,
          127,
          128,
          129,
          130,
          131,
          132,
          133,
          134,
          135,
          136,
          137,
          138,
          139,
          140,
          141,
          142,
          143,
          144,
          145,
          146,
          147,
          148,
          149,
          150,
          151,
          152,
          153,
          154,
          155,
          156,
          157,
          158,
          159,
          160,
          161,
          162,
          163,
          164,
          165,
          166,
          167,
          168,
          169,
          170,
          171,
          172,
          173,
          174,
          175,
          176,
          177,
          178,
          179,
          180,
          181,
          182,
          183,
          184,
          185,
          186,
          187,
          188,
          189,
          190,
          191,
          192,
          193,
          194,
          195,
          196,
          197,
          198,
          199,
          200,
          201,
          202,
          203,
          204,
          205,
          206,
          207,
          208,
          209,
          210,
          211,
          212,
          213,
          214,
          215,
          216,
          217,
          218,
          219,
          220,
          221,
          222,
          223,
          224,
          225,
          226,
          227,
          228,
          229,
          230,
          231,
          232,
          233,
          234,
          235,
          236,
          237,
          238,
          239,
          240,
          241,
          242,
          243,
          244,
          245,
          246,
          247,
          248,
          249,
          250,
          251,
          252,
          253,
          254,
          255,
          256,
          257,
          258,
          259,
          260,
          261,
          262,
          263,
          264,
          265,
          266,
          267,
          268,
          269,
          270,
          271,
          272,
          273,
          274,
          275,
          276,
          277,
          278,
          279,
          280,
          281,
          282,
          283,
          284,
          285,
          286,
          287,
          288,
          289,
          290,
          291,
          292,
          293,
          294,
          295,
          296,
          297,
          298,
          299,
          300,
          301,
          302,
          303,
          304,
          305,
          306,
          307,
          308,
          309,
          310,
          311,
          312,
          313,
          314,
          315,
          316,
          317,
          318,
          319,
          320,
          321,
          322,
          323,
          324,
          325,
          326,
          327,
          328,
          329,
          330,
          331,
          332,
          333,
          334,
          335,
          336,
          337,
          338,
          339,
          340,
          341,
          342,
          343,
          344,
          345,
          346,
          347,
          348,
          349,
          350,
          351,
          352,
          353,
          354,
          355,
          356,
          357,
          358,
          359,
          360,
          361,
          362,
          363,
          364,
          365,
          366,
          367,
          368,
          369,
          370,
          371,
          372,
          373,
          374,
          375,
          376,
          377,
          378,
          379,
          380,
          381,
          382,
          383,
          384,
          385,
          386,
          387,
          388,
          389,
          390,
          391,
          392,
          393,
          394,
          395,
          396,
          397,
          398,
          399,
          400,
          401,
          402,
          403,
          404,
          405,
          406,
          407,
          408,
          409,
          410,
          411,
          412,
          413,
          414,
          415,
          416,
          417,
          418,
          419,
          420,
          421,
          422,
          423,
          424,
          425,
          426,
          427,
          428,
          429,
          430,
          431,
          432,
          433,
          434,
          435,
          436,
          437,
          438,
          439,
          440,
          441,
          442,
          443,
          444,
          445,
          446,
          447,
          448,
          449,
          450,
          451,
          452,
          453,
          454,
          455,
          456,
          457,
          458,
          459,
          460,
          461,
          462,
          463,
          464,
          465,
          466,
          467,
          468,
          469,
          470,
          471,
          472,
          473,
          474,
          475,
          476,
          477,
          478,
          479,
          480
         ],
         "yaxis": "y",
         "ybingroup": "y"
        }
       ],
       "layout": {
        "autosize": true,
        "legend": {
         "tracegroupgap": 0
        },
        "template": {
         "data": {
          "bar": [
           {
            "error_x": {
             "color": "#2a3f5f"
            },
            "error_y": {
             "color": "#2a3f5f"
            },
            "marker": {
             "line": {
              "color": "#E5ECF6",
              "width": 0.5
             },
             "pattern": {
              "fillmode": "overlay",
              "size": 10,
              "solidity": 0.2
             }
            },
            "type": "bar"
           }
          ],
          "barpolar": [
           {
            "marker": {
             "line": {
              "color": "#E5ECF6",
              "width": 0.5
             },
             "pattern": {
              "fillmode": "overlay",
              "size": 10,
              "solidity": 0.2
             }
            },
            "type": "barpolar"
           }
          ],
          "carpet": [
           {
            "aaxis": {
             "endlinecolor": "#2a3f5f",
             "gridcolor": "white",
             "linecolor": "white",
             "minorgridcolor": "white",
             "startlinecolor": "#2a3f5f"
            },
            "baxis": {
             "endlinecolor": "#2a3f5f",
             "gridcolor": "white",
             "linecolor": "white",
             "minorgridcolor": "white",
             "startlinecolor": "#2a3f5f"
            },
            "type": "carpet"
           }
          ],
          "choropleth": [
           {
            "colorbar": {
             "outlinewidth": 0,
             "ticks": ""
            },
            "type": "choropleth"
           }
          ],
          "contour": [
           {
            "colorbar": {
             "outlinewidth": 0,
             "ticks": ""
            },
            "colorscale": [
             [
              0,
              "#0d0887"
             ],
             [
              0.1111111111111111,
              "#46039f"
             ],
             [
              0.2222222222222222,
              "#7201a8"
             ],
             [
              0.3333333333333333,
              "#9c179e"
             ],
             [
              0.4444444444444444,
              "#bd3786"
             ],
             [
              0.5555555555555556,
              "#d8576b"
             ],
             [
              0.6666666666666666,
              "#ed7953"
             ],
             [
              0.7777777777777778,
              "#fb9f3a"
             ],
             [
              0.8888888888888888,
              "#fdca26"
             ],
             [
              1,
              "#f0f921"
             ]
            ],
            "type": "contour"
           }
          ],
          "contourcarpet": [
           {
            "colorbar": {
             "outlinewidth": 0,
             "ticks": ""
            },
            "type": "contourcarpet"
           }
          ],
          "heatmap": [
           {
            "colorbar": {
             "outlinewidth": 0,
             "ticks": ""
            },
            "colorscale": [
             [
              0,
              "#0d0887"
             ],
             [
              0.1111111111111111,
              "#46039f"
             ],
             [
              0.2222222222222222,
              "#7201a8"
             ],
             [
              0.3333333333333333,
              "#9c179e"
             ],
             [
              0.4444444444444444,
              "#bd3786"
             ],
             [
              0.5555555555555556,
              "#d8576b"
             ],
             [
              0.6666666666666666,
              "#ed7953"
             ],
             [
              0.7777777777777778,
              "#fb9f3a"
             ],
             [
              0.8888888888888888,
              "#fdca26"
             ],
             [
              1,
              "#f0f921"
             ]
            ],
            "type": "heatmap"
           }
          ],
          "heatmapgl": [
           {
            "colorbar": {
             "outlinewidth": 0,
             "ticks": ""
            },
            "colorscale": [
             [
              0,
              "#0d0887"
             ],
             [
              0.1111111111111111,
              "#46039f"
             ],
             [
              0.2222222222222222,
              "#7201a8"
             ],
             [
              0.3333333333333333,
              "#9c179e"
             ],
             [
              0.4444444444444444,
              "#bd3786"
             ],
             [
              0.5555555555555556,
              "#d8576b"
             ],
             [
              0.6666666666666666,
              "#ed7953"
             ],
             [
              0.7777777777777778,
              "#fb9f3a"
             ],
             [
              0.8888888888888888,
              "#fdca26"
             ],
             [
              1,
              "#f0f921"
             ]
            ],
            "type": "heatmapgl"
           }
          ],
          "histogram": [
           {
            "marker": {
             "pattern": {
              "fillmode": "overlay",
              "size": 10,
              "solidity": 0.2
             }
            },
            "type": "histogram"
           }
          ],
          "histogram2d": [
           {
            "colorbar": {
             "outlinewidth": 0,
             "ticks": ""
            },
            "colorscale": [
             [
              0,
              "#0d0887"
             ],
             [
              0.1111111111111111,
              "#46039f"
             ],
             [
              0.2222222222222222,
              "#7201a8"
             ],
             [
              0.3333333333333333,
              "#9c179e"
             ],
             [
              0.4444444444444444,
              "#bd3786"
             ],
             [
              0.5555555555555556,
              "#d8576b"
             ],
             [
              0.6666666666666666,
              "#ed7953"
             ],
             [
              0.7777777777777778,
              "#fb9f3a"
             ],
             [
              0.8888888888888888,
              "#fdca26"
             ],
             [
              1,
              "#f0f921"
             ]
            ],
            "type": "histogram2d"
           }
          ],
          "histogram2dcontour": [
           {
            "colorbar": {
             "outlinewidth": 0,
             "ticks": ""
            },
            "colorscale": [
             [
              0,
              "#0d0887"
             ],
             [
              0.1111111111111111,
              "#46039f"
             ],
             [
              0.2222222222222222,
              "#7201a8"
             ],
             [
              0.3333333333333333,
              "#9c179e"
             ],
             [
              0.4444444444444444,
              "#bd3786"
             ],
             [
              0.5555555555555556,
              "#d8576b"
             ],
             [
              0.6666666666666666,
              "#ed7953"
             ],
             [
              0.7777777777777778,
              "#fb9f3a"
             ],
             [
              0.8888888888888888,
              "#fdca26"
             ],
             [
              1,
              "#f0f921"
             ]
            ],
            "type": "histogram2dcontour"
           }
          ],
          "mesh3d": [
           {
            "colorbar": {
             "outlinewidth": 0,
             "ticks": ""
            },
            "type": "mesh3d"
           }
          ],
          "parcoords": [
           {
            "line": {
             "colorbar": {
              "outlinewidth": 0,
              "ticks": ""
             }
            },
            "type": "parcoords"
           }
          ],
          "pie": [
           {
            "automargin": true,
            "type": "pie"
           }
          ],
          "scatter": [
           {
            "fillpattern": {
             "fillmode": "overlay",
             "size": 10,
             "solidity": 0.2
            },
            "type": "scatter"
           }
          ],
          "scatter3d": [
           {
            "line": {
             "colorbar": {
              "outlinewidth": 0,
              "ticks": ""
             }
            },
            "marker": {
             "colorbar": {
              "outlinewidth": 0,
              "ticks": ""
             }
            },
            "type": "scatter3d"
           }
          ],
          "scattercarpet": [
           {
            "marker": {
             "colorbar": {
              "outlinewidth": 0,
              "ticks": ""
             }
            },
            "type": "scattercarpet"
           }
          ],
          "scattergeo": [
           {
            "marker": {
             "colorbar": {
              "outlinewidth": 0,
              "ticks": ""
             }
            },
            "type": "scattergeo"
           }
          ],
          "scattergl": [
           {
            "marker": {
             "colorbar": {
              "outlinewidth": 0,
              "ticks": ""
             }
            },
            "type": "scattergl"
           }
          ],
          "scattermapbox": [
           {
            "marker": {
             "colorbar": {
              "outlinewidth": 0,
              "ticks": ""
             }
            },
            "type": "scattermapbox"
           }
          ],
          "scatterpolar": [
           {
            "marker": {
             "colorbar": {
              "outlinewidth": 0,
              "ticks": ""
             }
            },
            "type": "scatterpolar"
           }
          ],
          "scatterpolargl": [
           {
            "marker": {
             "colorbar": {
              "outlinewidth": 0,
              "ticks": ""
             }
            },
            "type": "scatterpolargl"
           }
          ],
          "scatterternary": [
           {
            "marker": {
             "colorbar": {
              "outlinewidth": 0,
              "ticks": ""
             }
            },
            "type": "scatterternary"
           }
          ],
          "surface": [
           {
            "colorbar": {
             "outlinewidth": 0,
             "ticks": ""
            },
            "colorscale": [
             [
              0,
              "#0d0887"
             ],
             [
              0.1111111111111111,
              "#46039f"
             ],
             [
              0.2222222222222222,
              "#7201a8"
             ],
             [
              0.3333333333333333,
              "#9c179e"
             ],
             [
              0.4444444444444444,
              "#bd3786"
             ],
             [
              0.5555555555555556,
              "#d8576b"
             ],
             [
              0.6666666666666666,
              "#ed7953"
             ],
             [
              0.7777777777777778,
              "#fb9f3a"
             ],
             [
              0.8888888888888888,
              "#fdca26"
             ],
             [
              1,
              "#f0f921"
             ]
            ],
            "type": "surface"
           }
          ],
          "table": [
           {
            "cells": {
             "fill": {
              "color": "#EBF0F8"
             },
             "line": {
              "color": "white"
             }
            },
            "header": {
             "fill": {
              "color": "#C8D4E3"
             },
             "line": {
              "color": "white"
             }
            },
            "type": "table"
           }
          ]
         },
         "layout": {
          "annotationdefaults": {
           "arrowcolor": "#2a3f5f",
           "arrowhead": 0,
           "arrowwidth": 1
          },
          "autotypenumbers": "strict",
          "coloraxis": {
           "colorbar": {
            "outlinewidth": 0,
            "ticks": ""
           }
          },
          "colorscale": {
           "diverging": [
            [
             0,
             "#8e0152"
            ],
            [
             0.1,
             "#c51b7d"
            ],
            [
             0.2,
             "#de77ae"
            ],
            [
             0.3,
             "#f1b6da"
            ],
            [
             0.4,
             "#fde0ef"
            ],
            [
             0.5,
             "#f7f7f7"
            ],
            [
             0.6,
             "#e6f5d0"
            ],
            [
             0.7,
             "#b8e186"
            ],
            [
             0.8,
             "#7fbc41"
            ],
            [
             0.9,
             "#4d9221"
            ],
            [
             1,
             "#276419"
            ]
           ],
           "sequential": [
            [
             0,
             "#0d0887"
            ],
            [
             0.1111111111111111,
             "#46039f"
            ],
            [
             0.2222222222222222,
             "#7201a8"
            ],
            [
             0.3333333333333333,
             "#9c179e"
            ],
            [
             0.4444444444444444,
             "#bd3786"
            ],
            [
             0.5555555555555556,
             "#d8576b"
            ],
            [
             0.6666666666666666,
             "#ed7953"
            ],
            [
             0.7777777777777778,
             "#fb9f3a"
            ],
            [
             0.8888888888888888,
             "#fdca26"
            ],
            [
             1,
             "#f0f921"
            ]
           ],
           "sequentialminus": [
            [
             0,
             "#0d0887"
            ],
            [
             0.1111111111111111,
             "#46039f"
            ],
            [
             0.2222222222222222,
             "#7201a8"
            ],
            [
             0.3333333333333333,
             "#9c179e"
            ],
            [
             0.4444444444444444,
             "#bd3786"
            ],
            [
             0.5555555555555556,
             "#d8576b"
            ],
            [
             0.6666666666666666,
             "#ed7953"
            ],
            [
             0.7777777777777778,
             "#fb9f3a"
            ],
            [
             0.8888888888888888,
             "#fdca26"
            ],
            [
             1,
             "#f0f921"
            ]
           ]
          },
          "colorway": [
           "#636efa",
           "#EF553B",
           "#00cc96",
           "#ab63fa",
           "#FFA15A",
           "#19d3f3",
           "#FF6692",
           "#B6E880",
           "#FF97FF",
           "#FECB52"
          ],
          "font": {
           "color": "#2a3f5f"
          },
          "geo": {
           "bgcolor": "white",
           "lakecolor": "white",
           "landcolor": "#E5ECF6",
           "showlakes": true,
           "showland": true,
           "subunitcolor": "white"
          },
          "hoverlabel": {
           "align": "left"
          },
          "hovermode": "closest",
          "mapbox": {
           "style": "light"
          },
          "paper_bgcolor": "white",
          "plot_bgcolor": "#E5ECF6",
          "polar": {
           "angularaxis": {
            "gridcolor": "white",
            "linecolor": "white",
            "ticks": ""
           },
           "bgcolor": "#E5ECF6",
           "radialaxis": {
            "gridcolor": "white",
            "linecolor": "white",
            "ticks": ""
           }
          },
          "scene": {
           "xaxis": {
            "backgroundcolor": "#E5ECF6",
            "gridcolor": "white",
            "gridwidth": 2,
            "linecolor": "white",
            "showbackground": true,
            "ticks": "",
            "zerolinecolor": "white"
           },
           "yaxis": {
            "backgroundcolor": "#E5ECF6",
            "gridcolor": "white",
            "gridwidth": 2,
            "linecolor": "white",
            "showbackground": true,
            "ticks": "",
            "zerolinecolor": "white"
           },
           "zaxis": {
            "backgroundcolor": "#E5ECF6",
            "gridcolor": "white",
            "gridwidth": 2,
            "linecolor": "white",
            "showbackground": true,
            "ticks": "",
            "zerolinecolor": "white"
           }
          },
          "shapedefaults": {
           "line": {
            "color": "#2a3f5f"
           }
          },
          "ternary": {
           "aaxis": {
            "gridcolor": "white",
            "linecolor": "white",
            "ticks": ""
           },
           "baxis": {
            "gridcolor": "white",
            "linecolor": "white",
            "ticks": ""
           },
           "bgcolor": "#E5ECF6",
           "caxis": {
            "gridcolor": "white",
            "linecolor": "white",
            "ticks": ""
           }
          },
          "title": {
           "x": 0.05
          },
          "xaxis": {
           "automargin": true,
           "gridcolor": "white",
           "linecolor": "white",
           "ticks": "",
           "title": {
            "standoff": 15
           },
           "zerolinecolor": "white",
           "zerolinewidth": 2
          },
          "yaxis": {
           "automargin": true,
           "gridcolor": "white",
           "linecolor": "white",
           "ticks": "",
           "title": {
            "standoff": 15
           },
           "zerolinecolor": "white",
           "zerolinewidth": 2
          }
         }
        },
        "title": {
         "text": "Density of Occupation status"
        },
        "xaxis": {
         "anchor": "y",
         "autorange": true,
         "domain": [
          0,
          1
         ],
         "range": [
          -1,
          4
         ],
         "showspikes": false,
         "title": {
          "text": "4. Occupation Status"
         },
         "type": "category"
        },
        "yaxis": {
         "anchor": "x",
         "autorange": true,
         "domain": [
          0,
          1
         ],
         "range": [
          -50.5,
          549.5
         ],
         "showspikes": false,
         "title": {
          "text": "index"
         },
         "type": "linear"
        }
       }
      },
      "image/png": "[encoded data removed]",
      "text/html": [
       "<div>                            <div id=\"525c5c78-3526-40f1-913c-d632289b3152\" class=\"plotly-graph-div\" style=\"height:525px; width:100%;\"></div>            <script type=\"text/javascript\">                require([\"plotly\"], function(Plotly) {                    window.PLOTLYENV=window.PLOTLYENV || {};                                    if (document.getElementById(\"525c5c78-3526-40f1-913c-d632289b3152\")) {                    Plotly.newPlot(                        \"525c5c78-3526-40f1-913c-d632289b3152\",                        [{\"contours\":{\"coloring\":\"none\"},\"hovertemplate\":\"4. Occupation Status=%{x}\\u003cbr\\u003eindex=%{y}\\u003cbr\\u003ecount=%{z}\\u003cextra\\u003e\\u003c\\u002fextra\\u003e\",\"legendgroup\":\"\",\"line\":{\"color\":\"#636efa\"},\"name\":\"\",\"showlegend\":false,\"x\":[\"University Student\",\"University Student\",\"University Student\",\"University Student\",\"University Student\",\"University Student\",\"University Student\",\"University Student\",\"University Student\",\"University Student\",\"University Student\",\"University Student\",\"University Student\",\"University Student\",\"University Student\",\"University Student\",\"University Student\",\"School Student\",\"University Student\",\"Salaried Worker\",\"University Student\",\"University Student\",\"University Student\",\"University Student\",\"University Student\",\"Salaried Worker\",\"University Student\",\"Salaried Worker\",\"University Student\",\"University Student\",\"University Student\",\"Salaried Worker\",\"Salaried Worker\",\"School Student\",\"University Student\",\"University Student\",\"University Student\",\"University Student\",\"University Student\",\"University Student\",\"University Student\",\"University Student\",\"Retired\",\"School Student\",\"Salaried Worker\",\"University Student\",\"Retired\",\"School Student\",\"Salaried Worker\",\"Salaried Worker\",\"University Student\",\"Salaried Worker\",\"University Student\",\"Salaried Worker\",\"Salaried Worker\",\"University Student\",\"University Student\",\"School Student\",\"University Student\",\"University Student\",\"University Student\",\"University Student\",\"University Student\",\"Salaried Worker\",\"University Student\",\"School Student\",\"University Student\",\"School Student\",\"School Student\",\"University Student\",\"Salaried Worker\",\"School Student\",\"School Student\",\"Salaried Worker\",\"Retired\",\"Salaried Worker\",\"University Student\",\"University Student\",\"University Student\",\"University Student\",\"University Student\",\"University Student\",\"University Student\",\"University Student\",\"School Student\",\"Salaried Worker\",\"University Student\",\"Salaried Worker\",\"University Student\",\"University Student\",\"University Student\",\"University Student\",\"University Student\",\"School Student\",\"Salaried Worker\",\"University Student\",\"School Student\",\"School Student\",\"School Student\",\"School Student\",\"University Student\",\"University Student\",\"University Student\",\"University Student\",\"University Student\",\"University Student\",\"University Student\",\"Salaried Worker\",\"University Student\",\"Salaried Worker\",\"Salaried Worker\",\"Salaried Worker\",\"Salaried Worker\",\"Salaried Worker\",\"Salaried Worker\",\"Salaried Worker\",\"University Student\",\"University Student\",\"University Student\",\"University Student\",\"Salaried Worker\",\"University Student\",\"University Student\",\"University Student\",\"University Student\",\"University Student\",\"University Student\",\"University Student\",\"University Student\",\"School Student\",\"Salaried Worker\",\"Salaried Worker\",\"Salaried Worker\",\"Salaried Worker\",\"Salaried Worker\",\"Retired\",\"Salaried Worker\",\"Salaried Worker\",\"Salaried Worker\",\"Salaried Worker\",\"Salaried Worker\",\"Salaried Worker\",\"Salaried Worker\",\"Salaried Worker\",\"University Student\",\"Salaried Worker\",\"University Student\",\"Salaried Worker\",\"Salaried Worker\",\"Salaried Worker\",\"University Student\",\"Salaried Worker\",\"Salaried Worker\",\"Salaried Worker\",\"Salaried Worker\",\"University Student\",\"Salaried Worker\",\"Salaried Worker\",\"Retired\",\"School Student\",\"Salaried Worker\",\"Salaried Worker\",\"Retired\",\"Salaried Worker\",\"Salaried Worker\",\"Salaried Worker\",\"Salaried Worker\",\"University Student\",\"Salaried Worker\",\"University Student\",\"University Student\",\"University Student\",\"University Student\",\"University Student\",\"University Student\",\"Salaried Worker\",\"Salaried Worker\",\"University Student\",\"University Student\",\"University Student\",\"Salaried Worker\",\"Salaried Worker\",\"Salaried Worker\",\"Salaried Worker\",\"University Student\",\"Salaried Worker\",\"Salaried Worker\",\"Salaried Worker\",\"University Student\",\"University Student\",\"University Student\",\"School Student\",\"University Student\",\"University Student\",\"University Student\",\"Salaried Worker\",\"Salaried Worker\",\"Salaried Worker\",\"School Student\",\"Salaried Worker\",\"University Student\",\"University Student\",\"University Student\",\"University Student\",\"Salaried Worker\",\"School Student\",\"Salaried Worker\",\"University Student\",\"Salaried Worker\",\"University Student\",\"Salaried Worker\",\"University Student\",\"Salaried Worker\",\"University Student\",\"University Student\",\"University Student\",\"Salaried Worker\",\"Salaried Worker\",\"University Student\",\"Salaried Worker\",\"University Student\",\"University Student\",\"University Student\",\"University Student\",\"University Student\",\"University Student\",\"University Student\",\"University Student\",\"Salaried Worker\",\"University Student\",\"University Student\",\"University Student\",\"University Student\",\"University Student\",\"University Student\",\"Salaried Worker\",\"Salaried Worker\",\"University Student\",\"Salaried Worker\",\"Salaried Worker\",\"University Student\",\"University Student\",\"University Student\",\"School Student\",\"University Student\",\"Salaried Worker\",\"University Student\",\"University Student\",\"Salaried Worker\",\"University Student\",\"Salaried Worker\",\"Salaried Worker\",\"University Student\",\"University Student\",\"University Student\",\"University Student\",\"University Student\",\"University Student\",\"University Student\",\"University Student\",\"Salaried Worker\",\"University Student\",\"University Student\",\"University Student\",\"University Student\",\"University Student\",\"Salaried Worker\",\"University Student\",\"University Student\",\"University Student\",\"School Student\",\"University Student\",\"University Student\",\"University Student\",\"University Student\",\"University Student\",\"University Student\",\"Salaried Worker\",\"University Student\",\"School Student\",\"University Student\",\"School Student\",\"University Student\",\"University Student\",\"University Student\",\"University Student\",\"University Student\",\"University Student\",\"University Student\",\"Salaried Worker\",\"University Student\",\"University Student\",\"University Student\",\"University Student\",\"University Student\",\"Salaried Worker\",\"School Student\",\"University Student\",\"University Student\",\"University Student\",\"University Student\",\"Salaried Worker\",\"School Student\",\"Salaried Worker\",\"University Student\",\"Salaried Worker\",\"University Student\",\"University Student\",\"University Student\",\"University Student\",\"School Student\",\"University Student\",\"School Student\",\"University Student\",\"University Student\",\"University Student\",\"University Student\",\"University Student\",\"University Student\",\"University Student\",\"University Student\",\"University Student\",\"School Student\",\"University Student\",\"University Student\",\"University Student\",\"University Student\",\"University Student\",\"University Student\",\"University Student\",\"University Student\",\"Salaried Worker\",\"Salaried Worker\",\"University Student\",\"University Student\",\"University Student\",\"University Student\",\"School Student\",\"University Student\",\"Salaried Worker\",\"Salaried Worker\",\"University Student\",\"Salaried Worker\",\"University Student\",\"University Student\",\"University Student\",\"Salaried Worker\",\"University Student\",\"University Student\",\"School Student\",\"University Student\",\"Salaried Worker\",\"University Student\",\"Salaried Worker\",\"School Student\",\"Salaried Worker\",\"University Student\",\"University Student\",\"University Student\",\"Salaried Worker\",\"School Student\",\"Salaried Worker\",\"University Student\",\"University Student\",\"University Student\",\"University Student\",\"University Student\",\"University Student\",\"Salaried Worker\",\"Salaried Worker\",\"Salaried Worker\",\"University Student\",\"University Student\",\"University Student\",\"University Student\",\"University Student\",\"University Student\",\"Salaried Worker\",\"University Student\",\"University Student\",\"University Student\",\"University Student\",\"University Student\",\"Salaried Worker\",\"University Student\",\"University Student\",\"University Student\",\"School Student\",\"University Student\",\"University Student\",\"University Student\",\"University Student\",\"University Student\",\"University Student\",\"School Student\",\"Salaried Worker\",\"University Student\",\"University Student\",\"University Student\",\"University Student\",\"University Student\",\"Salaried Worker\",\"University Student\",\"Salaried Worker\",\"Salaried Worker\",\"University Student\",\"Salaried Worker\",\"University Student\",\"University Student\",\"University Student\",\"University Student\",\"University Student\",\"University Student\",\"School Student\",\"University Student\",\"School Student\",\"School Student\",\"School Student\",\"University Student\",\"University Student\",\"University Student\",\"University Student\",\"Salaried Worker\",\"University Student\",\"School Student\",\"School Student\",\"University Student\",\"Salaried Worker\",\"Retired\",\"University Student\",\"University Student\",\"University Student\",\"University Student\",\"University Student\",\"University Student\",\"University Student\",\"University Student\",\"Salaried Worker\",\"University Student\",\"University Student\",\"University Student\",\"University Student\",\"University Student\",\"University Student\",\"University Student\",\"University Student\",\"University Student\",\"University Student\",\"University Student\",\"University Student\",\"University Student\",\"University Student\",\"Salaried Worker\",\"Retired\",\"Salaried Worker\",\"Salaried Worker\",\"Salaried Worker\",\"Salaried Worker\",\"School Student\",\"University Student\",\"University Student\",\"University Student\",\"Salaried Worker\",\"School Student\",\"School Student\",\"School Student\",\"School Student\",\"University Student\",\"School Student\",\"School Student\",\"University Student\",\"University Student\",\"Salaried Worker\",\"University Student\",\"Salaried Worker\",\"Salaried Worker\",\"Salaried Worker\",\"Salaried Worker\",\"Salaried Worker\",\"University Student\",\"Salaried Worker\"],\"xaxis\":\"x\",\"xbingroup\":\"x\",\"y\":[0,1,2,3,4,5,6,7,8,9,10,11,12,13,14,15,16,17,18,19,20,21,22,23,24,25,26,27,28,29,30,31,32,33,34,35,36,37,38,39,40,41,42,43,44,45,46,47,48,49,50,51,52,53,54,55,56,57,58,59,60,61,62,63,64,65,66,67,68,69,70,71,72,73,74,75,76,77,78,79,80,81,82,83,84,85,86,87,88,89,90,91,92,93,94,95,96,97,98,99,100,101,102,103,104,105,106,107,108,109,110,111,112,113,114,115,116,117,118,119,120,121,122,123,124,125,126,127,128,129,130,131,132,133,134,135,136,137,138,139,140,141,142,143,144,145,146,147,148,149,150,151,152,153,154,155,156,157,158,159,160,161,162,163,164,165,166,167,168,169,170,171,172,173,174,175,176,177,178,179,180,181,182,183,184,185,186,187,188,189,190,191,192,193,194,195,196,197,198,199,200,201,202,203,204,205,206,207,208,209,210,211,212,213,214,215,216,217,218,219,220,221,222,223,224,225,226,227,228,229,230,231,232,233,234,235,236,237,238,239,240,241,242,243,244,245,246,247,248,249,250,251,252,253,254,255,256,257,258,259,260,261,262,263,264,265,266,267,268,269,270,271,272,273,274,275,276,277,278,279,280,281,282,283,284,285,286,287,288,289,290,291,292,293,294,295,296,297,298,299,300,301,302,303,304,305,306,307,308,309,310,311,312,313,314,315,316,317,318,319,320,321,322,323,324,325,326,327,328,329,330,331,332,333,334,335,336,337,338,339,340,341,342,343,344,345,346,347,348,349,350,351,352,353,354,355,356,357,358,359,360,361,362,363,364,365,366,367,368,369,370,371,372,373,374,375,376,377,378,379,380,381,382,383,384,385,386,387,388,389,390,391,392,393,394,395,396,397,398,399,400,401,402,403,404,405,406,407,408,409,410,411,412,413,414,415,416,417,418,419,420,421,422,423,424,425,426,427,428,429,430,431,432,433,434,435,436,437,438,439,440,441,442,443,444,445,446,447,448,449,450,451,452,453,454,455,456,457,458,459,460,461,462,463,464,465,466,467,468,469,470,471,472,473,474,475,476,477,478,479,480],\"yaxis\":\"y\",\"ybingroup\":\"y\",\"type\":\"histogram2dcontour\"}],                        {\"template\":{\"data\":{\"histogram2dcontour\":[{\"type\":\"histogram2dcontour\",\"colorbar\":{\"outlinewidth\":0,\"ticks\":\"\"},\"colorscale\":[[0.0,\"#0d0887\"],[0.1111111111111111,\"#46039f\"],[0.2222222222222222,\"#7201a8\"],[0.3333333333333333,\"#9c179e\"],[0.4444444444444444,\"#bd3786\"],[0.5555555555555556,\"#d8576b\"],[0.6666666666666666,\"#ed7953\"],[0.7777777777777778,\"#fb9f3a\"],[0.8888888888888888,\"#fdca26\"],[1.0,\"#f0f921\"]]}],\"choropleth\":[{\"type\":\"choropleth\",\"colorbar\":{\"outlinewidth\":0,\"ticks\":\"\"}}],\"histogram2d\":[{\"type\":\"histogram2d\",\"colorbar\":{\"outlinewidth\":0,\"ticks\":\"\"},\"colorscale\":[[0.0,\"#0d0887\"],[0.1111111111111111,\"#46039f\"],[0.2222222222222222,\"#7201a8\"],[0.3333333333333333,\"#9c179e\"],[0.4444444444444444,\"#bd3786\"],[0.5555555555555556,\"#d8576b\"],[0.6666666666666666,\"#ed7953\"],[0.7777777777777778,\"#fb9f3a\"],[0.8888888888888888,\"#fdca26\"],[1.0,\"#f0f921\"]]}],\"heatmap\":[{\"type\":\"heatmap\",\"colorbar\":{\"outlinewidth\":0,\"ticks\":\"\"},\"colorscale\":[[0.0,\"#0d0887\"],[0.1111111111111111,\"#46039f\"],[0.2222222222222222,\"#7201a8\"],[0.3333333333333333,\"#9c179e\"],[0.4444444444444444,\"#bd3786\"],[0.5555555555555556,\"#d8576b\"],[0.6666666666666666,\"#ed7953\"],[0.7777777777777778,\"#fb9f3a\"],[0.8888888888888888,\"#fdca26\"],[1.0,\"#f0f921\"]]}],\"heatmapgl\":[{\"type\":\"heatmapgl\",\"colorbar\":{\"outlinewidth\":0,\"ticks\":\"\"},\"colorscale\":[[0.0,\"#0d0887\"],[0.1111111111111111,\"#46039f\"],[0.2222222222222222,\"#7201a8\"],[0.3333333333333333,\"#9c179e\"],[0.4444444444444444,\"#bd3786\"],[0.5555555555555556,\"#d8576b\"],[0.6666666666666666,\"#ed7953\"],[0.7777777777777778,\"#fb9f3a\"],[0.8888888888888888,\"#fdca26\"],[1.0,\"#f0f921\"]]}],\"contourcarpet\":[{\"type\":\"contourcarpet\",\"colorbar\":{\"outlinewidth\":0,\"ticks\":\"\"}}],\"contour\":[{\"type\":\"contour\",\"colorbar\":{\"outlinewidth\":0,\"ticks\":\"\"},\"colorscale\":[[0.0,\"#0d0887\"],[0.1111111111111111,\"#46039f\"],[0.2222222222222222,\"#7201a8\"],[0.3333333333333333,\"#9c179e\"],[0.4444444444444444,\"#bd3786\"],[0.5555555555555556,\"#d8576b\"],[0.6666666666666666,\"#ed7953\"],[0.7777777777777778,\"#fb9f3a\"],[0.8888888888888888,\"#fdca26\"],[1.0,\"#f0f921\"]]}],\"surface\":[{\"type\":\"surface\",\"colorbar\":{\"outlinewidth\":0,\"ticks\":\"\"},\"colorscale\":[[0.0,\"#0d0887\"],[0.1111111111111111,\"#46039f\"],[0.2222222222222222,\"#7201a8\"],[0.3333333333333333,\"#9c179e\"],[0.4444444444444444,\"#bd3786\"],[0.5555555555555556,\"#d8576b\"],[0.6666666666666666,\"#ed7953\"],[0.7777777777777778,\"#fb9f3a\"],[0.8888888888888888,\"#fdca26\"],[1.0,\"#f0f921\"]]}],\"mesh3d\":[{\"type\":\"mesh3d\",\"colorbar\":{\"outlinewidth\":0,\"ticks\":\"\"}}],\"scatter\":[{\"fillpattern\":{\"fillmode\":\"overlay\",\"size\":10,\"solidity\":0.2},\"type\":\"scatter\"}],\"parcoords\":[{\"type\":\"parcoords\",\"line\":{\"colorbar\":{\"outlinewidth\":0,\"ticks\":\"\"}}}],\"scatterpolargl\":[{\"type\":\"scatterpolargl\",\"marker\":{\"colorbar\":{\"outlinewidth\":0,\"ticks\":\"\"}}}],\"bar\":[{\"error_x\":{\"color\":\"#2a3f5f\"},\"error_y\":{\"color\":\"#2a3f5f\"},\"marker\":{\"line\":{\"color\":\"#E5ECF6\",\"width\":0.5},\"pattern\":{\"fillmode\":\"overlay\",\"size\":10,\"solidity\":0.2}},\"type\":\"bar\"}],\"scattergeo\":[{\"type\":\"scattergeo\",\"marker\":{\"colorbar\":{\"outlinewidth\":0,\"ticks\":\"\"}}}],\"scatterpolar\":[{\"type\":\"scatterpolar\",\"marker\":{\"colorbar\":{\"outlinewidth\":0,\"ticks\":\"\"}}}],\"histogram\":[{\"marker\":{\"pattern\":{\"fillmode\":\"overlay\",\"size\":10,\"solidity\":0.2}},\"type\":\"histogram\"}],\"scattergl\":[{\"type\":\"scattergl\",\"marker\":{\"colorbar\":{\"outlinewidth\":0,\"ticks\":\"\"}}}],\"scatter3d\":[{\"type\":\"scatter3d\",\"line\":{\"colorbar\":{\"outlinewidth\":0,\"ticks\":\"\"}},\"marker\":{\"colorbar\":{\"outlinewidth\":0,\"ticks\":\"\"}}}],\"scattermapbox\":[{\"type\":\"scattermapbox\",\"marker\":{\"colorbar\":{\"outlinewidth\":0,\"ticks\":\"\"}}}],\"scatterternary\":[{\"type\":\"scatterternary\",\"marker\":{\"colorbar\":{\"outlinewidth\":0,\"ticks\":\"\"}}}],\"scattercarpet\":[{\"type\":\"scattercarpet\",\"marker\":{\"colorbar\":{\"outlinewidth\":0,\"ticks\":\"\"}}}],\"carpet\":[{\"aaxis\":{\"endlinecolor\":\"#2a3f5f\",\"gridcolor\":\"white\",\"linecolor\":\"white\",\"minorgridcolor\":\"white\",\"startlinecolor\":\"#2a3f5f\"},\"baxis\":{\"endlinecolor\":\"#2a3f5f\",\"gridcolor\":\"white\",\"linecolor\":\"white\",\"minorgridcolor\":\"white\",\"startlinecolor\":\"#2a3f5f\"},\"type\":\"carpet\"}],\"table\":[{\"cells\":{\"fill\":{\"color\":\"#EBF0F8\"},\"line\":{\"color\":\"white\"}},\"header\":{\"fill\":{\"color\":\"#C8D4E3\"},\"line\":{\"color\":\"white\"}},\"type\":\"table\"}],\"barpolar\":[{\"marker\":{\"line\":{\"color\":\"#E5ECF6\",\"width\":0.5},\"pattern\":{\"fillmode\":\"overlay\",\"size\":10,\"solidity\":0.2}},\"type\":\"barpolar\"}],\"pie\":[{\"automargin\":true,\"type\":\"pie\"}]},\"layout\":{\"autotypenumbers\":\"strict\",\"colorway\":[\"#636efa\",\"#EF553B\",\"#00cc96\",\"#ab63fa\",\"#FFA15A\",\"#19d3f3\",\"#FF6692\",\"#B6E880\",\"#FF97FF\",\"#FECB52\"],\"font\":{\"color\":\"#2a3f5f\"},\"hovermode\":\"closest\",\"hoverlabel\":{\"align\":\"left\"},\"paper_bgcolor\":\"white\",\"plot_bgcolor\":\"#E5ECF6\",\"polar\":{\"bgcolor\":\"#E5ECF6\",\"angularaxis\":{\"gridcolor\":\"white\",\"linecolor\":\"white\",\"ticks\":\"\"},\"radialaxis\":{\"gridcolor\":\"white\",\"linecolor\":\"white\",\"ticks\":\"\"}},\"ternary\":{\"bgcolor\":\"#E5ECF6\",\"aaxis\":{\"gridcolor\":\"white\",\"linecolor\":\"white\",\"ticks\":\"\"},\"baxis\":{\"gridcolor\":\"white\",\"linecolor\":\"white\",\"ticks\":\"\"},\"caxis\":{\"gridcolor\":\"white\",\"linecolor\":\"white\",\"ticks\":\"\"}},\"coloraxis\":{\"colorbar\":{\"outlinewidth\":0,\"ticks\":\"\"}},\"colorscale\":{\"sequential\":[[0.0,\"#0d0887\"],[0.1111111111111111,\"#46039f\"],[0.2222222222222222,\"#7201a8\"],[0.3333333333333333,\"#9c179e\"],[0.4444444444444444,\"#bd3786\"],[0.5555555555555556,\"#d8576b\"],[0.6666666666666666,\"#ed7953\"],[0.7777777777777778,\"#fb9f3a\"],[0.8888888888888888,\"#fdca26\"],[1.0,\"#f0f921\"]],\"sequentialminus\":[[0.0,\"#0d0887\"],[0.1111111111111111,\"#46039f\"],[0.2222222222222222,\"#7201a8\"],[0.3333333333333333,\"#9c179e\"],[0.4444444444444444,\"#bd3786\"],[0.5555555555555556,\"#d8576b\"],[0.6666666666666666,\"#ed7953\"],[0.7777777777777778,\"#fb9f3a\"],[0.8888888888888888,\"#fdca26\"],[1.0,\"#f0f921\"]],\"diverging\":[[0,\"#8e0152\"],[0.1,\"#c51b7d\"],[0.2,\"#de77ae\"],[0.3,\"#f1b6da\"],[0.4,\"#fde0ef\"],[0.5,\"#f7f7f7\"],[0.6,\"#e6f5d0\"],[0.7,\"#b8e186\"],[0.8,\"#7fbc41\"],[0.9,\"#4d9221\"],[1,\"#276419\"]]},\"xaxis\":{\"gridcolor\":\"white\",\"linecolor\":\"white\",\"ticks\":\"\",\"title\":{\"standoff\":15},\"zerolinecolor\":\"white\",\"automargin\":true,\"zerolinewidth\":2},\"yaxis\":{\"gridcolor\":\"white\",\"linecolor\":\"white\",\"ticks\":\"\",\"title\":{\"standoff\":15},\"zerolinecolor\":\"white\",\"automargin\":true,\"zerolinewidth\":2},\"scene\":{\"xaxis\":{\"backgroundcolor\":\"#E5ECF6\",\"gridcolor\":\"white\",\"linecolor\":\"white\",\"showbackground\":true,\"ticks\":\"\",\"zerolinecolor\":\"white\",\"gridwidth\":2},\"yaxis\":{\"backgroundcolor\":\"#E5ECF6\",\"gridcolor\":\"white\",\"linecolor\":\"white\",\"showbackground\":true,\"ticks\":\"\",\"zerolinecolor\":\"white\",\"gridwidth\":2},\"zaxis\":{\"backgroundcolor\":\"#E5ECF6\",\"gridcolor\":\"white\",\"linecolor\":\"white\",\"showbackground\":true,\"ticks\":\"\",\"zerolinecolor\":\"white\",\"gridwidth\":2}},\"shapedefaults\":{\"line\":{\"color\":\"#2a3f5f\"}},\"annotationdefaults\":{\"arrowcolor\":\"#2a3f5f\",\"arrowhead\":0,\"arrowwidth\":1},\"geo\":{\"bgcolor\":\"white\",\"landcolor\":\"#E5ECF6\",\"subunitcolor\":\"white\",\"showland\":true,\"showlakes\":true,\"lakecolor\":\"white\"},\"title\":{\"x\":0.05},\"mapbox\":{\"style\":\"light\"}}},\"xaxis\":{\"anchor\":\"y\",\"domain\":[0.0,1.0],\"title\":{\"text\":\"4. Occupation Status\"}},\"yaxis\":{\"anchor\":\"x\",\"domain\":[0.0,1.0],\"title\":{\"text\":\"index\"}},\"legend\":{\"tracegroupgap\":0},\"title\":{\"text\":\"Density of Occupation status\"}},                        {\"responsive\": true}                    ).then(function(){\n",
       "                            \n",
       "var gd = document.getElementById('525c5c78-3526-40f1-913c-d632289b3152');\n",
       "var x = new MutationObserver(function (mutations, observer) {{\n",
       "        var display = window.getComputedStyle(gd).display;\n",
       "        if (!display || display === 'none') {{\n",
       "            console.log([gd, 'removed!']);\n",
       "            Plotly.purge(gd);\n",
       "            observer.disconnect();\n",
       "        }}\n",
       "}});\n",
       "\n",
       "// Listen for the removal of the full notebook cells\n",
       "var notebookContainer = gd.closest('#notebook-container');\n",
       "if (notebookContainer) {{\n",
       "    x.observe(notebookContainer, {childList: true});\n",
       "}}\n",
       "\n",
       "// Listen for the clearing of the current output cell\n",
       "var outputEl = gd.closest('.output');\n",
       "if (outputEl) {{\n",
       "    x.observe(outputEl, {childList: true});\n",
       "}}\n",
       "\n",
       "                        })                };                });            </script>        </div>"
      ]
     },
     "metadata": {},
     "output_type": "display_data"
    }
   ],
   "source": [
    "fig = px.histogram(df, x='1. What is your age?', title='Age disterbution')\n",
    "fig.show()\n",
    "fig = px.density_contour(df, x='4. Occupation Status', title='Density of Occupation status')\n",
    "fig.show()"
   ]
  },
  {
   "cell_type": "markdown",
   "id": "quantitative-water",
   "metadata": {},
   "source": [
    "#### Write your insghts here"
   ]
  },
  {
   "cell_type": "markdown",
   "id": "93c26990-b878-478e-9f42-83242fe50468",
   "metadata": {},
   "source": [
    "### Histogram:\n",
    "- We can see that most values are between 21 to 23.\n",
    "- Also we have some intresting responses above 40, we may fetch this if its just a wrong entry or a real samples!\n"
   ]
  },
  {
   "cell_type": "markdown",
   "id": "developing-bandwidth",
   "metadata": {},
   "source": [
    "#### Write your insghts here"
   ]
  },
  {
   "cell_type": "markdown",
   "id": "aac6f750-cadd-4765-842a-3a3ce88bc36d",
   "metadata": {},
   "source": [
    "### Density: \n",
    "- We can see the density of university students over indexes\n",
    "- We find that there are some retired responses"
   ]
  },
  {
   "cell_type": "markdown",
   "id": "sound-copper",
   "metadata": {},
   "source": [
    "### Bivariate Visualization \n",
    "* Plot two Charts\n",
    "* Provide each charts with at least two insights "
   ]
  },
  {
   "cell_type": "code",
   "execution_count": 48,
   "id": "surface-visiting",
   "metadata": {},
   "outputs": [
    {
     "data": {
      "application/vnd.plotly.v1+json": {
       "config": {
        "plotlyServerURL": "https://plot.ly"
       },
       "data": [
        {
         "alignmentgroup": "True",
         "box": {
          "visible": false
         },
         "hovertemplate": "6. Do you use social media?=%{x}<br>1. What is your age?=%{y}<extra></extra>",
         "legendgroup": "",
         "marker": {
          "color": "#636efa"
         },
         "name": "",
         "offsetgroup": "",
         "orientation": "v",
         "scalegroup": "True",
         "showlegend": false,
         "type": "violin",
         "x": [
          "Yes",
          "Yes",
          "Yes",
          "Yes",
          "Yes",
          "Yes",
          "Yes",
          "Yes",
          "Yes",
          "No",
          "Yes",
          "Yes",
          "Yes",
          "Yes",
          "Yes",
          "Yes",
          "Yes",
          "Yes",
          "Yes",
          "Yes",
          "Yes",
          "Yes",
          "Yes",
          "Yes",
          "Yes",
          "Yes",
          "Yes",
          "Yes",
          "Yes",
          "Yes",
          "Yes",
          "Yes",
          "Yes",
          "Yes",
          "Yes",
          "Yes",
          "Yes",
          "Yes",
          "Yes",
          "Yes",
          "Yes",
          "Yes",
          "Yes",
          "Yes",
          "Yes",
          "Yes",
          "Yes",
          "Yes",
          "Yes",
          "Yes",
          "Yes",
          "Yes",
          "Yes",
          "Yes",
          "No",
          "Yes",
          "Yes",
          "Yes",
          "Yes",
          "Yes",
          "Yes",
          "Yes",
          "Yes",
          "Yes",
          "Yes",
          "Yes",
          "Yes",
          "Yes",
          "Yes",
          "Yes",
          "Yes",
          "Yes",
          "Yes",
          "Yes",
          "Yes",
          "Yes",
          "Yes",
          "Yes",
          "Yes",
          "Yes",
          "Yes",
          "Yes",
          "Yes",
          "Yes",
          "Yes",
          "Yes",
          "Yes",
          "Yes",
          "Yes",
          "Yes",
          "Yes",
          "Yes",
          "Yes",
          "Yes",
          "Yes",
          "Yes",
          "Yes",
          "Yes",
          "Yes",
          "Yes",
          "Yes",
          "Yes",
          "Yes",
          "Yes",
          "Yes",
          "Yes",
          "Yes",
          "Yes",
          "Yes",
          "Yes",
          "Yes",
          "Yes",
          "Yes",
          "Yes",
          "Yes",
          "Yes",
          "Yes",
          "Yes",
          "Yes",
          "Yes",
          "Yes",
          "Yes",
          "Yes",
          "Yes",
          "Yes",
          "Yes",
          "Yes",
          "Yes",
          "Yes",
          "Yes",
          "Yes",
          "Yes",
          "Yes",
          "Yes",
          "No",
          "Yes",
          "Yes",
          "Yes",
          "Yes",
          "Yes",
          "Yes",
          "Yes",
          "Yes",
          "Yes",
          "Yes",
          "Yes",
          "Yes",
          "Yes",
          "Yes",
          "Yes",
          "Yes",
          "Yes",
          "Yes",
          "Yes",
          "Yes",
          "Yes",
          "Yes",
          "Yes",
          "Yes",
          "Yes",
          "Yes",
          "Yes",
          "Yes",
          "Yes",
          "Yes",
          "Yes",
          "Yes",
          "Yes",
          "Yes",
          "Yes",
          "Yes",
          "Yes",
          "Yes",
          "Yes",
          "Yes",
          "Yes",
          "Yes",
          "Yes",
          "Yes",
          "Yes",
          "Yes",
          "Yes",
          "Yes",
          "Yes",
          "Yes",
          "Yes",
          "Yes",
          "Yes",
          "Yes",
          "Yes",
          "Yes",
          "Yes",
          "Yes",
          "Yes",
          "Yes",
          "Yes",
          "Yes",
          "Yes",
          "Yes",
          "Yes",
          "Yes",
          "Yes",
          "Yes",
          "Yes",
          "Yes",
          "Yes",
          "Yes",
          "Yes",
          "Yes",
          "Yes",
          "Yes",
          "Yes",
          "Yes",
          "Yes",
          "Yes",
          "Yes",
          "Yes",
          "Yes",
          "Yes",
          "Yes",
          "Yes",
          "Yes",
          "Yes",
          "Yes",
          "Yes",
          "Yes",
          "Yes",
          "Yes",
          "Yes",
          "Yes",
          "Yes",
          "Yes",
          "Yes",
          "Yes",
          "Yes",
          "Yes",
          "Yes",
          "Yes",
          "Yes",
          "Yes",
          "Yes",
          "Yes",
          "Yes",
          "Yes",
          "Yes",
          "Yes",
          "Yes",
          "Yes",
          "Yes",
          "Yes",
          "Yes",
          "Yes",
          "Yes",
          "Yes",
          "Yes",
          "Yes",
          "Yes",
          "Yes",
          "Yes",
          "Yes",
          "Yes",
          "Yes",
          "Yes",
          "Yes",
          "Yes",
          "Yes",
          "Yes",
          "Yes",
          "Yes",
          "Yes",
          "Yes",
          "Yes",
          "Yes",
          "Yes",
          "Yes",
          "Yes",
          "Yes",
          "Yes",
          "Yes",
          "Yes",
          "Yes",
          "Yes",
          "Yes",
          "Yes",
          "Yes",
          "Yes",
          "Yes",
          "Yes",
          "Yes",
          "Yes",
          "Yes",
          "Yes",
          "Yes",
          "Yes",
          "Yes",
          "Yes",
          "Yes",
          "Yes",
          "Yes",
          "Yes",
          "Yes",
          "Yes",
          "Yes",
          "Yes",
          "Yes",
          "Yes",
          "Yes",
          "Yes",
          "Yes",
          "Yes",
          "Yes",
          "Yes",
          "Yes",
          "Yes",
          "Yes",
          "Yes",
          "Yes",
          "Yes",
          "Yes",
          "Yes",
          "Yes",
          "Yes",
          "Yes",
          "Yes",
          "Yes",
          "Yes",
          "Yes",
          "Yes",
          "Yes",
          "Yes",
          "Yes",
          "Yes",
          "Yes",
          "Yes",
          "Yes",
          "Yes",
          "Yes",
          "Yes",
          "Yes",
          "Yes",
          "Yes",
          "Yes",
          "Yes",
          "Yes",
          "Yes",
          "Yes",
          "Yes",
          "Yes",
          "Yes",
          "Yes",
          "Yes",
          "Yes",
          "Yes",
          "Yes",
          "Yes",
          "Yes",
          "Yes",
          "Yes",
          "Yes",
          "Yes",
          "Yes",
          "Yes",
          "Yes",
          "Yes",
          "Yes",
          "Yes",
          "Yes",
          "Yes",
          "Yes",
          "Yes",
          "Yes",
          "Yes",
          "Yes",
          "Yes",
          "Yes",
          "Yes",
          "Yes",
          "Yes",
          "Yes",
          "Yes",
          "Yes",
          "Yes",
          "Yes",
          "Yes",
          "Yes",
          "Yes",
          "Yes",
          "Yes",
          "Yes",
          "Yes",
          "Yes",
          "Yes",
          "Yes",
          "Yes",
          "Yes",
          "Yes",
          "Yes",
          "Yes",
          "Yes",
          "Yes",
          "Yes",
          "Yes",
          "Yes",
          "Yes",
          "Yes",
          "Yes",
          "Yes",
          "Yes",
          "Yes",
          "Yes",
          "Yes",
          "Yes",
          "Yes",
          "Yes",
          "Yes",
          "Yes",
          "Yes",
          "Yes",
          "Yes",
          "Yes",
          "Yes",
          "Yes",
          "Yes",
          "Yes",
          "Yes",
          "Yes",
          "Yes",
          "Yes",
          "Yes",
          "Yes",
          "Yes",
          "Yes",
          "Yes",
          "Yes",
          "Yes",
          "Yes",
          "Yes",
          "Yes",
          "Yes",
          "Yes",
          "Yes",
          "Yes",
          "Yes",
          "Yes",
          "Yes",
          "Yes",
          "Yes",
          "Yes",
          "Yes",
          "Yes",
          "Yes",
          "Yes",
          "Yes",
          "Yes",
          "Yes",
          "Yes",
          "Yes",
          "Yes",
          "Yes",
          "Yes",
          "Yes",
          "Yes",
          "Yes",
          "Yes",
          "Yes",
          "Yes",
          "Yes",
          "Yes",
          "Yes",
          "Yes",
          "Yes",
          "Yes",
          "Yes",
          "Yes",
          "Yes",
          "Yes",
          "Yes",
          "Yes",
          "Yes",
          "Yes",
          "Yes"
         ],
         "x0": " ",
         "xaxis": "x",
         "y": [
          21,
          21,
          21,
          21,
          21,
          22,
          21,
          21,
          21,
          20,
          24,
          21,
          22,
          21,
          22,
          23,
          21,
          25,
          28,
          34,
          22,
          23,
          26,
          23,
          23,
          35,
          20,
          35,
          22,
          21,
          22,
          35,
          24,
          18,
          19,
          21,
          21,
          23,
          22,
          22,
          21,
          21,
          56,
          19,
          24,
          22,
          65,
          17,
          40,
          33,
          22,
          24,
          26,
          55,
          26,
          27,
          22,
          19,
          22,
          20,
          25,
          25,
          18,
          25,
          19,
          24,
          21,
          18,
          14,
          25,
          33,
          23,
          14,
          38,
          23,
          26,
          24,
          21,
          18,
          28,
          22,
          21,
          21,
          21,
          17,
          24,
          22,
          32,
          22,
          20,
          22,
          28,
          22,
          17,
          30,
          22,
          14,
          20,
          22,
          16,
          22,
          22,
          22,
          22,
          21,
          23,
          23,
          48,
          21,
          47,
          48,
          26,
          47,
          47,
          27,
          34,
          20,
          22,
          23,
          20,
          48,
          20,
          20,
          22,
          22,
          20,
          24,
          23,
          20,
          16,
          50,
          47,
          24,
          38,
          50,
          49,
          47,
          48,
          51,
          50,
          47,
          27,
          40,
          46,
          21,
          47,
          20,
          47,
          48,
          49,
          21,
          32,
          47,
          50,
          48,
          21,
          47,
          36,
          37,
          19,
          30,
          48,
          48,
          48,
          47,
          47,
          48,
          21,
          48,
          21,
          20,
          20,
          20,
          21,
          20,
          47,
          35,
          23,
          21,
          21,
          37,
          48,
          47,
          25,
          22,
          45,
          47,
          47,
          24,
          21,
          22,
          19,
          21,
          22,
          20,
          42,
          35,
          38,
          17,
          32,
          21,
          22,
          27,
          21,
          27,
          20,
          27,
          24,
          26,
          20,
          31,
          21,
          34,
          22,
          20,
          23,
          48,
          37,
          22,
          50,
          21,
          23,
          21,
          22,
          22,
          22,
          19,
          23,
          46,
          21,
          24,
          20,
          25,
          21,
          23,
          22,
          36,
          22,
          69,
          25,
          22,
          23,
          23,
          19,
          21,
          27,
          25,
          20,
          34,
          23,
          34,
          26,
          25,
          22,
          20,
          23,
          91,
          22,
          23,
          21,
          36,
          21,
          22,
          22,
          22,
          20,
          26,
          21,
          20,
          21,
          19,
          20,
          22,
          23,
          21,
          21,
          22,
          26,
          22,
          17,
          23,
          21,
          22,
          20,
          24,
          22,
          24,
          22,
          26,
          24,
          22,
          25,
          21,
          20,
          22,
          25,
          17,
          22,
          26,
          22,
          23,
          25,
          21,
          30,
          23,
          22,
          21,
          20,
          18,
          20,
          15,
          22,
          17,
          21,
          22,
          23,
          24,
          21,
          22,
          22,
          21,
          21,
          18,
          19,
          22,
          21,
          21,
          22,
          21,
          23,
          19,
          26,
          27,
          25,
          20,
          20,
          22,
          18,
          22,
          20,
          24,
          21,
          29,
          21,
          19,
          21,
          43,
          22,
          24,
          18,
          19,
          37,
          24,
          29,
          19,
          35,
          22,
          23,
          22,
          25,
          19,
          29,
          21,
          21,
          22,
          23,
          22,
          20,
          22,
          27,
          24,
          21,
          23,
          21,
          23,
          24,
          21,
          30,
          23,
          22,
          29,
          20,
          26.7,
          24,
          26,
          22,
          23,
          19,
          21,
          20,
          22,
          22,
          23,
          22,
          20,
          27,
          22,
          21,
          21,
          24,
          19,
          52,
          26,
          44,
          44,
          19,
          35,
          21,
          20,
          24,
          21,
          24,
          21,
          17,
          26,
          18,
          18,
          18,
          23,
          20,
          23,
          25,
          26,
          20,
          19,
          17,
          24,
          29,
          30,
          21,
          23,
          21,
          20,
          21,
          22,
          22,
          22,
          27,
          21,
          23,
          22,
          21,
          23,
          21,
          20,
          23,
          22,
          20,
          21,
          25,
          21,
          28,
          22,
          60,
          49,
          34,
          56,
          51,
          23,
          21,
          50,
          22,
          28,
          13,
          14,
          13,
          23,
          18,
          18,
          15,
          20,
          20,
          35,
          26,
          30,
          32,
          24,
          26,
          29,
          21,
          53
         ],
         "y0": " ",
         "yaxis": "y"
        }
       ],
       "layout": {
        "height": 600,
        "legend": {
         "tracegroupgap": 0
        },
        "template": {
         "data": {
          "bar": [
           {
            "error_x": {
             "color": "#2a3f5f"
            },
            "error_y": {
             "color": "#2a3f5f"
            },
            "marker": {
             "line": {
              "color": "#E5ECF6",
              "width": 0.5
             },
             "pattern": {
              "fillmode": "overlay",
              "size": 10,
              "solidity": 0.2
             }
            },
            "type": "bar"
           }
          ],
          "barpolar": [
           {
            "marker": {
             "line": {
              "color": "#E5ECF6",
              "width": 0.5
             },
             "pattern": {
              "fillmode": "overlay",
              "size": 10,
              "solidity": 0.2
             }
            },
            "type": "barpolar"
           }
          ],
          "carpet": [
           {
            "aaxis": {
             "endlinecolor": "#2a3f5f",
             "gridcolor": "white",
             "linecolor": "white",
             "minorgridcolor": "white",
             "startlinecolor": "#2a3f5f"
            },
            "baxis": {
             "endlinecolor": "#2a3f5f",
             "gridcolor": "white",
             "linecolor": "white",
             "minorgridcolor": "white",
             "startlinecolor": "#2a3f5f"
            },
            "type": "carpet"
           }
          ],
          "choropleth": [
           {
            "colorbar": {
             "outlinewidth": 0,
             "ticks": ""
            },
            "type": "choropleth"
           }
          ],
          "contour": [
           {
            "colorbar": {
             "outlinewidth": 0,
             "ticks": ""
            },
            "colorscale": [
             [
              0,
              "#0d0887"
             ],
             [
              0.1111111111111111,
              "#46039f"
             ],
             [
              0.2222222222222222,
              "#7201a8"
             ],
             [
              0.3333333333333333,
              "#9c179e"
             ],
             [
              0.4444444444444444,
              "#bd3786"
             ],
             [
              0.5555555555555556,
              "#d8576b"
             ],
             [
              0.6666666666666666,
              "#ed7953"
             ],
             [
              0.7777777777777778,
              "#fb9f3a"
             ],
             [
              0.8888888888888888,
              "#fdca26"
             ],
             [
              1,
              "#f0f921"
             ]
            ],
            "type": "contour"
           }
          ],
          "contourcarpet": [
           {
            "colorbar": {
             "outlinewidth": 0,
             "ticks": ""
            },
            "type": "contourcarpet"
           }
          ],
          "heatmap": [
           {
            "colorbar": {
             "outlinewidth": 0,
             "ticks": ""
            },
            "colorscale": [
             [
              0,
              "#0d0887"
             ],
             [
              0.1111111111111111,
              "#46039f"
             ],
             [
              0.2222222222222222,
              "#7201a8"
             ],
             [
              0.3333333333333333,
              "#9c179e"
             ],
             [
              0.4444444444444444,
              "#bd3786"
             ],
             [
              0.5555555555555556,
              "#d8576b"
             ],
             [
              0.6666666666666666,
              "#ed7953"
             ],
             [
              0.7777777777777778,
              "#fb9f3a"
             ],
             [
              0.8888888888888888,
              "#fdca26"
             ],
             [
              1,
              "#f0f921"
             ]
            ],
            "type": "heatmap"
           }
          ],
          "heatmapgl": [
           {
            "colorbar": {
             "outlinewidth": 0,
             "ticks": ""
            },
            "colorscale": [
             [
              0,
              "#0d0887"
             ],
             [
              0.1111111111111111,
              "#46039f"
             ],
             [
              0.2222222222222222,
              "#7201a8"
             ],
             [
              0.3333333333333333,
              "#9c179e"
             ],
             [
              0.4444444444444444,
              "#bd3786"
             ],
             [
              0.5555555555555556,
              "#d8576b"
             ],
             [
              0.6666666666666666,
              "#ed7953"
             ],
             [
              0.7777777777777778,
              "#fb9f3a"
             ],
             [
              0.8888888888888888,
              "#fdca26"
             ],
             [
              1,
              "#f0f921"
             ]
            ],
            "type": "heatmapgl"
           }
          ],
          "histogram": [
           {
            "marker": {
             "pattern": {
              "fillmode": "overlay",
              "size": 10,
              "solidity": 0.2
             }
            },
            "type": "histogram"
           }
          ],
          "histogram2d": [
           {
            "colorbar": {
             "outlinewidth": 0,
             "ticks": ""
            },
            "colorscale": [
             [
              0,
              "#0d0887"
             ],
             [
              0.1111111111111111,
              "#46039f"
             ],
             [
              0.2222222222222222,
              "#7201a8"
             ],
             [
              0.3333333333333333,
              "#9c179e"
             ],
             [
              0.4444444444444444,
              "#bd3786"
             ],
             [
              0.5555555555555556,
              "#d8576b"
             ],
             [
              0.6666666666666666,
              "#ed7953"
             ],
             [
              0.7777777777777778,
              "#fb9f3a"
             ],
             [
              0.8888888888888888,
              "#fdca26"
             ],
             [
              1,
              "#f0f921"
             ]
            ],
            "type": "histogram2d"
           }
          ],
          "histogram2dcontour": [
           {
            "colorbar": {
             "outlinewidth": 0,
             "ticks": ""
            },
            "colorscale": [
             [
              0,
              "#0d0887"
             ],
             [
              0.1111111111111111,
              "#46039f"
             ],
             [
              0.2222222222222222,
              "#7201a8"
             ],
             [
              0.3333333333333333,
              "#9c179e"
             ],
             [
              0.4444444444444444,
              "#bd3786"
             ],
             [
              0.5555555555555556,
              "#d8576b"
             ],
             [
              0.6666666666666666,
              "#ed7953"
             ],
             [
              0.7777777777777778,
              "#fb9f3a"
             ],
             [
              0.8888888888888888,
              "#fdca26"
             ],
             [
              1,
              "#f0f921"
             ]
            ],
            "type": "histogram2dcontour"
           }
          ],
          "mesh3d": [
           {
            "colorbar": {
             "outlinewidth": 0,
             "ticks": ""
            },
            "type": "mesh3d"
           }
          ],
          "parcoords": [
           {
            "line": {
             "colorbar": {
              "outlinewidth": 0,
              "ticks": ""
             }
            },
            "type": "parcoords"
           }
          ],
          "pie": [
           {
            "automargin": true,
            "type": "pie"
           }
          ],
          "scatter": [
           {
            "fillpattern": {
             "fillmode": "overlay",
             "size": 10,
             "solidity": 0.2
            },
            "type": "scatter"
           }
          ],
          "scatter3d": [
           {
            "line": {
             "colorbar": {
              "outlinewidth": 0,
              "ticks": ""
             }
            },
            "marker": {
             "colorbar": {
              "outlinewidth": 0,
              "ticks": ""
             }
            },
            "type": "scatter3d"
           }
          ],
          "scattercarpet": [
           {
            "marker": {
             "colorbar": {
              "outlinewidth": 0,
              "ticks": ""
             }
            },
            "type": "scattercarpet"
           }
          ],
          "scattergeo": [
           {
            "marker": {
             "colorbar": {
              "outlinewidth": 0,
              "ticks": ""
             }
            },
            "type": "scattergeo"
           }
          ],
          "scattergl": [
           {
            "marker": {
             "colorbar": {
              "outlinewidth": 0,
              "ticks": ""
             }
            },
            "type": "scattergl"
           }
          ],
          "scattermapbox": [
           {
            "marker": {
             "colorbar": {
              "outlinewidth": 0,
              "ticks": ""
             }
            },
            "type": "scattermapbox"
           }
          ],
          "scatterpolar": [
           {
            "marker": {
             "colorbar": {
              "outlinewidth": 0,
              "ticks": ""
             }
            },
            "type": "scatterpolar"
           }
          ],
          "scatterpolargl": [
           {
            "marker": {
             "colorbar": {
              "outlinewidth": 0,
              "ticks": ""
             }
            },
            "type": "scatterpolargl"
           }
          ],
          "scatterternary": [
           {
            "marker": {
             "colorbar": {
              "outlinewidth": 0,
              "ticks": ""
             }
            },
            "type": "scatterternary"
           }
          ],
          "surface": [
           {
            "colorbar": {
             "outlinewidth": 0,
             "ticks": ""
            },
            "colorscale": [
             [
              0,
              "#0d0887"
             ],
             [
              0.1111111111111111,
              "#46039f"
             ],
             [
              0.2222222222222222,
              "#7201a8"
             ],
             [
              0.3333333333333333,
              "#9c179e"
             ],
             [
              0.4444444444444444,
              "#bd3786"
             ],
             [
              0.5555555555555556,
              "#d8576b"
             ],
             [
              0.6666666666666666,
              "#ed7953"
             ],
             [
              0.7777777777777778,
              "#fb9f3a"
             ],
             [
              0.8888888888888888,
              "#fdca26"
             ],
             [
              1,
              "#f0f921"
             ]
            ],
            "type": "surface"
           }
          ],
          "table": [
           {
            "cells": {
             "fill": {
              "color": "#EBF0F8"
             },
             "line": {
              "color": "white"
             }
            },
            "header": {
             "fill": {
              "color": "#C8D4E3"
             },
             "line": {
              "color": "white"
             }
            },
            "type": "table"
           }
          ]
         },
         "layout": {
          "annotationdefaults": {
           "arrowcolor": "#2a3f5f",
           "arrowhead": 0,
           "arrowwidth": 1
          },
          "autotypenumbers": "strict",
          "coloraxis": {
           "colorbar": {
            "outlinewidth": 0,
            "ticks": ""
           }
          },
          "colorscale": {
           "diverging": [
            [
             0,
             "#8e0152"
            ],
            [
             0.1,
             "#c51b7d"
            ],
            [
             0.2,
             "#de77ae"
            ],
            [
             0.3,
             "#f1b6da"
            ],
            [
             0.4,
             "#fde0ef"
            ],
            [
             0.5,
             "#f7f7f7"
            ],
            [
             0.6,
             "#e6f5d0"
            ],
            [
             0.7,
             "#b8e186"
            ],
            [
             0.8,
             "#7fbc41"
            ],
            [
             0.9,
             "#4d9221"
            ],
            [
             1,
             "#276419"
            ]
           ],
           "sequential": [
            [
             0,
             "#0d0887"
            ],
            [
             0.1111111111111111,
             "#46039f"
            ],
            [
             0.2222222222222222,
             "#7201a8"
            ],
            [
             0.3333333333333333,
             "#9c179e"
            ],
            [
             0.4444444444444444,
             "#bd3786"
            ],
            [
             0.5555555555555556,
             "#d8576b"
            ],
            [
             0.6666666666666666,
             "#ed7953"
            ],
            [
             0.7777777777777778,
             "#fb9f3a"
            ],
            [
             0.8888888888888888,
             "#fdca26"
            ],
            [
             1,
             "#f0f921"
            ]
           ],
           "sequentialminus": [
            [
             0,
             "#0d0887"
            ],
            [
             0.1111111111111111,
             "#46039f"
            ],
            [
             0.2222222222222222,
             "#7201a8"
            ],
            [
             0.3333333333333333,
             "#9c179e"
            ],
            [
             0.4444444444444444,
             "#bd3786"
            ],
            [
             0.5555555555555556,
             "#d8576b"
            ],
            [
             0.6666666666666666,
             "#ed7953"
            ],
            [
             0.7777777777777778,
             "#fb9f3a"
            ],
            [
             0.8888888888888888,
             "#fdca26"
            ],
            [
             1,
             "#f0f921"
            ]
           ]
          },
          "colorway": [
           "#636efa",
           "#EF553B",
           "#00cc96",
           "#ab63fa",
           "#FFA15A",
           "#19d3f3",
           "#FF6692",
           "#B6E880",
           "#FF97FF",
           "#FECB52"
          ],
          "font": {
           "color": "#2a3f5f"
          },
          "geo": {
           "bgcolor": "white",
           "lakecolor": "white",
           "landcolor": "#E5ECF6",
           "showlakes": true,
           "showland": true,
           "subunitcolor": "white"
          },
          "hoverlabel": {
           "align": "left"
          },
          "hovermode": "closest",
          "mapbox": {
           "style": "light"
          },
          "paper_bgcolor": "white",
          "plot_bgcolor": "#E5ECF6",
          "polar": {
           "angularaxis": {
            "gridcolor": "white",
            "linecolor": "white",
            "ticks": ""
           },
           "bgcolor": "#E5ECF6",
           "radialaxis": {
            "gridcolor": "white",
            "linecolor": "white",
            "ticks": ""
           }
          },
          "scene": {
           "xaxis": {
            "backgroundcolor": "#E5ECF6",
            "gridcolor": "white",
            "gridwidth": 2,
            "linecolor": "white",
            "showbackground": true,
            "ticks": "",
            "zerolinecolor": "white"
           },
           "yaxis": {
            "backgroundcolor": "#E5ECF6",
            "gridcolor": "white",
            "gridwidth": 2,
            "linecolor": "white",
            "showbackground": true,
            "ticks": "",
            "zerolinecolor": "white"
           },
           "zaxis": {
            "backgroundcolor": "#E5ECF6",
            "gridcolor": "white",
            "gridwidth": 2,
            "linecolor": "white",
            "showbackground": true,
            "ticks": "",
            "zerolinecolor": "white"
           }
          },
          "shapedefaults": {
           "line": {
            "color": "#2a3f5f"
           }
          },
          "ternary": {
           "aaxis": {
            "gridcolor": "white",
            "linecolor": "white",
            "ticks": ""
           },
           "baxis": {
            "gridcolor": "white",
            "linecolor": "white",
            "ticks": ""
           },
           "bgcolor": "#E5ECF6",
           "caxis": {
            "gridcolor": "white",
            "linecolor": "white",
            "ticks": ""
           }
          },
          "title": {
           "x": 0.05
          },
          "xaxis": {
           "automargin": true,
           "gridcolor": "white",
           "linecolor": "white",
           "ticks": "",
           "title": {
            "standoff": 15
           },
           "zerolinecolor": "white",
           "zerolinewidth": 2
          },
          "yaxis": {
           "automargin": true,
           "gridcolor": "white",
           "linecolor": "white",
           "ticks": "",
           "title": {
            "standoff": 15
           },
           "zerolinecolor": "white",
           "zerolinewidth": 2
          }
         }
        },
        "title": {
         "text": "Age relation to using social media"
        },
        "violinmode": "group",
        "width": 800,
        "xaxis": {
         "anchor": "y",
         "autorange": true,
         "domain": [
          0,
          1
         ],
         "range": [
          -0.5,
          1.5
         ],
         "title": {
          "text": "6. Do you use social media?"
         },
         "type": "category"
        },
        "yaxis": {
         "anchor": "x",
         "autorange": true,
         "domain": [
          0,
          1
         ],
         "range": [
          -12.560806489530568,
          98.85645354858062
         ],
         "title": {
          "text": "1. What is your age?"
         },
         "type": "linear"
        }
       }
      },
      "image/png": "[encoded data removed]",
      "text/html": [
       "<div>                            <div id=\"8ecdc4d4-dfd0-45f5-b5d5-36419b7af3f5\" class=\"plotly-graph-div\" style=\"height:600px; width:800px;\"></div>            <script type=\"text/javascript\">                require([\"plotly\"], function(Plotly) {                    window.PLOTLYENV=window.PLOTLYENV || {};                                    if (document.getElementById(\"8ecdc4d4-dfd0-45f5-b5d5-36419b7af3f5\")) {                    Plotly.newPlot(                        \"8ecdc4d4-dfd0-45f5-b5d5-36419b7af3f5\",                        [{\"alignmentgroup\":\"True\",\"box\":{\"visible\":false},\"hovertemplate\":\"6. Do you use social media?=%{x}\\u003cbr\\u003e1. What is your age?=%{y}\\u003cextra\\u003e\\u003c\\u002fextra\\u003e\",\"legendgroup\":\"\",\"marker\":{\"color\":\"#636efa\"},\"name\":\"\",\"offsetgroup\":\"\",\"orientation\":\"v\",\"scalegroup\":\"True\",\"showlegend\":false,\"x\":[\"Yes\",\"Yes\",\"Yes\",\"Yes\",\"Yes\",\"Yes\",\"Yes\",\"Yes\",\"Yes\",\"No\",\"Yes\",\"Yes\",\"Yes\",\"Yes\",\"Yes\",\"Yes\",\"Yes\",\"Yes\",\"Yes\",\"Yes\",\"Yes\",\"Yes\",\"Yes\",\"Yes\",\"Yes\",\"Yes\",\"Yes\",\"Yes\",\"Yes\",\"Yes\",\"Yes\",\"Yes\",\"Yes\",\"Yes\",\"Yes\",\"Yes\",\"Yes\",\"Yes\",\"Yes\",\"Yes\",\"Yes\",\"Yes\",\"Yes\",\"Yes\",\"Yes\",\"Yes\",\"Yes\",\"Yes\",\"Yes\",\"Yes\",\"Yes\",\"Yes\",\"Yes\",\"Yes\",\"No\",\"Yes\",\"Yes\",\"Yes\",\"Yes\",\"Yes\",\"Yes\",\"Yes\",\"Yes\",\"Yes\",\"Yes\",\"Yes\",\"Yes\",\"Yes\",\"Yes\",\"Yes\",\"Yes\",\"Yes\",\"Yes\",\"Yes\",\"Yes\",\"Yes\",\"Yes\",\"Yes\",\"Yes\",\"Yes\",\"Yes\",\"Yes\",\"Yes\",\"Yes\",\"Yes\",\"Yes\",\"Yes\",\"Yes\",\"Yes\",\"Yes\",\"Yes\",\"Yes\",\"Yes\",\"Yes\",\"Yes\",\"Yes\",\"Yes\",\"Yes\",\"Yes\",\"Yes\",\"Yes\",\"Yes\",\"Yes\",\"Yes\",\"Yes\",\"Yes\",\"Yes\",\"Yes\",\"Yes\",\"Yes\",\"Yes\",\"Yes\",\"Yes\",\"Yes\",\"Yes\",\"Yes\",\"Yes\",\"Yes\",\"Yes\",\"Yes\",\"Yes\",\"Yes\",\"Yes\",\"Yes\",\"Yes\",\"Yes\",\"Yes\",\"Yes\",\"Yes\",\"Yes\",\"Yes\",\"Yes\",\"Yes\",\"Yes\",\"No\",\"Yes\",\"Yes\",\"Yes\",\"Yes\",\"Yes\",\"Yes\",\"Yes\",\"Yes\",\"Yes\",\"Yes\",\"Yes\",\"Yes\",\"Yes\",\"Yes\",\"Yes\",\"Yes\",\"Yes\",\"Yes\",\"Yes\",\"Yes\",\"Yes\",\"Yes\",\"Yes\",\"Yes\",\"Yes\",\"Yes\",\"Yes\",\"Yes\",\"Yes\",\"Yes\",\"Yes\",\"Yes\",\"Yes\",\"Yes\",\"Yes\",\"Yes\",\"Yes\",\"Yes\",\"Yes\",\"Yes\",\"Yes\",\"Yes\",\"Yes\",\"Yes\",\"Yes\",\"Yes\",\"Yes\",\"Yes\",\"Yes\",\"Yes\",\"Yes\",\"Yes\",\"Yes\",\"Yes\",\"Yes\",\"Yes\",\"Yes\",\"Yes\",\"Yes\",\"Yes\",\"Yes\",\"Yes\",\"Yes\",\"Yes\",\"Yes\",\"Yes\",\"Yes\",\"Yes\",\"Yes\",\"Yes\",\"Yes\",\"Yes\",\"Yes\",\"Yes\",\"Yes\",\"Yes\",\"Yes\",\"Yes\",\"Yes\",\"Yes\",\"Yes\",\"Yes\",\"Yes\",\"Yes\",\"Yes\",\"Yes\",\"Yes\",\"Yes\",\"Yes\",\"Yes\",\"Yes\",\"Yes\",\"Yes\",\"Yes\",\"Yes\",\"Yes\",\"Yes\",\"Yes\",\"Yes\",\"Yes\",\"Yes\",\"Yes\",\"Yes\",\"Yes\",\"Yes\",\"Yes\",\"Yes\",\"Yes\",\"Yes\",\"Yes\",\"Yes\",\"Yes\",\"Yes\",\"Yes\",\"Yes\",\"Yes\",\"Yes\",\"Yes\",\"Yes\",\"Yes\",\"Yes\",\"Yes\",\"Yes\",\"Yes\",\"Yes\",\"Yes\",\"Yes\",\"Yes\",\"Yes\",\"Yes\",\"Yes\",\"Yes\",\"Yes\",\"Yes\",\"Yes\",\"Yes\",\"Yes\",\"Yes\",\"Yes\",\"Yes\",\"Yes\",\"Yes\",\"Yes\",\"Yes\",\"Yes\",\"Yes\",\"Yes\",\"Yes\",\"Yes\",\"Yes\",\"Yes\",\"Yes\",\"Yes\",\"Yes\",\"Yes\",\"Yes\",\"Yes\",\"Yes\",\"Yes\",\"Yes\",\"Yes\",\"Yes\",\"Yes\",\"Yes\",\"Yes\",\"Yes\",\"Yes\",\"Yes\",\"Yes\",\"Yes\",\"Yes\",\"Yes\",\"Yes\",\"Yes\",\"Yes\",\"Yes\",\"Yes\",\"Yes\",\"Yes\",\"Yes\",\"Yes\",\"Yes\",\"Yes\",\"Yes\",\"Yes\",\"Yes\",\"Yes\",\"Yes\",\"Yes\",\"Yes\",\"Yes\",\"Yes\",\"Yes\",\"Yes\",\"Yes\",\"Yes\",\"Yes\",\"Yes\",\"Yes\",\"Yes\",\"Yes\",\"Yes\",\"Yes\",\"Yes\",\"Yes\",\"Yes\",\"Yes\",\"Yes\",\"Yes\",\"Yes\",\"Yes\",\"Yes\",\"Yes\",\"Yes\",\"Yes\",\"Yes\",\"Yes\",\"Yes\",\"Yes\",\"Yes\",\"Yes\",\"Yes\",\"Yes\",\"Yes\",\"Yes\",\"Yes\",\"Yes\",\"Yes\",\"Yes\",\"Yes\",\"Yes\",\"Yes\",\"Yes\",\"Yes\",\"Yes\",\"Yes\",\"Yes\",\"Yes\",\"Yes\",\"Yes\",\"Yes\",\"Yes\",\"Yes\",\"Yes\",\"Yes\",\"Yes\",\"Yes\",\"Yes\",\"Yes\",\"Yes\",\"Yes\",\"Yes\",\"Yes\",\"Yes\",\"Yes\",\"Yes\",\"Yes\",\"Yes\",\"Yes\",\"Yes\",\"Yes\",\"Yes\",\"Yes\",\"Yes\",\"Yes\",\"Yes\",\"Yes\",\"Yes\",\"Yes\",\"Yes\",\"Yes\",\"Yes\",\"Yes\",\"Yes\",\"Yes\",\"Yes\",\"Yes\",\"Yes\",\"Yes\",\"Yes\",\"Yes\",\"Yes\",\"Yes\",\"Yes\",\"Yes\",\"Yes\",\"Yes\",\"Yes\",\"Yes\",\"Yes\",\"Yes\",\"Yes\",\"Yes\",\"Yes\",\"Yes\",\"Yes\",\"Yes\",\"Yes\",\"Yes\",\"Yes\",\"Yes\",\"Yes\",\"Yes\",\"Yes\",\"Yes\",\"Yes\",\"Yes\",\"Yes\",\"Yes\",\"Yes\",\"Yes\",\"Yes\",\"Yes\",\"Yes\",\"Yes\",\"Yes\",\"Yes\",\"Yes\",\"Yes\",\"Yes\",\"Yes\",\"Yes\",\"Yes\",\"Yes\",\"Yes\",\"Yes\",\"Yes\",\"Yes\",\"Yes\",\"Yes\",\"Yes\",\"Yes\",\"Yes\",\"Yes\",\"Yes\",\"Yes\",\"Yes\",\"Yes\",\"Yes\",\"Yes\",\"Yes\",\"Yes\",\"Yes\",\"Yes\",\"Yes\",\"Yes\"],\"x0\":\" \",\"xaxis\":\"x\",\"y\":[21.0,21.0,21.0,21.0,21.0,22.0,21.0,21.0,21.0,20.0,24.0,21.0,22.0,21.0,22.0,23.0,21.0,25.0,28.0,34.0,22.0,23.0,26.0,23.0,23.0,35.0,20.0,35.0,22.0,21.0,22.0,35.0,24.0,18.0,19.0,21.0,21.0,23.0,22.0,22.0,21.0,21.0,56.0,19.0,24.0,22.0,65.0,17.0,40.0,33.0,22.0,24.0,26.0,55.0,26.0,27.0,22.0,19.0,22.0,20.0,25.0,25.0,18.0,25.0,19.0,24.0,21.0,18.0,14.0,25.0,33.0,23.0,14.0,38.0,23.0,26.0,24.0,21.0,18.0,28.0,22.0,21.0,21.0,21.0,17.0,24.0,22.0,32.0,22.0,20.0,22.0,28.0,22.0,17.0,30.0,22.0,14.0,20.0,22.0,16.0,22.0,22.0,22.0,22.0,21.0,23.0,23.0,48.0,21.0,47.0,48.0,26.0,47.0,47.0,27.0,34.0,20.0,22.0,23.0,20.0,48.0,20.0,20.0,22.0,22.0,20.0,24.0,23.0,20.0,16.0,50.0,47.0,24.0,38.0,50.0,49.0,47.0,48.0,51.0,50.0,47.0,27.0,40.0,46.0,21.0,47.0,20.0,47.0,48.0,49.0,21.0,32.0,47.0,50.0,48.0,21.0,47.0,36.0,37.0,19.0,30.0,48.0,48.0,48.0,47.0,47.0,48.0,21.0,48.0,21.0,20.0,20.0,20.0,21.0,20.0,47.0,35.0,23.0,21.0,21.0,37.0,48.0,47.0,25.0,22.0,45.0,47.0,47.0,24.0,21.0,22.0,19.0,21.0,22.0,20.0,42.0,35.0,38.0,17.0,32.0,21.0,22.0,27.0,21.0,27.0,20.0,27.0,24.0,26.0,20.0,31.0,21.0,34.0,22.0,20.0,23.0,48.0,37.0,22.0,50.0,21.0,23.0,21.0,22.0,22.0,22.0,19.0,23.0,46.0,21.0,24.0,20.0,25.0,21.0,23.0,22.0,36.0,22.0,69.0,25.0,22.0,23.0,23.0,19.0,21.0,27.0,25.0,20.0,34.0,23.0,34.0,26.0,25.0,22.0,20.0,23.0,91.0,22.0,23.0,21.0,36.0,21.0,22.0,22.0,22.0,20.0,26.0,21.0,20.0,21.0,19.0,20.0,22.0,23.0,21.0,21.0,22.0,26.0,22.0,17.0,23.0,21.0,22.0,20.0,24.0,22.0,24.0,22.0,26.0,24.0,22.0,25.0,21.0,20.0,22.0,25.0,17.0,22.0,26.0,22.0,23.0,25.0,21.0,30.0,23.0,22.0,21.0,20.0,18.0,20.0,15.0,22.0,17.0,21.0,22.0,23.0,24.0,21.0,22.0,22.0,21.0,21.0,18.0,19.0,22.0,21.0,21.0,22.0,21.0,23.0,19.0,26.0,27.0,25.0,20.0,20.0,22.0,18.0,22.0,20.0,24.0,21.0,29.0,21.0,19.0,21.0,43.0,22.0,24.0,18.0,19.0,37.0,24.0,29.0,19.0,35.0,22.0,23.0,22.0,25.0,19.0,29.0,21.0,21.0,22.0,23.0,22.0,20.0,22.0,27.0,24.0,21.0,23.0,21.0,23.0,24.0,21.0,30.0,23.0,22.0,29.0,20.0,26.7,24.0,26.0,22.0,23.0,19.0,21.0,20.0,22.0,22.0,23.0,22.0,20.0,27.0,22.0,21.0,21.0,24.0,19.0,52.0,26.0,44.0,44.0,19.0,35.0,21.0,20.0,24.0,21.0,24.0,21.0,17.0,26.0,18.0,18.0,18.0,23.0,20.0,23.0,25.0,26.0,20.0,19.0,17.0,24.0,29.0,30.0,21.0,23.0,21.0,20.0,21.0,22.0,22.0,22.0,27.0,21.0,23.0,22.0,21.0,23.0,21.0,20.0,23.0,22.0,20.0,21.0,25.0,21.0,28.0,22.0,60.0,49.0,34.0,56.0,51.0,23.0,21.0,50.0,22.0,28.0,13.0,14.0,13.0,23.0,18.0,18.0,15.0,20.0,20.0,35.0,26.0,30.0,32.0,24.0,26.0,29.0,21.0,53.0],\"y0\":\" \",\"yaxis\":\"y\",\"type\":\"violin\"}],                        {\"template\":{\"data\":{\"histogram2dcontour\":[{\"type\":\"histogram2dcontour\",\"colorbar\":{\"outlinewidth\":0,\"ticks\":\"\"},\"colorscale\":[[0.0,\"#0d0887\"],[0.1111111111111111,\"#46039f\"],[0.2222222222222222,\"#7201a8\"],[0.3333333333333333,\"#9c179e\"],[0.4444444444444444,\"#bd3786\"],[0.5555555555555556,\"#d8576b\"],[0.6666666666666666,\"#ed7953\"],[0.7777777777777778,\"#fb9f3a\"],[0.8888888888888888,\"#fdca26\"],[1.0,\"#f0f921\"]]}],\"choropleth\":[{\"type\":\"choropleth\",\"colorbar\":{\"outlinewidth\":0,\"ticks\":\"\"}}],\"histogram2d\":[{\"type\":\"histogram2d\",\"colorbar\":{\"outlinewidth\":0,\"ticks\":\"\"},\"colorscale\":[[0.0,\"#0d0887\"],[0.1111111111111111,\"#46039f\"],[0.2222222222222222,\"#7201a8\"],[0.3333333333333333,\"#9c179e\"],[0.4444444444444444,\"#bd3786\"],[0.5555555555555556,\"#d8576b\"],[0.6666666666666666,\"#ed7953\"],[0.7777777777777778,\"#fb9f3a\"],[0.8888888888888888,\"#fdca26\"],[1.0,\"#f0f921\"]]}],\"heatmap\":[{\"type\":\"heatmap\",\"colorbar\":{\"outlinewidth\":0,\"ticks\":\"\"},\"colorscale\":[[0.0,\"#0d0887\"],[0.1111111111111111,\"#46039f\"],[0.2222222222222222,\"#7201a8\"],[0.3333333333333333,\"#9c179e\"],[0.4444444444444444,\"#bd3786\"],[0.5555555555555556,\"#d8576b\"],[0.6666666666666666,\"#ed7953\"],[0.7777777777777778,\"#fb9f3a\"],[0.8888888888888888,\"#fdca26\"],[1.0,\"#f0f921\"]]}],\"heatmapgl\":[{\"type\":\"heatmapgl\",\"colorbar\":{\"outlinewidth\":0,\"ticks\":\"\"},\"colorscale\":[[0.0,\"#0d0887\"],[0.1111111111111111,\"#46039f\"],[0.2222222222222222,\"#7201a8\"],[0.3333333333333333,\"#9c179e\"],[0.4444444444444444,\"#bd3786\"],[0.5555555555555556,\"#d8576b\"],[0.6666666666666666,\"#ed7953\"],[0.7777777777777778,\"#fb9f3a\"],[0.8888888888888888,\"#fdca26\"],[1.0,\"#f0f921\"]]}],\"contourcarpet\":[{\"type\":\"contourcarpet\",\"colorbar\":{\"outlinewidth\":0,\"ticks\":\"\"}}],\"contour\":[{\"type\":\"contour\",\"colorbar\":{\"outlinewidth\":0,\"ticks\":\"\"},\"colorscale\":[[0.0,\"#0d0887\"],[0.1111111111111111,\"#46039f\"],[0.2222222222222222,\"#7201a8\"],[0.3333333333333333,\"#9c179e\"],[0.4444444444444444,\"#bd3786\"],[0.5555555555555556,\"#d8576b\"],[0.6666666666666666,\"#ed7953\"],[0.7777777777777778,\"#fb9f3a\"],[0.8888888888888888,\"#fdca26\"],[1.0,\"#f0f921\"]]}],\"surface\":[{\"type\":\"surface\",\"colorbar\":{\"outlinewidth\":0,\"ticks\":\"\"},\"colorscale\":[[0.0,\"#0d0887\"],[0.1111111111111111,\"#46039f\"],[0.2222222222222222,\"#7201a8\"],[0.3333333333333333,\"#9c179e\"],[0.4444444444444444,\"#bd3786\"],[0.5555555555555556,\"#d8576b\"],[0.6666666666666666,\"#ed7953\"],[0.7777777777777778,\"#fb9f3a\"],[0.8888888888888888,\"#fdca26\"],[1.0,\"#f0f921\"]]}],\"mesh3d\":[{\"type\":\"mesh3d\",\"colorbar\":{\"outlinewidth\":0,\"ticks\":\"\"}}],\"scatter\":[{\"fillpattern\":{\"fillmode\":\"overlay\",\"size\":10,\"solidity\":0.2},\"type\":\"scatter\"}],\"parcoords\":[{\"type\":\"parcoords\",\"line\":{\"colorbar\":{\"outlinewidth\":0,\"ticks\":\"\"}}}],\"scatterpolargl\":[{\"type\":\"scatterpolargl\",\"marker\":{\"colorbar\":{\"outlinewidth\":0,\"ticks\":\"\"}}}],\"bar\":[{\"error_x\":{\"color\":\"#2a3f5f\"},\"error_y\":{\"color\":\"#2a3f5f\"},\"marker\":{\"line\":{\"color\":\"#E5ECF6\",\"width\":0.5},\"pattern\":{\"fillmode\":\"overlay\",\"size\":10,\"solidity\":0.2}},\"type\":\"bar\"}],\"scattergeo\":[{\"type\":\"scattergeo\",\"marker\":{\"colorbar\":{\"outlinewidth\":0,\"ticks\":\"\"}}}],\"scatterpolar\":[{\"type\":\"scatterpolar\",\"marker\":{\"colorbar\":{\"outlinewidth\":0,\"ticks\":\"\"}}}],\"histogram\":[{\"marker\":{\"pattern\":{\"fillmode\":\"overlay\",\"size\":10,\"solidity\":0.2}},\"type\":\"histogram\"}],\"scattergl\":[{\"type\":\"scattergl\",\"marker\":{\"colorbar\":{\"outlinewidth\":0,\"ticks\":\"\"}}}],\"scatter3d\":[{\"type\":\"scatter3d\",\"line\":{\"colorbar\":{\"outlinewidth\":0,\"ticks\":\"\"}},\"marker\":{\"colorbar\":{\"outlinewidth\":0,\"ticks\":\"\"}}}],\"scattermapbox\":[{\"type\":\"scattermapbox\",\"marker\":{\"colorbar\":{\"outlinewidth\":0,\"ticks\":\"\"}}}],\"scatterternary\":[{\"type\":\"scatterternary\",\"marker\":{\"colorbar\":{\"outlinewidth\":0,\"ticks\":\"\"}}}],\"scattercarpet\":[{\"type\":\"scattercarpet\",\"marker\":{\"colorbar\":{\"outlinewidth\":0,\"ticks\":\"\"}}}],\"carpet\":[{\"aaxis\":{\"endlinecolor\":\"#2a3f5f\",\"gridcolor\":\"white\",\"linecolor\":\"white\",\"minorgridcolor\":\"white\",\"startlinecolor\":\"#2a3f5f\"},\"baxis\":{\"endlinecolor\":\"#2a3f5f\",\"gridcolor\":\"white\",\"linecolor\":\"white\",\"minorgridcolor\":\"white\",\"startlinecolor\":\"#2a3f5f\"},\"type\":\"carpet\"}],\"table\":[{\"cells\":{\"fill\":{\"color\":\"#EBF0F8\"},\"line\":{\"color\":\"white\"}},\"header\":{\"fill\":{\"color\":\"#C8D4E3\"},\"line\":{\"color\":\"white\"}},\"type\":\"table\"}],\"barpolar\":[{\"marker\":{\"line\":{\"color\":\"#E5ECF6\",\"width\":0.5},\"pattern\":{\"fillmode\":\"overlay\",\"size\":10,\"solidity\":0.2}},\"type\":\"barpolar\"}],\"pie\":[{\"automargin\":true,\"type\":\"pie\"}]},\"layout\":{\"autotypenumbers\":\"strict\",\"colorway\":[\"#636efa\",\"#EF553B\",\"#00cc96\",\"#ab63fa\",\"#FFA15A\",\"#19d3f3\",\"#FF6692\",\"#B6E880\",\"#FF97FF\",\"#FECB52\"],\"font\":{\"color\":\"#2a3f5f\"},\"hovermode\":\"closest\",\"hoverlabel\":{\"align\":\"left\"},\"paper_bgcolor\":\"white\",\"plot_bgcolor\":\"#E5ECF6\",\"polar\":{\"bgcolor\":\"#E5ECF6\",\"angularaxis\":{\"gridcolor\":\"white\",\"linecolor\":\"white\",\"ticks\":\"\"},\"radialaxis\":{\"gridcolor\":\"white\",\"linecolor\":\"white\",\"ticks\":\"\"}},\"ternary\":{\"bgcolor\":\"#E5ECF6\",\"aaxis\":{\"gridcolor\":\"white\",\"linecolor\":\"white\",\"ticks\":\"\"},\"baxis\":{\"gridcolor\":\"white\",\"linecolor\":\"white\",\"ticks\":\"\"},\"caxis\":{\"gridcolor\":\"white\",\"linecolor\":\"white\",\"ticks\":\"\"}},\"coloraxis\":{\"colorbar\":{\"outlinewidth\":0,\"ticks\":\"\"}},\"colorscale\":{\"sequential\":[[0.0,\"#0d0887\"],[0.1111111111111111,\"#46039f\"],[0.2222222222222222,\"#7201a8\"],[0.3333333333333333,\"#9c179e\"],[0.4444444444444444,\"#bd3786\"],[0.5555555555555556,\"#d8576b\"],[0.6666666666666666,\"#ed7953\"],[0.7777777777777778,\"#fb9f3a\"],[0.8888888888888888,\"#fdca26\"],[1.0,\"#f0f921\"]],\"sequentialminus\":[[0.0,\"#0d0887\"],[0.1111111111111111,\"#46039f\"],[0.2222222222222222,\"#7201a8\"],[0.3333333333333333,\"#9c179e\"],[0.4444444444444444,\"#bd3786\"],[0.5555555555555556,\"#d8576b\"],[0.6666666666666666,\"#ed7953\"],[0.7777777777777778,\"#fb9f3a\"],[0.8888888888888888,\"#fdca26\"],[1.0,\"#f0f921\"]],\"diverging\":[[0,\"#8e0152\"],[0.1,\"#c51b7d\"],[0.2,\"#de77ae\"],[0.3,\"#f1b6da\"],[0.4,\"#fde0ef\"],[0.5,\"#f7f7f7\"],[0.6,\"#e6f5d0\"],[0.7,\"#b8e186\"],[0.8,\"#7fbc41\"],[0.9,\"#4d9221\"],[1,\"#276419\"]]},\"xaxis\":{\"gridcolor\":\"white\",\"linecolor\":\"white\",\"ticks\":\"\",\"title\":{\"standoff\":15},\"zerolinecolor\":\"white\",\"automargin\":true,\"zerolinewidth\":2},\"yaxis\":{\"gridcolor\":\"white\",\"linecolor\":\"white\",\"ticks\":\"\",\"title\":{\"standoff\":15},\"zerolinecolor\":\"white\",\"automargin\":true,\"zerolinewidth\":2},\"scene\":{\"xaxis\":{\"backgroundcolor\":\"#E5ECF6\",\"gridcolor\":\"white\",\"linecolor\":\"white\",\"showbackground\":true,\"ticks\":\"\",\"zerolinecolor\":\"white\",\"gridwidth\":2},\"yaxis\":{\"backgroundcolor\":\"#E5ECF6\",\"gridcolor\":\"white\",\"linecolor\":\"white\",\"showbackground\":true,\"ticks\":\"\",\"zerolinecolor\":\"white\",\"gridwidth\":2},\"zaxis\":{\"backgroundcolor\":\"#E5ECF6\",\"gridcolor\":\"white\",\"linecolor\":\"white\",\"showbackground\":true,\"ticks\":\"\",\"zerolinecolor\":\"white\",\"gridwidth\":2}},\"shapedefaults\":{\"line\":{\"color\":\"#2a3f5f\"}},\"annotationdefaults\":{\"arrowcolor\":\"#2a3f5f\",\"arrowhead\":0,\"arrowwidth\":1},\"geo\":{\"bgcolor\":\"white\",\"landcolor\":\"#E5ECF6\",\"subunitcolor\":\"white\",\"showland\":true,\"showlakes\":true,\"lakecolor\":\"white\"},\"title\":{\"x\":0.05},\"mapbox\":{\"style\":\"light\"}}},\"xaxis\":{\"anchor\":\"y\",\"domain\":[0.0,1.0],\"title\":{\"text\":\"6. Do you use social media?\"}},\"yaxis\":{\"anchor\":\"x\",\"domain\":[0.0,1.0],\"title\":{\"text\":\"1. What is your age?\"}},\"legend\":{\"tracegroupgap\":0},\"title\":{\"text\":\"Age relation to using social media\"},\"violinmode\":\"group\",\"width\":800,\"height\":600},                        {\"responsive\": true}                    ).then(function(){\n",
       "                            \n",
       "var gd = document.getElementById('8ecdc4d4-dfd0-45f5-b5d5-36419b7af3f5');\n",
       "var x = new MutationObserver(function (mutations, observer) {{\n",
       "        var display = window.getComputedStyle(gd).display;\n",
       "        if (!display || display === 'none') {{\n",
       "            console.log([gd, 'removed!']);\n",
       "            Plotly.purge(gd);\n",
       "            observer.disconnect();\n",
       "        }}\n",
       "}});\n",
       "\n",
       "// Listen for the removal of the full notebook cells\n",
       "var notebookContainer = gd.closest('#notebook-container');\n",
       "if (notebookContainer) {{\n",
       "    x.observe(notebookContainer, {childList: true});\n",
       "}}\n",
       "\n",
       "// Listen for the clearing of the current output cell\n",
       "var outputEl = gd.closest('.output');\n",
       "if (outputEl) {{\n",
       "    x.observe(outputEl, {childList: true});\n",
       "}}\n",
       "\n",
       "                        })                };                });            </script>        </div>"
      ]
     },
     "metadata": {},
     "output_type": "display_data"
    },
    {
     "data": {
      "application/vnd.plotly.v1+json": {
       "config": {
        "plotlyServerURL": "https://plot.ly"
       },
       "data": [
        {
         "coloraxis": "coloraxis",
         "hovertemplate": "18. How often do you feel depressed or down?=%{x}<br>8. What is the average time you spend on social media every day?=%{y}<br>count=%{z}<extra></extra>",
         "name": "",
         "type": "histogram2d",
         "x": [
          5,
          5,
          4,
          4,
          4,
          3,
          5,
          5,
          5,
          1,
          5,
          3,
          3,
          3,
          5,
          3,
          4,
          2,
          3,
          2,
          2,
          3,
          4,
          4,
          3,
          4,
          4,
          4,
          4,
          5,
          5,
          3,
          2,
          3,
          5,
          4,
          3,
          5,
          2,
          1,
          3,
          4,
          2,
          5,
          3,
          3,
          1,
          3,
          2,
          1,
          3,
          3,
          5,
          1,
          1,
          5,
          3,
          4,
          5,
          1,
          4,
          4,
          5,
          5,
          1,
          2,
          4,
          4,
          4,
          3,
          1,
          5,
          4,
          2,
          5,
          2,
          5,
          4,
          5,
          5,
          4,
          1,
          4,
          4,
          2,
          4,
          2,
          1,
          3,
          5,
          4,
          4,
          4,
          3,
          4,
          3,
          1,
          4,
          5,
          2,
          3,
          5,
          4,
          3,
          1,
          2,
          3,
          1,
          2,
          3,
          2,
          4,
          2,
          2,
          4,
          2,
          3,
          3,
          5,
          4,
          1,
          3,
          5,
          4,
          1,
          4,
          4,
          4,
          4,
          3,
          1,
          3,
          3,
          2,
          2,
          4,
          1,
          1,
          3,
          4,
          1,
          3,
          4,
          2,
          5,
          3,
          4,
          2,
          2,
          2,
          2,
          1,
          2,
          3,
          4,
          3,
          2,
          1,
          4,
          4,
          2,
          1,
          3,
          3,
          3,
          2,
          2,
          2,
          1,
          2,
          3,
          3,
          5,
          3,
          4,
          1,
          1,
          4,
          3,
          4,
          4,
          3,
          1,
          5,
          3,
          2,
          3,
          3,
          4,
          2,
          4,
          4,
          4,
          5,
          4,
          1,
          3,
          2,
          1,
          1,
          2,
          3,
          3,
          3,
          5,
          2,
          1,
          5,
          1,
          4,
          3,
          1,
          5,
          1,
          4,
          3,
          1,
          2,
          5,
          2,
          3,
          2,
          3,
          3,
          4,
          2,
          4,
          2,
          1,
          4,
          4,
          1,
          5,
          1,
          4,
          4,
          2,
          5,
          5,
          4,
          4,
          2,
          3,
          3,
          3,
          4,
          4,
          2,
          1,
          4,
          1,
          5,
          5,
          2,
          2,
          3,
          5,
          1,
          4,
          3,
          2,
          5,
          3,
          3,
          2,
          3,
          2,
          4,
          3,
          3,
          2,
          5,
          3,
          5,
          3,
          5,
          5,
          5,
          5,
          5,
          3,
          4,
          2,
          5,
          4,
          3,
          2,
          5,
          4,
          3,
          3,
          4,
          4,
          5,
          1,
          2,
          4,
          4,
          3,
          5,
          5,
          5,
          4,
          4,
          3,
          3,
          5,
          1,
          2,
          2,
          5,
          3,
          2,
          5,
          4,
          3,
          3,
          5,
          5,
          5,
          5,
          4,
          3,
          2,
          5,
          5,
          5,
          5,
          4,
          4,
          1,
          4,
          3,
          5,
          3,
          4,
          1,
          4,
          3,
          5,
          3,
          3,
          5,
          2,
          5,
          5,
          1,
          4,
          3,
          5,
          4,
          3,
          3,
          5,
          2,
          3,
          4,
          3,
          3,
          4,
          3,
          2,
          4,
          2,
          1,
          5,
          4,
          5,
          1,
          5,
          2,
          4,
          3,
          3,
          2,
          5,
          5,
          4,
          5,
          1,
          5,
          5,
          4,
          5,
          3,
          2,
          3,
          2,
          4,
          4,
          3,
          5,
          5,
          5,
          2,
          2,
          5,
          5,
          1,
          5,
          4,
          3,
          3,
          1,
          1,
          5,
          5,
          4,
          4,
          4,
          3,
          3,
          5,
          5,
          4,
          5,
          2,
          3,
          4,
          3,
          3,
          2,
          5,
          4,
          1,
          4,
          3,
          4,
          3,
          5,
          5,
          5,
          5,
          5,
          4,
          3,
          3,
          2,
          2,
          4,
          2,
          1,
          3,
          4,
          3,
          3,
          5,
          5,
          4,
          2,
          2,
          4,
          3,
          1,
          3,
          1,
          1,
          2,
          4,
          2,
          1,
          3,
          5,
          3,
          2,
          2,
          3,
          1,
          5,
          1,
          5,
          4,
          2,
          4,
          4,
          5,
          3,
          4,
          2,
          4,
          2
         ],
         "xaxis": "x",
         "xbingroup": "x",
         "y": [
          "Between 2 and 3 hours",
          "More than 5 hours",
          "Between 3 and 4 hours",
          "More than 5 hours",
          "Between 2 and 3 hours",
          "Between 2 and 3 hours",
          "Between 3 and 4 hours",
          "More than 5 hours",
          "More than 5 hours",
          "Less than an Hour",
          "Between 2 and 3 hours",
          "Between 3 and 4 hours",
          "Between 3 and 4 hours",
          "Between 3 and 4 hours",
          "More than 5 hours",
          "Between 1 and 2 hours",
          "Less than an Hour",
          "Between 4 and 5 hours",
          "Between 1 and 2 hours",
          "Between 1 and 2 hours",
          "Between 2 and 3 hours",
          "More than 5 hours",
          "Between 3 and 4 hours",
          "Between 1 and 2 hours",
          "Between 3 and 4 hours",
          "Between 3 and 4 hours",
          "Between 3 and 4 hours",
          "Between 2 and 3 hours",
          "Between 4 and 5 hours",
          "Between 3 and 4 hours",
          "Between 3 and 4 hours",
          "Between 2 and 3 hours",
          "Between 2 and 3 hours",
          "Between 2 and 3 hours",
          "Between 3 and 4 hours",
          "More than 5 hours",
          "Between 3 and 4 hours",
          "Less than an Hour",
          "Between 3 and 4 hours",
          "Between 2 and 3 hours",
          "Between 1 and 2 hours",
          "Between 3 and 4 hours",
          "Between 1 and 2 hours",
          "More than 5 hours",
          "More than 5 hours",
          "More than 5 hours",
          "Between 3 and 4 hours",
          "Between 3 and 4 hours",
          "Between 2 and 3 hours",
          "Between 3 and 4 hours",
          "Between 3 and 4 hours",
          "More than 5 hours",
          "Less than an Hour",
          "Between 1 and 2 hours",
          "Between 1 and 2 hours",
          "More than 5 hours",
          "More than 5 hours",
          "Between 2 and 3 hours",
          "Between 2 and 3 hours",
          "Between 1 and 2 hours",
          "More than 5 hours",
          "Between 1 and 2 hours",
          "More than 5 hours",
          "Between 1 and 2 hours",
          "Between 2 and 3 hours",
          "Between 1 and 2 hours",
          "Between 3 and 4 hours",
          "Between 2 and 3 hours",
          "Between 1 and 2 hours",
          "Between 3 and 4 hours",
          "Between 3 and 4 hours",
          "Between 2 and 3 hours",
          "More than 5 hours",
          "Between 1 and 2 hours",
          "Between 4 and 5 hours",
          "Less than an Hour",
          "Between 2 and 3 hours",
          "Between 3 and 4 hours",
          "Between 3 and 4 hours",
          "Between 3 and 4 hours",
          "Between 2 and 3 hours",
          "More than 5 hours",
          "More than 5 hours",
          "Between 4 and 5 hours",
          "Between 2 and 3 hours",
          "Between 2 and 3 hours",
          "Between 1 and 2 hours",
          "Between 1 and 2 hours",
          "Between 2 and 3 hours",
          "Between 2 and 3 hours",
          "Between 2 and 3 hours",
          "Between 3 and 4 hours",
          "More than 5 hours",
          "Between 4 and 5 hours",
          "Between 4 and 5 hours",
          "More than 5 hours",
          "Between 4 and 5 hours",
          "More than 5 hours",
          "More than 5 hours",
          "Between 4 and 5 hours",
          "Between 2 and 3 hours",
          "Between 1 and 2 hours",
          "Between 3 and 4 hours",
          "Between 1 and 2 hours",
          "Between 4 and 5 hours",
          "Between 4 and 5 hours",
          "Between 2 and 3 hours",
          "Between 1 and 2 hours",
          "Between 3 and 4 hours",
          "Between 2 and 3 hours",
          "Between 2 and 3 hours",
          "More than 5 hours",
          "Between 2 and 3 hours",
          "Between 1 and 2 hours",
          "More than 5 hours",
          "More than 5 hours",
          "Between 2 and 3 hours",
          "More than 5 hours",
          "More than 5 hours",
          "Between 4 and 5 hours",
          "Less than an Hour",
          "Between 3 and 4 hours",
          "Between 4 and 5 hours",
          "More than 5 hours",
          "More than 5 hours",
          "More than 5 hours",
          "Between 2 and 3 hours",
          "More than 5 hours",
          "Between 3 and 4 hours",
          "Between 2 and 3 hours",
          "Between 2 and 3 hours",
          "Between 1 and 2 hours",
          "Between 2 and 3 hours",
          "Less than an Hour",
          "Between 1 and 2 hours",
          "Between 4 and 5 hours",
          "Between 2 and 3 hours",
          "Between 2 and 3 hours",
          "Between 1 and 2 hours",
          "Between 3 and 4 hours",
          "Between 3 and 4 hours",
          "Between 4 and 5 hours",
          "Between 1 and 2 hours",
          "Less than an Hour",
          "Between 4 and 5 hours",
          "Between 1 and 2 hours",
          "More than 5 hours",
          "Between 1 and 2 hours",
          "Between 3 and 4 hours",
          "Between 4 and 5 hours",
          "Between 3 and 4 hours",
          "Between 4 and 5 hours",
          "Between 2 and 3 hours",
          "Between 1 and 2 hours",
          "Less than an Hour",
          "Between 3 and 4 hours",
          "Less than an Hour",
          "Between 2 and 3 hours",
          "Between 1 and 2 hours",
          "Between 4 and 5 hours",
          "Between 1 and 2 hours",
          "Less than an Hour",
          "More than 5 hours",
          "Between 3 and 4 hours",
          "Between 2 and 3 hours",
          "Less than an Hour",
          "Less than an Hour",
          "Between 2 and 3 hours",
          "Between 1 and 2 hours",
          "Less than an Hour",
          "More than 5 hours",
          "Between 3 and 4 hours",
          "Between 1 and 2 hours",
          "Between 1 and 2 hours",
          "Between 4 and 5 hours",
          "Between 2 and 3 hours",
          "Less than an Hour",
          "Between 3 and 4 hours",
          "Between 4 and 5 hours",
          "Between 2 and 3 hours",
          "Between 1 and 2 hours",
          "Between 1 and 2 hours",
          "Less than an Hour",
          "Between 4 and 5 hours",
          "More than 5 hours",
          "Between 2 and 3 hours",
          "Between 1 and 2 hours",
          "Between 4 and 5 hours",
          "More than 5 hours",
          "Between 2 and 3 hours",
          "Between 2 and 3 hours",
          "Between 2 and 3 hours",
          "Between 4 and 5 hours",
          "More than 5 hours",
          "Between 3 and 4 hours",
          "Between 2 and 3 hours",
          "Between 2 and 3 hours",
          "Between 4 and 5 hours",
          "Less than an Hour",
          "Between 1 and 2 hours",
          "Between 1 and 2 hours",
          "Between 3 and 4 hours",
          "More than 5 hours",
          "Between 3 and 4 hours",
          "More than 5 hours",
          "Between 2 and 3 hours",
          "Between 3 and 4 hours",
          "Between 3 and 4 hours",
          "Between 2 and 3 hours",
          "Between 3 and 4 hours",
          "Between 2 and 3 hours",
          "More than 5 hours",
          "More than 5 hours",
          "Less than an Hour",
          "More than 5 hours",
          "Between 4 and 5 hours",
          "Less than an Hour",
          "Between 1 and 2 hours",
          "Between 1 and 2 hours",
          "Between 1 and 2 hours",
          "More than 5 hours",
          "Between 2 and 3 hours",
          "Between 1 and 2 hours",
          "Between 3 and 4 hours",
          "More than 5 hours",
          "More than 5 hours",
          "Between 3 and 4 hours",
          "Between 2 and 3 hours",
          "Less than an Hour",
          "More than 5 hours",
          "More than 5 hours",
          "Less than an Hour",
          "Between 1 and 2 hours",
          "Between 3 and 4 hours",
          "More than 5 hours",
          "More than 5 hours",
          "Less than an Hour",
          "Between 2 and 3 hours",
          "More than 5 hours",
          "Between 4 and 5 hours",
          "Between 4 and 5 hours",
          "Between 3 and 4 hours",
          "Less than an Hour",
          "Between 3 and 4 hours",
          "Between 1 and 2 hours",
          "Between 4 and 5 hours",
          "More than 5 hours",
          "Between 2 and 3 hours",
          "Between 1 and 2 hours",
          "More than 5 hours",
          "Between 1 and 2 hours",
          "Between 4 and 5 hours",
          "Between 4 and 5 hours",
          "Between 2 and 3 hours",
          "Less than an Hour",
          "More than 5 hours",
          "Between 2 and 3 hours",
          "Between 4 and 5 hours",
          "More than 5 hours",
          "Between 2 and 3 hours",
          "Between 1 and 2 hours",
          "Between 2 and 3 hours",
          "Between 1 and 2 hours",
          "More than 5 hours",
          "More than 5 hours",
          "Between 3 and 4 hours",
          "More than 5 hours",
          "Between 2 and 3 hours",
          "More than 5 hours",
          "More than 5 hours",
          "More than 5 hours",
          "More than 5 hours",
          "Between 3 and 4 hours",
          "Between 1 and 2 hours",
          "Between 2 and 3 hours",
          "Between 3 and 4 hours",
          "Between 4 and 5 hours",
          "More than 5 hours",
          "Between 2 and 3 hours",
          "Between 2 and 3 hours",
          "More than 5 hours",
          "Between 3 and 4 hours",
          "More than 5 hours",
          "More than 5 hours",
          "Between 4 and 5 hours",
          "Between 3 and 4 hours",
          "Between 3 and 4 hours",
          "More than 5 hours",
          "Between 4 and 5 hours",
          "Between 3 and 4 hours",
          "Between 2 and 3 hours",
          "Between 3 and 4 hours",
          "Between 4 and 5 hours",
          "Between 2 and 3 hours",
          "Between 1 and 2 hours",
          "Between 2 and 3 hours",
          "Between 4 and 5 hours",
          "Between 2 and 3 hours",
          "Between 1 and 2 hours",
          "Between 2 and 3 hours",
          "Between 2 and 3 hours",
          "Between 2 and 3 hours",
          "Between 2 and 3 hours",
          "Between 2 and 3 hours",
          "Between 3 and 4 hours",
          "Between 4 and 5 hours",
          "Between 4 and 5 hours",
          "Between 3 and 4 hours",
          "More than 5 hours",
          "Between 3 and 4 hours",
          "Between 3 and 4 hours",
          "More than 5 hours",
          "More than 5 hours",
          "Between 1 and 2 hours",
          "More than 5 hours",
          "More than 5 hours",
          "Between 3 and 4 hours",
          "More than 5 hours",
          "More than 5 hours",
          "More than 5 hours",
          "More than 5 hours",
          "More than 5 hours",
          "More than 5 hours",
          "Less than an Hour",
          "More than 5 hours",
          "More than 5 hours",
          "Between 3 and 4 hours",
          "Between 2 and 3 hours",
          "Between 2 and 3 hours",
          "Between 2 and 3 hours",
          "Between 3 and 4 hours",
          "Between 2 and 3 hours",
          "Between 2 and 3 hours",
          "More than 5 hours",
          "Between 4 and 5 hours",
          "More than 5 hours",
          "Between 3 and 4 hours",
          "Between 3 and 4 hours",
          "Between 2 and 3 hours",
          "Between 1 and 2 hours",
          "More than 5 hours",
          "Between 4 and 5 hours",
          "Between 3 and 4 hours",
          "Between 1 and 2 hours",
          "More than 5 hours",
          "Between 2 and 3 hours",
          "Less than an Hour",
          "Between 4 and 5 hours",
          "Between 4 and 5 hours",
          "More than 5 hours",
          "Between 3 and 4 hours",
          "Between 1 and 2 hours",
          "Between 4 and 5 hours",
          "Between 1 and 2 hours",
          "Between 4 and 5 hours",
          "Less than an Hour",
          "Between 2 and 3 hours",
          "Between 1 and 2 hours",
          "More than 5 hours",
          "Between 2 and 3 hours",
          "Between 4 and 5 hours",
          "Between 1 and 2 hours",
          "Between 4 and 5 hours",
          "Between 4 and 5 hours",
          "Between 2 and 3 hours",
          "Between 4 and 5 hours",
          "Between 2 and 3 hours",
          "More than 5 hours",
          "More than 5 hours",
          "Between 3 and 4 hours",
          "More than 5 hours",
          "Between 1 and 2 hours",
          "Less than an Hour",
          "Between 3 and 4 hours",
          "Between 2 and 3 hours",
          "Between 4 and 5 hours",
          "Between 4 and 5 hours",
          "Between 2 and 3 hours",
          "Between 3 and 4 hours",
          "More than 5 hours",
          "More than 5 hours",
          "Between 3 and 4 hours",
          "More than 5 hours",
          "Between 1 and 2 hours",
          "Between 3 and 4 hours",
          "Between 2 and 3 hours",
          "Between 4 and 5 hours",
          "Between 4 and 5 hours",
          "Between 2 and 3 hours",
          "Between 4 and 5 hours",
          "More than 5 hours",
          "More than 5 hours",
          "More than 5 hours",
          "More than 5 hours",
          "More than 5 hours",
          "Between 1 and 2 hours",
          "More than 5 hours",
          "More than 5 hours",
          "Between 2 and 3 hours",
          "Between 4 and 5 hours",
          "Between 3 and 4 hours",
          "Between 1 and 2 hours",
          "More than 5 hours",
          "Less than an Hour",
          "Less than an Hour",
          "Between 3 and 4 hours",
          "Between 3 and 4 hours",
          "More than 5 hours",
          "Between 4 and 5 hours",
          "More than 5 hours",
          "Between 3 and 4 hours",
          "More than 5 hours",
          "Between 3 and 4 hours",
          "More than 5 hours",
          "Between 4 and 5 hours",
          "Between 3 and 4 hours",
          "Between 3 and 4 hours",
          "Between 3 and 4 hours",
          "Between 3 and 4 hours",
          "Between 1 and 2 hours",
          "More than 5 hours",
          "Less than an Hour",
          "Between 2 and 3 hours",
          "More than 5 hours",
          "Between 1 and 2 hours",
          "Between 2 and 3 hours",
          "Between 3 and 4 hours",
          "More than 5 hours",
          "Between 3 and 4 hours",
          "Between 3 and 4 hours",
          "More than 5 hours",
          "More than 5 hours",
          "More than 5 hours",
          "Between 4 and 5 hours",
          "Between 4 and 5 hours",
          "Between 2 and 3 hours",
          "More than 5 hours",
          "Between 4 and 5 hours",
          "More than 5 hours",
          "Between 4 and 5 hours",
          "Between 3 and 4 hours",
          "Between 3 and 4 hours",
          "Between 2 and 3 hours",
          "More than 5 hours",
          "Between 4 and 5 hours",
          "Between 1 and 2 hours",
          "Between 3 and 4 hours",
          "More than 5 hours",
          "Between 3 and 4 hours",
          "Between 2 and 3 hours",
          "Between 3 and 4 hours",
          "Between 4 and 5 hours",
          "Between 3 and 4 hours",
          "Between 2 and 3 hours",
          "Less than an Hour",
          "Less than an Hour",
          "Between 2 and 3 hours",
          "Between 1 and 2 hours",
          "Between 2 and 3 hours",
          "Between 4 and 5 hours",
          "Between 1 and 2 hours",
          "Between 3 and 4 hours",
          "Between 2 and 3 hours",
          "Between 4 and 5 hours",
          "Between 2 and 3 hours",
          "More than 5 hours",
          "Between 4 and 5 hours",
          "Between 1 and 2 hours",
          "More than 5 hours",
          "Between 4 and 5 hours",
          "Between 1 and 2 hours",
          "More than 5 hours",
          "Between 1 and 2 hours",
          "Between 2 and 3 hours",
          "Between 4 and 5 hours",
          "Between 3 and 4 hours",
          "Between 2 and 3 hours",
          "Between 1 and 2 hours",
          "Between 2 and 3 hours",
          "Between 2 and 3 hours",
          "Less than an Hour"
         ],
         "yaxis": "y",
         "ybingroup": "y"
        }
       ],
       "layout": {
        "coloraxis": {
         "colorbar": {
          "title": {
           "text": "count"
          }
         },
         "colorscale": [
          [
           0,
           "#0d0887"
          ],
          [
           0.1111111111111111,
           "#46039f"
          ],
          [
           0.2222222222222222,
           "#7201a8"
          ],
          [
           0.3333333333333333,
           "#9c179e"
          ],
          [
           0.4444444444444444,
           "#bd3786"
          ],
          [
           0.5555555555555556,
           "#d8576b"
          ],
          [
           0.6666666666666666,
           "#ed7953"
          ],
          [
           0.7777777777777778,
           "#fb9f3a"
          ],
          [
           0.8888888888888888,
           "#fdca26"
          ],
          [
           1,
           "#f0f921"
          ]
         ]
        },
        "height": 600,
        "legend": {
         "tracegroupgap": 0
        },
        "template": {
         "data": {
          "bar": [
           {
            "error_x": {
             "color": "#2a3f5f"
            },
            "error_y": {
             "color": "#2a3f5f"
            },
            "marker": {
             "line": {
              "color": "#E5ECF6",
              "width": 0.5
             },
             "pattern": {
              "fillmode": "overlay",
              "size": 10,
              "solidity": 0.2
             }
            },
            "type": "bar"
           }
          ],
          "barpolar": [
           {
            "marker": {
             "line": {
              "color": "#E5ECF6",
              "width": 0.5
             },
             "pattern": {
              "fillmode": "overlay",
              "size": 10,
              "solidity": 0.2
             }
            },
            "type": "barpolar"
           }
          ],
          "carpet": [
           {
            "aaxis": {
             "endlinecolor": "#2a3f5f",
             "gridcolor": "white",
             "linecolor": "white",
             "minorgridcolor": "white",
             "startlinecolor": "#2a3f5f"
            },
            "baxis": {
             "endlinecolor": "#2a3f5f",
             "gridcolor": "white",
             "linecolor": "white",
             "minorgridcolor": "white",
             "startlinecolor": "#2a3f5f"
            },
            "type": "carpet"
           }
          ],
          "choropleth": [
           {
            "colorbar": {
             "outlinewidth": 0,
             "ticks": ""
            },
            "type": "choropleth"
           }
          ],
          "contour": [
           {
            "colorbar": {
             "outlinewidth": 0,
             "ticks": ""
            },
            "colorscale": [
             [
              0,
              "#0d0887"
             ],
             [
              0.1111111111111111,
              "#46039f"
             ],
             [
              0.2222222222222222,
              "#7201a8"
             ],
             [
              0.3333333333333333,
              "#9c179e"
             ],
             [
              0.4444444444444444,
              "#bd3786"
             ],
             [
              0.5555555555555556,
              "#d8576b"
             ],
             [
              0.6666666666666666,
              "#ed7953"
             ],
             [
              0.7777777777777778,
              "#fb9f3a"
             ],
             [
              0.8888888888888888,
              "#fdca26"
             ],
             [
              1,
              "#f0f921"
             ]
            ],
            "type": "contour"
           }
          ],
          "contourcarpet": [
           {
            "colorbar": {
             "outlinewidth": 0,
             "ticks": ""
            },
            "type": "contourcarpet"
           }
          ],
          "heatmap": [
           {
            "colorbar": {
             "outlinewidth": 0,
             "ticks": ""
            },
            "colorscale": [
             [
              0,
              "#0d0887"
             ],
             [
              0.1111111111111111,
              "#46039f"
             ],
             [
              0.2222222222222222,
              "#7201a8"
             ],
             [
              0.3333333333333333,
              "#9c179e"
             ],
             [
              0.4444444444444444,
              "#bd3786"
             ],
             [
              0.5555555555555556,
              "#d8576b"
             ],
             [
              0.6666666666666666,
              "#ed7953"
             ],
             [
              0.7777777777777778,
              "#fb9f3a"
             ],
             [
              0.8888888888888888,
              "#fdca26"
             ],
             [
              1,
              "#f0f921"
             ]
            ],
            "type": "heatmap"
           }
          ],
          "heatmapgl": [
           {
            "colorbar": {
             "outlinewidth": 0,
             "ticks": ""
            },
            "colorscale": [
             [
              0,
              "#0d0887"
             ],
             [
              0.1111111111111111,
              "#46039f"
             ],
             [
              0.2222222222222222,
              "#7201a8"
             ],
             [
              0.3333333333333333,
              "#9c179e"
             ],
             [
              0.4444444444444444,
              "#bd3786"
             ],
             [
              0.5555555555555556,
              "#d8576b"
             ],
             [
              0.6666666666666666,
              "#ed7953"
             ],
             [
              0.7777777777777778,
              "#fb9f3a"
             ],
             [
              0.8888888888888888,
              "#fdca26"
             ],
             [
              1,
              "#f0f921"
             ]
            ],
            "type": "heatmapgl"
           }
          ],
          "histogram": [
           {
            "marker": {
             "pattern": {
              "fillmode": "overlay",
              "size": 10,
              "solidity": 0.2
             }
            },
            "type": "histogram"
           }
          ],
          "histogram2d": [
           {
            "colorbar": {
             "outlinewidth": 0,
             "ticks": ""
            },
            "colorscale": [
             [
              0,
              "#0d0887"
             ],
             [
              0.1111111111111111,
              "#46039f"
             ],
             [
              0.2222222222222222,
              "#7201a8"
             ],
             [
              0.3333333333333333,
              "#9c179e"
             ],
             [
              0.4444444444444444,
              "#bd3786"
             ],
             [
              0.5555555555555556,
              "#d8576b"
             ],
             [
              0.6666666666666666,
              "#ed7953"
             ],
             [
              0.7777777777777778,
              "#fb9f3a"
             ],
             [
              0.8888888888888888,
              "#fdca26"
             ],
             [
              1,
              "#f0f921"
             ]
            ],
            "type": "histogram2d"
           }
          ],
          "histogram2dcontour": [
           {
            "colorbar": {
             "outlinewidth": 0,
             "ticks": ""
            },
            "colorscale": [
             [
              0,
              "#0d0887"
             ],
             [
              0.1111111111111111,
              "#46039f"
             ],
             [
              0.2222222222222222,
              "#7201a8"
             ],
             [
              0.3333333333333333,
              "#9c179e"
             ],
             [
              0.4444444444444444,
              "#bd3786"
             ],
             [
              0.5555555555555556,
              "#d8576b"
             ],
             [
              0.6666666666666666,
              "#ed7953"
             ],
             [
              0.7777777777777778,
              "#fb9f3a"
             ],
             [
              0.8888888888888888,
              "#fdca26"
             ],
             [
              1,
              "#f0f921"
             ]
            ],
            "type": "histogram2dcontour"
           }
          ],
          "mesh3d": [
           {
            "colorbar": {
             "outlinewidth": 0,
             "ticks": ""
            },
            "type": "mesh3d"
           }
          ],
          "parcoords": [
           {
            "line": {
             "colorbar": {
              "outlinewidth": 0,
              "ticks": ""
             }
            },
            "type": "parcoords"
           }
          ],
          "pie": [
           {
            "automargin": true,
            "type": "pie"
           }
          ],
          "scatter": [
           {
            "fillpattern": {
             "fillmode": "overlay",
             "size": 10,
             "solidity": 0.2
            },
            "type": "scatter"
           }
          ],
          "scatter3d": [
           {
            "line": {
             "colorbar": {
              "outlinewidth": 0,
              "ticks": ""
             }
            },
            "marker": {
             "colorbar": {
              "outlinewidth": 0,
              "ticks": ""
             }
            },
            "type": "scatter3d"
           }
          ],
          "scattercarpet": [
           {
            "marker": {
             "colorbar": {
              "outlinewidth": 0,
              "ticks": ""
             }
            },
            "type": "scattercarpet"
           }
          ],
          "scattergeo": [
           {
            "marker": {
             "colorbar": {
              "outlinewidth": 0,
              "ticks": ""
             }
            },
            "type": "scattergeo"
           }
          ],
          "scattergl": [
           {
            "marker": {
             "colorbar": {
              "outlinewidth": 0,
              "ticks": ""
             }
            },
            "type": "scattergl"
           }
          ],
          "scattermapbox": [
           {
            "marker": {
             "colorbar": {
              "outlinewidth": 0,
              "ticks": ""
             }
            },
            "type": "scattermapbox"
           }
          ],
          "scatterpolar": [
           {
            "marker": {
             "colorbar": {
              "outlinewidth": 0,
              "ticks": ""
             }
            },
            "type": "scatterpolar"
           }
          ],
          "scatterpolargl": [
           {
            "marker": {
             "colorbar": {
              "outlinewidth": 0,
              "ticks": ""
             }
            },
            "type": "scatterpolargl"
           }
          ],
          "scatterternary": [
           {
            "marker": {
             "colorbar": {
              "outlinewidth": 0,
              "ticks": ""
             }
            },
            "type": "scatterternary"
           }
          ],
          "surface": [
           {
            "colorbar": {
             "outlinewidth": 0,
             "ticks": ""
            },
            "colorscale": [
             [
              0,
              "#0d0887"
             ],
             [
              0.1111111111111111,
              "#46039f"
             ],
             [
              0.2222222222222222,
              "#7201a8"
             ],
             [
              0.3333333333333333,
              "#9c179e"
             ],
             [
              0.4444444444444444,
              "#bd3786"
             ],
             [
              0.5555555555555556,
              "#d8576b"
             ],
             [
              0.6666666666666666,
              "#ed7953"
             ],
             [
              0.7777777777777778,
              "#fb9f3a"
             ],
             [
              0.8888888888888888,
              "#fdca26"
             ],
             [
              1,
              "#f0f921"
             ]
            ],
            "type": "surface"
           }
          ],
          "table": [
           {
            "cells": {
             "fill": {
              "color": "#EBF0F8"
             },
             "line": {
              "color": "white"
             }
            },
            "header": {
             "fill": {
              "color": "#C8D4E3"
             },
             "line": {
              "color": "white"
             }
            },
            "type": "table"
           }
          ]
         },
         "layout": {
          "annotationdefaults": {
           "arrowcolor": "#2a3f5f",
           "arrowhead": 0,
           "arrowwidth": 1
          },
          "autotypenumbers": "strict",
          "coloraxis": {
           "colorbar": {
            "outlinewidth": 0,
            "ticks": ""
           }
          },
          "colorscale": {
           "diverging": [
            [
             0,
             "#8e0152"
            ],
            [
             0.1,
             "#c51b7d"
            ],
            [
             0.2,
             "#de77ae"
            ],
            [
             0.3,
             "#f1b6da"
            ],
            [
             0.4,
             "#fde0ef"
            ],
            [
             0.5,
             "#f7f7f7"
            ],
            [
             0.6,
             "#e6f5d0"
            ],
            [
             0.7,
             "#b8e186"
            ],
            [
             0.8,
             "#7fbc41"
            ],
            [
             0.9,
             "#4d9221"
            ],
            [
             1,
             "#276419"
            ]
           ],
           "sequential": [
            [
             0,
             "#0d0887"
            ],
            [
             0.1111111111111111,
             "#46039f"
            ],
            [
             0.2222222222222222,
             "#7201a8"
            ],
            [
             0.3333333333333333,
             "#9c179e"
            ],
            [
             0.4444444444444444,
             "#bd3786"
            ],
            [
             0.5555555555555556,
             "#d8576b"
            ],
            [
             0.6666666666666666,
             "#ed7953"
            ],
            [
             0.7777777777777778,
             "#fb9f3a"
            ],
            [
             0.8888888888888888,
             "#fdca26"
            ],
            [
             1,
             "#f0f921"
            ]
           ],
           "sequentialminus": [
            [
             0,
             "#0d0887"
            ],
            [
             0.1111111111111111,
             "#46039f"
            ],
            [
             0.2222222222222222,
             "#7201a8"
            ],
            [
             0.3333333333333333,
             "#9c179e"
            ],
            [
             0.4444444444444444,
             "#bd3786"
            ],
            [
             0.5555555555555556,
             "#d8576b"
            ],
            [
             0.6666666666666666,
             "#ed7953"
            ],
            [
             0.7777777777777778,
             "#fb9f3a"
            ],
            [
             0.8888888888888888,
             "#fdca26"
            ],
            [
             1,
             "#f0f921"
            ]
           ]
          },
          "colorway": [
           "#636efa",
           "#EF553B",
           "#00cc96",
           "#ab63fa",
           "#FFA15A",
           "#19d3f3",
           "#FF6692",
           "#B6E880",
           "#FF97FF",
           "#FECB52"
          ],
          "font": {
           "color": "#2a3f5f"
          },
          "geo": {
           "bgcolor": "white",
           "lakecolor": "white",
           "landcolor": "#E5ECF6",
           "showlakes": true,
           "showland": true,
           "subunitcolor": "white"
          },
          "hoverlabel": {
           "align": "left"
          },
          "hovermode": "closest",
          "mapbox": {
           "style": "light"
          },
          "paper_bgcolor": "white",
          "plot_bgcolor": "#E5ECF6",
          "polar": {
           "angularaxis": {
            "gridcolor": "white",
            "linecolor": "white",
            "ticks": ""
           },
           "bgcolor": "#E5ECF6",
           "radialaxis": {
            "gridcolor": "white",
            "linecolor": "white",
            "ticks": ""
           }
          },
          "scene": {
           "xaxis": {
            "backgroundcolor": "#E5ECF6",
            "gridcolor": "white",
            "gridwidth": 2,
            "linecolor": "white",
            "showbackground": true,
            "ticks": "",
            "zerolinecolor": "white"
           },
           "yaxis": {
            "backgroundcolor": "#E5ECF6",
            "gridcolor": "white",
            "gridwidth": 2,
            "linecolor": "white",
            "showbackground": true,
            "ticks": "",
            "zerolinecolor": "white"
           },
           "zaxis": {
            "backgroundcolor": "#E5ECF6",
            "gridcolor": "white",
            "gridwidth": 2,
            "linecolor": "white",
            "showbackground": true,
            "ticks": "",
            "zerolinecolor": "white"
           }
          },
          "shapedefaults": {
           "line": {
            "color": "#2a3f5f"
           }
          },
          "ternary": {
           "aaxis": {
            "gridcolor": "white",
            "linecolor": "white",
            "ticks": ""
           },
           "baxis": {
            "gridcolor": "white",
            "linecolor": "white",
            "ticks": ""
           },
           "bgcolor": "#E5ECF6",
           "caxis": {
            "gridcolor": "white",
            "linecolor": "white",
            "ticks": ""
           }
          },
          "title": {
           "x": 0.05
          },
          "xaxis": {
           "automargin": true,
           "gridcolor": "white",
           "linecolor": "white",
           "ticks": "",
           "title": {
            "standoff": 15
           },
           "zerolinecolor": "white",
           "zerolinewidth": 2
          },
          "yaxis": {
           "automargin": true,
           "gridcolor": "white",
           "linecolor": "white",
           "ticks": "",
           "title": {
            "standoff": 15
           },
           "zerolinecolor": "white",
           "zerolinewidth": 2
          }
         }
        },
        "title": {
         "text": "Heatmap of time on social media and feeling depressed"
        },
        "width": 800,
        "xaxis": {
         "anchor": "y",
         "autorange": true,
         "domain": [
          0,
          1
         ],
         "range": [
          0.5,
          5.5
         ],
         "title": {
          "text": "18. How often do you feel depressed or down?"
         },
         "type": "linear"
        },
        "yaxis": {
         "anchor": "x",
         "autorange": true,
         "domain": [
          0,
          1
         ],
         "range": [
          -0.5,
          5.5
         ],
         "title": {
          "text": "8. What is the average time you spend on social media every day?"
         },
         "type": "category"
        }
       }
      },
      "image/png": "[encoded data removed]",
      "text/html": [
       "<div>                            <div id=\"1dedbba7-ed84-45bd-a8eb-13807cbc2438\" class=\"plotly-graph-div\" style=\"height:600px; width:800px;\"></div>            <script type=\"text/javascript\">                require([\"plotly\"], function(Plotly) {                    window.PLOTLYENV=window.PLOTLYENV || {};                                    if (document.getElementById(\"1dedbba7-ed84-45bd-a8eb-13807cbc2438\")) {                    Plotly.newPlot(                        \"1dedbba7-ed84-45bd-a8eb-13807cbc2438\",                        [{\"coloraxis\":\"coloraxis\",\"hovertemplate\":\"18. How often do you feel depressed or down?=%{x}\\u003cbr\\u003e8. What is the average time you spend on social media every day?=%{y}\\u003cbr\\u003ecount=%{z}\\u003cextra\\u003e\\u003c\\u002fextra\\u003e\",\"name\":\"\",\"x\":[5,5,4,4,4,3,5,5,5,1,5,3,3,3,5,3,4,2,3,2,2,3,4,4,3,4,4,4,4,5,5,3,2,3,5,4,3,5,2,1,3,4,2,5,3,3,1,3,2,1,3,3,5,1,1,5,3,4,5,1,4,4,5,5,1,2,4,4,4,3,1,5,4,2,5,2,5,4,5,5,4,1,4,4,2,4,2,1,3,5,4,4,4,3,4,3,1,4,5,2,3,5,4,3,1,2,3,1,2,3,2,4,2,2,4,2,3,3,5,4,1,3,5,4,1,4,4,4,4,3,1,3,3,2,2,4,1,1,3,4,1,3,4,2,5,3,4,2,2,2,2,1,2,3,4,3,2,1,4,4,2,1,3,3,3,2,2,2,1,2,3,3,5,3,4,1,1,4,3,4,4,3,1,5,3,2,3,3,4,2,4,4,4,5,4,1,3,2,1,1,2,3,3,3,5,2,1,5,1,4,3,1,5,1,4,3,1,2,5,2,3,2,3,3,4,2,4,2,1,4,4,1,5,1,4,4,2,5,5,4,4,2,3,3,3,4,4,2,1,4,1,5,5,2,2,3,5,1,4,3,2,5,3,3,2,3,2,4,3,3,2,5,3,5,3,5,5,5,5,5,3,4,2,5,4,3,2,5,4,3,3,4,4,5,1,2,4,4,3,5,5,5,4,4,3,3,5,1,2,2,5,3,2,5,4,3,3,5,5,5,5,4,3,2,5,5,5,5,4,4,1,4,3,5,3,4,1,4,3,5,3,3,5,2,5,5,1,4,3,5,4,3,3,5,2,3,4,3,3,4,3,2,4,2,1,5,4,5,1,5,2,4,3,3,2,5,5,4,5,1,5,5,4,5,3,2,3,2,4,4,3,5,5,5,2,2,5,5,1,5,4,3,3,1,1,5,5,4,4,4,3,3,5,5,4,5,2,3,4,3,3,2,5,4,1,4,3,4,3,5,5,5,5,5,4,3,3,2,2,4,2,1,3,4,3,3,5,5,4,2,2,4,3,1,3,1,1,2,4,2,1,3,5,3,2,2,3,1,5,1,5,4,2,4,4,5,3,4,2,4,2],\"xaxis\":\"x\",\"xbingroup\":\"x\",\"y\":[\"Between 2 and 3 hours\",\"More than 5 hours\",\"Between 3 and 4 hours\",\"More than 5 hours\",\"Between 2 and 3 hours\",\"Between 2 and 3 hours\",\"Between 3 and 4 hours\",\"More than 5 hours\",\"More than 5 hours\",\"Less than an Hour\",\"Between 2 and 3 hours\",\"Between 3 and 4 hours\",\"Between 3 and 4 hours\",\"Between 3 and 4 hours\",\"More than 5 hours\",\"Between 1 and 2 hours\",\"Less than an Hour\",\"Between 4 and 5 hours\",\"Between 1 and 2 hours\",\"Between 1 and 2 hours\",\"Between 2 and 3 hours\",\"More than 5 hours\",\"Between 3 and 4 hours\",\"Between 1 and 2 hours\",\"Between 3 and 4 hours\",\"Between 3 and 4 hours\",\"Between 3 and 4 hours\",\"Between 2 and 3 hours\",\"Between 4 and 5 hours\",\"Between 3 and 4 hours\",\"Between 3 and 4 hours\",\"Between 2 and 3 hours\",\"Between 2 and 3 hours\",\"Between 2 and 3 hours\",\"Between 3 and 4 hours\",\"More than 5 hours\",\"Between 3 and 4 hours\",\"Less than an Hour\",\"Between 3 and 4 hours\",\"Between 2 and 3 hours\",\"Between 1 and 2 hours\",\"Between 3 and 4 hours\",\"Between 1 and 2 hours\",\"More than 5 hours\",\"More than 5 hours\",\"More than 5 hours\",\"Between 3 and 4 hours\",\"Between 3 and 4 hours\",\"Between 2 and 3 hours\",\"Between 3 and 4 hours\",\"Between 3 and 4 hours\",\"More than 5 hours\",\"Less than an Hour\",\"Between 1 and 2 hours\",\"Between 1 and 2 hours\",\"More than 5 hours\",\"More than 5 hours\",\"Between 2 and 3 hours\",\"Between 2 and 3 hours\",\"Between 1 and 2 hours\",\"More than 5 hours\",\"Between 1 and 2 hours\",\"More than 5 hours\",\"Between 1 and 2 hours\",\"Between 2 and 3 hours\",\"Between 1 and 2 hours\",\"Between 3 and 4 hours\",\"Between 2 and 3 hours\",\"Between 1 and 2 hours\",\"Between 3 and 4 hours\",\"Between 3 and 4 hours\",\"Between 2 and 3 hours\",\"More than 5 hours\",\"Between 1 and 2 hours\",\"Between 4 and 5 hours\",\"Less than an Hour\",\"Between 2 and 3 hours\",\"Between 3 and 4 hours\",\"Between 3 and 4 hours\",\"Between 3 and 4 hours\",\"Between 2 and 3 hours\",\"More than 5 hours\",\"More than 5 hours\",\"Between 4 and 5 hours\",\"Between 2 and 3 hours\",\"Between 2 and 3 hours\",\"Between 1 and 2 hours\",\"Between 1 and 2 hours\",\"Between 2 and 3 hours\",\"Between 2 and 3 hours\",\"Between 2 and 3 hours\",\"Between 3 and 4 hours\",\"More than 5 hours\",\"Between 4 and 5 hours\",\"Between 4 and 5 hours\",\"More than 5 hours\",\"Between 4 and 5 hours\",\"More than 5 hours\",\"More than 5 hours\",\"Between 4 and 5 hours\",\"Between 2 and 3 hours\",\"Between 1 and 2 hours\",\"Between 3 and 4 hours\",\"Between 1 and 2 hours\",\"Between 4 and 5 hours\",\"Between 4 and 5 hours\",\"Between 2 and 3 hours\",\"Between 1 and 2 hours\",\"Between 3 and 4 hours\",\"Between 2 and 3 hours\",\"Between 2 and 3 hours\",\"More than 5 hours\",\"Between 2 and 3 hours\",\"Between 1 and 2 hours\",\"More than 5 hours\",\"More than 5 hours\",\"Between 2 and 3 hours\",\"More than 5 hours\",\"More than 5 hours\",\"Between 4 and 5 hours\",\"Less than an Hour\",\"Between 3 and 4 hours\",\"Between 4 and 5 hours\",\"More than 5 hours\",\"More than 5 hours\",\"More than 5 hours\",\"Between 2 and 3 hours\",\"More than 5 hours\",\"Between 3 and 4 hours\",\"Between 2 and 3 hours\",\"Between 2 and 3 hours\",\"Between 1 and 2 hours\",\"Between 2 and 3 hours\",\"Less than an Hour\",\"Between 1 and 2 hours\",\"Between 4 and 5 hours\",\"Between 2 and 3 hours\",\"Between 2 and 3 hours\",\"Between 1 and 2 hours\",\"Between 3 and 4 hours\",\"Between 3 and 4 hours\",\"Between 4 and 5 hours\",\"Between 1 and 2 hours\",\"Less than an Hour\",\"Between 4 and 5 hours\",\"Between 1 and 2 hours\",\"More than 5 hours\",\"Between 1 and 2 hours\",\"Between 3 and 4 hours\",\"Between 4 and 5 hours\",\"Between 3 and 4 hours\",\"Between 4 and 5 hours\",\"Between 2 and 3 hours\",\"Between 1 and 2 hours\",\"Less than an Hour\",\"Between 3 and 4 hours\",\"Less than an Hour\",\"Between 2 and 3 hours\",\"Between 1 and 2 hours\",\"Between 4 and 5 hours\",\"Between 1 and 2 hours\",\"Less than an Hour\",\"More than 5 hours\",\"Between 3 and 4 hours\",\"Between 2 and 3 hours\",\"Less than an Hour\",\"Less than an Hour\",\"Between 2 and 3 hours\",\"Between 1 and 2 hours\",\"Less than an Hour\",\"More than 5 hours\",\"Between 3 and 4 hours\",\"Between 1 and 2 hours\",\"Between 1 and 2 hours\",\"Between 4 and 5 hours\",\"Between 2 and 3 hours\",\"Less than an Hour\",\"Between 3 and 4 hours\",\"Between 4 and 5 hours\",\"Between 2 and 3 hours\",\"Between 1 and 2 hours\",\"Between 1 and 2 hours\",\"Less than an Hour\",\"Between 4 and 5 hours\",\"More than 5 hours\",\"Between 2 and 3 hours\",\"Between 1 and 2 hours\",\"Between 4 and 5 hours\",\"More than 5 hours\",\"Between 2 and 3 hours\",\"Between 2 and 3 hours\",\"Between 2 and 3 hours\",\"Between 4 and 5 hours\",\"More than 5 hours\",\"Between 3 and 4 hours\",\"Between 2 and 3 hours\",\"Between 2 and 3 hours\",\"Between 4 and 5 hours\",\"Less than an Hour\",\"Between 1 and 2 hours\",\"Between 1 and 2 hours\",\"Between 3 and 4 hours\",\"More than 5 hours\",\"Between 3 and 4 hours\",\"More than 5 hours\",\"Between 2 and 3 hours\",\"Between 3 and 4 hours\",\"Between 3 and 4 hours\",\"Between 2 and 3 hours\",\"Between 3 and 4 hours\",\"Between 2 and 3 hours\",\"More than 5 hours\",\"More than 5 hours\",\"Less than an Hour\",\"More than 5 hours\",\"Between 4 and 5 hours\",\"Less than an Hour\",\"Between 1 and 2 hours\",\"Between 1 and 2 hours\",\"Between 1 and 2 hours\",\"More than 5 hours\",\"Between 2 and 3 hours\",\"Between 1 and 2 hours\",\"Between 3 and 4 hours\",\"More than 5 hours\",\"More than 5 hours\",\"Between 3 and 4 hours\",\"Between 2 and 3 hours\",\"Less than an Hour\",\"More than 5 hours\",\"More than 5 hours\",\"Less than an Hour\",\"Between 1 and 2 hours\",\"Between 3 and 4 hours\",\"More than 5 hours\",\"More than 5 hours\",\"Less than an Hour\",\"Between 2 and 3 hours\",\"More than 5 hours\",\"Between 4 and 5 hours\",\"Between 4 and 5 hours\",\"Between 3 and 4 hours\",\"Less than an Hour\",\"Between 3 and 4 hours\",\"Between 1 and 2 hours\",\"Between 4 and 5 hours\",\"More than 5 hours\",\"Between 2 and 3 hours\",\"Between 1 and 2 hours\",\"More than 5 hours\",\"Between 1 and 2 hours\",\"Between 4 and 5 hours\",\"Between 4 and 5 hours\",\"Between 2 and 3 hours\",\"Less than an Hour\",\"More than 5 hours\",\"Between 2 and 3 hours\",\"Between 4 and 5 hours\",\"More than 5 hours\",\"Between 2 and 3 hours\",\"Between 1 and 2 hours\",\"Between 2 and 3 hours\",\"Between 1 and 2 hours\",\"More than 5 hours\",\"More than 5 hours\",\"Between 3 and 4 hours\",\"More than 5 hours\",\"Between 2 and 3 hours\",\"More than 5 hours\",\"More than 5 hours\",\"More than 5 hours\",\"More than 5 hours\",\"Between 3 and 4 hours\",\"Between 1 and 2 hours\",\"Between 2 and 3 hours\",\"Between 3 and 4 hours\",\"Between 4 and 5 hours\",\"More than 5 hours\",\"Between 2 and 3 hours\",\"Between 2 and 3 hours\",\"More than 5 hours\",\"Between 3 and 4 hours\",\"More than 5 hours\",\"More than 5 hours\",\"Between 4 and 5 hours\",\"Between 3 and 4 hours\",\"Between 3 and 4 hours\",\"More than 5 hours\",\"Between 4 and 5 hours\",\"Between 3 and 4 hours\",\"Between 2 and 3 hours\",\"Between 3 and 4 hours\",\"Between 4 and 5 hours\",\"Between 2 and 3 hours\",\"Between 1 and 2 hours\",\"Between 2 and 3 hours\",\"Between 4 and 5 hours\",\"Between 2 and 3 hours\",\"Between 1 and 2 hours\",\"Between 2 and 3 hours\",\"Between 2 and 3 hours\",\"Between 2 and 3 hours\",\"Between 2 and 3 hours\",\"Between 2 and 3 hours\",\"Between 3 and 4 hours\",\"Between 4 and 5 hours\",\"Between 4 and 5 hours\",\"Between 3 and 4 hours\",\"More than 5 hours\",\"Between 3 and 4 hours\",\"Between 3 and 4 hours\",\"More than 5 hours\",\"More than 5 hours\",\"Between 1 and 2 hours\",\"More than 5 hours\",\"More than 5 hours\",\"Between 3 and 4 hours\",\"More than 5 hours\",\"More than 5 hours\",\"More than 5 hours\",\"More than 5 hours\",\"More than 5 hours\",\"More than 5 hours\",\"Less than an Hour\",\"More than 5 hours\",\"More than 5 hours\",\"Between 3 and 4 hours\",\"Between 2 and 3 hours\",\"Between 2 and 3 hours\",\"Between 2 and 3 hours\",\"Between 3 and 4 hours\",\"Between 2 and 3 hours\",\"Between 2 and 3 hours\",\"More than 5 hours\",\"Between 4 and 5 hours\",\"More than 5 hours\",\"Between 3 and 4 hours\",\"Between 3 and 4 hours\",\"Between 2 and 3 hours\",\"Between 1 and 2 hours\",\"More than 5 hours\",\"Between 4 and 5 hours\",\"Between 3 and 4 hours\",\"Between 1 and 2 hours\",\"More than 5 hours\",\"Between 2 and 3 hours\",\"Less than an Hour\",\"Between 4 and 5 hours\",\"Between 4 and 5 hours\",\"More than 5 hours\",\"Between 3 and 4 hours\",\"Between 1 and 2 hours\",\"Between 4 and 5 hours\",\"Between 1 and 2 hours\",\"Between 4 and 5 hours\",\"Less than an Hour\",\"Between 2 and 3 hours\",\"Between 1 and 2 hours\",\"More than 5 hours\",\"Between 2 and 3 hours\",\"Between 4 and 5 hours\",\"Between 1 and 2 hours\",\"Between 4 and 5 hours\",\"Between 4 and 5 hours\",\"Between 2 and 3 hours\",\"Between 4 and 5 hours\",\"Between 2 and 3 hours\",\"More than 5 hours\",\"More than 5 hours\",\"Between 3 and 4 hours\",\"More than 5 hours\",\"Between 1 and 2 hours\",\"Less than an Hour\",\"Between 3 and 4 hours\",\"Between 2 and 3 hours\",\"Between 4 and 5 hours\",\"Between 4 and 5 hours\",\"Between 2 and 3 hours\",\"Between 3 and 4 hours\",\"More than 5 hours\",\"More than 5 hours\",\"Between 3 and 4 hours\",\"More than 5 hours\",\"Between 1 and 2 hours\",\"Between 3 and 4 hours\",\"Between 2 and 3 hours\",\"Between 4 and 5 hours\",\"Between 4 and 5 hours\",\"Between 2 and 3 hours\",\"Between 4 and 5 hours\",\"More than 5 hours\",\"More than 5 hours\",\"More than 5 hours\",\"More than 5 hours\",\"More than 5 hours\",\"Between 1 and 2 hours\",\"More than 5 hours\",\"More than 5 hours\",\"Between 2 and 3 hours\",\"Between 4 and 5 hours\",\"Between 3 and 4 hours\",\"Between 1 and 2 hours\",\"More than 5 hours\",\"Less than an Hour\",\"Less than an Hour\",\"Between 3 and 4 hours\",\"Between 3 and 4 hours\",\"More than 5 hours\",\"Between 4 and 5 hours\",\"More than 5 hours\",\"Between 3 and 4 hours\",\"More than 5 hours\",\"Between 3 and 4 hours\",\"More than 5 hours\",\"Between 4 and 5 hours\",\"Between 3 and 4 hours\",\"Between 3 and 4 hours\",\"Between 3 and 4 hours\",\"Between 3 and 4 hours\",\"Between 1 and 2 hours\",\"More than 5 hours\",\"Less than an Hour\",\"Between 2 and 3 hours\",\"More than 5 hours\",\"Between 1 and 2 hours\",\"Between 2 and 3 hours\",\"Between 3 and 4 hours\",\"More than 5 hours\",\"Between 3 and 4 hours\",\"Between 3 and 4 hours\",\"More than 5 hours\",\"More than 5 hours\",\"More than 5 hours\",\"Between 4 and 5 hours\",\"Between 4 and 5 hours\",\"Between 2 and 3 hours\",\"More than 5 hours\",\"Between 4 and 5 hours\",\"More than 5 hours\",\"Between 4 and 5 hours\",\"Between 3 and 4 hours\",\"Between 3 and 4 hours\",\"Between 2 and 3 hours\",\"More than 5 hours\",\"Between 4 and 5 hours\",\"Between 1 and 2 hours\",\"Between 3 and 4 hours\",\"More than 5 hours\",\"Between 3 and 4 hours\",\"Between 2 and 3 hours\",\"Between 3 and 4 hours\",\"Between 4 and 5 hours\",\"Between 3 and 4 hours\",\"Between 2 and 3 hours\",\"Less than an Hour\",\"Less than an Hour\",\"Between 2 and 3 hours\",\"Between 1 and 2 hours\",\"Between 2 and 3 hours\",\"Between 4 and 5 hours\",\"Between 1 and 2 hours\",\"Between 3 and 4 hours\",\"Between 2 and 3 hours\",\"Between 4 and 5 hours\",\"Between 2 and 3 hours\",\"More than 5 hours\",\"Between 4 and 5 hours\",\"Between 1 and 2 hours\",\"More than 5 hours\",\"Between 4 and 5 hours\",\"Between 1 and 2 hours\",\"More than 5 hours\",\"Between 1 and 2 hours\",\"Between 2 and 3 hours\",\"Between 4 and 5 hours\",\"Between 3 and 4 hours\",\"Between 2 and 3 hours\",\"Between 1 and 2 hours\",\"Between 2 and 3 hours\",\"Between 2 and 3 hours\",\"Less than an Hour\"],\"yaxis\":\"y\",\"ybingroup\":\"y\",\"type\":\"histogram2d\"}],                        {\"template\":{\"data\":{\"histogram2dcontour\":[{\"type\":\"histogram2dcontour\",\"colorbar\":{\"outlinewidth\":0,\"ticks\":\"\"},\"colorscale\":[[0.0,\"#0d0887\"],[0.1111111111111111,\"#46039f\"],[0.2222222222222222,\"#7201a8\"],[0.3333333333333333,\"#9c179e\"],[0.4444444444444444,\"#bd3786\"],[0.5555555555555556,\"#d8576b\"],[0.6666666666666666,\"#ed7953\"],[0.7777777777777778,\"#fb9f3a\"],[0.8888888888888888,\"#fdca26\"],[1.0,\"#f0f921\"]]}],\"choropleth\":[{\"type\":\"choropleth\",\"colorbar\":{\"outlinewidth\":0,\"ticks\":\"\"}}],\"histogram2d\":[{\"type\":\"histogram2d\",\"colorbar\":{\"outlinewidth\":0,\"ticks\":\"\"},\"colorscale\":[[0.0,\"#0d0887\"],[0.1111111111111111,\"#46039f\"],[0.2222222222222222,\"#7201a8\"],[0.3333333333333333,\"#9c179e\"],[0.4444444444444444,\"#bd3786\"],[0.5555555555555556,\"#d8576b\"],[0.6666666666666666,\"#ed7953\"],[0.7777777777777778,\"#fb9f3a\"],[0.8888888888888888,\"#fdca26\"],[1.0,\"#f0f921\"]]}],\"heatmap\":[{\"type\":\"heatmap\",\"colorbar\":{\"outlinewidth\":0,\"ticks\":\"\"},\"colorscale\":[[0.0,\"#0d0887\"],[0.1111111111111111,\"#46039f\"],[0.2222222222222222,\"#7201a8\"],[0.3333333333333333,\"#9c179e\"],[0.4444444444444444,\"#bd3786\"],[0.5555555555555556,\"#d8576b\"],[0.6666666666666666,\"#ed7953\"],[0.7777777777777778,\"#fb9f3a\"],[0.8888888888888888,\"#fdca26\"],[1.0,\"#f0f921\"]]}],\"heatmapgl\":[{\"type\":\"heatmapgl\",\"colorbar\":{\"outlinewidth\":0,\"ticks\":\"\"},\"colorscale\":[[0.0,\"#0d0887\"],[0.1111111111111111,\"#46039f\"],[0.2222222222222222,\"#7201a8\"],[0.3333333333333333,\"#9c179e\"],[0.4444444444444444,\"#bd3786\"],[0.5555555555555556,\"#d8576b\"],[0.6666666666666666,\"#ed7953\"],[0.7777777777777778,\"#fb9f3a\"],[0.8888888888888888,\"#fdca26\"],[1.0,\"#f0f921\"]]}],\"contourcarpet\":[{\"type\":\"contourcarpet\",\"colorbar\":{\"outlinewidth\":0,\"ticks\":\"\"}}],\"contour\":[{\"type\":\"contour\",\"colorbar\":{\"outlinewidth\":0,\"ticks\":\"\"},\"colorscale\":[[0.0,\"#0d0887\"],[0.1111111111111111,\"#46039f\"],[0.2222222222222222,\"#7201a8\"],[0.3333333333333333,\"#9c179e\"],[0.4444444444444444,\"#bd3786\"],[0.5555555555555556,\"#d8576b\"],[0.6666666666666666,\"#ed7953\"],[0.7777777777777778,\"#fb9f3a\"],[0.8888888888888888,\"#fdca26\"],[1.0,\"#f0f921\"]]}],\"surface\":[{\"type\":\"surface\",\"colorbar\":{\"outlinewidth\":0,\"ticks\":\"\"},\"colorscale\":[[0.0,\"#0d0887\"],[0.1111111111111111,\"#46039f\"],[0.2222222222222222,\"#7201a8\"],[0.3333333333333333,\"#9c179e\"],[0.4444444444444444,\"#bd3786\"],[0.5555555555555556,\"#d8576b\"],[0.6666666666666666,\"#ed7953\"],[0.7777777777777778,\"#fb9f3a\"],[0.8888888888888888,\"#fdca26\"],[1.0,\"#f0f921\"]]}],\"mesh3d\":[{\"type\":\"mesh3d\",\"colorbar\":{\"outlinewidth\":0,\"ticks\":\"\"}}],\"scatter\":[{\"fillpattern\":{\"fillmode\":\"overlay\",\"size\":10,\"solidity\":0.2},\"type\":\"scatter\"}],\"parcoords\":[{\"type\":\"parcoords\",\"line\":{\"colorbar\":{\"outlinewidth\":0,\"ticks\":\"\"}}}],\"scatterpolargl\":[{\"type\":\"scatterpolargl\",\"marker\":{\"colorbar\":{\"outlinewidth\":0,\"ticks\":\"\"}}}],\"bar\":[{\"error_x\":{\"color\":\"#2a3f5f\"},\"error_y\":{\"color\":\"#2a3f5f\"},\"marker\":{\"line\":{\"color\":\"#E5ECF6\",\"width\":0.5},\"pattern\":{\"fillmode\":\"overlay\",\"size\":10,\"solidity\":0.2}},\"type\":\"bar\"}],\"scattergeo\":[{\"type\":\"scattergeo\",\"marker\":{\"colorbar\":{\"outlinewidth\":0,\"ticks\":\"\"}}}],\"scatterpolar\":[{\"type\":\"scatterpolar\",\"marker\":{\"colorbar\":{\"outlinewidth\":0,\"ticks\":\"\"}}}],\"histogram\":[{\"marker\":{\"pattern\":{\"fillmode\":\"overlay\",\"size\":10,\"solidity\":0.2}},\"type\":\"histogram\"}],\"scattergl\":[{\"type\":\"scattergl\",\"marker\":{\"colorbar\":{\"outlinewidth\":0,\"ticks\":\"\"}}}],\"scatter3d\":[{\"type\":\"scatter3d\",\"line\":{\"colorbar\":{\"outlinewidth\":0,\"ticks\":\"\"}},\"marker\":{\"colorbar\":{\"outlinewidth\":0,\"ticks\":\"\"}}}],\"scattermapbox\":[{\"type\":\"scattermapbox\",\"marker\":{\"colorbar\":{\"outlinewidth\":0,\"ticks\":\"\"}}}],\"scatterternary\":[{\"type\":\"scatterternary\",\"marker\":{\"colorbar\":{\"outlinewidth\":0,\"ticks\":\"\"}}}],\"scattercarpet\":[{\"type\":\"scattercarpet\",\"marker\":{\"colorbar\":{\"outlinewidth\":0,\"ticks\":\"\"}}}],\"carpet\":[{\"aaxis\":{\"endlinecolor\":\"#2a3f5f\",\"gridcolor\":\"white\",\"linecolor\":\"white\",\"minorgridcolor\":\"white\",\"startlinecolor\":\"#2a3f5f\"},\"baxis\":{\"endlinecolor\":\"#2a3f5f\",\"gridcolor\":\"white\",\"linecolor\":\"white\",\"minorgridcolor\":\"white\",\"startlinecolor\":\"#2a3f5f\"},\"type\":\"carpet\"}],\"table\":[{\"cells\":{\"fill\":{\"color\":\"#EBF0F8\"},\"line\":{\"color\":\"white\"}},\"header\":{\"fill\":{\"color\":\"#C8D4E3\"},\"line\":{\"color\":\"white\"}},\"type\":\"table\"}],\"barpolar\":[{\"marker\":{\"line\":{\"color\":\"#E5ECF6\",\"width\":0.5},\"pattern\":{\"fillmode\":\"overlay\",\"size\":10,\"solidity\":0.2}},\"type\":\"barpolar\"}],\"pie\":[{\"automargin\":true,\"type\":\"pie\"}]},\"layout\":{\"autotypenumbers\":\"strict\",\"colorway\":[\"#636efa\",\"#EF553B\",\"#00cc96\",\"#ab63fa\",\"#FFA15A\",\"#19d3f3\",\"#FF6692\",\"#B6E880\",\"#FF97FF\",\"#FECB52\"],\"font\":{\"color\":\"#2a3f5f\"},\"hovermode\":\"closest\",\"hoverlabel\":{\"align\":\"left\"},\"paper_bgcolor\":\"white\",\"plot_bgcolor\":\"#E5ECF6\",\"polar\":{\"bgcolor\":\"#E5ECF6\",\"angularaxis\":{\"gridcolor\":\"white\",\"linecolor\":\"white\",\"ticks\":\"\"},\"radialaxis\":{\"gridcolor\":\"white\",\"linecolor\":\"white\",\"ticks\":\"\"}},\"ternary\":{\"bgcolor\":\"#E5ECF6\",\"aaxis\":{\"gridcolor\":\"white\",\"linecolor\":\"white\",\"ticks\":\"\"},\"baxis\":{\"gridcolor\":\"white\",\"linecolor\":\"white\",\"ticks\":\"\"},\"caxis\":{\"gridcolor\":\"white\",\"linecolor\":\"white\",\"ticks\":\"\"}},\"coloraxis\":{\"colorbar\":{\"outlinewidth\":0,\"ticks\":\"\"}},\"colorscale\":{\"sequential\":[[0.0,\"#0d0887\"],[0.1111111111111111,\"#46039f\"],[0.2222222222222222,\"#7201a8\"],[0.3333333333333333,\"#9c179e\"],[0.4444444444444444,\"#bd3786\"],[0.5555555555555556,\"#d8576b\"],[0.6666666666666666,\"#ed7953\"],[0.7777777777777778,\"#fb9f3a\"],[0.8888888888888888,\"#fdca26\"],[1.0,\"#f0f921\"]],\"sequentialminus\":[[0.0,\"#0d0887\"],[0.1111111111111111,\"#46039f\"],[0.2222222222222222,\"#7201a8\"],[0.3333333333333333,\"#9c179e\"],[0.4444444444444444,\"#bd3786\"],[0.5555555555555556,\"#d8576b\"],[0.6666666666666666,\"#ed7953\"],[0.7777777777777778,\"#fb9f3a\"],[0.8888888888888888,\"#fdca26\"],[1.0,\"#f0f921\"]],\"diverging\":[[0,\"#8e0152\"],[0.1,\"#c51b7d\"],[0.2,\"#de77ae\"],[0.3,\"#f1b6da\"],[0.4,\"#fde0ef\"],[0.5,\"#f7f7f7\"],[0.6,\"#e6f5d0\"],[0.7,\"#b8e186\"],[0.8,\"#7fbc41\"],[0.9,\"#4d9221\"],[1,\"#276419\"]]},\"xaxis\":{\"gridcolor\":\"white\",\"linecolor\":\"white\",\"ticks\":\"\",\"title\":{\"standoff\":15},\"zerolinecolor\":\"white\",\"automargin\":true,\"zerolinewidth\":2},\"yaxis\":{\"gridcolor\":\"white\",\"linecolor\":\"white\",\"ticks\":\"\",\"title\":{\"standoff\":15},\"zerolinecolor\":\"white\",\"automargin\":true,\"zerolinewidth\":2},\"scene\":{\"xaxis\":{\"backgroundcolor\":\"#E5ECF6\",\"gridcolor\":\"white\",\"linecolor\":\"white\",\"showbackground\":true,\"ticks\":\"\",\"zerolinecolor\":\"white\",\"gridwidth\":2},\"yaxis\":{\"backgroundcolor\":\"#E5ECF6\",\"gridcolor\":\"white\",\"linecolor\":\"white\",\"showbackground\":true,\"ticks\":\"\",\"zerolinecolor\":\"white\",\"gridwidth\":2},\"zaxis\":{\"backgroundcolor\":\"#E5ECF6\",\"gridcolor\":\"white\",\"linecolor\":\"white\",\"showbackground\":true,\"ticks\":\"\",\"zerolinecolor\":\"white\",\"gridwidth\":2}},\"shapedefaults\":{\"line\":{\"color\":\"#2a3f5f\"}},\"annotationdefaults\":{\"arrowcolor\":\"#2a3f5f\",\"arrowhead\":0,\"arrowwidth\":1},\"geo\":{\"bgcolor\":\"white\",\"landcolor\":\"#E5ECF6\",\"subunitcolor\":\"white\",\"showland\":true,\"showlakes\":true,\"lakecolor\":\"white\"},\"title\":{\"x\":0.05},\"mapbox\":{\"style\":\"light\"}}},\"xaxis\":{\"anchor\":\"y\",\"domain\":[0.0,1.0],\"title\":{\"text\":\"18. How often do you feel depressed or down?\"}},\"yaxis\":{\"anchor\":\"x\",\"domain\":[0.0,1.0],\"title\":{\"text\":\"8. What is the average time you spend on social media every day?\"}},\"coloraxis\":{\"colorbar\":{\"title\":{\"text\":\"count\"}},\"colorscale\":[[0.0,\"#0d0887\"],[0.1111111111111111,\"#46039f\"],[0.2222222222222222,\"#7201a8\"],[0.3333333333333333,\"#9c179e\"],[0.4444444444444444,\"#bd3786\"],[0.5555555555555556,\"#d8576b\"],[0.6666666666666666,\"#ed7953\"],[0.7777777777777778,\"#fb9f3a\"],[0.8888888888888888,\"#fdca26\"],[1.0,\"#f0f921\"]]},\"legend\":{\"tracegroupgap\":0},\"title\":{\"text\":\"Heatmap of time on social media and feeling depressed\"},\"width\":800,\"height\":600},                        {\"responsive\": true}                    ).then(function(){\n",
       "                            \n",
       "var gd = document.getElementById('1dedbba7-ed84-45bd-a8eb-13807cbc2438');\n",
       "var x = new MutationObserver(function (mutations, observer) {{\n",
       "        var display = window.getComputedStyle(gd).display;\n",
       "        if (!display || display === 'none') {{\n",
       "            console.log([gd, 'removed!']);\n",
       "            Plotly.purge(gd);\n",
       "            observer.disconnect();\n",
       "        }}\n",
       "}});\n",
       "\n",
       "// Listen for the removal of the full notebook cells\n",
       "var notebookContainer = gd.closest('#notebook-container');\n",
       "if (notebookContainer) {{\n",
       "    x.observe(notebookContainer, {childList: true});\n",
       "}}\n",
       "\n",
       "// Listen for the clearing of the current output cell\n",
       "var outputEl = gd.closest('.output');\n",
       "if (outputEl) {{\n",
       "    x.observe(outputEl, {childList: true});\n",
       "}}\n",
       "\n",
       "                        })                };                });            </script>        </div>"
      ]
     },
     "metadata": {},
     "output_type": "display_data"
    }
   ],
   "source": [
    "fig = px.violin(df, x='6. Do you use social media?', y='1. What is your age?', title='Age relation to using social media')\n",
    "fig.update_layout(width=800, height=600) \n",
    "fig.show()\n",
    "fig = px.density_heatmap(df, x='18. How often do you feel depressed or down?', y='8. What is the average time you spend on social media every day?', title='Heatmap of time on social media and feeling depressed')\n",
    "fig.update_layout(width=800, height=600) \n",
    "fig.show()"
   ]
  },
  {
   "cell_type": "markdown",
   "id": "rotary-following",
   "metadata": {},
   "source": [
    "#### Write your insghts here"
   ]
  },
  {
   "cell_type": "markdown",
   "id": "a11fa7d9-a53f-4558-b6d1-f913ba213afa",
   "metadata": {},
   "source": [
    "### violin:\n",
    "- People who uses social media are mostly consisted in 20 to 24.\n",
    "- There some values in misentered in people who dont use social media(under zero).\n"
   ]
  },
  {
   "cell_type": "markdown",
   "id": "future-driving",
   "metadata": {},
   "source": [
    "#### Write your insghts here"
   ]
  },
  {
   "cell_type": "markdown",
   "id": "d8b97755-7cce-4c51-89a2-2a80a3307592",
   "metadata": {},
   "source": [
    "### Heatmap:\n",
    "- We have a high density where people uses social media 5 hours or more and always feel depressed.\n",
    "- People who uses social media less than hour are the less people to feel depressed.\n"
   ]
  },
  {
   "cell_type": "markdown",
   "id": "mysterious-development",
   "metadata": {},
   "source": [
    "### Multivariate Visualization \n",
    "* Plot two Charts\n",
    "* Provide each charts with at least two insights "
   ]
  },
  {
   "cell_type": "code",
   "execution_count": 46,
   "id": "dedicated-surprise",
   "metadata": {},
   "outputs": [
    {
     "data": {
      "application/vnd.plotly.v1+json": {
       "config": {
        "plotlyServerURL": "https://plot.ly"
       },
       "data": [
        {
         "hovertemplate": "7. What social media platforms do you commonly use?=%{x}<br>18. How often do you feel depressed or down?=%{marker.color}<br>1. What is your age?=%{z}<extra></extra>",
         "legendgroup": "",
         "marker": {
          "color": [
           5,
           5,
           4,
           4,
           4,
           3,
           5,
           5,
           5,
           1,
           5,
           3,
           3,
           3,
           5,
           3,
           4,
           2,
           3,
           2,
           2,
           3,
           4,
           4,
           3,
           4,
           4,
           4,
           4,
           5,
           5,
           3,
           2,
           3,
           5,
           4,
           3,
           5,
           2,
           1,
           3,
           4,
           2,
           5,
           3,
           3,
           1,
           3,
           2,
           1,
           3,
           3,
           5,
           1,
           1,
           5,
           3,
           4,
           5,
           1,
           4,
           4,
           5,
           5,
           1,
           2,
           4,
           4,
           4,
           3,
           1,
           5,
           4,
           2,
           5,
           2,
           5,
           4,
           5,
           5,
           4,
           1,
           4,
           4,
           2,
           4,
           2,
           1,
           3,
           5,
           4,
           4,
           4,
           3,
           4,
           3,
           1,
           4,
           5,
           2,
           3,
           5,
           4,
           3,
           1,
           2,
           3,
           1,
           2,
           3,
           2,
           4,
           2,
           2,
           4,
           2,
           3,
           3,
           5,
           4,
           1,
           3,
           5,
           4,
           1,
           4,
           4,
           4,
           4,
           3,
           1,
           3,
           3,
           2,
           2,
           4,
           1,
           1,
           3,
           4,
           1,
           3,
           4,
           2,
           5,
           3,
           4,
           2,
           2,
           2,
           2,
           1,
           2,
           3,
           4,
           3,
           2,
           1,
           4,
           4,
           2,
           1,
           3,
           3,
           3,
           2,
           2,
           2,
           1,
           2,
           3,
           3,
           5,
           3,
           4,
           1,
           1,
           4,
           3,
           4,
           4,
           3,
           1,
           5,
           3,
           2,
           3,
           3,
           4,
           2,
           4,
           4,
           4,
           5,
           4,
           1,
           3,
           2,
           1,
           1,
           2,
           3,
           3,
           3,
           5,
           2,
           1,
           5,
           1,
           4,
           3,
           1,
           5,
           1,
           4,
           3,
           1,
           2,
           5,
           2,
           3,
           2,
           3,
           3,
           4,
           2,
           4,
           2,
           1,
           4,
           4,
           1,
           5,
           1,
           4,
           4,
           2,
           5,
           5,
           4,
           4,
           2,
           3,
           3,
           3,
           4,
           4,
           2,
           1,
           4,
           1,
           5,
           5,
           2,
           2,
           3,
           5,
           1,
           4,
           3,
           2,
           5,
           3,
           3,
           2,
           3,
           2,
           4,
           3,
           3,
           2,
           5,
           3,
           5,
           3,
           5,
           5,
           5,
           5,
           5,
           3,
           4,
           2,
           5,
           4,
           3,
           2,
           5,
           4,
           3,
           3,
           4,
           4,
           5,
           1,
           2,
           4,
           4,
           3,
           5,
           5,
           5,
           4,
           4,
           3,
           3,
           5,
           1,
           2,
           2,
           5,
           3,
           2,
           5,
           4,
           3,
           3,
           5,
           5,
           5,
           5,
           4,
           3,
           2,
           5,
           5,
           5,
           5,
           4,
           4,
           1,
           4,
           3,
           5,
           3,
           4,
           1,
           4,
           3,
           5,
           3,
           3,
           5,
           2,
           5,
           5,
           1,
           4,
           3,
           5,
           4,
           3,
           3,
           5,
           2,
           3,
           4,
           3,
           3,
           4,
           3,
           2,
           4,
           2,
           1,
           5,
           4,
           5,
           1,
           5,
           2,
           4,
           3,
           3,
           2,
           5,
           5,
           4,
           5,
           1,
           5,
           5,
           4,
           5,
           3,
           2,
           3,
           2,
           4,
           4,
           3,
           5,
           5,
           5,
           2,
           2,
           5,
           5,
           1,
           5,
           4,
           3,
           3,
           1,
           1,
           5,
           5,
           4,
           4,
           4,
           3,
           3,
           5,
           5,
           4,
           5,
           2,
           3,
           4,
           3,
           3,
           2,
           5,
           4,
           1,
           4,
           3,
           4,
           3,
           5,
           5,
           5,
           5,
           5,
           4,
           3,
           3,
           2,
           2,
           4,
           2,
           1,
           3,
           4,
           3,
           3,
           5,
           5,
           4,
           2,
           2,
           4,
           3,
           1,
           3,
           1,
           1,
           2,
           4,
           2,
           1,
           3,
           5,
           3,
           2,
           2,
           3,
           1,
           5,
           1,
           5,
           4,
           2,
           4,
           4,
           5,
           3,
           4,
           2,
           4,
           2
          ],
          "coloraxis": "coloraxis",
          "symbol": "circle"
         },
         "mode": "markers",
         "name": "",
         "scene": "scene",
         "showlegend": false,
         "type": "scatter3d",
         "x": [
          "Facebook, Twitter, Instagram, YouTube, Discord, Reddit",
          "Facebook, Twitter, Instagram, YouTube, Discord, Reddit",
          "Facebook, Instagram, YouTube, Pinterest",
          "Facebook, Instagram",
          "Facebook, Instagram, YouTube",
          "Facebook, Twitter, Instagram, YouTube, Discord, Pinterest, TikTok",
          "Facebook, Instagram, YouTube, Snapchat, TikTok",
          "Facebook, Instagram, YouTube",
          "Facebook, Instagram, YouTube",
          "Reddit, Pinterest",
          "Facebook, Instagram, YouTube, Discord",
          "Facebook, Instagram, YouTube, Snapchat, Discord, Reddit, Pinterest, TikTok",
          "Facebook, Twitter, Instagram, YouTube, Snapchat, Discord, Reddit, Pinterest",
          "Facebook, Twitter, Instagram, YouTube, Snapchat, Reddit, Pinterest",
          "Facebook, YouTube, Pinterest",
          "Facebook, Instagram, YouTube, Reddit",
          "Facebook, YouTube, Discord",
          "Facebook, Instagram, YouTube, Reddit",
          "Facebook, YouTube, Discord, Reddit",
          "Facebook, Twitter, Instagram, YouTube",
          "Facebook, Instagram, YouTube, Discord, Reddit",
          "Facebook, Twitter, Instagram, YouTube, Discord, Reddit, TikTok",
          "Facebook, Instagram, YouTube, Pinterest",
          "Facebook, Instagram, YouTube, Snapchat, Pinterest",
          "Facebook, Twitter, YouTube, Discord",
          "Facebook, YouTube",
          "Facebook, Instagram, YouTube, Discord",
          "Facebook, Twitter, Instagram, YouTube",
          "Facebook, Instagram, YouTube, Snapchat, Discord, Pinterest, TikTok",
          "Facebook, Instagram, YouTube, Snapchat, Discord",
          "Facebook, Instagram, YouTube, Discord",
          "Facebook, YouTube, Pinterest",
          "Facebook, Instagram, YouTube, TikTok",
          "Facebook, Instagram, YouTube, Discord, Pinterest",
          "Facebook, Instagram, YouTube, Discord",
          "Facebook, Twitter, Instagram, YouTube, Discord",
          "Facebook, Instagram",
          "Facebook, Twitter, Instagram, YouTube, Snapchat, Discord, Reddit",
          "Facebook, Instagram, YouTube, Snapchat, Pinterest",
          "Facebook, YouTube, Discord",
          "Facebook, Instagram, YouTube, Snapchat",
          "Facebook, Instagram, YouTube, Snapchat",
          "YouTube",
          "Facebook, Instagram, YouTube, Snapchat, Pinterest",
          "Twitter, Discord, Reddit",
          "Facebook, Instagram, YouTube",
          "Facebook, YouTube",
          "Instagram, YouTube, Reddit, Pinterest",
          "Twitter, YouTube, Reddit",
          "Facebook, YouTube",
          "Facebook, Twitter, Instagram, YouTube, Snapchat, Discord, Reddit, Pinterest, TikTok",
          "YouTube, Snapchat, Discord",
          "Facebook",
          "Discord, Reddit",
          "YouTube, Discord, Reddit",
          "Facebook, Twitter, Instagram, YouTube, Snapchat, Reddit, TikTok",
          "Facebook, Instagram, YouTube, Snapchat, Discord, Reddit",
          "Facebook, Instagram, YouTube, Discord, Pinterest",
          "Facebook, Twitter, Instagram, YouTube, Snapchat, Discord, Reddit, Pinterest, TikTok",
          "Instagram, Reddit",
          "Facebook, Twitter, Instagram, YouTube, Discord",
          "YouTube, Reddit",
          "Facebook, Instagram, YouTube, Pinterest",
          "Reddit",
          "Discord, Reddit",
          "YouTube, Discord, Reddit",
          "Facebook, Instagram, Reddit, TikTok",
          "Twitter, Instagram, YouTube, Reddit, TikTok",
          "Reddit",
          "YouTube, Snapchat, Discord, Reddit",
          "Instagram, YouTube",
          "Instagram, YouTube, Discord, Reddit",
          "Twitter, Instagram, YouTube, Snapchat, Reddit, Pinterest, TikTok",
          "Twitter, YouTube, Discord, Reddit",
          "Facebook, YouTube, Discord, Reddit",
          "Reddit",
          "Facebook, YouTube, Reddit",
          "Facebook, Twitter, Instagram, YouTube, Snapchat, Discord, TikTok",
          "Facebook, YouTube, Reddit",
          "Facebook, YouTube, Discord, Reddit",
          "Twitter, Instagram, YouTube, Snapchat, Discord, Reddit",
          "Facebook, Instagram, YouTube, Snapchat, Discord, Reddit, Pinterest",
          "Instagram, YouTube, Snapchat, Discord, Reddit",
          "Facebook, Instagram, YouTube, Pinterest",
          "Facebook, Twitter, Instagram, YouTube, Reddit",
          "YouTube, Reddit",
          "Facebook, YouTube",
          "Reddit",
          "Facebook, YouTube",
          "Facebook, Instagram, YouTube, Snapchat, Pinterest",
          "Facebook, Instagram, YouTube, Snapchat",
          "Facebook, YouTube",
          "Facebook, Twitter, Instagram, YouTube, Snapchat",
          "Twitter, Instagram, YouTube, Snapchat, Discord, Reddit, TikTok",
          "Instagram",
          "Facebook, Instagram, YouTube, Snapchat, Discord",
          "Instagram, YouTube, Discord",
          "YouTube, Reddit",
          "Facebook, Instagram, YouTube, Pinterest",
          "Facebook, Instagram, YouTube, Snapchat, Discord, TikTok",
          "Facebook, Twitter, Instagram, YouTube",
          "Facebook, Twitter, Instagram, YouTube, Snapchat, Discord, Reddit, Pinterest",
          "Instagram",
          "Facebook, Twitter, Instagram, YouTube, Snapchat, Pinterest",
          "Facebook, Instagram, YouTube, Snapchat, Pinterest",
          "Facebook, YouTube",
          "Facebook, Instagram, TikTok",
          "Facebook, YouTube",
          "Facebook, Instagram, YouTube, Snapchat",
          "Facebook, Instagram, YouTube, Pinterest",
          "Facebook, Instagram, YouTube",
          "Facebook, Instagram, YouTube, Pinterest",
          "Facebook, YouTube",
          "Facebook, Instagram, Snapchat",
          "Facebook, Instagram, YouTube, Snapchat",
          "Facebook",
          "Facebook, Instagram",
          "Facebook",
          "Facebook, Instagram, YouTube, Snapchat, Discord, TikTok",
          "Facebook, Instagram, YouTube",
          "Facebook, Instagram",
          "Facebook, Instagram, YouTube, TikTok",
          "Facebook, YouTube, Snapchat, Pinterest",
          "Facebook, Instagram, YouTube, Snapchat",
          "Instagram",
          "Facebook, Instagram, YouTube, Snapchat",
          "Facebook, Twitter, Instagram, YouTube, Snapchat, Discord",
          "Facebook, Instagram, YouTube, Snapchat, Pinterest, TikTok",
          "Facebook, Instagram, YouTube",
          "Instagram, YouTube, Snapchat, Pinterest",
          "Facebook, Instagram, YouTube, Discord, Pinterest",
          "Facebook, YouTube",
          "Facebook, Twitter, Instagram, YouTube",
          "Facebook",
          "Instagram, YouTube",
          "Facebook, Twitter, Instagram, YouTube, Pinterest",
          "Facebook, YouTube, Pinterest",
          "Facebook, Twitter, Instagram, YouTube, Pinterest",
          "Facebook, Twitter, Instagram, YouTube, Snapchat, Pinterest",
          "Facebook, Twitter, Instagram, YouTube",
          "Facebook, Twitter, Instagram, YouTube, Pinterest",
          "Facebook, Instagram, YouTube",
          "Facebook, Twitter, Instagram, YouTube",
          "Facebook, Twitter, Instagram, YouTube, Snapchat",
          "Facebook, Instagram, YouTube, Snapchat, Discord",
          "Facebook",
          "Facebook, Twitter, Instagram, YouTube, Snapchat, Discord, Pinterest",
          "Facebook, Twitter, Instagram, YouTube",
          "Facebook, Instagram, YouTube",
          "Facebook, YouTube",
          "Facebook, YouTube, Discord",
          "Facebook, Instagram, YouTube, Discord, Pinterest",
          "Twitter, Instagram, YouTube",
          "Facebook, Twitter, YouTube",
          "Facebook, Twitter, Instagram, YouTube",
          "Facebook, Instagram, YouTube, Pinterest",
          "Twitter",
          "YouTube",
          "Facebook, Instagram, YouTube",
          "Facebook",
          "Facebook, Instagram, YouTube",
          "Facebook, Twitter, Instagram, YouTube, Snapchat, Discord, Reddit, Pinterest, TikTok",
          "Facebook, Instagram, YouTube, Pinterest, TikTok",
          "Twitter, YouTube",
          "Twitter, Instagram, YouTube, Reddit, TikTok",
          "Facebook, Twitter",
          "Facebook, YouTube, Pinterest",
          "Facebook, Twitter, Instagram, YouTube, Pinterest",
          "Twitter, YouTube",
          "Facebook, Twitter, Instagram, YouTube, Snapchat, Discord",
          "Twitter, Instagram, YouTube, Snapchat, Discord, Reddit, TikTok",
          "Facebook, YouTube",
          "Facebook, Instagram, YouTube",
          "Facebook, Instagram, YouTube, Snapchat",
          "Instagram, YouTube, Pinterest",
          "Twitter, Instagram, YouTube, Reddit, TikTok",
          "Facebook, YouTube",
          "Pinterest",
          "Facebook, Twitter, Instagram, YouTube, Snapchat, Pinterest",
          "Facebook, Instagram, YouTube, Pinterest",
          "Facebook, YouTube",
          "Facebook, Twitter, Instagram, YouTube",
          "Facebook, YouTube, TikTok",
          "Facebook, Twitter, Instagram, YouTube, Reddit, Pinterest, TikTok",
          "Facebook, Twitter, Instagram, YouTube, Snapchat, Discord, Pinterest, TikTok",
          "Facebook, YouTube",
          "Instagram, YouTube",
          "Facebook, Twitter, Instagram, YouTube, Pinterest",
          "Facebook, Instagram, Pinterest",
          "Instagram",
          "Facebook, YouTube, Discord, Reddit, Pinterest",
          "Facebook, Instagram, YouTube, Snapchat, Discord, Pinterest, TikTok",
          "Facebook, Instagram, YouTube, Snapchat",
          "Facebook, Instagram, YouTube, Snapchat",
          "Facebook, Instagram, YouTube, Snapchat, Discord, TikTok",
          "Facebook, Instagram, YouTube, Discord, Pinterest",
          "Facebook",
          "Facebook, Twitter, YouTube, Discord, Reddit",
          "Facebook, Instagram, YouTube",
          "Facebook, YouTube, Discord, Reddit",
          "Facebook, Twitter, Instagram, YouTube, Snapchat, Discord",
          "Facebook, Instagram, YouTube, Snapchat, Discord, Reddit",
          "Facebook, Instagram, YouTube",
          "Facebook, Instagram, YouTube, Discord, Reddit, TikTok",
          "Facebook, Discord, Reddit",
          "Instagram, Discord, Reddit, Pinterest, TikTok",
          "Facebook, Instagram, YouTube",
          "Facebook, Instagram, YouTube, Discord",
          "Facebook, Instagram, YouTube, Snapchat, Pinterest",
          "Twitter, Instagram, YouTube, Snapchat, Discord, Reddit, Pinterest, TikTok",
          "Facebook, Instagram, YouTube, Discord",
          "YouTube, Discord, Reddit",
          "Facebook, YouTube, TikTok",
          "Facebook, YouTube, Snapchat",
          "Instagram",
          "Facebook, Twitter, Instagram, YouTube, Discord, Reddit",
          "Facebook, YouTube",
          "Facebook, YouTube",
          "Facebook, Instagram, YouTube, Snapchat",
          "Facebook",
          "Facebook, Twitter, Instagram, YouTube, Snapchat",
          "Facebook, Twitter, Instagram, YouTube, Snapchat, Discord, Pinterest",
          "Facebook, YouTube",
          "Facebook, Twitter, Instagram, YouTube, Snapchat, Discord, Pinterest",
          "Facebook",
          "Facebook, Instagram, YouTube, Snapchat, TikTok",
          "Facebook, Instagram, YouTube, Snapchat, Discord, Pinterest",
          "Facebook, Instagram, YouTube",
          "Facebook, YouTube",
          "Facebook, Instagram, YouTube",
          "Facebook, Instagram, YouTube, Discord",
          "Facebook, Instagram, YouTube",
          "YouTube",
          "Facebook, YouTube, Discord, Pinterest",
          "Facebook, Twitter, Instagram, YouTube, Discord, Reddit, TikTok",
          "Instagram, YouTube, Discord, Reddit, TikTok",
          "Facebook, Instagram, YouTube, Pinterest",
          "Facebook, Instagram, YouTube, Snapchat, Pinterest, TikTok",
          "TikTok",
          "Facebook, Instagram, YouTube",
          "Facebook, Twitter, Instagram, YouTube, Snapchat, TikTok",
          "Facebook, Instagram, YouTube, Snapchat, Discord, TikTok",
          "Facebook, Instagram",
          "Facebook, Instagram, YouTube, Discord",
          "Facebook, Instagram, YouTube, Snapchat, Discord, Reddit",
          "Facebook, Instagram, YouTube, Snapchat",
          "Facebook, YouTube, Discord",
          "Facebook, Instagram, YouTube, Snapchat",
          "Facebook",
          "Facebook, Instagram, YouTube, Snapchat, Discord, Pinterest",
          "Facebook",
          "Facebook, Instagram, YouTube, Discord, Pinterest, TikTok",
          "Facebook, Twitter, Instagram, YouTube, Snapchat, Discord, Pinterest, TikTok",
          "Facebook, Instagram, YouTube, Pinterest",
          "Facebook, Twitter, Instagram, YouTube, Snapchat, Discord, Reddit",
          "Facebook, Instagram, YouTube, Snapchat",
          "Facebook, Instagram, YouTube, Snapchat, Discord",
          "Facebook, Instagram, YouTube, Snapchat, Discord",
          "Facebook, Instagram, YouTube, TikTok",
          "Facebook, Instagram, Discord",
          "Facebook, YouTube, Snapchat",
          "Facebook, Instagram, YouTube, Snapchat, Discord, TikTok",
          "Facebook, Instagram, YouTube",
          "Facebook, Twitter, Instagram, YouTube, Discord, Reddit, Pinterest, TikTok",
          "Facebook, Instagram, YouTube, Snapchat",
          "Facebook, Instagram, YouTube, Discord",
          "Facebook, Twitter, Instagram, YouTube",
          "YouTube",
          "Facebook, Instagram, YouTube, Snapchat, Pinterest, TikTok",
          "Facebook, Twitter, YouTube, Discord, Pinterest",
          "Facebook, Twitter, Instagram, YouTube, Snapchat, Discord, Reddit, Pinterest, TikTok",
          "Facebook, Instagram, YouTube, Snapchat, Discord, Pinterest, TikTok",
          "Facebook, Twitter, Instagram, YouTube, Snapchat, Discord, Reddit, Pinterest, TikTok",
          "YouTube, Discord, Reddit",
          "Facebook, Twitter, Instagram, YouTube, Discord, Reddit",
          "Facebook, Instagram, YouTube, Snapchat, Discord, Pinterest, TikTok",
          "Facebook, Instagram, YouTube, Snapchat, Discord",
          "Facebook, Instagram, YouTube, Discord",
          "Facebook, Instagram, YouTube, Discord",
          "Discord",
          "Facebook, Instagram, YouTube, Discord, Pinterest, TikTok",
          "Facebook, Instagram, YouTube, Discord, Reddit, Pinterest",
          "Facebook, Instagram, YouTube, Snapchat",
          "Facebook, Twitter, Instagram, YouTube, Snapchat, Discord, TikTok",
          "Facebook, Twitter, Instagram, YouTube",
          "Facebook, Instagram, YouTube, Snapchat",
          "Facebook, Twitter, Instagram, YouTube, Discord",
          "Facebook, Instagram, YouTube, Snapchat, Pinterest",
          "Facebook, Twitter, Instagram, YouTube, Snapchat, Discord, Pinterest",
          "Facebook, Instagram, YouTube, Discord, Pinterest",
          "Facebook, YouTube",
          "Facebook, Instagram, YouTube, Snapchat, Discord",
          "Facebook, Instagram, YouTube, Snapchat, Discord, Reddit, Pinterest, TikTok",
          "Facebook, Instagram, YouTube, Snapchat, TikTok",
          "Facebook, Instagram, YouTube",
          "Facebook, Twitter, Instagram, YouTube, Snapchat, Pinterest",
          "Facebook, Discord",
          "Facebook, Twitter, Instagram, YouTube",
          "Facebook, Twitter, Instagram, YouTube, Reddit",
          "Facebook",
          "Facebook, Instagram, YouTube, Snapchat, Pinterest",
          "Facebook, Instagram, YouTube, Snapchat",
          "Instagram, YouTube, Snapchat, Discord, Reddit",
          "Facebook, TikTok",
          "Facebook, Instagram, YouTube",
          "Facebook, Twitter, Instagram, YouTube, Snapchat, Discord, Reddit, TikTok",
          "Facebook, Instagram, YouTube",
          "Facebook, YouTube",
          "Facebook, Instagram, YouTube, Snapchat, Discord, Pinterest",
          "Twitter, Instagram, YouTube",
          "Instagram, YouTube, Discord, Pinterest",
          "Facebook, Twitter, Instagram, YouTube, Snapchat, Discord, Reddit, Pinterest",
          "Facebook, Instagram, YouTube, Snapchat, Pinterest, TikTok",
          "Facebook, Instagram",
          "Facebook, Twitter, Instagram, YouTube, Snapchat, TikTok",
          "Facebook",
          "Facebook, Twitter, Instagram, YouTube, Snapchat, Discord, Reddit, Pinterest",
          "Facebook, Instagram, YouTube, Snapchat",
          "Facebook, Instagram, YouTube, Snapchat, Pinterest, TikTok",
          "Facebook, YouTube, Snapchat, Discord",
          "Facebook, Twitter, Instagram, YouTube, Snapchat, TikTok",
          "Facebook, Instagram, YouTube, Snapchat, Discord, Pinterest",
          "Facebook, Twitter, Instagram, YouTube, Discord, Reddit, Pinterest",
          "Facebook, Twitter, Instagram, YouTube, Snapchat, Discord",
          "Facebook, Twitter, Instagram, YouTube, Snapchat, Discord, Reddit",
          "Facebook, Instagram, YouTube, Snapchat, Reddit, Pinterest, TikTok",
          "Facebook, Instagram, YouTube, Snapchat, Discord, TikTok",
          "Facebook, Instagram, YouTube, Discord, Pinterest",
          "Facebook, Instagram, Snapchat, Pinterest, TikTok",
          "Facebook, Twitter, Instagram, YouTube, Snapchat, Discord, Reddit, Pinterest, TikTok",
          "Facebook, Twitter, Instagram, YouTube, Snapchat, Discord, Reddit, Pinterest, TikTok",
          "Facebook, Twitter, Instagram, YouTube, Snapchat, Discord, Reddit",
          "Facebook, Twitter, Instagram, YouTube, Reddit, Pinterest",
          "Facebook, Instagram, YouTube, Pinterest, TikTok",
          "Facebook, Instagram, YouTube, Discord",
          "Facebook, Twitter, Instagram, YouTube, Snapchat",
          "Facebook, Twitter, Instagram, YouTube, Snapchat, Discord, Reddit, Pinterest",
          "Facebook, Instagram, YouTube",
          "Facebook, Instagram, YouTube, Snapchat, Discord, Reddit",
          "Facebook, Twitter, Instagram, Snapchat, Reddit",
          "YouTube, Discord",
          "Facebook, Instagram, YouTube",
          "Facebook, Instagram",
          "Facebook, Instagram, YouTube, Snapchat, Discord, TikTok",
          "Facebook, Instagram, YouTube, Snapchat, Discord, Reddit, Pinterest, TikTok",
          "Facebook, Instagram, YouTube, Snapchat, Discord",
          "Facebook, YouTube",
          "Facebook, Twitter, Instagram, YouTube, Snapchat, Discord, Reddit, Pinterest, TikTok",
          "Facebook, Twitter, Instagram, YouTube, Snapchat, Discord, Reddit",
          "Facebook, YouTube",
          "Facebook, Instagram, YouTube, Snapchat, Discord",
          "Facebook, YouTube",
          "Facebook, Instagram, YouTube, Discord, Reddit",
          "Facebook, Twitter, Instagram, YouTube, Reddit, Pinterest",
          "Facebook, Instagram, YouTube, Snapchat, Discord, Reddit, TikTok",
          "Facebook, Instagram, YouTube, Discord",
          "Twitter, Discord, Reddit",
          "Facebook, Twitter, Instagram, YouTube, Snapchat, Discord, Pinterest",
          "Twitter, Instagram, TikTok",
          "Facebook, Instagram, YouTube, Snapchat, Discord",
          "Facebook, Instagram, YouTube, TikTok",
          "Facebook, Instagram, YouTube, Pinterest",
          "Facebook, Twitter, Instagram, YouTube, Snapchat, Pinterest",
          "Facebook, Instagram, YouTube, Snapchat, Discord",
          "Facebook, Instagram, YouTube, Snapchat, Discord",
          "Facebook, Twitter, Instagram, YouTube, Snapchat, Discord, Reddit, Pinterest, TikTok",
          "Facebook, Instagram, YouTube",
          "Facebook, Instagram, YouTube, Snapchat, Discord",
          "Facebook, Instagram, YouTube, Snapchat",
          "Facebook, Instagram, Snapchat, Discord, Pinterest, TikTok",
          "Facebook, Twitter, Instagram, YouTube, Snapchat, Discord, Reddit, Pinterest",
          "Facebook, Instagram, YouTube, Snapchat",
          "YouTube, Pinterest",
          "Facebook, Twitter, Instagram, YouTube, Reddit, Pinterest",
          "Facebook, Twitter, Instagram, YouTube, Snapchat",
          "Facebook, Twitter, Instagram, YouTube, Snapchat, Discord, Pinterest, TikTok",
          "Facebook, Twitter, Instagram, YouTube, Snapchat, Discord, Reddit, Pinterest, TikTok",
          "Facebook, Instagram, YouTube",
          "Facebook, Twitter, Instagram, YouTube, Snapchat, Discord, Reddit",
          "Facebook, Instagram, YouTube, Snapchat",
          "Facebook, Instagram, YouTube, Snapchat, Pinterest, TikTok",
          "Instagram, YouTube, Discord, Reddit, Pinterest",
          "Facebook, YouTube",
          "Facebook, Twitter, Instagram, YouTube, Snapchat, Discord, Reddit, Pinterest, TikTok",
          "Facebook, Instagram, YouTube, Snapchat",
          "Facebook, YouTube, Discord",
          "Facebook, Instagram, YouTube, Snapchat, Discord, Pinterest, TikTok",
          "Facebook, Instagram, YouTube, Snapchat, Discord, Reddit, Pinterest",
          "Twitter, Instagram, YouTube, TikTok",
          "Facebook, Instagram, YouTube, Snapchat, Discord, Reddit, Pinterest, TikTok",
          "Facebook, Instagram, YouTube, Snapchat, Discord",
          "Facebook, Twitter, Instagram, YouTube, Discord, Pinterest",
          "Facebook, Twitter, Instagram, YouTube, Snapchat, Discord, Reddit",
          "Facebook, Instagram, YouTube, Snapchat, Discord",
          "Facebook, Twitter, Instagram, YouTube, Snapchat, Discord, Pinterest, TikTok",
          "Facebook, Instagram, YouTube, Pinterest",
          "Facebook, Instagram, YouTube, Snapchat",
          "Facebook",
          "Facebook, Twitter, Instagram, YouTube, Snapchat, Pinterest",
          "Facebook, Instagram, YouTube, Snapchat",
          "Facebook, Twitter, Instagram, YouTube",
          "Facebook, YouTube",
          "Facebook, Instagram, YouTube, Reddit, Pinterest, TikTok",
          "Facebook",
          "Facebook",
          "Facebook, YouTube, Discord, Pinterest",
          "Facebook, Snapchat, Reddit",
          "Facebook, Instagram, Snapchat",
          "Facebook, Instagram, TikTok",
          "Facebook, Twitter, Instagram, YouTube, Reddit",
          "Facebook, Instagram, YouTube, Reddit, Pinterest",
          "Facebook, Instagram, YouTube, Discord, Reddit",
          "Facebook, Instagram, YouTube, Snapchat",
          "Facebook, Instagram, YouTube, Discord",
          "Facebook",
          "Facebook, Twitter, Instagram, YouTube, Snapchat, Discord, TikTok",
          "Facebook, Instagram, YouTube, Discord",
          "Facebook, Instagram, YouTube, Snapchat, Reddit, Pinterest, TikTok",
          "Facebook, Instagram, YouTube, Snapchat, Discord",
          "Facebook, Instagram, YouTube, Snapchat, Discord",
          "Facebook, Instagram, YouTube, Snapchat, Discord",
          "Facebook, Twitter, Instagram, YouTube, Discord, Reddit, Pinterest",
          "Facebook, Instagram, YouTube, Reddit",
          "Facebook, Twitter, Instagram, YouTube, Snapchat, Discord, TikTok",
          "Facebook, Instagram, YouTube, Snapchat, Discord, Reddit, Pinterest",
          "Facebook, Instagram, YouTube, Pinterest",
          "Facebook, Instagram, YouTube, Snapchat",
          "Facebook, Instagram, YouTube, Pinterest",
          "Facebook, Instagram, YouTube",
          "Facebook, Twitter, Instagram, YouTube, Snapchat, Discord, TikTok",
          "Facebook, Instagram, YouTube, Snapchat, Discord, Reddit, Pinterest",
          "Facebook, Instagram, YouTube, Snapchat, Discord, Reddit, Pinterest",
          "Facebook, Instagram, YouTube, Discord",
          "Facebook, Twitter, Instagram, YouTube, Snapchat, Discord, Reddit",
          "YouTube",
          "Facebook, Instagram",
          "Facebook, Instagram, Snapchat",
          "Facebook, Instagram, YouTube, Reddit, TikTok",
          "Facebook, Instagram, YouTube",
          "Facebook, Instagram, YouTube, Snapchat, Discord, Reddit, TikTok",
          "Facebook, Instagram, YouTube, Discord",
          "YouTube",
          "Facebook, YouTube, Discord, Reddit",
          "Facebook, Twitter, Instagram, YouTube, Pinterest",
          "Facebook, Instagram, YouTube",
          "Facebook, Instagram, YouTube, Discord, Reddit, Pinterest",
          "Facebook, Instagram, YouTube, Snapchat, Pinterest, TikTok",
          "Facebook, Instagram, YouTube, Snapchat",
          "Facebook, Instagram, YouTube, Snapchat, Discord",
          "Facebook, Twitter, Instagram, YouTube, Pinterest",
          "Facebook, Instagram, Discord",
          "Facebook, Instagram, YouTube, Discord, Reddit",
          "Facebook, Instagram, YouTube, Snapchat, Discord, Reddit, Pinterest, TikTok",
          "Facebook, YouTube",
          "Facebook, YouTube, Pinterest",
          "Facebook, Instagram, YouTube",
          "Facebook, Twitter, YouTube, Pinterest",
          "Facebook, Twitter, Instagram, YouTube",
          "Facebook",
          "Facebook, YouTube, Discord",
          "Facebook, Instagram",
          "Twitter, Instagram, YouTube",
          "Facebook, Instagram, YouTube, Pinterest",
          "Instagram, YouTube, Discord",
          "Instagram, Discord",
          "Twitter, Instagram, YouTube, Discord, Pinterest",
          "Facebook, Instagram, YouTube, Discord",
          "Discord, Reddit",
          "Pinterest",
          "Instagram, YouTube, Discord, Reddit",
          "Instagram, YouTube, Snapchat, Discord, Reddit, Pinterest, TikTok",
          "Facebook, Instagram, YouTube",
          "Facebook, Instagram, YouTube",
          "Facebook, YouTube, TikTok",
          "Facebook, Instagram, YouTube",
          "Facebook, Instagram",
          "Facebook, Instagram, YouTube",
          "Facebook, YouTube",
          "Facebook, YouTube",
          "Facebook, Twitter, Instagram, YouTube, Discord, Pinterest",
          "Facebook, YouTube"
         ],
         "y": [
          5,
          5,
          4,
          4,
          4,
          3,
          5,
          5,
          5,
          1,
          5,
          3,
          3,
          3,
          5,
          3,
          4,
          2,
          3,
          2,
          2,
          3,
          4,
          4,
          3,
          4,
          4,
          4,
          4,
          5,
          5,
          3,
          2,
          3,
          5,
          4,
          3,
          5,
          2,
          1,
          3,
          4,
          2,
          5,
          3,
          3,
          1,
          3,
          2,
          1,
          3,
          3,
          5,
          1,
          1,
          5,
          3,
          4,
          5,
          1,
          4,
          4,
          5,
          5,
          1,
          2,
          4,
          4,
          4,
          3,
          1,
          5,
          4,
          2,
          5,
          2,
          5,
          4,
          5,
          5,
          4,
          1,
          4,
          4,
          2,
          4,
          2,
          1,
          3,
          5,
          4,
          4,
          4,
          3,
          4,
          3,
          1,
          4,
          5,
          2,
          3,
          5,
          4,
          3,
          1,
          2,
          3,
          1,
          2,
          3,
          2,
          4,
          2,
          2,
          4,
          2,
          3,
          3,
          5,
          4,
          1,
          3,
          5,
          4,
          1,
          4,
          4,
          4,
          4,
          3,
          1,
          3,
          3,
          2,
          2,
          4,
          1,
          1,
          3,
          4,
          1,
          3,
          4,
          2,
          5,
          3,
          4,
          2,
          2,
          2,
          2,
          1,
          2,
          3,
          4,
          3,
          2,
          1,
          4,
          4,
          2,
          1,
          3,
          3,
          3,
          2,
          2,
          2,
          1,
          2,
          3,
          3,
          5,
          3,
          4,
          1,
          1,
          4,
          3,
          4,
          4,
          3,
          1,
          5,
          3,
          2,
          3,
          3,
          4,
          2,
          4,
          4,
          4,
          5,
          4,
          1,
          3,
          2,
          1,
          1,
          2,
          3,
          3,
          3,
          5,
          2,
          1,
          5,
          1,
          4,
          3,
          1,
          5,
          1,
          4,
          3,
          1,
          2,
          5,
          2,
          3,
          2,
          3,
          3,
          4,
          2,
          4,
          2,
          1,
          4,
          4,
          1,
          5,
          1,
          4,
          4,
          2,
          5,
          5,
          4,
          4,
          2,
          3,
          3,
          3,
          4,
          4,
          2,
          1,
          4,
          1,
          5,
          5,
          2,
          2,
          3,
          5,
          1,
          4,
          3,
          2,
          5,
          3,
          3,
          2,
          3,
          2,
          4,
          3,
          3,
          2,
          5,
          3,
          5,
          3,
          5,
          5,
          5,
          5,
          5,
          3,
          4,
          2,
          5,
          4,
          3,
          2,
          5,
          4,
          3,
          3,
          4,
          4,
          5,
          1,
          2,
          4,
          4,
          3,
          5,
          5,
          5,
          4,
          4,
          3,
          3,
          5,
          1,
          2,
          2,
          5,
          3,
          2,
          5,
          4,
          3,
          3,
          5,
          5,
          5,
          5,
          4,
          3,
          2,
          5,
          5,
          5,
          5,
          4,
          4,
          1,
          4,
          3,
          5,
          3,
          4,
          1,
          4,
          3,
          5,
          3,
          3,
          5,
          2,
          5,
          5,
          1,
          4,
          3,
          5,
          4,
          3,
          3,
          5,
          2,
          3,
          4,
          3,
          3,
          4,
          3,
          2,
          4,
          2,
          1,
          5,
          4,
          5,
          1,
          5,
          2,
          4,
          3,
          3,
          2,
          5,
          5,
          4,
          5,
          1,
          5,
          5,
          4,
          5,
          3,
          2,
          3,
          2,
          4,
          4,
          3,
          5,
          5,
          5,
          2,
          2,
          5,
          5,
          1,
          5,
          4,
          3,
          3,
          1,
          1,
          5,
          5,
          4,
          4,
          4,
          3,
          3,
          5,
          5,
          4,
          5,
          2,
          3,
          4,
          3,
          3,
          2,
          5,
          4,
          1,
          4,
          3,
          4,
          3,
          5,
          5,
          5,
          5,
          5,
          4,
          3,
          3,
          2,
          2,
          4,
          2,
          1,
          3,
          4,
          3,
          3,
          5,
          5,
          4,
          2,
          2,
          4,
          3,
          1,
          3,
          1,
          1,
          2,
          4,
          2,
          1,
          3,
          5,
          3,
          2,
          2,
          3,
          1,
          5,
          1,
          5,
          4,
          2,
          4,
          4,
          5,
          3,
          4,
          2,
          4,
          2
         ],
         "z": [
          21,
          21,
          21,
          21,
          21,
          22,
          21,
          21,
          21,
          20,
          24,
          21,
          22,
          21,
          22,
          23,
          21,
          25,
          28,
          34,
          22,
          23,
          26,
          23,
          23,
          35,
          20,
          35,
          22,
          21,
          22,
          35,
          24,
          18,
          19,
          21,
          21,
          23,
          22,
          22,
          21,
          21,
          56,
          19,
          24,
          22,
          65,
          17,
          40,
          33,
          22,
          24,
          26,
          55,
          26,
          27,
          22,
          19,
          22,
          20,
          25,
          25,
          18,
          25,
          19,
          24,
          21,
          18,
          14,
          25,
          33,
          23,
          14,
          38,
          23,
          26,
          24,
          21,
          18,
          28,
          22,
          21,
          21,
          21,
          17,
          24,
          22,
          32,
          22,
          20,
          22,
          28,
          22,
          17,
          30,
          22,
          14,
          20,
          22,
          16,
          22,
          22,
          22,
          22,
          21,
          23,
          23,
          48,
          21,
          47,
          48,
          26,
          47,
          47,
          27,
          34,
          20,
          22,
          23,
          20,
          48,
          20,
          20,
          22,
          22,
          20,
          24,
          23,
          20,
          16,
          50,
          47,
          24,
          38,
          50,
          49,
          47,
          48,
          51,
          50,
          47,
          27,
          40,
          46,
          21,
          47,
          20,
          47,
          48,
          49,
          21,
          32,
          47,
          50,
          48,
          21,
          47,
          36,
          37,
          19,
          30,
          48,
          48,
          48,
          47,
          47,
          48,
          21,
          48,
          21,
          20,
          20,
          20,
          21,
          20,
          47,
          35,
          23,
          21,
          21,
          37,
          48,
          47,
          25,
          22,
          45,
          47,
          47,
          24,
          21,
          22,
          19,
          21,
          22,
          20,
          42,
          35,
          38,
          17,
          32,
          21,
          22,
          27,
          21,
          27,
          20,
          27,
          24,
          26,
          20,
          31,
          21,
          34,
          22,
          20,
          23,
          48,
          37,
          22,
          50,
          21,
          23,
          21,
          22,
          22,
          22,
          19,
          23,
          46,
          21,
          24,
          20,
          25,
          21,
          23,
          22,
          36,
          22,
          69,
          25,
          22,
          23,
          23,
          19,
          21,
          27,
          25,
          20,
          34,
          23,
          34,
          26,
          25,
          22,
          20,
          23,
          91,
          22,
          23,
          21,
          36,
          21,
          22,
          22,
          22,
          20,
          26,
          21,
          20,
          21,
          19,
          20,
          22,
          23,
          21,
          21,
          22,
          26,
          22,
          17,
          23,
          21,
          22,
          20,
          24,
          22,
          24,
          22,
          26,
          24,
          22,
          25,
          21,
          20,
          22,
          25,
          17,
          22,
          26,
          22,
          23,
          25,
          21,
          30,
          23,
          22,
          21,
          20,
          18,
          20,
          15,
          22,
          17,
          21,
          22,
          23,
          24,
          21,
          22,
          22,
          21,
          21,
          18,
          19,
          22,
          21,
          21,
          22,
          21,
          23,
          19,
          26,
          27,
          25,
          20,
          20,
          22,
          18,
          22,
          20,
          24,
          21,
          29,
          21,
          19,
          21,
          43,
          22,
          24,
          18,
          19,
          37,
          24,
          29,
          19,
          35,
          22,
          23,
          22,
          25,
          19,
          29,
          21,
          21,
          22,
          23,
          22,
          20,
          22,
          27,
          24,
          21,
          23,
          21,
          23,
          24,
          21,
          30,
          23,
          22,
          29,
          20,
          26.7,
          24,
          26,
          22,
          23,
          19,
          21,
          20,
          22,
          22,
          23,
          22,
          20,
          27,
          22,
          21,
          21,
          24,
          19,
          52,
          26,
          44,
          44,
          19,
          35,
          21,
          20,
          24,
          21,
          24,
          21,
          17,
          26,
          18,
          18,
          18,
          23,
          20,
          23,
          25,
          26,
          20,
          19,
          17,
          24,
          29,
          30,
          21,
          23,
          21,
          20,
          21,
          22,
          22,
          22,
          27,
          21,
          23,
          22,
          21,
          23,
          21,
          20,
          23,
          22,
          20,
          21,
          25,
          21,
          28,
          22,
          60,
          49,
          34,
          56,
          51,
          23,
          21,
          50,
          22,
          28,
          13,
          14,
          13,
          23,
          18,
          18,
          15,
          20,
          20,
          35,
          26,
          30,
          32,
          24,
          26,
          29,
          21,
          53
         ]
        }
       ],
       "layout": {
        "coloraxis": {
         "colorbar": {
          "title": {
           "text": "18. How often do you feel depressed or down?"
          }
         },
         "colorscale": [
          [
           0,
           "#0d0887"
          ],
          [
           0.1111111111111111,
           "#46039f"
          ],
          [
           0.2222222222222222,
           "#7201a8"
          ],
          [
           0.3333333333333333,
           "#9c179e"
          ],
          [
           0.4444444444444444,
           "#bd3786"
          ],
          [
           0.5555555555555556,
           "#d8576b"
          ],
          [
           0.6666666666666666,
           "#ed7953"
          ],
          [
           0.7777777777777778,
           "#fb9f3a"
          ],
          [
           0.8888888888888888,
           "#fdca26"
          ],
          [
           1,
           "#f0f921"
          ]
         ]
        },
        "height": 600,
        "legend": {
         "tracegroupgap": 0
        },
        "scene": {
         "aspectmode": "auto",
         "aspectratio": {
          "x": 1,
          "y": 1,
          "z": 1
         },
         "domain": {
          "x": [
           0,
           1
          ],
          "y": [
           0,
           1
          ]
         },
         "xaxis": {
          "title": {
           "text": "7. What social media platforms do you commonly use?"
          },
          "type": "category"
         },
         "yaxis": {
          "title": {
           "text": "18. How often do you feel depressed or down?"
          },
          "type": "linear"
         },
         "zaxis": {
          "title": {
           "text": "1. What is your age?"
          },
          "type": "linear"
         }
        },
        "template": {
         "data": {
          "bar": [
           {
            "error_x": {
             "color": "#2a3f5f"
            },
            "error_y": {
             "color": "#2a3f5f"
            },
            "marker": {
             "line": {
              "color": "#E5ECF6",
              "width": 0.5
             },
             "pattern": {
              "fillmode": "overlay",
              "size": 10,
              "solidity": 0.2
             }
            },
            "type": "bar"
           }
          ],
          "barpolar": [
           {
            "marker": {
             "line": {
              "color": "#E5ECF6",
              "width": 0.5
             },
             "pattern": {
              "fillmode": "overlay",
              "size": 10,
              "solidity": 0.2
             }
            },
            "type": "barpolar"
           }
          ],
          "carpet": [
           {
            "aaxis": {
             "endlinecolor": "#2a3f5f",
             "gridcolor": "white",
             "linecolor": "white",
             "minorgridcolor": "white",
             "startlinecolor": "#2a3f5f"
            },
            "baxis": {
             "endlinecolor": "#2a3f5f",
             "gridcolor": "white",
             "linecolor": "white",
             "minorgridcolor": "white",
             "startlinecolor": "#2a3f5f"
            },
            "type": "carpet"
           }
          ],
          "choropleth": [
           {
            "colorbar": {
             "outlinewidth": 0,
             "ticks": ""
            },
            "type": "choropleth"
           }
          ],
          "contour": [
           {
            "colorbar": {
             "outlinewidth": 0,
             "ticks": ""
            },
            "colorscale": [
             [
              0,
              "#0d0887"
             ],
             [
              0.1111111111111111,
              "#46039f"
             ],
             [
              0.2222222222222222,
              "#7201a8"
             ],
             [
              0.3333333333333333,
              "#9c179e"
             ],
             [
              0.4444444444444444,
              "#bd3786"
             ],
             [
              0.5555555555555556,
              "#d8576b"
             ],
             [
              0.6666666666666666,
              "#ed7953"
             ],
             [
              0.7777777777777778,
              "#fb9f3a"
             ],
             [
              0.8888888888888888,
              "#fdca26"
             ],
             [
              1,
              "#f0f921"
             ]
            ],
            "type": "contour"
           }
          ],
          "contourcarpet": [
           {
            "colorbar": {
             "outlinewidth": 0,
             "ticks": ""
            },
            "type": "contourcarpet"
           }
          ],
          "heatmap": [
           {
            "colorbar": {
             "outlinewidth": 0,
             "ticks": ""
            },
            "colorscale": [
             [
              0,
              "#0d0887"
             ],
             [
              0.1111111111111111,
              "#46039f"
             ],
             [
              0.2222222222222222,
              "#7201a8"
             ],
             [
              0.3333333333333333,
              "#9c179e"
             ],
             [
              0.4444444444444444,
              "#bd3786"
             ],
             [
              0.5555555555555556,
              "#d8576b"
             ],
             [
              0.6666666666666666,
              "#ed7953"
             ],
             [
              0.7777777777777778,
              "#fb9f3a"
             ],
             [
              0.8888888888888888,
              "#fdca26"
             ],
             [
              1,
              "#f0f921"
             ]
            ],
            "type": "heatmap"
           }
          ],
          "heatmapgl": [
           {
            "colorbar": {
             "outlinewidth": 0,
             "ticks": ""
            },
            "colorscale": [
             [
              0,
              "#0d0887"
             ],
             [
              0.1111111111111111,
              "#46039f"
             ],
             [
              0.2222222222222222,
              "#7201a8"
             ],
             [
              0.3333333333333333,
              "#9c179e"
             ],
             [
              0.4444444444444444,
              "#bd3786"
             ],
             [
              0.5555555555555556,
              "#d8576b"
             ],
             [
              0.6666666666666666,
              "#ed7953"
             ],
             [
              0.7777777777777778,
              "#fb9f3a"
             ],
             [
              0.8888888888888888,
              "#fdca26"
             ],
             [
              1,
              "#f0f921"
             ]
            ],
            "type": "heatmapgl"
           }
          ],
          "histogram": [
           {
            "marker": {
             "pattern": {
              "fillmode": "overlay",
              "size": 10,
              "solidity": 0.2
             }
            },
            "type": "histogram"
           }
          ],
          "histogram2d": [
           {
            "colorbar": {
             "outlinewidth": 0,
             "ticks": ""
            },
            "colorscale": [
             [
              0,
              "#0d0887"
             ],
             [
              0.1111111111111111,
              "#46039f"
             ],
             [
              0.2222222222222222,
              "#7201a8"
             ],
             [
              0.3333333333333333,
              "#9c179e"
             ],
             [
              0.4444444444444444,
              "#bd3786"
             ],
             [
              0.5555555555555556,
              "#d8576b"
             ],
             [
              0.6666666666666666,
              "#ed7953"
             ],
             [
              0.7777777777777778,
              "#fb9f3a"
             ],
             [
              0.8888888888888888,
              "#fdca26"
             ],
             [
              1,
              "#f0f921"
             ]
            ],
            "type": "histogram2d"
           }
          ],
          "histogram2dcontour": [
           {
            "colorbar": {
             "outlinewidth": 0,
             "ticks": ""
            },
            "colorscale": [
             [
              0,
              "#0d0887"
             ],
             [
              0.1111111111111111,
              "#46039f"
             ],
             [
              0.2222222222222222,
              "#7201a8"
             ],
             [
              0.3333333333333333,
              "#9c179e"
             ],
             [
              0.4444444444444444,
              "#bd3786"
             ],
             [
              0.5555555555555556,
              "#d8576b"
             ],
             [
              0.6666666666666666,
              "#ed7953"
             ],
             [
              0.7777777777777778,
              "#fb9f3a"
             ],
             [
              0.8888888888888888,
              "#fdca26"
             ],
             [
              1,
              "#f0f921"
             ]
            ],
            "type": "histogram2dcontour"
           }
          ],
          "mesh3d": [
           {
            "colorbar": {
             "outlinewidth": 0,
             "ticks": ""
            },
            "type": "mesh3d"
           }
          ],
          "parcoords": [
           {
            "line": {
             "colorbar": {
              "outlinewidth": 0,
              "ticks": ""
             }
            },
            "type": "parcoords"
           }
          ],
          "pie": [
           {
            "automargin": true,
            "type": "pie"
           }
          ],
          "scatter": [
           {
            "fillpattern": {
             "fillmode": "overlay",
             "size": 10,
             "solidity": 0.2
            },
            "type": "scatter"
           }
          ],
          "scatter3d": [
           {
            "line": {
             "colorbar": {
              "outlinewidth": 0,
              "ticks": ""
             }
            },
            "marker": {
             "colorbar": {
              "outlinewidth": 0,
              "ticks": ""
             }
            },
            "type": "scatter3d"
           }
          ],
          "scattercarpet": [
           {
            "marker": {
             "colorbar": {
              "outlinewidth": 0,
              "ticks": ""
             }
            },
            "type": "scattercarpet"
           }
          ],
          "scattergeo": [
           {
            "marker": {
             "colorbar": {
              "outlinewidth": 0,
              "ticks": ""
             }
            },
            "type": "scattergeo"
           }
          ],
          "scattergl": [
           {
            "marker": {
             "colorbar": {
              "outlinewidth": 0,
              "ticks": ""
             }
            },
            "type": "scattergl"
           }
          ],
          "scattermapbox": [
           {
            "marker": {
             "colorbar": {
              "outlinewidth": 0,
              "ticks": ""
             }
            },
            "type": "scattermapbox"
           }
          ],
          "scatterpolar": [
           {
            "marker": {
             "colorbar": {
              "outlinewidth": 0,
              "ticks": ""
             }
            },
            "type": "scatterpolar"
           }
          ],
          "scatterpolargl": [
           {
            "marker": {
             "colorbar": {
              "outlinewidth": 0,
              "ticks": ""
             }
            },
            "type": "scatterpolargl"
           }
          ],
          "scatterternary": [
           {
            "marker": {
             "colorbar": {
              "outlinewidth": 0,
              "ticks": ""
             }
            },
            "type": "scatterternary"
           }
          ],
          "surface": [
           {
            "colorbar": {
             "outlinewidth": 0,
             "ticks": ""
            },
            "colorscale": [
             [
              0,
              "#0d0887"
             ],
             [
              0.1111111111111111,
              "#46039f"
             ],
             [
              0.2222222222222222,
              "#7201a8"
             ],
             [
              0.3333333333333333,
              "#9c179e"
             ],
             [
              0.4444444444444444,
              "#bd3786"
             ],
             [
              0.5555555555555556,
              "#d8576b"
             ],
             [
              0.6666666666666666,
              "#ed7953"
             ],
             [
              0.7777777777777778,
              "#fb9f3a"
             ],
             [
              0.8888888888888888,
              "#fdca26"
             ],
             [
              1,
              "#f0f921"
             ]
            ],
            "type": "surface"
           }
          ],
          "table": [
           {
            "cells": {
             "fill": {
              "color": "#EBF0F8"
             },
             "line": {
              "color": "white"
             }
            },
            "header": {
             "fill": {
              "color": "#C8D4E3"
             },
             "line": {
              "color": "white"
             }
            },
            "type": "table"
           }
          ]
         },
         "layout": {
          "annotationdefaults": {
           "arrowcolor": "#2a3f5f",
           "arrowhead": 0,
           "arrowwidth": 1
          },
          "autotypenumbers": "strict",
          "coloraxis": {
           "colorbar": {
            "outlinewidth": 0,
            "ticks": ""
           }
          },
          "colorscale": {
           "diverging": [
            [
             0,
             "#8e0152"
            ],
            [
             0.1,
             "#c51b7d"
            ],
            [
             0.2,
             "#de77ae"
            ],
            [
             0.3,
             "#f1b6da"
            ],
            [
             0.4,
             "#fde0ef"
            ],
            [
             0.5,
             "#f7f7f7"
            ],
            [
             0.6,
             "#e6f5d0"
            ],
            [
             0.7,
             "#b8e186"
            ],
            [
             0.8,
             "#7fbc41"
            ],
            [
             0.9,
             "#4d9221"
            ],
            [
             1,
             "#276419"
            ]
           ],
           "sequential": [
            [
             0,
             "#0d0887"
            ],
            [
             0.1111111111111111,
             "#46039f"
            ],
            [
             0.2222222222222222,
             "#7201a8"
            ],
            [
             0.3333333333333333,
             "#9c179e"
            ],
            [
             0.4444444444444444,
             "#bd3786"
            ],
            [
             0.5555555555555556,
             "#d8576b"
            ],
            [
             0.6666666666666666,
             "#ed7953"
            ],
            [
             0.7777777777777778,
             "#fb9f3a"
            ],
            [
             0.8888888888888888,
             "#fdca26"
            ],
            [
             1,
             "#f0f921"
            ]
           ],
           "sequentialminus": [
            [
             0,
             "#0d0887"
            ],
            [
             0.1111111111111111,
             "#46039f"
            ],
            [
             0.2222222222222222,
             "#7201a8"
            ],
            [
             0.3333333333333333,
             "#9c179e"
            ],
            [
             0.4444444444444444,
             "#bd3786"
            ],
            [
             0.5555555555555556,
             "#d8576b"
            ],
            [
             0.6666666666666666,
             "#ed7953"
            ],
            [
             0.7777777777777778,
             "#fb9f3a"
            ],
            [
             0.8888888888888888,
             "#fdca26"
            ],
            [
             1,
             "#f0f921"
            ]
           ]
          },
          "colorway": [
           "#636efa",
           "#EF553B",
           "#00cc96",
           "#ab63fa",
           "#FFA15A",
           "#19d3f3",
           "#FF6692",
           "#B6E880",
           "#FF97FF",
           "#FECB52"
          ],
          "font": {
           "color": "#2a3f5f"
          },
          "geo": {
           "bgcolor": "white",
           "lakecolor": "white",
           "landcolor": "#E5ECF6",
           "showlakes": true,
           "showland": true,
           "subunitcolor": "white"
          },
          "hoverlabel": {
           "align": "left"
          },
          "hovermode": "closest",
          "mapbox": {
           "style": "light"
          },
          "paper_bgcolor": "white",
          "plot_bgcolor": "#E5ECF6",
          "polar": {
           "angularaxis": {
            "gridcolor": "white",
            "linecolor": "white",
            "ticks": ""
           },
           "bgcolor": "#E5ECF6",
           "radialaxis": {
            "gridcolor": "white",
            "linecolor": "white",
            "ticks": ""
           }
          },
          "scene": {
           "xaxis": {
            "backgroundcolor": "#E5ECF6",
            "gridcolor": "white",
            "gridwidth": 2,
            "linecolor": "white",
            "showbackground": true,
            "ticks": "",
            "zerolinecolor": "white"
           },
           "yaxis": {
            "backgroundcolor": "#E5ECF6",
            "gridcolor": "white",
            "gridwidth": 2,
            "linecolor": "white",
            "showbackground": true,
            "ticks": "",
            "zerolinecolor": "white"
           },
           "zaxis": {
            "backgroundcolor": "#E5ECF6",
            "gridcolor": "white",
            "gridwidth": 2,
            "linecolor": "white",
            "showbackground": true,
            "ticks": "",
            "zerolinecolor": "white"
           }
          },
          "shapedefaults": {
           "line": {
            "color": "#2a3f5f"
           }
          },
          "ternary": {
           "aaxis": {
            "gridcolor": "white",
            "linecolor": "white",
            "ticks": ""
           },
           "baxis": {
            "gridcolor": "white",
            "linecolor": "white",
            "ticks": ""
           },
           "bgcolor": "#E5ECF6",
           "caxis": {
            "gridcolor": "white",
            "linecolor": "white",
            "ticks": ""
           }
          },
          "title": {
           "x": 0.05
          },
          "xaxis": {
           "automargin": true,
           "gridcolor": "white",
           "linecolor": "white",
           "ticks": "",
           "title": {
            "standoff": 15
           },
           "zerolinecolor": "white",
           "zerolinewidth": 2
          },
          "yaxis": {
           "automargin": true,
           "gridcolor": "white",
           "linecolor": "white",
           "ticks": "",
           "title": {
            "standoff": 15
           },
           "zerolinecolor": "white",
           "zerolinewidth": 2
          }
         }
        },
        "title": {
         "text": "3D Scatter Plot of Ages, Apps, and level of depression"
        },
        "width": 800
       }
      },
      "image/png": "[encoded data removed]",
      "text/html": [
       "<div>                            <div id=\"2a185fdd-1b5f-4092-92d0-79afcdb71d14\" class=\"plotly-graph-div\" style=\"height:600px; width:800px;\"></div>            <script type=\"text/javascript\">                require([\"plotly\"], function(Plotly) {                    window.PLOTLYENV=window.PLOTLYENV || {};                                    if (document.getElementById(\"2a185fdd-1b5f-4092-92d0-79afcdb71d14\")) {                    Plotly.newPlot(                        \"2a185fdd-1b5f-4092-92d0-79afcdb71d14\",                        [{\"hovertemplate\":\"7. What social media platforms do you commonly use?=%{x}\\u003cbr\\u003e18. How often do you feel depressed or down?=%{marker.color}\\u003cbr\\u003e1. What is your age?=%{z}\\u003cextra\\u003e\\u003c\\u002fextra\\u003e\",\"legendgroup\":\"\",\"marker\":{\"color\":[5,5,4,4,4,3,5,5,5,1,5,3,3,3,5,3,4,2,3,2,2,3,4,4,3,4,4,4,4,5,5,3,2,3,5,4,3,5,2,1,3,4,2,5,3,3,1,3,2,1,3,3,5,1,1,5,3,4,5,1,4,4,5,5,1,2,4,4,4,3,1,5,4,2,5,2,5,4,5,5,4,1,4,4,2,4,2,1,3,5,4,4,4,3,4,3,1,4,5,2,3,5,4,3,1,2,3,1,2,3,2,4,2,2,4,2,3,3,5,4,1,3,5,4,1,4,4,4,4,3,1,3,3,2,2,4,1,1,3,4,1,3,4,2,5,3,4,2,2,2,2,1,2,3,4,3,2,1,4,4,2,1,3,3,3,2,2,2,1,2,3,3,5,3,4,1,1,4,3,4,4,3,1,5,3,2,3,3,4,2,4,4,4,5,4,1,3,2,1,1,2,3,3,3,5,2,1,5,1,4,3,1,5,1,4,3,1,2,5,2,3,2,3,3,4,2,4,2,1,4,4,1,5,1,4,4,2,5,5,4,4,2,3,3,3,4,4,2,1,4,1,5,5,2,2,3,5,1,4,3,2,5,3,3,2,3,2,4,3,3,2,5,3,5,3,5,5,5,5,5,3,4,2,5,4,3,2,5,4,3,3,4,4,5,1,2,4,4,3,5,5,5,4,4,3,3,5,1,2,2,5,3,2,5,4,3,3,5,5,5,5,4,3,2,5,5,5,5,4,4,1,4,3,5,3,4,1,4,3,5,3,3,5,2,5,5,1,4,3,5,4,3,3,5,2,3,4,3,3,4,3,2,4,2,1,5,4,5,1,5,2,4,3,3,2,5,5,4,5,1,5,5,4,5,3,2,3,2,4,4,3,5,5,5,2,2,5,5,1,5,4,3,3,1,1,5,5,4,4,4,3,3,5,5,4,5,2,3,4,3,3,2,5,4,1,4,3,4,3,5,5,5,5,5,4,3,3,2,2,4,2,1,3,4,3,3,5,5,4,2,2,4,3,1,3,1,1,2,4,2,1,3,5,3,2,2,3,1,5,1,5,4,2,4,4,5,3,4,2,4,2],\"coloraxis\":\"coloraxis\",\"symbol\":\"circle\"},\"mode\":\"markers\",\"name\":\"\",\"scene\":\"scene\",\"showlegend\":false,\"x\":[\"Facebook, Twitter, Instagram, YouTube, Discord, Reddit\",\"Facebook, Twitter, Instagram, YouTube, Discord, Reddit\",\"Facebook, Instagram, YouTube, Pinterest\",\"Facebook, Instagram\",\"Facebook, Instagram, YouTube\",\"Facebook, Twitter, Instagram, YouTube, Discord, Pinterest, TikTok\",\"Facebook, Instagram, YouTube, Snapchat, TikTok\",\"Facebook, Instagram, YouTube\",\"Facebook, Instagram, YouTube\",\"Reddit, Pinterest\",\"Facebook, Instagram, YouTube, Discord\",\"Facebook, Instagram, YouTube, Snapchat, Discord, Reddit, Pinterest, TikTok\",\"Facebook, Twitter, Instagram, YouTube, Snapchat, Discord, Reddit, Pinterest\",\"Facebook, Twitter, Instagram, YouTube, Snapchat, Reddit, Pinterest\",\"Facebook, YouTube, Pinterest\",\"Facebook, Instagram, YouTube, Reddit\",\"Facebook, YouTube, Discord\",\"Facebook, Instagram, YouTube, Reddit\",\"Facebook, YouTube, Discord, Reddit\",\"Facebook, Twitter, Instagram, YouTube\",\"Facebook, Instagram, YouTube, Discord, Reddit\",\"Facebook, Twitter, Instagram, YouTube, Discord, Reddit, TikTok\",\"Facebook, Instagram, YouTube, Pinterest\",\"Facebook, Instagram, YouTube, Snapchat, Pinterest\",\"Facebook, Twitter, YouTube, Discord\",\"Facebook, YouTube\",\"Facebook, Instagram, YouTube, Discord\",\"Facebook, Twitter, Instagram, YouTube\",\"Facebook, Instagram, YouTube, Snapchat, Discord, Pinterest, TikTok\",\"Facebook, Instagram, YouTube, Snapchat, Discord\",\"Facebook, Instagram, YouTube, Discord\",\"Facebook, YouTube, Pinterest\",\"Facebook, Instagram, YouTube, TikTok\",\"Facebook, Instagram, YouTube, Discord, Pinterest\",\"Facebook, Instagram, YouTube, Discord\",\"Facebook, Twitter, Instagram, YouTube, Discord\",\"Facebook, Instagram\",\"Facebook, Twitter, Instagram, YouTube, Snapchat, Discord, Reddit\",\"Facebook, Instagram, YouTube, Snapchat, Pinterest\",\"Facebook, YouTube, Discord\",\"Facebook, Instagram, YouTube, Snapchat\",\"Facebook, Instagram, YouTube, Snapchat\",\"YouTube\",\"Facebook, Instagram, YouTube, Snapchat, Pinterest\",\"Twitter, Discord, Reddit\",\"Facebook, Instagram, YouTube\",\"Facebook, YouTube\",\"Instagram, YouTube, Reddit, Pinterest\",\"Twitter, YouTube, Reddit\",\"Facebook, YouTube\",\"Facebook, Twitter, Instagram, YouTube, Snapchat, Discord, Reddit, Pinterest, TikTok\",\"YouTube, Snapchat, Discord\",\"Facebook\",\"Discord, Reddit\",\"YouTube, Discord, Reddit\",\"Facebook, Twitter, Instagram, YouTube, Snapchat, Reddit, TikTok\",\"Facebook, Instagram, YouTube, Snapchat, Discord, Reddit\",\"Facebook, Instagram, YouTube, Discord, Pinterest\",\"Facebook, Twitter, Instagram, YouTube, Snapchat, Discord, Reddit, Pinterest, TikTok\",\"Instagram, Reddit\",\"Facebook, Twitter, Instagram, YouTube, Discord\",\"YouTube, Reddit\",\"Facebook, Instagram, YouTube, Pinterest\",\"Reddit\",\"Discord, Reddit\",\"YouTube, Discord, Reddit\",\"Facebook, Instagram, Reddit, TikTok\",\"Twitter, Instagram, YouTube, Reddit, TikTok\",\"Reddit\",\"YouTube, Snapchat, Discord, Reddit\",\"Instagram, YouTube\",\"Instagram, YouTube, Discord, Reddit\",\"Twitter, Instagram, YouTube, Snapchat, Reddit, Pinterest, TikTok\",\"Twitter, YouTube, Discord, Reddit\",\"Facebook, YouTube, Discord, Reddit\",\"Reddit\",\"Facebook, YouTube, Reddit\",\"Facebook, Twitter, Instagram, YouTube, Snapchat, Discord, TikTok\",\"Facebook, YouTube, Reddit\",\"Facebook, YouTube, Discord, Reddit\",\"Twitter, Instagram, YouTube, Snapchat, Discord, Reddit\",\"Facebook, Instagram, YouTube, Snapchat, Discord, Reddit, Pinterest\",\"Instagram, YouTube, Snapchat, Discord, Reddit\",\"Facebook, Instagram, YouTube, Pinterest\",\"Facebook, Twitter, Instagram, YouTube, Reddit\",\"YouTube, Reddit\",\"Facebook, YouTube\",\"Reddit\",\"Facebook, YouTube\",\"Facebook, Instagram, YouTube, Snapchat, Pinterest\",\"Facebook, Instagram, YouTube, Snapchat\",\"Facebook, YouTube\",\"Facebook, Twitter, Instagram, YouTube, Snapchat\",\"Twitter, Instagram, YouTube, Snapchat, Discord, Reddit, TikTok\",\"Instagram\",\"Facebook, Instagram, YouTube, Snapchat, Discord\",\"Instagram, YouTube, Discord\",\"YouTube, Reddit\",\"Facebook, Instagram, YouTube, Pinterest\",\"Facebook, Instagram, YouTube, Snapchat, Discord, TikTok\",\"Facebook, Twitter, Instagram, YouTube\",\"Facebook, Twitter, Instagram, YouTube, Snapchat, Discord, Reddit, Pinterest\",\"Instagram\",\"Facebook, Twitter, Instagram, YouTube, Snapchat, Pinterest\",\"Facebook, Instagram, YouTube, Snapchat, Pinterest\",\"Facebook, YouTube\",\"Facebook, Instagram, TikTok\",\"Facebook, YouTube\",\"Facebook, Instagram, YouTube, Snapchat\",\"Facebook, Instagram, YouTube, Pinterest\",\"Facebook, Instagram, YouTube\",\"Facebook, Instagram, YouTube, Pinterest\",\"Facebook, YouTube\",\"Facebook, Instagram, Snapchat\",\"Facebook, Instagram, YouTube, Snapchat\",\"Facebook\",\"Facebook, Instagram\",\"Facebook\",\"Facebook, Instagram, YouTube, Snapchat, Discord, TikTok\",\"Facebook, Instagram, YouTube\",\"Facebook, Instagram\",\"Facebook, Instagram, YouTube, TikTok\",\"Facebook, YouTube, Snapchat, Pinterest\",\"Facebook, Instagram, YouTube, Snapchat\",\"Instagram\",\"Facebook, Instagram, YouTube, Snapchat\",\"Facebook, Twitter, Instagram, YouTube, Snapchat, Discord\",\"Facebook, Instagram, YouTube, Snapchat, Pinterest, TikTok\",\"Facebook, Instagram, YouTube\",\"Instagram, YouTube, Snapchat, Pinterest\",\"Facebook, Instagram, YouTube, Discord, Pinterest\",\"Facebook, YouTube\",\"Facebook, Twitter, Instagram, YouTube\",\"Facebook\",\"Instagram, YouTube\",\"Facebook, Twitter, Instagram, YouTube, Pinterest\",\"Facebook, YouTube, Pinterest\",\"Facebook, Twitter, Instagram, YouTube, Pinterest\",\"Facebook, Twitter, Instagram, YouTube, Snapchat, Pinterest\",\"Facebook, Twitter, Instagram, YouTube\",\"Facebook, Twitter, Instagram, YouTube, Pinterest\",\"Facebook, Instagram, YouTube\",\"Facebook, Twitter, Instagram, YouTube\",\"Facebook, Twitter, Instagram, YouTube, Snapchat\",\"Facebook, Instagram, YouTube, Snapchat, Discord\",\"Facebook\",\"Facebook, Twitter, Instagram, YouTube, Snapchat, Discord, Pinterest\",\"Facebook, Twitter, Instagram, YouTube\",\"Facebook, Instagram, YouTube\",\"Facebook, YouTube\",\"Facebook, YouTube, Discord\",\"Facebook, Instagram, YouTube, Discord, Pinterest\",\"Twitter, Instagram, YouTube\",\"Facebook, Twitter, YouTube\",\"Facebook, Twitter, Instagram, YouTube\",\"Facebook, Instagram, YouTube, Pinterest\",\"Twitter\",\"YouTube\",\"Facebook, Instagram, YouTube\",\"Facebook\",\"Facebook, Instagram, YouTube\",\"Facebook, Twitter, Instagram, YouTube, Snapchat, Discord, Reddit, Pinterest, TikTok\",\"Facebook, Instagram, YouTube, Pinterest, TikTok\",\"Twitter, YouTube\",\"Twitter, Instagram, YouTube, Reddit, TikTok\",\"Facebook, Twitter\",\"Facebook, YouTube, Pinterest\",\"Facebook, Twitter, Instagram, YouTube, Pinterest\",\"Twitter, YouTube\",\"Facebook, Twitter, Instagram, YouTube, Snapchat, Discord\",\"Twitter, Instagram, YouTube, Snapchat, Discord, Reddit, TikTok\",\"Facebook, YouTube\",\"Facebook, Instagram, YouTube\",\"Facebook, Instagram, YouTube, Snapchat\",\"Instagram, YouTube, Pinterest\",\"Twitter, Instagram, YouTube, Reddit, TikTok\",\"Facebook, YouTube\",\"Pinterest\",\"Facebook, Twitter, Instagram, YouTube, Snapchat, Pinterest\",\"Facebook, Instagram, YouTube, Pinterest\",\"Facebook, YouTube\",\"Facebook, Twitter, Instagram, YouTube\",\"Facebook, YouTube, TikTok\",\"Facebook, Twitter, Instagram, YouTube, Reddit, Pinterest, TikTok\",\"Facebook, Twitter, Instagram, YouTube, Snapchat, Discord, Pinterest, TikTok\",\"Facebook, YouTube\",\"Instagram, YouTube\",\"Facebook, Twitter, Instagram, YouTube, Pinterest\",\"Facebook, Instagram, Pinterest\",\"Instagram\",\"Facebook, YouTube, Discord, Reddit, Pinterest\",\"Facebook, Instagram, YouTube, Snapchat, Discord, Pinterest, TikTok\",\"Facebook, Instagram, YouTube, Snapchat\",\"Facebook, Instagram, YouTube, Snapchat\",\"Facebook, Instagram, YouTube, Snapchat, Discord, TikTok\",\"Facebook, Instagram, YouTube, Discord, Pinterest\",\"Facebook\",\"Facebook, Twitter, YouTube, Discord, Reddit\",\"Facebook, Instagram, YouTube\",\"Facebook, YouTube, Discord, Reddit\",\"Facebook, Twitter, Instagram, YouTube, Snapchat, Discord\",\"Facebook, Instagram, YouTube, Snapchat, Discord, Reddit\",\"Facebook, Instagram, YouTube\",\"Facebook, Instagram, YouTube, Discord, Reddit, TikTok\",\"Facebook, Discord, Reddit\",\"Instagram, Discord, Reddit, Pinterest, TikTok\",\"Facebook, Instagram, YouTube\",\"Facebook, Instagram, YouTube, Discord\",\"Facebook, Instagram, YouTube, Snapchat, Pinterest\",\"Twitter, Instagram, YouTube, Snapchat, Discord, Reddit, Pinterest, TikTok\",\"Facebook, Instagram, YouTube, Discord\",\"YouTube, Discord, Reddit\",\"Facebook, YouTube, TikTok\",\"Facebook, YouTube, Snapchat\",\"Instagram\",\"Facebook, Twitter, Instagram, YouTube, Discord, Reddit\",\"Facebook, YouTube\",\"Facebook, YouTube\",\"Facebook, Instagram, YouTube, Snapchat\",\"Facebook\",\"Facebook, Twitter, Instagram, YouTube, Snapchat\",\"Facebook, Twitter, Instagram, YouTube, Snapchat, Discord, Pinterest\",\"Facebook, YouTube\",\"Facebook, Twitter, Instagram, YouTube, Snapchat, Discord, Pinterest\",\"Facebook\",\"Facebook, Instagram, YouTube, Snapchat, TikTok\",\"Facebook, Instagram, YouTube, Snapchat, Discord, Pinterest\",\"Facebook, Instagram, YouTube\",\"Facebook, YouTube\",\"Facebook, Instagram, YouTube\",\"Facebook, Instagram, YouTube, Discord\",\"Facebook, Instagram, YouTube\",\"YouTube\",\"Facebook, YouTube, Discord, Pinterest\",\"Facebook, Twitter, Instagram, YouTube, Discord, Reddit, TikTok\",\"Instagram, YouTube, Discord, Reddit, TikTok\",\"Facebook, Instagram, YouTube, Pinterest\",\"Facebook, Instagram, YouTube, Snapchat, Pinterest, TikTok\",\"TikTok\",\"Facebook, Instagram, YouTube\",\"Facebook, Twitter, Instagram, YouTube, Snapchat, TikTok\",\"Facebook, Instagram, YouTube, Snapchat, Discord, TikTok\",\"Facebook, Instagram\",\"Facebook, Instagram, YouTube, Discord\",\"Facebook, Instagram, YouTube, Snapchat, Discord, Reddit\",\"Facebook, Instagram, YouTube, Snapchat\",\"Facebook, YouTube, Discord\",\"Facebook, Instagram, YouTube, Snapchat\",\"Facebook\",\"Facebook, Instagram, YouTube, Snapchat, Discord, Pinterest\",\"Facebook\",\"Facebook, Instagram, YouTube, Discord, Pinterest, TikTok\",\"Facebook, Twitter, Instagram, YouTube, Snapchat, Discord, Pinterest, TikTok\",\"Facebook, Instagram, YouTube, Pinterest\",\"Facebook, Twitter, Instagram, YouTube, Snapchat, Discord, Reddit\",\"Facebook, Instagram, YouTube, Snapchat\",\"Facebook, Instagram, YouTube, Snapchat, Discord\",\"Facebook, Instagram, YouTube, Snapchat, Discord\",\"Facebook, Instagram, YouTube, TikTok\",\"Facebook, Instagram, Discord\",\"Facebook, YouTube, Snapchat\",\"Facebook, Instagram, YouTube, Snapchat, Discord, TikTok\",\"Facebook, Instagram, YouTube\",\"Facebook, Twitter, Instagram, YouTube, Discord, Reddit, Pinterest, TikTok\",\"Facebook, Instagram, YouTube, Snapchat\",\"Facebook, Instagram, YouTube, Discord\",\"Facebook, Twitter, Instagram, YouTube\",\"YouTube\",\"Facebook, Instagram, YouTube, Snapchat, Pinterest, TikTok\",\"Facebook, Twitter, YouTube, Discord, Pinterest\",\"Facebook, Twitter, Instagram, YouTube, Snapchat, Discord, Reddit, Pinterest, TikTok\",\"Facebook, Instagram, YouTube, Snapchat, Discord, Pinterest, TikTok\",\"Facebook, Twitter, Instagram, YouTube, Snapchat, Discord, Reddit, Pinterest, TikTok\",\"YouTube, Discord, Reddit\",\"Facebook, Twitter, Instagram, YouTube, Discord, Reddit\",\"Facebook, Instagram, YouTube, Snapchat, Discord, Pinterest, TikTok\",\"Facebook, Instagram, YouTube, Snapchat, Discord\",\"Facebook, Instagram, YouTube, Discord\",\"Facebook, Instagram, YouTube, Discord\",\"Discord\",\"Facebook, Instagram, YouTube, Discord, Pinterest, TikTok\",\"Facebook, Instagram, YouTube, Discord, Reddit, Pinterest\",\"Facebook, Instagram, YouTube, Snapchat\",\"Facebook, Twitter, Instagram, YouTube, Snapchat, Discord, TikTok\",\"Facebook, Twitter, Instagram, YouTube\",\"Facebook, Instagram, YouTube, Snapchat\",\"Facebook, Twitter, Instagram, YouTube, Discord\",\"Facebook, Instagram, YouTube, Snapchat, Pinterest\",\"Facebook, Twitter, Instagram, YouTube, Snapchat, Discord, Pinterest\",\"Facebook, Instagram, YouTube, Discord, Pinterest\",\"Facebook, YouTube\",\"Facebook, Instagram, YouTube, Snapchat, Discord\",\"Facebook, Instagram, YouTube, Snapchat, Discord, Reddit, Pinterest, TikTok\",\"Facebook, Instagram, YouTube, Snapchat, TikTok\",\"Facebook, Instagram, YouTube\",\"Facebook, Twitter, Instagram, YouTube, Snapchat, Pinterest\",\"Facebook, Discord\",\"Facebook, Twitter, Instagram, YouTube\",\"Facebook, Twitter, Instagram, YouTube, Reddit\",\"Facebook\",\"Facebook, Instagram, YouTube, Snapchat, Pinterest\",\"Facebook, Instagram, YouTube, Snapchat\",\"Instagram, YouTube, Snapchat, Discord, Reddit\",\"Facebook, TikTok\",\"Facebook, Instagram, YouTube\",\"Facebook, Twitter, Instagram, YouTube, Snapchat, Discord, Reddit, TikTok\",\"Facebook, Instagram, YouTube\",\"Facebook, YouTube\",\"Facebook, Instagram, YouTube, Snapchat, Discord, Pinterest\",\"Twitter, Instagram, YouTube\",\"Instagram, YouTube, Discord, Pinterest\",\"Facebook, Twitter, Instagram, YouTube, Snapchat, Discord, Reddit, Pinterest\",\"Facebook, Instagram, YouTube, Snapchat, Pinterest, TikTok\",\"Facebook, Instagram\",\"Facebook, Twitter, Instagram, YouTube, Snapchat, TikTok\",\"Facebook\",\"Facebook, Twitter, Instagram, YouTube, Snapchat, Discord, Reddit, Pinterest\",\"Facebook, Instagram, YouTube, Snapchat\",\"Facebook, Instagram, YouTube, Snapchat, Pinterest, TikTok\",\"Facebook, YouTube, Snapchat, Discord\",\"Facebook, Twitter, Instagram, YouTube, Snapchat, TikTok\",\"Facebook, Instagram, YouTube, Snapchat, Discord, Pinterest\",\"Facebook, Twitter, Instagram, YouTube, Discord, Reddit, Pinterest\",\"Facebook, Twitter, Instagram, YouTube, Snapchat, Discord\",\"Facebook, Twitter, Instagram, YouTube, Snapchat, Discord, Reddit\",\"Facebook, Instagram, YouTube, Snapchat, Reddit, Pinterest, TikTok\",\"Facebook, Instagram, YouTube, Snapchat, Discord, TikTok\",\"Facebook, Instagram, YouTube, Discord, Pinterest\",\"Facebook, Instagram, Snapchat, Pinterest, TikTok\",\"Facebook, Twitter, Instagram, YouTube, Snapchat, Discord, Reddit, Pinterest, TikTok\",\"Facebook, Twitter, Instagram, YouTube, Snapchat, Discord, Reddit, Pinterest, TikTok\",\"Facebook, Twitter, Instagram, YouTube, Snapchat, Discord, Reddit\",\"Facebook, Twitter, Instagram, YouTube, Reddit, Pinterest\",\"Facebook, Instagram, YouTube, Pinterest, TikTok\",\"Facebook, Instagram, YouTube, Discord\",\"Facebook, Twitter, Instagram, YouTube, Snapchat\",\"Facebook, Twitter, Instagram, YouTube, Snapchat, Discord, Reddit, Pinterest\",\"Facebook, Instagram, YouTube\",\"Facebook, Instagram, YouTube, Snapchat, Discord, Reddit\",\"Facebook, Twitter, Instagram, Snapchat, Reddit\",\"YouTube, Discord\",\"Facebook, Instagram, YouTube\",\"Facebook, Instagram\",\"Facebook, Instagram, YouTube, Snapchat, Discord, TikTok\",\"Facebook, Instagram, YouTube, Snapchat, Discord, Reddit, Pinterest, TikTok\",\"Facebook, Instagram, YouTube, Snapchat, Discord\",\"Facebook, YouTube\",\"Facebook, Twitter, Instagram, YouTube, Snapchat, Discord, Reddit, Pinterest, TikTok\",\"Facebook, Twitter, Instagram, YouTube, Snapchat, Discord, Reddit\",\"Facebook, YouTube\",\"Facebook, Instagram, YouTube, Snapchat, Discord\",\"Facebook, YouTube\",\"Facebook, Instagram, YouTube, Discord, Reddit\",\"Facebook, Twitter, Instagram, YouTube, Reddit, Pinterest\",\"Facebook, Instagram, YouTube, Snapchat, Discord, Reddit, TikTok\",\"Facebook, Instagram, YouTube, Discord\",\"Twitter, Discord, Reddit\",\"Facebook, Twitter, Instagram, YouTube, Snapchat, Discord, Pinterest\",\"Twitter, Instagram, TikTok\",\"Facebook, Instagram, YouTube, Snapchat, Discord\",\"Facebook, Instagram, YouTube, TikTok\",\"Facebook, Instagram, YouTube, Pinterest\",\"Facebook, Twitter, Instagram, YouTube, Snapchat, Pinterest\",\"Facebook, Instagram, YouTube, Snapchat, Discord\",\"Facebook, Instagram, YouTube, Snapchat, Discord\",\"Facebook, Twitter, Instagram, YouTube, Snapchat, Discord, Reddit, Pinterest, TikTok\",\"Facebook, Instagram, YouTube\",\"Facebook, Instagram, YouTube, Snapchat, Discord\",\"Facebook, Instagram, YouTube, Snapchat\",\"Facebook, Instagram, Snapchat, Discord, Pinterest, TikTok\",\"Facebook, Twitter, Instagram, YouTube, Snapchat, Discord, Reddit, Pinterest\",\"Facebook, Instagram, YouTube, Snapchat\",\"YouTube, Pinterest\",\"Facebook, Twitter, Instagram, YouTube, Reddit, Pinterest\",\"Facebook, Twitter, Instagram, YouTube, Snapchat\",\"Facebook, Twitter, Instagram, YouTube, Snapchat, Discord, Pinterest, TikTok\",\"Facebook, Twitter, Instagram, YouTube, Snapchat, Discord, Reddit, Pinterest, TikTok\",\"Facebook, Instagram, YouTube\",\"Facebook, Twitter, Instagram, YouTube, Snapchat, Discord, Reddit\",\"Facebook, Instagram, YouTube, Snapchat\",\"Facebook, Instagram, YouTube, Snapchat, Pinterest, TikTok\",\"Instagram, YouTube, Discord, Reddit, Pinterest\",\"Facebook, YouTube\",\"Facebook, Twitter, Instagram, YouTube, Snapchat, Discord, Reddit, Pinterest, TikTok\",\"Facebook, Instagram, YouTube, Snapchat\",\"Facebook, YouTube, Discord\",\"Facebook, Instagram, YouTube, Snapchat, Discord, Pinterest, TikTok\",\"Facebook, Instagram, YouTube, Snapchat, Discord, Reddit, Pinterest\",\"Twitter, Instagram, YouTube, TikTok\",\"Facebook, Instagram, YouTube, Snapchat, Discord, Reddit, Pinterest, TikTok\",\"Facebook, Instagram, YouTube, Snapchat, Discord\",\"Facebook, Twitter, Instagram, YouTube, Discord, Pinterest\",\"Facebook, Twitter, Instagram, YouTube, Snapchat, Discord, Reddit\",\"Facebook, Instagram, YouTube, Snapchat, Discord\",\"Facebook, Twitter, Instagram, YouTube, Snapchat, Discord, Pinterest, TikTok\",\"Facebook, Instagram, YouTube, Pinterest\",\"Facebook, Instagram, YouTube, Snapchat\",\"Facebook\",\"Facebook, Twitter, Instagram, YouTube, Snapchat, Pinterest\",\"Facebook, Instagram, YouTube, Snapchat\",\"Facebook, Twitter, Instagram, YouTube\",\"Facebook, YouTube\",\"Facebook, Instagram, YouTube, Reddit, Pinterest, TikTok\",\"Facebook\",\"Facebook\",\"Facebook, YouTube, Discord, Pinterest\",\"Facebook, Snapchat, Reddit\",\"Facebook, Instagram, Snapchat\",\"Facebook, Instagram, TikTok\",\"Facebook, Twitter, Instagram, YouTube, Reddit\",\"Facebook, Instagram, YouTube, Reddit, Pinterest\",\"Facebook, Instagram, YouTube, Discord, Reddit\",\"Facebook, Instagram, YouTube, Snapchat\",\"Facebook, Instagram, YouTube, Discord\",\"Facebook\",\"Facebook, Twitter, Instagram, YouTube, Snapchat, Discord, TikTok\",\"Facebook, Instagram, YouTube, Discord\",\"Facebook, Instagram, YouTube, Snapchat, Reddit, Pinterest, TikTok\",\"Facebook, Instagram, YouTube, Snapchat, Discord\",\"Facebook, Instagram, YouTube, Snapchat, Discord\",\"Facebook, Instagram, YouTube, Snapchat, Discord\",\"Facebook, Twitter, Instagram, YouTube, Discord, Reddit, Pinterest\",\"Facebook, Instagram, YouTube, Reddit\",\"Facebook, Twitter, Instagram, YouTube, Snapchat, Discord, TikTok\",\"Facebook, Instagram, YouTube, Snapchat, Discord, Reddit, Pinterest\",\"Facebook, Instagram, YouTube, Pinterest\",\"Facebook, Instagram, YouTube, Snapchat\",\"Facebook, Instagram, YouTube, Pinterest\",\"Facebook, Instagram, YouTube\",\"Facebook, Twitter, Instagram, YouTube, Snapchat, Discord, TikTok\",\"Facebook, Instagram, YouTube, Snapchat, Discord, Reddit, Pinterest\",\"Facebook, Instagram, YouTube, Snapchat, Discord, Reddit, Pinterest\",\"Facebook, Instagram, YouTube, Discord\",\"Facebook, Twitter, Instagram, YouTube, Snapchat, Discord, Reddit\",\"YouTube\",\"Facebook, Instagram\",\"Facebook, Instagram, Snapchat\",\"Facebook, Instagram, YouTube, Reddit, TikTok\",\"Facebook, Instagram, YouTube\",\"Facebook, Instagram, YouTube, Snapchat, Discord, Reddit, TikTok\",\"Facebook, Instagram, YouTube, Discord\",\"YouTube\",\"Facebook, YouTube, Discord, Reddit\",\"Facebook, Twitter, Instagram, YouTube, Pinterest\",\"Facebook, Instagram, YouTube\",\"Facebook, Instagram, YouTube, Discord, Reddit, Pinterest\",\"Facebook, Instagram, YouTube, Snapchat, Pinterest, TikTok\",\"Facebook, Instagram, YouTube, Snapchat\",\"Facebook, Instagram, YouTube, Snapchat, Discord\",\"Facebook, Twitter, Instagram, YouTube, Pinterest\",\"Facebook, Instagram, Discord\",\"Facebook, Instagram, YouTube, Discord, Reddit\",\"Facebook, Instagram, YouTube, Snapchat, Discord, Reddit, Pinterest, TikTok\",\"Facebook, YouTube\",\"Facebook, YouTube, Pinterest\",\"Facebook, Instagram, YouTube\",\"Facebook, Twitter, YouTube, Pinterest\",\"Facebook, Twitter, Instagram, YouTube\",\"Facebook\",\"Facebook, YouTube, Discord\",\"Facebook, Instagram\",\"Twitter, Instagram, YouTube\",\"Facebook, Instagram, YouTube, Pinterest\",\"Instagram, YouTube, Discord\",\"Instagram, Discord\",\"Twitter, Instagram, YouTube, Discord, Pinterest\",\"Facebook, Instagram, YouTube, Discord\",\"Discord, Reddit\",\"Pinterest\",\"Instagram, YouTube, Discord, Reddit\",\"Instagram, YouTube, Snapchat, Discord, Reddit, Pinterest, TikTok\",\"Facebook, Instagram, YouTube\",\"Facebook, Instagram, YouTube\",\"Facebook, YouTube, TikTok\",\"Facebook, Instagram, YouTube\",\"Facebook, Instagram\",\"Facebook, Instagram, YouTube\",\"Facebook, YouTube\",\"Facebook, YouTube\",\"Facebook, Twitter, Instagram, YouTube, Discord, Pinterest\",\"Facebook, YouTube\"],\"y\":[5,5,4,4,4,3,5,5,5,1,5,3,3,3,5,3,4,2,3,2,2,3,4,4,3,4,4,4,4,5,5,3,2,3,5,4,3,5,2,1,3,4,2,5,3,3,1,3,2,1,3,3,5,1,1,5,3,4,5,1,4,4,5,5,1,2,4,4,4,3,1,5,4,2,5,2,5,4,5,5,4,1,4,4,2,4,2,1,3,5,4,4,4,3,4,3,1,4,5,2,3,5,4,3,1,2,3,1,2,3,2,4,2,2,4,2,3,3,5,4,1,3,5,4,1,4,4,4,4,3,1,3,3,2,2,4,1,1,3,4,1,3,4,2,5,3,4,2,2,2,2,1,2,3,4,3,2,1,4,4,2,1,3,3,3,2,2,2,1,2,3,3,5,3,4,1,1,4,3,4,4,3,1,5,3,2,3,3,4,2,4,4,4,5,4,1,3,2,1,1,2,3,3,3,5,2,1,5,1,4,3,1,5,1,4,3,1,2,5,2,3,2,3,3,4,2,4,2,1,4,4,1,5,1,4,4,2,5,5,4,4,2,3,3,3,4,4,2,1,4,1,5,5,2,2,3,5,1,4,3,2,5,3,3,2,3,2,4,3,3,2,5,3,5,3,5,5,5,5,5,3,4,2,5,4,3,2,5,4,3,3,4,4,5,1,2,4,4,3,5,5,5,4,4,3,3,5,1,2,2,5,3,2,5,4,3,3,5,5,5,5,4,3,2,5,5,5,5,4,4,1,4,3,5,3,4,1,4,3,5,3,3,5,2,5,5,1,4,3,5,4,3,3,5,2,3,4,3,3,4,3,2,4,2,1,5,4,5,1,5,2,4,3,3,2,5,5,4,5,1,5,5,4,5,3,2,3,2,4,4,3,5,5,5,2,2,5,5,1,5,4,3,3,1,1,5,5,4,4,4,3,3,5,5,4,5,2,3,4,3,3,2,5,4,1,4,3,4,3,5,5,5,5,5,4,3,3,2,2,4,2,1,3,4,3,3,5,5,4,2,2,4,3,1,3,1,1,2,4,2,1,3,5,3,2,2,3,1,5,1,5,4,2,4,4,5,3,4,2,4,2],\"z\":[21.0,21.0,21.0,21.0,21.0,22.0,21.0,21.0,21.0,20.0,24.0,21.0,22.0,21.0,22.0,23.0,21.0,25.0,28.0,34.0,22.0,23.0,26.0,23.0,23.0,35.0,20.0,35.0,22.0,21.0,22.0,35.0,24.0,18.0,19.0,21.0,21.0,23.0,22.0,22.0,21.0,21.0,56.0,19.0,24.0,22.0,65.0,17.0,40.0,33.0,22.0,24.0,26.0,55.0,26.0,27.0,22.0,19.0,22.0,20.0,25.0,25.0,18.0,25.0,19.0,24.0,21.0,18.0,14.0,25.0,33.0,23.0,14.0,38.0,23.0,26.0,24.0,21.0,18.0,28.0,22.0,21.0,21.0,21.0,17.0,24.0,22.0,32.0,22.0,20.0,22.0,28.0,22.0,17.0,30.0,22.0,14.0,20.0,22.0,16.0,22.0,22.0,22.0,22.0,21.0,23.0,23.0,48.0,21.0,47.0,48.0,26.0,47.0,47.0,27.0,34.0,20.0,22.0,23.0,20.0,48.0,20.0,20.0,22.0,22.0,20.0,24.0,23.0,20.0,16.0,50.0,47.0,24.0,38.0,50.0,49.0,47.0,48.0,51.0,50.0,47.0,27.0,40.0,46.0,21.0,47.0,20.0,47.0,48.0,49.0,21.0,32.0,47.0,50.0,48.0,21.0,47.0,36.0,37.0,19.0,30.0,48.0,48.0,48.0,47.0,47.0,48.0,21.0,48.0,21.0,20.0,20.0,20.0,21.0,20.0,47.0,35.0,23.0,21.0,21.0,37.0,48.0,47.0,25.0,22.0,45.0,47.0,47.0,24.0,21.0,22.0,19.0,21.0,22.0,20.0,42.0,35.0,38.0,17.0,32.0,21.0,22.0,27.0,21.0,27.0,20.0,27.0,24.0,26.0,20.0,31.0,21.0,34.0,22.0,20.0,23.0,48.0,37.0,22.0,50.0,21.0,23.0,21.0,22.0,22.0,22.0,19.0,23.0,46.0,21.0,24.0,20.0,25.0,21.0,23.0,22.0,36.0,22.0,69.0,25.0,22.0,23.0,23.0,19.0,21.0,27.0,25.0,20.0,34.0,23.0,34.0,26.0,25.0,22.0,20.0,23.0,91.0,22.0,23.0,21.0,36.0,21.0,22.0,22.0,22.0,20.0,26.0,21.0,20.0,21.0,19.0,20.0,22.0,23.0,21.0,21.0,22.0,26.0,22.0,17.0,23.0,21.0,22.0,20.0,24.0,22.0,24.0,22.0,26.0,24.0,22.0,25.0,21.0,20.0,22.0,25.0,17.0,22.0,26.0,22.0,23.0,25.0,21.0,30.0,23.0,22.0,21.0,20.0,18.0,20.0,15.0,22.0,17.0,21.0,22.0,23.0,24.0,21.0,22.0,22.0,21.0,21.0,18.0,19.0,22.0,21.0,21.0,22.0,21.0,23.0,19.0,26.0,27.0,25.0,20.0,20.0,22.0,18.0,22.0,20.0,24.0,21.0,29.0,21.0,19.0,21.0,43.0,22.0,24.0,18.0,19.0,37.0,24.0,29.0,19.0,35.0,22.0,23.0,22.0,25.0,19.0,29.0,21.0,21.0,22.0,23.0,22.0,20.0,22.0,27.0,24.0,21.0,23.0,21.0,23.0,24.0,21.0,30.0,23.0,22.0,29.0,20.0,26.7,24.0,26.0,22.0,23.0,19.0,21.0,20.0,22.0,22.0,23.0,22.0,20.0,27.0,22.0,21.0,21.0,24.0,19.0,52.0,26.0,44.0,44.0,19.0,35.0,21.0,20.0,24.0,21.0,24.0,21.0,17.0,26.0,18.0,18.0,18.0,23.0,20.0,23.0,25.0,26.0,20.0,19.0,17.0,24.0,29.0,30.0,21.0,23.0,21.0,20.0,21.0,22.0,22.0,22.0,27.0,21.0,23.0,22.0,21.0,23.0,21.0,20.0,23.0,22.0,20.0,21.0,25.0,21.0,28.0,22.0,60.0,49.0,34.0,56.0,51.0,23.0,21.0,50.0,22.0,28.0,13.0,14.0,13.0,23.0,18.0,18.0,15.0,20.0,20.0,35.0,26.0,30.0,32.0,24.0,26.0,29.0,21.0,53.0],\"type\":\"scatter3d\"}],                        {\"template\":{\"data\":{\"histogram2dcontour\":[{\"type\":\"histogram2dcontour\",\"colorbar\":{\"outlinewidth\":0,\"ticks\":\"\"},\"colorscale\":[[0.0,\"#0d0887\"],[0.1111111111111111,\"#46039f\"],[0.2222222222222222,\"#7201a8\"],[0.3333333333333333,\"#9c179e\"],[0.4444444444444444,\"#bd3786\"],[0.5555555555555556,\"#d8576b\"],[0.6666666666666666,\"#ed7953\"],[0.7777777777777778,\"#fb9f3a\"],[0.8888888888888888,\"#fdca26\"],[1.0,\"#f0f921\"]]}],\"choropleth\":[{\"type\":\"choropleth\",\"colorbar\":{\"outlinewidth\":0,\"ticks\":\"\"}}],\"histogram2d\":[{\"type\":\"histogram2d\",\"colorbar\":{\"outlinewidth\":0,\"ticks\":\"\"},\"colorscale\":[[0.0,\"#0d0887\"],[0.1111111111111111,\"#46039f\"],[0.2222222222222222,\"#7201a8\"],[0.3333333333333333,\"#9c179e\"],[0.4444444444444444,\"#bd3786\"],[0.5555555555555556,\"#d8576b\"],[0.6666666666666666,\"#ed7953\"],[0.7777777777777778,\"#fb9f3a\"],[0.8888888888888888,\"#fdca26\"],[1.0,\"#f0f921\"]]}],\"heatmap\":[{\"type\":\"heatmap\",\"colorbar\":{\"outlinewidth\":0,\"ticks\":\"\"},\"colorscale\":[[0.0,\"#0d0887\"],[0.1111111111111111,\"#46039f\"],[0.2222222222222222,\"#7201a8\"],[0.3333333333333333,\"#9c179e\"],[0.4444444444444444,\"#bd3786\"],[0.5555555555555556,\"#d8576b\"],[0.6666666666666666,\"#ed7953\"],[0.7777777777777778,\"#fb9f3a\"],[0.8888888888888888,\"#fdca26\"],[1.0,\"#f0f921\"]]}],\"heatmapgl\":[{\"type\":\"heatmapgl\",\"colorbar\":{\"outlinewidth\":0,\"ticks\":\"\"},\"colorscale\":[[0.0,\"#0d0887\"],[0.1111111111111111,\"#46039f\"],[0.2222222222222222,\"#7201a8\"],[0.3333333333333333,\"#9c179e\"],[0.4444444444444444,\"#bd3786\"],[0.5555555555555556,\"#d8576b\"],[0.6666666666666666,\"#ed7953\"],[0.7777777777777778,\"#fb9f3a\"],[0.8888888888888888,\"#fdca26\"],[1.0,\"#f0f921\"]]}],\"contourcarpet\":[{\"type\":\"contourcarpet\",\"colorbar\":{\"outlinewidth\":0,\"ticks\":\"\"}}],\"contour\":[{\"type\":\"contour\",\"colorbar\":{\"outlinewidth\":0,\"ticks\":\"\"},\"colorscale\":[[0.0,\"#0d0887\"],[0.1111111111111111,\"#46039f\"],[0.2222222222222222,\"#7201a8\"],[0.3333333333333333,\"#9c179e\"],[0.4444444444444444,\"#bd3786\"],[0.5555555555555556,\"#d8576b\"],[0.6666666666666666,\"#ed7953\"],[0.7777777777777778,\"#fb9f3a\"],[0.8888888888888888,\"#fdca26\"],[1.0,\"#f0f921\"]]}],\"surface\":[{\"type\":\"surface\",\"colorbar\":{\"outlinewidth\":0,\"ticks\":\"\"},\"colorscale\":[[0.0,\"#0d0887\"],[0.1111111111111111,\"#46039f\"],[0.2222222222222222,\"#7201a8\"],[0.3333333333333333,\"#9c179e\"],[0.4444444444444444,\"#bd3786\"],[0.5555555555555556,\"#d8576b\"],[0.6666666666666666,\"#ed7953\"],[0.7777777777777778,\"#fb9f3a\"],[0.8888888888888888,\"#fdca26\"],[1.0,\"#f0f921\"]]}],\"mesh3d\":[{\"type\":\"mesh3d\",\"colorbar\":{\"outlinewidth\":0,\"ticks\":\"\"}}],\"scatter\":[{\"fillpattern\":{\"fillmode\":\"overlay\",\"size\":10,\"solidity\":0.2},\"type\":\"scatter\"}],\"parcoords\":[{\"type\":\"parcoords\",\"line\":{\"colorbar\":{\"outlinewidth\":0,\"ticks\":\"\"}}}],\"scatterpolargl\":[{\"type\":\"scatterpolargl\",\"marker\":{\"colorbar\":{\"outlinewidth\":0,\"ticks\":\"\"}}}],\"bar\":[{\"error_x\":{\"color\":\"#2a3f5f\"},\"error_y\":{\"color\":\"#2a3f5f\"},\"marker\":{\"line\":{\"color\":\"#E5ECF6\",\"width\":0.5},\"pattern\":{\"fillmode\":\"overlay\",\"size\":10,\"solidity\":0.2}},\"type\":\"bar\"}],\"scattergeo\":[{\"type\":\"scattergeo\",\"marker\":{\"colorbar\":{\"outlinewidth\":0,\"ticks\":\"\"}}}],\"scatterpolar\":[{\"type\":\"scatterpolar\",\"marker\":{\"colorbar\":{\"outlinewidth\":0,\"ticks\":\"\"}}}],\"histogram\":[{\"marker\":{\"pattern\":{\"fillmode\":\"overlay\",\"size\":10,\"solidity\":0.2}},\"type\":\"histogram\"}],\"scattergl\":[{\"type\":\"scattergl\",\"marker\":{\"colorbar\":{\"outlinewidth\":0,\"ticks\":\"\"}}}],\"scatter3d\":[{\"type\":\"scatter3d\",\"line\":{\"colorbar\":{\"outlinewidth\":0,\"ticks\":\"\"}},\"marker\":{\"colorbar\":{\"outlinewidth\":0,\"ticks\":\"\"}}}],\"scattermapbox\":[{\"type\":\"scattermapbox\",\"marker\":{\"colorbar\":{\"outlinewidth\":0,\"ticks\":\"\"}}}],\"scatterternary\":[{\"type\":\"scatterternary\",\"marker\":{\"colorbar\":{\"outlinewidth\":0,\"ticks\":\"\"}}}],\"scattercarpet\":[{\"type\":\"scattercarpet\",\"marker\":{\"colorbar\":{\"outlinewidth\":0,\"ticks\":\"\"}}}],\"carpet\":[{\"aaxis\":{\"endlinecolor\":\"#2a3f5f\",\"gridcolor\":\"white\",\"linecolor\":\"white\",\"minorgridcolor\":\"white\",\"startlinecolor\":\"#2a3f5f\"},\"baxis\":{\"endlinecolor\":\"#2a3f5f\",\"gridcolor\":\"white\",\"linecolor\":\"white\",\"minorgridcolor\":\"white\",\"startlinecolor\":\"#2a3f5f\"},\"type\":\"carpet\"}],\"table\":[{\"cells\":{\"fill\":{\"color\":\"#EBF0F8\"},\"line\":{\"color\":\"white\"}},\"header\":{\"fill\":{\"color\":\"#C8D4E3\"},\"line\":{\"color\":\"white\"}},\"type\":\"table\"}],\"barpolar\":[{\"marker\":{\"line\":{\"color\":\"#E5ECF6\",\"width\":0.5},\"pattern\":{\"fillmode\":\"overlay\",\"size\":10,\"solidity\":0.2}},\"type\":\"barpolar\"}],\"pie\":[{\"automargin\":true,\"type\":\"pie\"}]},\"layout\":{\"autotypenumbers\":\"strict\",\"colorway\":[\"#636efa\",\"#EF553B\",\"#00cc96\",\"#ab63fa\",\"#FFA15A\",\"#19d3f3\",\"#FF6692\",\"#B6E880\",\"#FF97FF\",\"#FECB52\"],\"font\":{\"color\":\"#2a3f5f\"},\"hovermode\":\"closest\",\"hoverlabel\":{\"align\":\"left\"},\"paper_bgcolor\":\"white\",\"plot_bgcolor\":\"#E5ECF6\",\"polar\":{\"bgcolor\":\"#E5ECF6\",\"angularaxis\":{\"gridcolor\":\"white\",\"linecolor\":\"white\",\"ticks\":\"\"},\"radialaxis\":{\"gridcolor\":\"white\",\"linecolor\":\"white\",\"ticks\":\"\"}},\"ternary\":{\"bgcolor\":\"#E5ECF6\",\"aaxis\":{\"gridcolor\":\"white\",\"linecolor\":\"white\",\"ticks\":\"\"},\"baxis\":{\"gridcolor\":\"white\",\"linecolor\":\"white\",\"ticks\":\"\"},\"caxis\":{\"gridcolor\":\"white\",\"linecolor\":\"white\",\"ticks\":\"\"}},\"coloraxis\":{\"colorbar\":{\"outlinewidth\":0,\"ticks\":\"\"}},\"colorscale\":{\"sequential\":[[0.0,\"#0d0887\"],[0.1111111111111111,\"#46039f\"],[0.2222222222222222,\"#7201a8\"],[0.3333333333333333,\"#9c179e\"],[0.4444444444444444,\"#bd3786\"],[0.5555555555555556,\"#d8576b\"],[0.6666666666666666,\"#ed7953\"],[0.7777777777777778,\"#fb9f3a\"],[0.8888888888888888,\"#fdca26\"],[1.0,\"#f0f921\"]],\"sequentialminus\":[[0.0,\"#0d0887\"],[0.1111111111111111,\"#46039f\"],[0.2222222222222222,\"#7201a8\"],[0.3333333333333333,\"#9c179e\"],[0.4444444444444444,\"#bd3786\"],[0.5555555555555556,\"#d8576b\"],[0.6666666666666666,\"#ed7953\"],[0.7777777777777778,\"#fb9f3a\"],[0.8888888888888888,\"#fdca26\"],[1.0,\"#f0f921\"]],\"diverging\":[[0,\"#8e0152\"],[0.1,\"#c51b7d\"],[0.2,\"#de77ae\"],[0.3,\"#f1b6da\"],[0.4,\"#fde0ef\"],[0.5,\"#f7f7f7\"],[0.6,\"#e6f5d0\"],[0.7,\"#b8e186\"],[0.8,\"#7fbc41\"],[0.9,\"#4d9221\"],[1,\"#276419\"]]},\"xaxis\":{\"gridcolor\":\"white\",\"linecolor\":\"white\",\"ticks\":\"\",\"title\":{\"standoff\":15},\"zerolinecolor\":\"white\",\"automargin\":true,\"zerolinewidth\":2},\"yaxis\":{\"gridcolor\":\"white\",\"linecolor\":\"white\",\"ticks\":\"\",\"title\":{\"standoff\":15},\"zerolinecolor\":\"white\",\"automargin\":true,\"zerolinewidth\":2},\"scene\":{\"xaxis\":{\"backgroundcolor\":\"#E5ECF6\",\"gridcolor\":\"white\",\"linecolor\":\"white\",\"showbackground\":true,\"ticks\":\"\",\"zerolinecolor\":\"white\",\"gridwidth\":2},\"yaxis\":{\"backgroundcolor\":\"#E5ECF6\",\"gridcolor\":\"white\",\"linecolor\":\"white\",\"showbackground\":true,\"ticks\":\"\",\"zerolinecolor\":\"white\",\"gridwidth\":2},\"zaxis\":{\"backgroundcolor\":\"#E5ECF6\",\"gridcolor\":\"white\",\"linecolor\":\"white\",\"showbackground\":true,\"ticks\":\"\",\"zerolinecolor\":\"white\",\"gridwidth\":2}},\"shapedefaults\":{\"line\":{\"color\":\"#2a3f5f\"}},\"annotationdefaults\":{\"arrowcolor\":\"#2a3f5f\",\"arrowhead\":0,\"arrowwidth\":1},\"geo\":{\"bgcolor\":\"white\",\"landcolor\":\"#E5ECF6\",\"subunitcolor\":\"white\",\"showland\":true,\"showlakes\":true,\"lakecolor\":\"white\"},\"title\":{\"x\":0.05},\"mapbox\":{\"style\":\"light\"}}},\"scene\":{\"domain\":{\"x\":[0.0,1.0],\"y\":[0.0,1.0]},\"xaxis\":{\"title\":{\"text\":\"7. What social media platforms do you commonly use?\"}},\"yaxis\":{\"title\":{\"text\":\"18. How often do you feel depressed or down?\"}},\"zaxis\":{\"title\":{\"text\":\"1. What is your age?\"}}},\"coloraxis\":{\"colorbar\":{\"title\":{\"text\":\"18. How often do you feel depressed or down?\"}},\"colorscale\":[[0.0,\"#0d0887\"],[0.1111111111111111,\"#46039f\"],[0.2222222222222222,\"#7201a8\"],[0.3333333333333333,\"#9c179e\"],[0.4444444444444444,\"#bd3786\"],[0.5555555555555556,\"#d8576b\"],[0.6666666666666666,\"#ed7953\"],[0.7777777777777778,\"#fb9f3a\"],[0.8888888888888888,\"#fdca26\"],[1.0,\"#f0f921\"]]},\"legend\":{\"tracegroupgap\":0},\"title\":{\"text\":\"3D Scatter Plot of Ages, Apps, and level of depression\"},\"width\":800,\"height\":600},                        {\"responsive\": true}                    ).then(function(){\n",
       "                            \n",
       "var gd = document.getElementById('2a185fdd-1b5f-4092-92d0-79afcdb71d14');\n",
       "var x = new MutationObserver(function (mutations, observer) {{\n",
       "        var display = window.getComputedStyle(gd).display;\n",
       "        if (!display || display === 'none') {{\n",
       "            console.log([gd, 'removed!']);\n",
       "            Plotly.purge(gd);\n",
       "            observer.disconnect();\n",
       "        }}\n",
       "}});\n",
       "\n",
       "// Listen for the removal of the full notebook cells\n",
       "var notebookContainer = gd.closest('#notebook-container');\n",
       "if (notebookContainer) {{\n",
       "    x.observe(notebookContainer, {childList: true});\n",
       "}}\n",
       "\n",
       "// Listen for the clearing of the current output cell\n",
       "var outputEl = gd.closest('.output');\n",
       "if (outputEl) {{\n",
       "    x.observe(outputEl, {childList: true});\n",
       "}}\n",
       "\n",
       "                        })                };                });            </script>        </div>"
      ]
     },
     "metadata": {},
     "output_type": "display_data"
    },
    {
     "data": {
      "application/vnd.plotly.v1+json": {
       "config": {
        "plotlyServerURL": "https://plot.ly"
       },
       "data": [
        {
         "hovertemplate": "3. Relationship Status=%{x}<br>10. How often do you get distracted by Social media when you are busy doing something?=%{y}<br>20. On a scale of 1 to 5, how often do you face issues regarding sleep?=%{marker.size}<extra></extra>",
         "legendgroup": "",
         "marker": {
          "color": "#636efa",
          "size": [
           5,
           5,
           5,
           2,
           1,
           4,
           3,
           1,
           1,
           1,
           5,
           2,
           5,
           3,
           5,
           2,
           3,
           2,
           1,
           2,
           2,
           1,
           4,
           1,
           5,
           2,
           4,
           5,
           1,
           1,
           3,
           2,
           3,
           2,
           4,
           1,
           1,
           5,
           5,
           4,
           1,
           2,
           1,
           2,
           3,
           3,
           2,
           1,
           1,
           1,
           4,
           1,
           5,
           1,
           2,
           3,
           2,
           5,
           2,
           5,
           4,
           4,
           5,
           5,
           4,
           4,
           1,
           4,
           4,
           4,
           2,
           5,
           5,
           2,
           4,
           4,
           2,
           2,
           5,
           5,
           5,
           4,
           2,
           5,
           2,
           1,
           4,
           1,
           2,
           4,
           3,
           2,
           1,
           5,
           4,
           5,
           5,
           2,
           3,
           3,
           3,
           5,
           3,
           5,
           3,
           5,
           5,
           1,
           5,
           3,
           3,
           3,
           4,
           4,
           1,
           4,
           5,
           4,
           5,
           5,
           1,
           3,
           3,
           2,
           1,
           3,
           4,
           5,
           3,
           2,
           4,
           2,
           4,
           1,
           1,
           5,
           4,
           1,
           3,
           2,
           1,
           4,
           1,
           2,
           5,
           3,
           4,
           2,
           2,
           4,
           2,
           5,
           3,
           2,
           5,
           4,
           4,
           4,
           4,
           5,
           5,
           2,
           4,
           4,
           4,
           2,
           4,
           4,
           2,
           1,
           4,
           4,
           5,
           1,
           5,
           1,
           1,
           5,
           5,
           1,
           5,
           4,
           3,
           2,
           4,
           2,
           1,
           1,
           4,
           5,
           1,
           1,
           4,
           4,
           5,
           1,
           2,
           2,
           2,
           1,
           2,
           5,
           4,
           3,
           5,
           4,
           2,
           4,
           1,
           4,
           2,
           1,
           5,
           1,
           1,
           1,
           1,
           2,
           4,
           3,
           4,
           1,
           3,
           3,
           3,
           3,
           3,
           5,
           4,
           5,
           1,
           1,
           5,
           1,
           3,
           1,
           1,
           5,
           5,
           5,
           2,
           4,
           5,
           5,
           3,
           2,
           1,
           3,
           1,
           4,
           1,
           4,
           5,
           3,
           2,
           5,
           5,
           3,
           2,
           4,
           3,
           4,
           2,
           3,
           2,
           2,
           4,
           4,
           5,
           2,
           5,
           5,
           4,
           5,
           3,
           5,
           5,
           5,
           2,
           4,
           5,
           3,
           2,
           5,
           4,
           4,
           2,
           4,
           2,
           4,
           4,
           3,
           4,
           5,
           1,
           1,
           2,
           5,
           2,
           3,
           4,
           5,
           2,
           5,
           2,
           2,
           3,
           1,
           4,
           1,
           5,
           5,
           2,
           5,
           4,
           4,
           3,
           4,
           5,
           5,
           5,
           4,
           5,
           5,
           5,
           1,
           5,
           4,
           2,
           4,
           4,
           2,
           3,
           4,
           3,
           2,
           2,
           5,
           3,
           2,
           1,
           3,
           5,
           5,
           5,
           2,
           1,
           1,
           1,
           4,
           5,
           4,
           5,
           4,
           2,
           5,
           2,
           3,
           1,
           5,
           2,
           4,
           5,
           2,
           2,
           5,
           4,
           5,
           1,
           4,
           5,
           5,
           3,
           5,
           1,
           4,
           4,
           4,
           2,
           2,
           5,
           1,
           5,
           3,
           3,
           4,
           4,
           4,
           2,
           5,
           4,
           3,
           5,
           1,
           2,
           1,
           3,
           5,
           4,
           5,
           3,
           4,
           5,
           1,
           1,
           5,
           5,
           3,
           1,
           5,
           1,
           3,
           5,
           5,
           4,
           5,
           2,
           5,
           3,
           1,
           5,
           4,
           4,
           5,
           3,
           1,
           3,
           3,
           2,
           4,
           5,
           5,
           5,
           5,
           5,
           5,
           4,
           2,
           5,
           4,
           4,
           2,
           2,
           3,
           3,
           4,
           5,
           3,
           5,
           5,
           2,
           5,
           3,
           1,
           2,
           1,
           2,
           4,
           2,
           3,
           1,
           2,
           2,
           4,
           1,
           2,
           3,
           4,
           1,
           1,
           5,
           4,
           4,
           4,
           1,
           4,
           4,
           1,
           2,
           4,
           3
          ],
          "sizemode": "area",
          "sizeref": 0.0125,
          "symbol": "circle"
         },
         "mode": "markers",
         "name": "",
         "orientation": "v",
         "showlegend": false,
         "type": "scatter",
         "x": [
          "In a relationship",
          "Single",
          "Single",
          "Single",
          "Single",
          "Single",
          "Married",
          "In a relationship",
          "In a relationship",
          "Single",
          "Single",
          "Single",
          "Single",
          "Single",
          "Single",
          "In a relationship",
          "Single",
          "Single",
          "Single",
          "Divorced",
          "In a relationship",
          "Single",
          "Single",
          "Married",
          "Single",
          "Married",
          "Single",
          "Married",
          "In a relationship",
          "Single",
          "In a relationship",
          "Married",
          "Single",
          "Single",
          "Single",
          "Single",
          "Single",
          "Single",
          "Single",
          "Single",
          "Single",
          "Single",
          "Married",
          "Single",
          "Single",
          "In a relationship",
          "Married",
          "Single",
          "Married",
          "Single",
          "Single",
          "Single",
          "Single",
          "Married",
          "In a relationship",
          "Single",
          "Married",
          "Single",
          "Married",
          "Married",
          "Single",
          "Married",
          "Single",
          "Single",
          "Single",
          "In a relationship",
          "In a relationship",
          "Single",
          "Single",
          "Single",
          "Married",
          "Single",
          "Single",
          "Married",
          "Single",
          "Single",
          "Single",
          "Single",
          "Single",
          "Single",
          "Single",
          "Single",
          "Single",
          "In a relationship",
          "Single",
          "Single",
          "In a relationship",
          "Married",
          "Single",
          "In a relationship",
          "In a relationship",
          "Single",
          "Single",
          "Single",
          "Single",
          "Single",
          "Single",
          "Single",
          "Single",
          "Single",
          "In a relationship",
          "In a relationship",
          "Single",
          "Single",
          "Single",
          "Single",
          "Single",
          "Married",
          "In a relationship",
          "Married",
          "Married",
          "Single",
          "Married",
          "Married",
          "Single",
          "Married",
          "Single",
          "Single",
          "In a relationship",
          "Single",
          "Married",
          "Single",
          "Single",
          "Single",
          "Single",
          "Single",
          "Single",
          "Single",
          "Single",
          "Single",
          "Single",
          "Married",
          "Single",
          "Married",
          "Divorced",
          "Married",
          "Married",
          "Married",
          "Married",
          "Married",
          "Married",
          "Married",
          "Single",
          "Divorced",
          "Single",
          "Married",
          "In a relationship",
          "Married",
          "Married",
          "Married",
          "In a relationship",
          "Married",
          "Married",
          "Married",
          "Divorced",
          "In a relationship",
          "Married",
          "Married",
          "Married",
          "In a relationship",
          "In a relationship",
          "Married",
          "Married",
          "Married",
          "Married",
          "Married",
          "Married",
          "Single",
          "Married",
          "In a relationship",
          "Single",
          "Single",
          "Single",
          "Single",
          "In a relationship",
          "Married",
          "Divorced",
          "Single",
          "Single",
          "In a relationship",
          "Married",
          "Married",
          "Married",
          "Married",
          "In a relationship",
          "Married",
          "Married",
          "Single",
          "Married",
          "In a relationship",
          "Single",
          "Single",
          "In a relationship",
          "In a relationship",
          "Single",
          "Married",
          "Married",
          "Married",
          "Single",
          "Married",
          "Single",
          "In a relationship",
          "Married",
          "In a relationship",
          "Married",
          "Single",
          "Married",
          "Single",
          "Single",
          "Single",
          "Single",
          "Single",
          "Married",
          "Single",
          "In a relationship",
          "In a relationship",
          "Married",
          "Married",
          "Single",
          "Single",
          "In a relationship",
          "Single",
          "Single",
          "Single",
          "In a relationship",
          "In a relationship",
          "Single",
          "Single",
          "Married",
          "In a relationship",
          "In a relationship",
          "Single",
          "Single",
          "Single",
          "In a relationship",
          "In a relationship",
          "Married",
          "Single",
          "Divorced",
          "Single",
          "Single",
          "Single",
          "Single",
          "Single",
          "Single",
          "In a relationship",
          "Single",
          "Single",
          "Married",
          "Single",
          "Married",
          "Single",
          "Single",
          "Married",
          "Single",
          "Single",
          "Single",
          "Single",
          "Single",
          "In a relationship",
          "Married",
          "In a relationship",
          "Single",
          "Single",
          "Single",
          "Single",
          "In a relationship",
          "Single",
          "Single",
          "In a relationship",
          "Single",
          "Single",
          "Single",
          "Single",
          "Single",
          "In a relationship",
          "In a relationship",
          "Single",
          "In a relationship",
          "Single",
          "Single",
          "Single",
          "Single",
          "Single",
          "Single",
          "Single",
          "Single",
          "Single",
          "In a relationship",
          "In a relationship",
          "Single",
          "In a relationship",
          "Single",
          "In a relationship",
          "Single",
          "In a relationship",
          "Single",
          "Single",
          "Single",
          "Single",
          "In a relationship",
          "Single",
          "Single",
          "Single",
          "Single",
          "In a relationship",
          "In a relationship",
          "In a relationship",
          "Single",
          "Single",
          "Single",
          "Single",
          "Single",
          "Single",
          "Single",
          "Married",
          "Single",
          "In a relationship",
          "Single",
          "Single",
          "Single",
          "Single",
          "Single",
          "Single",
          "Single",
          "Single",
          "Single",
          "Single",
          "Single",
          "Married",
          "Single",
          "Single",
          "Single",
          "Single",
          "Single",
          "Single",
          "Single",
          "Single",
          "In a relationship",
          "Single",
          "Single",
          "Single",
          "Single",
          "Single",
          "Single",
          "In a relationship",
          "Married",
          "Married",
          "In a relationship",
          "Single",
          "Single",
          "In a relationship",
          "Single",
          "Single",
          "Single",
          "Married",
          "Single",
          "Single",
          "Single",
          "Single",
          "Single",
          "Married",
          "In a relationship",
          "In a relationship",
          "Married",
          "Single",
          "In a relationship",
          "Divorced",
          "In a relationship",
          "Single",
          "Single",
          "Married",
          "Single",
          "Single",
          "In a relationship",
          "In a relationship",
          "Single",
          "Single",
          "Single",
          "Single",
          "Single",
          "Single",
          "Single",
          "Single",
          "In a relationship",
          "Single",
          "Single",
          "Single",
          "Single",
          "Single",
          "Single",
          "Single",
          "Single",
          "Single",
          "In a relationship",
          "Married",
          "Single",
          "Single",
          "Single",
          "Single",
          "Single",
          "Married",
          "Single",
          "Married",
          "Married",
          "Single",
          "Single",
          "In a relationship",
          "Single",
          "In a relationship",
          "Single",
          "Single",
          "In a relationship",
          "Single",
          "In a relationship",
          "Single",
          "Single",
          "In a relationship",
          "Single",
          "Single",
          "Single",
          "In a relationship",
          "Single",
          "In a relationship",
          "In a relationship",
          "Single",
          "Married",
          "Married",
          "Married",
          "Single",
          "Single",
          "Single",
          "Single",
          "Single",
          "Single",
          "Single",
          "In a relationship",
          "In a relationship",
          "Single",
          "In a relationship",
          "In a relationship",
          "In a relationship",
          "Single",
          "Single",
          "Single",
          "Single",
          "In a relationship",
          "In a relationship",
          "Single",
          "Single",
          "Single",
          "Single",
          "Single",
          "Single",
          "Married",
          "Married",
          "Married",
          "Married",
          "Single",
          "Single",
          "Married",
          "Single",
          "Married",
          "Single",
          "Single",
          "Single",
          "In a relationship",
          "Single",
          "Single",
          "Single",
          "Single",
          "Single",
          "Married",
          "Married",
          "Married",
          "Married",
          "Single",
          "Married",
          "Married",
          "Single",
          "Married"
         ],
         "xaxis": "x",
         "y": [
          3,
          3,
          2,
          2,
          5,
          4,
          3,
          2,
          2,
          1,
          5,
          4,
          4,
          3,
          5,
          4,
          2,
          5,
          4,
          4,
          2,
          2,
          4,
          2,
          3,
          4,
          4,
          4,
          4,
          4,
          4,
          4,
          3,
          3,
          5,
          4,
          3,
          3,
          5,
          4,
          1,
          5,
          1,
          2,
          1,
          5,
          3,
          3,
          3,
          3,
          4,
          5,
          5,
          2,
          1,
          5,
          2,
          2,
          5,
          1,
          3,
          2,
          4,
          1,
          3,
          2,
          5,
          1,
          2,
          4,
          4,
          5,
          4,
          2,
          4,
          1,
          5,
          3,
          3,
          5,
          4,
          4,
          5,
          5,
          4,
          3,
          4,
          3,
          4,
          5,
          5,
          5,
          3,
          4,
          5,
          5,
          5,
          2,
          4,
          5,
          4,
          4,
          4,
          3,
          3,
          3,
          2,
          1,
          2,
          3,
          3,
          5,
          3,
          4,
          5,
          5,
          5,
          4,
          5,
          5,
          4,
          3,
          5,
          5,
          5,
          4,
          1,
          2,
          2,
          1,
          1,
          2,
          3,
          2,
          1,
          5,
          3,
          3,
          3,
          3,
          2,
          5,
          2,
          1,
          3,
          4,
          4,
          4,
          3,
          3,
          2,
          2,
          1,
          1,
          1,
          2,
          1,
          2,
          1,
          4,
          2,
          1,
          5,
          2,
          2,
          2,
          1,
          4,
          2,
          3,
          5,
          5,
          5,
          4,
          3,
          3,
          2,
          3,
          5,
          2,
          4,
          2,
          1,
          4,
          5,
          2,
          3,
          5,
          3,
          5,
          2,
          4,
          3,
          3,
          5,
          1,
          3,
          3,
          2,
          1,
          3,
          2,
          5,
          5,
          5,
          2,
          4,
          5,
          2,
          1,
          3,
          1,
          3,
          1,
          3,
          2,
          1,
          4,
          3,
          2,
          4,
          4,
          3,
          3,
          1,
          5,
          4,
          5,
          1,
          5,
          3,
          1,
          5,
          1,
          4,
          4,
          1,
          5,
          5,
          4,
          2,
          4,
          2,
          3,
          5,
          5,
          3,
          2,
          5,
          5,
          2,
          5,
          5,
          4,
          2,
          5,
          5,
          1,
          3,
          3,
          1,
          3,
          2,
          4,
          2,
          3,
          4,
          3,
          5,
          2,
          2,
          5,
          4,
          2,
          4,
          4,
          5,
          5,
          4,
          4,
          3,
          4,
          1,
          5,
          4,
          4,
          3,
          4,
          3,
          1,
          4,
          2,
          5,
          4,
          3,
          1,
          1,
          2,
          4,
          3,
          4,
          2,
          5,
          5,
          4,
          5,
          5,
          3,
          2,
          3,
          3,
          3,
          5,
          3,
          1,
          3,
          1,
          5,
          5,
          5,
          4,
          3,
          4,
          2,
          4,
          2,
          5,
          5,
          4,
          4,
          2,
          3,
          5,
          5,
          3,
          2,
          4,
          5,
          3,
          3,
          3,
          4,
          3,
          4,
          5,
          4,
          1,
          5,
          5,
          5,
          3,
          2,
          4,
          2,
          3,
          3,
          5,
          2,
          5,
          4,
          3,
          4,
          5,
          2,
          2,
          4,
          5,
          5,
          5,
          3,
          2,
          5,
          2,
          4,
          4,
          2,
          2,
          5,
          4,
          3,
          5,
          3,
          2,
          4,
          5,
          4,
          5,
          4,
          4,
          5,
          4,
          3,
          4,
          5,
          4,
          2,
          4,
          4,
          1,
          4,
          2,
          2,
          4,
          1,
          1,
          5,
          5,
          5,
          5,
          2,
          4,
          4,
          3,
          4,
          4,
          5,
          1,
          3,
          4,
          5,
          4,
          2,
          3,
          5,
          3,
          1,
          3,
          5,
          5,
          5,
          3,
          5,
          5,
          3,
          1,
          2,
          5,
          3,
          4,
          3,
          4,
          4,
          2,
          5,
          3,
          1,
          5,
          3,
          4,
          5,
          2,
          3,
          1,
          2,
          4,
          1,
          1,
          2,
          3,
          5,
          1,
          2,
          4,
          4,
          4,
          4,
          4,
          3,
          3,
          1,
          2,
          4,
          2,
          4,
          4,
          5,
          4,
          1,
          3,
          3,
          3
         ],
         "yaxis": "y"
        }
       ],
       "layout": {
        "height": 600,
        "legend": {
         "itemsizing": "constant",
         "tracegroupgap": 0
        },
        "template": {
         "data": {
          "bar": [
           {
            "error_x": {
             "color": "#2a3f5f"
            },
            "error_y": {
             "color": "#2a3f5f"
            },
            "marker": {
             "line": {
              "color": "#E5ECF6",
              "width": 0.5
             },
             "pattern": {
              "fillmode": "overlay",
              "size": 10,
              "solidity": 0.2
             }
            },
            "type": "bar"
           }
          ],
          "barpolar": [
           {
            "marker": {
             "line": {
              "color": "#E5ECF6",
              "width": 0.5
             },
             "pattern": {
              "fillmode": "overlay",
              "size": 10,
              "solidity": 0.2
             }
            },
            "type": "barpolar"
           }
          ],
          "carpet": [
           {
            "aaxis": {
             "endlinecolor": "#2a3f5f",
             "gridcolor": "white",
             "linecolor": "white",
             "minorgridcolor": "white",
             "startlinecolor": "#2a3f5f"
            },
            "baxis": {
             "endlinecolor": "#2a3f5f",
             "gridcolor": "white",
             "linecolor": "white",
             "minorgridcolor": "white",
             "startlinecolor": "#2a3f5f"
            },
            "type": "carpet"
           }
          ],
          "choropleth": [
           {
            "colorbar": {
             "outlinewidth": 0,
             "ticks": ""
            },
            "type": "choropleth"
           }
          ],
          "contour": [
           {
            "colorbar": {
             "outlinewidth": 0,
             "ticks": ""
            },
            "colorscale": [
             [
              0,
              "#0d0887"
             ],
             [
              0.1111111111111111,
              "#46039f"
             ],
             [
              0.2222222222222222,
              "#7201a8"
             ],
             [
              0.3333333333333333,
              "#9c179e"
             ],
             [
              0.4444444444444444,
              "#bd3786"
             ],
             [
              0.5555555555555556,
              "#d8576b"
             ],
             [
              0.6666666666666666,
              "#ed7953"
             ],
             [
              0.7777777777777778,
              "#fb9f3a"
             ],
             [
              0.8888888888888888,
              "#fdca26"
             ],
             [
              1,
              "#f0f921"
             ]
            ],
            "type": "contour"
           }
          ],
          "contourcarpet": [
           {
            "colorbar": {
             "outlinewidth": 0,
             "ticks": ""
            },
            "type": "contourcarpet"
           }
          ],
          "heatmap": [
           {
            "colorbar": {
             "outlinewidth": 0,
             "ticks": ""
            },
            "colorscale": [
             [
              0,
              "#0d0887"
             ],
             [
              0.1111111111111111,
              "#46039f"
             ],
             [
              0.2222222222222222,
              "#7201a8"
             ],
             [
              0.3333333333333333,
              "#9c179e"
             ],
             [
              0.4444444444444444,
              "#bd3786"
             ],
             [
              0.5555555555555556,
              "#d8576b"
             ],
             [
              0.6666666666666666,
              "#ed7953"
             ],
             [
              0.7777777777777778,
              "#fb9f3a"
             ],
             [
              0.8888888888888888,
              "#fdca26"
             ],
             [
              1,
              "#f0f921"
             ]
            ],
            "type": "heatmap"
           }
          ],
          "heatmapgl": [
           {
            "colorbar": {
             "outlinewidth": 0,
             "ticks": ""
            },
            "colorscale": [
             [
              0,
              "#0d0887"
             ],
             [
              0.1111111111111111,
              "#46039f"
             ],
             [
              0.2222222222222222,
              "#7201a8"
             ],
             [
              0.3333333333333333,
              "#9c179e"
             ],
             [
              0.4444444444444444,
              "#bd3786"
             ],
             [
              0.5555555555555556,
              "#d8576b"
             ],
             [
              0.6666666666666666,
              "#ed7953"
             ],
             [
              0.7777777777777778,
              "#fb9f3a"
             ],
             [
              0.8888888888888888,
              "#fdca26"
             ],
             [
              1,
              "#f0f921"
             ]
            ],
            "type": "heatmapgl"
           }
          ],
          "histogram": [
           {
            "marker": {
             "pattern": {
              "fillmode": "overlay",
              "size": 10,
              "solidity": 0.2
             }
            },
            "type": "histogram"
           }
          ],
          "histogram2d": [
           {
            "colorbar": {
             "outlinewidth": 0,
             "ticks": ""
            },
            "colorscale": [
             [
              0,
              "#0d0887"
             ],
             [
              0.1111111111111111,
              "#46039f"
             ],
             [
              0.2222222222222222,
              "#7201a8"
             ],
             [
              0.3333333333333333,
              "#9c179e"
             ],
             [
              0.4444444444444444,
              "#bd3786"
             ],
             [
              0.5555555555555556,
              "#d8576b"
             ],
             [
              0.6666666666666666,
              "#ed7953"
             ],
             [
              0.7777777777777778,
              "#fb9f3a"
             ],
             [
              0.8888888888888888,
              "#fdca26"
             ],
             [
              1,
              "#f0f921"
             ]
            ],
            "type": "histogram2d"
           }
          ],
          "histogram2dcontour": [
           {
            "colorbar": {
             "outlinewidth": 0,
             "ticks": ""
            },
            "colorscale": [
             [
              0,
              "#0d0887"
             ],
             [
              0.1111111111111111,
              "#46039f"
             ],
             [
              0.2222222222222222,
              "#7201a8"
             ],
             [
              0.3333333333333333,
              "#9c179e"
             ],
             [
              0.4444444444444444,
              "#bd3786"
             ],
             [
              0.5555555555555556,
              "#d8576b"
             ],
             [
              0.6666666666666666,
              "#ed7953"
             ],
             [
              0.7777777777777778,
              "#fb9f3a"
             ],
             [
              0.8888888888888888,
              "#fdca26"
             ],
             [
              1,
              "#f0f921"
             ]
            ],
            "type": "histogram2dcontour"
           }
          ],
          "mesh3d": [
           {
            "colorbar": {
             "outlinewidth": 0,
             "ticks": ""
            },
            "type": "mesh3d"
           }
          ],
          "parcoords": [
           {
            "line": {
             "colorbar": {
              "outlinewidth": 0,
              "ticks": ""
             }
            },
            "type": "parcoords"
           }
          ],
          "pie": [
           {
            "automargin": true,
            "type": "pie"
           }
          ],
          "scatter": [
           {
            "fillpattern": {
             "fillmode": "overlay",
             "size": 10,
             "solidity": 0.2
            },
            "type": "scatter"
           }
          ],
          "scatter3d": [
           {
            "line": {
             "colorbar": {
              "outlinewidth": 0,
              "ticks": ""
             }
            },
            "marker": {
             "colorbar": {
              "outlinewidth": 0,
              "ticks": ""
             }
            },
            "type": "scatter3d"
           }
          ],
          "scattercarpet": [
           {
            "marker": {
             "colorbar": {
              "outlinewidth": 0,
              "ticks": ""
             }
            },
            "type": "scattercarpet"
           }
          ],
          "scattergeo": [
           {
            "marker": {
             "colorbar": {
              "outlinewidth": 0,
              "ticks": ""
             }
            },
            "type": "scattergeo"
           }
          ],
          "scattergl": [
           {
            "marker": {
             "colorbar": {
              "outlinewidth": 0,
              "ticks": ""
             }
            },
            "type": "scattergl"
           }
          ],
          "scattermapbox": [
           {
            "marker": {
             "colorbar": {
              "outlinewidth": 0,
              "ticks": ""
             }
            },
            "type": "scattermapbox"
           }
          ],
          "scatterpolar": [
           {
            "marker": {
             "colorbar": {
              "outlinewidth": 0,
              "ticks": ""
             }
            },
            "type": "scatterpolar"
           }
          ],
          "scatterpolargl": [
           {
            "marker": {
             "colorbar": {
              "outlinewidth": 0,
              "ticks": ""
             }
            },
            "type": "scatterpolargl"
           }
          ],
          "scatterternary": [
           {
            "marker": {
             "colorbar": {
              "outlinewidth": 0,
              "ticks": ""
             }
            },
            "type": "scatterternary"
           }
          ],
          "surface": [
           {
            "colorbar": {
             "outlinewidth": 0,
             "ticks": ""
            },
            "colorscale": [
             [
              0,
              "#0d0887"
             ],
             [
              0.1111111111111111,
              "#46039f"
             ],
             [
              0.2222222222222222,
              "#7201a8"
             ],
             [
              0.3333333333333333,
              "#9c179e"
             ],
             [
              0.4444444444444444,
              "#bd3786"
             ],
             [
              0.5555555555555556,
              "#d8576b"
             ],
             [
              0.6666666666666666,
              "#ed7953"
             ],
             [
              0.7777777777777778,
              "#fb9f3a"
             ],
             [
              0.8888888888888888,
              "#fdca26"
             ],
             [
              1,
              "#f0f921"
             ]
            ],
            "type": "surface"
           }
          ],
          "table": [
           {
            "cells": {
             "fill": {
              "color": "#EBF0F8"
             },
             "line": {
              "color": "white"
             }
            },
            "header": {
             "fill": {
              "color": "#C8D4E3"
             },
             "line": {
              "color": "white"
             }
            },
            "type": "table"
           }
          ]
         },
         "layout": {
          "annotationdefaults": {
           "arrowcolor": "#2a3f5f",
           "arrowhead": 0,
           "arrowwidth": 1
          },
          "autotypenumbers": "strict",
          "coloraxis": {
           "colorbar": {
            "outlinewidth": 0,
            "ticks": ""
           }
          },
          "colorscale": {
           "diverging": [
            [
             0,
             "#8e0152"
            ],
            [
             0.1,
             "#c51b7d"
            ],
            [
             0.2,
             "#de77ae"
            ],
            [
             0.3,
             "#f1b6da"
            ],
            [
             0.4,
             "#fde0ef"
            ],
            [
             0.5,
             "#f7f7f7"
            ],
            [
             0.6,
             "#e6f5d0"
            ],
            [
             0.7,
             "#b8e186"
            ],
            [
             0.8,
             "#7fbc41"
            ],
            [
             0.9,
             "#4d9221"
            ],
            [
             1,
             "#276419"
            ]
           ],
           "sequential": [
            [
             0,
             "#0d0887"
            ],
            [
             0.1111111111111111,
             "#46039f"
            ],
            [
             0.2222222222222222,
             "#7201a8"
            ],
            [
             0.3333333333333333,
             "#9c179e"
            ],
            [
             0.4444444444444444,
             "#bd3786"
            ],
            [
             0.5555555555555556,
             "#d8576b"
            ],
            [
             0.6666666666666666,
             "#ed7953"
            ],
            [
             0.7777777777777778,
             "#fb9f3a"
            ],
            [
             0.8888888888888888,
             "#fdca26"
            ],
            [
             1,
             "#f0f921"
            ]
           ],
           "sequentialminus": [
            [
             0,
             "#0d0887"
            ],
            [
             0.1111111111111111,
             "#46039f"
            ],
            [
             0.2222222222222222,
             "#7201a8"
            ],
            [
             0.3333333333333333,
             "#9c179e"
            ],
            [
             0.4444444444444444,
             "#bd3786"
            ],
            [
             0.5555555555555556,
             "#d8576b"
            ],
            [
             0.6666666666666666,
             "#ed7953"
            ],
            [
             0.7777777777777778,
             "#fb9f3a"
            ],
            [
             0.8888888888888888,
             "#fdca26"
            ],
            [
             1,
             "#f0f921"
            ]
           ]
          },
          "colorway": [
           "#636efa",
           "#EF553B",
           "#00cc96",
           "#ab63fa",
           "#FFA15A",
           "#19d3f3",
           "#FF6692",
           "#B6E880",
           "#FF97FF",
           "#FECB52"
          ],
          "font": {
           "color": "#2a3f5f"
          },
          "geo": {
           "bgcolor": "white",
           "lakecolor": "white",
           "landcolor": "#E5ECF6",
           "showlakes": true,
           "showland": true,
           "subunitcolor": "white"
          },
          "hoverlabel": {
           "align": "left"
          },
          "hovermode": "closest",
          "mapbox": {
           "style": "light"
          },
          "paper_bgcolor": "white",
          "plot_bgcolor": "#E5ECF6",
          "polar": {
           "angularaxis": {
            "gridcolor": "white",
            "linecolor": "white",
            "ticks": ""
           },
           "bgcolor": "#E5ECF6",
           "radialaxis": {
            "gridcolor": "white",
            "linecolor": "white",
            "ticks": ""
           }
          },
          "scene": {
           "xaxis": {
            "backgroundcolor": "#E5ECF6",
            "gridcolor": "white",
            "gridwidth": 2,
            "linecolor": "white",
            "showbackground": true,
            "ticks": "",
            "zerolinecolor": "white"
           },
           "yaxis": {
            "backgroundcolor": "#E5ECF6",
            "gridcolor": "white",
            "gridwidth": 2,
            "linecolor": "white",
            "showbackground": true,
            "ticks": "",
            "zerolinecolor": "white"
           },
           "zaxis": {
            "backgroundcolor": "#E5ECF6",
            "gridcolor": "white",
            "gridwidth": 2,
            "linecolor": "white",
            "showbackground": true,
            "ticks": "",
            "zerolinecolor": "white"
           }
          },
          "shapedefaults": {
           "line": {
            "color": "#2a3f5f"
           }
          },
          "ternary": {
           "aaxis": {
            "gridcolor": "white",
            "linecolor": "white",
            "ticks": ""
           },
           "baxis": {
            "gridcolor": "white",
            "linecolor": "white",
            "ticks": ""
           },
           "bgcolor": "#E5ECF6",
           "caxis": {
            "gridcolor": "white",
            "linecolor": "white",
            "ticks": ""
           }
          },
          "title": {
           "x": 0.05
          },
          "xaxis": {
           "automargin": true,
           "gridcolor": "white",
           "linecolor": "white",
           "ticks": "",
           "title": {
            "standoff": 15
           },
           "zerolinecolor": "white",
           "zerolinewidth": 2
          },
          "yaxis": {
           "automargin": true,
           "gridcolor": "white",
           "linecolor": "white",
           "ticks": "",
           "title": {
            "standoff": 15
           },
           "zerolinecolor": "white",
           "zerolinewidth": 2
          }
         }
        },
        "title": {
         "text": "Bubble Chart"
        },
        "width": 800,
        "xaxis": {
         "anchor": "y",
         "autorange": true,
         "domain": [
          0,
          1
         ],
         "range": [
          -0.2634830384840994,
          3.2634830384840994
         ],
         "title": {
          "text": "3. Relationship Status"
         },
         "type": "category"
        },
        "yaxis": {
         "anchor": "x",
         "autorange": true,
         "domain": [
          0,
          1
         ],
         "range": [
          0.5748982806700235,
          5.425101719329977
         ],
         "title": {
          "text": "10. How often do you get distracted by Social media when you are busy doing something?"
         },
         "type": "linear"
        }
       }
      },
      "image/png": "[encoded data removed]",
      "text/html": [
       "<div>                            <div id=\"ef7717b8-2148-4145-bde6-be17fb5d433b\" class=\"plotly-graph-div\" style=\"height:600px; width:800px;\"></div>            <script type=\"text/javascript\">                require([\"plotly\"], function(Plotly) {                    window.PLOTLYENV=window.PLOTLYENV || {};                                    if (document.getElementById(\"ef7717b8-2148-4145-bde6-be17fb5d433b\")) {                    Plotly.newPlot(                        \"ef7717b8-2148-4145-bde6-be17fb5d433b\",                        [{\"hovertemplate\":\"3. Relationship Status=%{x}\\u003cbr\\u003e10. How often do you get distracted by Social media when you are busy doing something?=%{y}\\u003cbr\\u003e20. On a scale of 1 to 5, how often do you face issues regarding sleep?=%{marker.size}\\u003cextra\\u003e\\u003c\\u002fextra\\u003e\",\"legendgroup\":\"\",\"marker\":{\"color\":\"#636efa\",\"size\":[5,5,5,2,1,4,3,1,1,1,5,2,5,3,5,2,3,2,1,2,2,1,4,1,5,2,4,5,1,1,3,2,3,2,4,1,1,5,5,4,1,2,1,2,3,3,2,1,1,1,4,1,5,1,2,3,2,5,2,5,4,4,5,5,4,4,1,4,4,4,2,5,5,2,4,4,2,2,5,5,5,4,2,5,2,1,4,1,2,4,3,2,1,5,4,5,5,2,3,3,3,5,3,5,3,5,5,1,5,3,3,3,4,4,1,4,5,4,5,5,1,3,3,2,1,3,4,5,3,2,4,2,4,1,1,5,4,1,3,2,1,4,1,2,5,3,4,2,2,4,2,5,3,2,5,4,4,4,4,5,5,2,4,4,4,2,4,4,2,1,4,4,5,1,5,1,1,5,5,1,5,4,3,2,4,2,1,1,4,5,1,1,4,4,5,1,2,2,2,1,2,5,4,3,5,4,2,4,1,4,2,1,5,1,1,1,1,2,4,3,4,1,3,3,3,3,3,5,4,5,1,1,5,1,3,1,1,5,5,5,2,4,5,5,3,2,1,3,1,4,1,4,5,3,2,5,5,3,2,4,3,4,2,3,2,2,4,4,5,2,5,5,4,5,3,5,5,5,2,4,5,3,2,5,4,4,2,4,2,4,4,3,4,5,1,1,2,5,2,3,4,5,2,5,2,2,3,1,4,1,5,5,2,5,4,4,3,4,5,5,5,4,5,5,5,1,5,4,2,4,4,2,3,4,3,2,2,5,3,2,1,3,5,5,5,2,1,1,1,4,5,4,5,4,2,5,2,3,1,5,2,4,5,2,2,5,4,5,1,4,5,5,3,5,1,4,4,4,2,2,5,1,5,3,3,4,4,4,2,5,4,3,5,1,2,1,3,5,4,5,3,4,5,1,1,5,5,3,1,5,1,3,5,5,4,5,2,5,3,1,5,4,4,5,3,1,3,3,2,4,5,5,5,5,5,5,4,2,5,4,4,2,2,3,3,4,5,3,5,5,2,5,3,1,2,1,2,4,2,3,1,2,2,4,1,2,3,4,1,1,5,4,4,4,1,4,4,1,2,4,3],\"sizemode\":\"area\",\"sizeref\":0.0125,\"symbol\":\"circle\"},\"mode\":\"markers\",\"name\":\"\",\"orientation\":\"v\",\"showlegend\":false,\"x\":[\"In a relationship\",\"Single\",\"Single\",\"Single\",\"Single\",\"Single\",\"Married\",\"In a relationship\",\"In a relationship\",\"Single\",\"Single\",\"Single\",\"Single\",\"Single\",\"Single\",\"In a relationship\",\"Single\",\"Single\",\"Single\",\"Divorced\",\"In a relationship\",\"Single\",\"Single\",\"Married\",\"Single\",\"Married\",\"Single\",\"Married\",\"In a relationship\",\"Single\",\"In a relationship\",\"Married\",\"Single\",\"Single\",\"Single\",\"Single\",\"Single\",\"Single\",\"Single\",\"Single\",\"Single\",\"Single\",\"Married\",\"Single\",\"Single\",\"In a relationship\",\"Married\",\"Single\",\"Married\",\"Single\",\"Single\",\"Single\",\"Single\",\"Married\",\"In a relationship\",\"Single\",\"Married\",\"Single\",\"Married\",\"Married\",\"Single\",\"Married\",\"Single\",\"Single\",\"Single\",\"In a relationship\",\"In a relationship\",\"Single\",\"Single\",\"Single\",\"Married\",\"Single\",\"Single\",\"Married\",\"Single\",\"Single\",\"Single\",\"Single\",\"Single\",\"Single\",\"Single\",\"Single\",\"Single\",\"In a relationship\",\"Single\",\"Single\",\"In a relationship\",\"Married\",\"Single\",\"In a relationship\",\"In a relationship\",\"Single\",\"Single\",\"Single\",\"Single\",\"Single\",\"Single\",\"Single\",\"Single\",\"Single\",\"In a relationship\",\"In a relationship\",\"Single\",\"Single\",\"Single\",\"Single\",\"Single\",\"Married\",\"In a relationship\",\"Married\",\"Married\",\"Single\",\"Married\",\"Married\",\"Single\",\"Married\",\"Single\",\"Single\",\"In a relationship\",\"Single\",\"Married\",\"Single\",\"Single\",\"Single\",\"Single\",\"Single\",\"Single\",\"Single\",\"Single\",\"Single\",\"Single\",\"Married\",\"Single\",\"Married\",\"Divorced\",\"Married\",\"Married\",\"Married\",\"Married\",\"Married\",\"Married\",\"Married\",\"Single\",\"Divorced\",\"Single\",\"Married\",\"In a relationship\",\"Married\",\"Married\",\"Married\",\"In a relationship\",\"Married\",\"Married\",\"Married\",\"Divorced\",\"In a relationship\",\"Married\",\"Married\",\"Married\",\"In a relationship\",\"In a relationship\",\"Married\",\"Married\",\"Married\",\"Married\",\"Married\",\"Married\",\"Single\",\"Married\",\"In a relationship\",\"Single\",\"Single\",\"Single\",\"Single\",\"In a relationship\",\"Married\",\"Divorced\",\"Single\",\"Single\",\"In a relationship\",\"Married\",\"Married\",\"Married\",\"Married\",\"In a relationship\",\"Married\",\"Married\",\"Single\",\"Married\",\"In a relationship\",\"Single\",\"Single\",\"In a relationship\",\"In a relationship\",\"Single\",\"Married\",\"Married\",\"Married\",\"Single\",\"Married\",\"Single\",\"In a relationship\",\"Married\",\"In a relationship\",\"Married\",\"Single\",\"Married\",\"Single\",\"Single\",\"Single\",\"Single\",\"Single\",\"Married\",\"Single\",\"In a relationship\",\"In a relationship\",\"Married\",\"Married\",\"Single\",\"Single\",\"In a relationship\",\"Single\",\"Single\",\"Single\",\"In a relationship\",\"In a relationship\",\"Single\",\"Single\",\"Married\",\"In a relationship\",\"In a relationship\",\"Single\",\"Single\",\"Single\",\"In a relationship\",\"In a relationship\",\"Married\",\"Single\",\"Divorced\",\"Single\",\"Single\",\"Single\",\"Single\",\"Single\",\"Single\",\"In a relationship\",\"Single\",\"Single\",\"Married\",\"Single\",\"Married\",\"Single\",\"Single\",\"Married\",\"Single\",\"Single\",\"Single\",\"Single\",\"Single\",\"In a relationship\",\"Married\",\"In a relationship\",\"Single\",\"Single\",\"Single\",\"Single\",\"In a relationship\",\"Single\",\"Single\",\"In a relationship\",\"Single\",\"Single\",\"Single\",\"Single\",\"Single\",\"In a relationship\",\"In a relationship\",\"Single\",\"In a relationship\",\"Single\",\"Single\",\"Single\",\"Single\",\"Single\",\"Single\",\"Single\",\"Single\",\"Single\",\"In a relationship\",\"In a relationship\",\"Single\",\"In a relationship\",\"Single\",\"In a relationship\",\"Single\",\"In a relationship\",\"Single\",\"Single\",\"Single\",\"Single\",\"In a relationship\",\"Single\",\"Single\",\"Single\",\"Single\",\"In a relationship\",\"In a relationship\",\"In a relationship\",\"Single\",\"Single\",\"Single\",\"Single\",\"Single\",\"Single\",\"Single\",\"Married\",\"Single\",\"In a relationship\",\"Single\",\"Single\",\"Single\",\"Single\",\"Single\",\"Single\",\"Single\",\"Single\",\"Single\",\"Single\",\"Single\",\"Married\",\"Single\",\"Single\",\"Single\",\"Single\",\"Single\",\"Single\",\"Single\",\"Single\",\"In a relationship\",\"Single\",\"Single\",\"Single\",\"Single\",\"Single\",\"Single\",\"In a relationship\",\"Married\",\"Married\",\"In a relationship\",\"Single\",\"Single\",\"In a relationship\",\"Single\",\"Single\",\"Single\",\"Married\",\"Single\",\"Single\",\"Single\",\"Single\",\"Single\",\"Married\",\"In a relationship\",\"In a relationship\",\"Married\",\"Single\",\"In a relationship\",\"Divorced\",\"In a relationship\",\"Single\",\"Single\",\"Married\",\"Single\",\"Single\",\"In a relationship\",\"In a relationship\",\"Single\",\"Single\",\"Single\",\"Single\",\"Single\",\"Single\",\"Single\",\"Single\",\"In a relationship\",\"Single\",\"Single\",\"Single\",\"Single\",\"Single\",\"Single\",\"Single\",\"Single\",\"Single\",\"In a relationship\",\"Married\",\"Single\",\"Single\",\"Single\",\"Single\",\"Single\",\"Married\",\"Single\",\"Married\",\"Married\",\"Single\",\"Single\",\"In a relationship\",\"Single\",\"In a relationship\",\"Single\",\"Single\",\"In a relationship\",\"Single\",\"In a relationship\",\"Single\",\"Single\",\"In a relationship\",\"Single\",\"Single\",\"Single\",\"In a relationship\",\"Single\",\"In a relationship\",\"In a relationship\",\"Single\",\"Married\",\"Married\",\"Married\",\"Single\",\"Single\",\"Single\",\"Single\",\"Single\",\"Single\",\"Single\",\"In a relationship\",\"In a relationship\",\"Single\",\"In a relationship\",\"In a relationship\",\"In a relationship\",\"Single\",\"Single\",\"Single\",\"Single\",\"In a relationship\",\"In a relationship\",\"Single\",\"Single\",\"Single\",\"Single\",\"Single\",\"Single\",\"Married\",\"Married\",\"Married\",\"Married\",\"Single\",\"Single\",\"Married\",\"Single\",\"Married\",\"Single\",\"Single\",\"Single\",\"In a relationship\",\"Single\",\"Single\",\"Single\",\"Single\",\"Single\",\"Married\",\"Married\",\"Married\",\"Married\",\"Single\",\"Married\",\"Married\",\"Single\",\"Married\"],\"xaxis\":\"x\",\"y\":[3,3,2,2,5,4,3,2,2,1,5,4,4,3,5,4,2,5,4,4,2,2,4,2,3,4,4,4,4,4,4,4,3,3,5,4,3,3,5,4,1,5,1,2,1,5,3,3,3,3,4,5,5,2,1,5,2,2,5,1,3,2,4,1,3,2,5,1,2,4,4,5,4,2,4,1,5,3,3,5,4,4,5,5,4,3,4,3,4,5,5,5,3,4,5,5,5,2,4,5,4,4,4,3,3,3,2,1,2,3,3,5,3,4,5,5,5,4,5,5,4,3,5,5,5,4,1,2,2,1,1,2,3,2,1,5,3,3,3,3,2,5,2,1,3,4,4,4,3,3,2,2,1,1,1,2,1,2,1,4,2,1,5,2,2,2,1,4,2,3,5,5,5,4,3,3,2,3,5,2,4,2,1,4,5,2,3,5,3,5,2,4,3,3,5,1,3,3,2,1,3,2,5,5,5,2,4,5,2,1,3,1,3,1,3,2,1,4,3,2,4,4,3,3,1,5,4,5,1,5,3,1,5,1,4,4,1,5,5,4,2,4,2,3,5,5,3,2,5,5,2,5,5,4,2,5,5,1,3,3,1,3,2,4,2,3,4,3,5,2,2,5,4,2,4,4,5,5,4,4,3,4,1,5,4,4,3,4,3,1,4,2,5,4,3,1,1,2,4,3,4,2,5,5,4,5,5,3,2,3,3,3,5,3,1,3,1,5,5,5,4,3,4,2,4,2,5,5,4,4,2,3,5,5,3,2,4,5,3,3,3,4,3,4,5,4,1,5,5,5,3,2,4,2,3,3,5,2,5,4,3,4,5,2,2,4,5,5,5,3,2,5,2,4,4,2,2,5,4,3,5,3,2,4,5,4,5,4,4,5,4,3,4,5,4,2,4,4,1,4,2,2,4,1,1,5,5,5,5,2,4,4,3,4,4,5,1,3,4,5,4,2,3,5,3,1,3,5,5,5,3,5,5,3,1,2,5,3,4,3,4,4,2,5,3,1,5,3,4,5,2,3,1,2,4,1,1,2,3,5,1,2,4,4,4,4,4,3,3,1,2,4,2,4,4,5,4,1,3,3,3],\"yaxis\":\"y\",\"type\":\"scatter\"}],                        {\"template\":{\"data\":{\"histogram2dcontour\":[{\"type\":\"histogram2dcontour\",\"colorbar\":{\"outlinewidth\":0,\"ticks\":\"\"},\"colorscale\":[[0.0,\"#0d0887\"],[0.1111111111111111,\"#46039f\"],[0.2222222222222222,\"#7201a8\"],[0.3333333333333333,\"#9c179e\"],[0.4444444444444444,\"#bd3786\"],[0.5555555555555556,\"#d8576b\"],[0.6666666666666666,\"#ed7953\"],[0.7777777777777778,\"#fb9f3a\"],[0.8888888888888888,\"#fdca26\"],[1.0,\"#f0f921\"]]}],\"choropleth\":[{\"type\":\"choropleth\",\"colorbar\":{\"outlinewidth\":0,\"ticks\":\"\"}}],\"histogram2d\":[{\"type\":\"histogram2d\",\"colorbar\":{\"outlinewidth\":0,\"ticks\":\"\"},\"colorscale\":[[0.0,\"#0d0887\"],[0.1111111111111111,\"#46039f\"],[0.2222222222222222,\"#7201a8\"],[0.3333333333333333,\"#9c179e\"],[0.4444444444444444,\"#bd3786\"],[0.5555555555555556,\"#d8576b\"],[0.6666666666666666,\"#ed7953\"],[0.7777777777777778,\"#fb9f3a\"],[0.8888888888888888,\"#fdca26\"],[1.0,\"#f0f921\"]]}],\"heatmap\":[{\"type\":\"heatmap\",\"colorbar\":{\"outlinewidth\":0,\"ticks\":\"\"},\"colorscale\":[[0.0,\"#0d0887\"],[0.1111111111111111,\"#46039f\"],[0.2222222222222222,\"#7201a8\"],[0.3333333333333333,\"#9c179e\"],[0.4444444444444444,\"#bd3786\"],[0.5555555555555556,\"#d8576b\"],[0.6666666666666666,\"#ed7953\"],[0.7777777777777778,\"#fb9f3a\"],[0.8888888888888888,\"#fdca26\"],[1.0,\"#f0f921\"]]}],\"heatmapgl\":[{\"type\":\"heatmapgl\",\"colorbar\":{\"outlinewidth\":0,\"ticks\":\"\"},\"colorscale\":[[0.0,\"#0d0887\"],[0.1111111111111111,\"#46039f\"],[0.2222222222222222,\"#7201a8\"],[0.3333333333333333,\"#9c179e\"],[0.4444444444444444,\"#bd3786\"],[0.5555555555555556,\"#d8576b\"],[0.6666666666666666,\"#ed7953\"],[0.7777777777777778,\"#fb9f3a\"],[0.8888888888888888,\"#fdca26\"],[1.0,\"#f0f921\"]]}],\"contourcarpet\":[{\"type\":\"contourcarpet\",\"colorbar\":{\"outlinewidth\":0,\"ticks\":\"\"}}],\"contour\":[{\"type\":\"contour\",\"colorbar\":{\"outlinewidth\":0,\"ticks\":\"\"},\"colorscale\":[[0.0,\"#0d0887\"],[0.1111111111111111,\"#46039f\"],[0.2222222222222222,\"#7201a8\"],[0.3333333333333333,\"#9c179e\"],[0.4444444444444444,\"#bd3786\"],[0.5555555555555556,\"#d8576b\"],[0.6666666666666666,\"#ed7953\"],[0.7777777777777778,\"#fb9f3a\"],[0.8888888888888888,\"#fdca26\"],[1.0,\"#f0f921\"]]}],\"surface\":[{\"type\":\"surface\",\"colorbar\":{\"outlinewidth\":0,\"ticks\":\"\"},\"colorscale\":[[0.0,\"#0d0887\"],[0.1111111111111111,\"#46039f\"],[0.2222222222222222,\"#7201a8\"],[0.3333333333333333,\"#9c179e\"],[0.4444444444444444,\"#bd3786\"],[0.5555555555555556,\"#d8576b\"],[0.6666666666666666,\"#ed7953\"],[0.7777777777777778,\"#fb9f3a\"],[0.8888888888888888,\"#fdca26\"],[1.0,\"#f0f921\"]]}],\"mesh3d\":[{\"type\":\"mesh3d\",\"colorbar\":{\"outlinewidth\":0,\"ticks\":\"\"}}],\"scatter\":[{\"fillpattern\":{\"fillmode\":\"overlay\",\"size\":10,\"solidity\":0.2},\"type\":\"scatter\"}],\"parcoords\":[{\"type\":\"parcoords\",\"line\":{\"colorbar\":{\"outlinewidth\":0,\"ticks\":\"\"}}}],\"scatterpolargl\":[{\"type\":\"scatterpolargl\",\"marker\":{\"colorbar\":{\"outlinewidth\":0,\"ticks\":\"\"}}}],\"bar\":[{\"error_x\":{\"color\":\"#2a3f5f\"},\"error_y\":{\"color\":\"#2a3f5f\"},\"marker\":{\"line\":{\"color\":\"#E5ECF6\",\"width\":0.5},\"pattern\":{\"fillmode\":\"overlay\",\"size\":10,\"solidity\":0.2}},\"type\":\"bar\"}],\"scattergeo\":[{\"type\":\"scattergeo\",\"marker\":{\"colorbar\":{\"outlinewidth\":0,\"ticks\":\"\"}}}],\"scatterpolar\":[{\"type\":\"scatterpolar\",\"marker\":{\"colorbar\":{\"outlinewidth\":0,\"ticks\":\"\"}}}],\"histogram\":[{\"marker\":{\"pattern\":{\"fillmode\":\"overlay\",\"size\":10,\"solidity\":0.2}},\"type\":\"histogram\"}],\"scattergl\":[{\"type\":\"scattergl\",\"marker\":{\"colorbar\":{\"outlinewidth\":0,\"ticks\":\"\"}}}],\"scatter3d\":[{\"type\":\"scatter3d\",\"line\":{\"colorbar\":{\"outlinewidth\":0,\"ticks\":\"\"}},\"marker\":{\"colorbar\":{\"outlinewidth\":0,\"ticks\":\"\"}}}],\"scattermapbox\":[{\"type\":\"scattermapbox\",\"marker\":{\"colorbar\":{\"outlinewidth\":0,\"ticks\":\"\"}}}],\"scatterternary\":[{\"type\":\"scatterternary\",\"marker\":{\"colorbar\":{\"outlinewidth\":0,\"ticks\":\"\"}}}],\"scattercarpet\":[{\"type\":\"scattercarpet\",\"marker\":{\"colorbar\":{\"outlinewidth\":0,\"ticks\":\"\"}}}],\"carpet\":[{\"aaxis\":{\"endlinecolor\":\"#2a3f5f\",\"gridcolor\":\"white\",\"linecolor\":\"white\",\"minorgridcolor\":\"white\",\"startlinecolor\":\"#2a3f5f\"},\"baxis\":{\"endlinecolor\":\"#2a3f5f\",\"gridcolor\":\"white\",\"linecolor\":\"white\",\"minorgridcolor\":\"white\",\"startlinecolor\":\"#2a3f5f\"},\"type\":\"carpet\"}],\"table\":[{\"cells\":{\"fill\":{\"color\":\"#EBF0F8\"},\"line\":{\"color\":\"white\"}},\"header\":{\"fill\":{\"color\":\"#C8D4E3\"},\"line\":{\"color\":\"white\"}},\"type\":\"table\"}],\"barpolar\":[{\"marker\":{\"line\":{\"color\":\"#E5ECF6\",\"width\":0.5},\"pattern\":{\"fillmode\":\"overlay\",\"size\":10,\"solidity\":0.2}},\"type\":\"barpolar\"}],\"pie\":[{\"automargin\":true,\"type\":\"pie\"}]},\"layout\":{\"autotypenumbers\":\"strict\",\"colorway\":[\"#636efa\",\"#EF553B\",\"#00cc96\",\"#ab63fa\",\"#FFA15A\",\"#19d3f3\",\"#FF6692\",\"#B6E880\",\"#FF97FF\",\"#FECB52\"],\"font\":{\"color\":\"#2a3f5f\"},\"hovermode\":\"closest\",\"hoverlabel\":{\"align\":\"left\"},\"paper_bgcolor\":\"white\",\"plot_bgcolor\":\"#E5ECF6\",\"polar\":{\"bgcolor\":\"#E5ECF6\",\"angularaxis\":{\"gridcolor\":\"white\",\"linecolor\":\"white\",\"ticks\":\"\"},\"radialaxis\":{\"gridcolor\":\"white\",\"linecolor\":\"white\",\"ticks\":\"\"}},\"ternary\":{\"bgcolor\":\"#E5ECF6\",\"aaxis\":{\"gridcolor\":\"white\",\"linecolor\":\"white\",\"ticks\":\"\"},\"baxis\":{\"gridcolor\":\"white\",\"linecolor\":\"white\",\"ticks\":\"\"},\"caxis\":{\"gridcolor\":\"white\",\"linecolor\":\"white\",\"ticks\":\"\"}},\"coloraxis\":{\"colorbar\":{\"outlinewidth\":0,\"ticks\":\"\"}},\"colorscale\":{\"sequential\":[[0.0,\"#0d0887\"],[0.1111111111111111,\"#46039f\"],[0.2222222222222222,\"#7201a8\"],[0.3333333333333333,\"#9c179e\"],[0.4444444444444444,\"#bd3786\"],[0.5555555555555556,\"#d8576b\"],[0.6666666666666666,\"#ed7953\"],[0.7777777777777778,\"#fb9f3a\"],[0.8888888888888888,\"#fdca26\"],[1.0,\"#f0f921\"]],\"sequentialminus\":[[0.0,\"#0d0887\"],[0.1111111111111111,\"#46039f\"],[0.2222222222222222,\"#7201a8\"],[0.3333333333333333,\"#9c179e\"],[0.4444444444444444,\"#bd3786\"],[0.5555555555555556,\"#d8576b\"],[0.6666666666666666,\"#ed7953\"],[0.7777777777777778,\"#fb9f3a\"],[0.8888888888888888,\"#fdca26\"],[1.0,\"#f0f921\"]],\"diverging\":[[0,\"#8e0152\"],[0.1,\"#c51b7d\"],[0.2,\"#de77ae\"],[0.3,\"#f1b6da\"],[0.4,\"#fde0ef\"],[0.5,\"#f7f7f7\"],[0.6,\"#e6f5d0\"],[0.7,\"#b8e186\"],[0.8,\"#7fbc41\"],[0.9,\"#4d9221\"],[1,\"#276419\"]]},\"xaxis\":{\"gridcolor\":\"white\",\"linecolor\":\"white\",\"ticks\":\"\",\"title\":{\"standoff\":15},\"zerolinecolor\":\"white\",\"automargin\":true,\"zerolinewidth\":2},\"yaxis\":{\"gridcolor\":\"white\",\"linecolor\":\"white\",\"ticks\":\"\",\"title\":{\"standoff\":15},\"zerolinecolor\":\"white\",\"automargin\":true,\"zerolinewidth\":2},\"scene\":{\"xaxis\":{\"backgroundcolor\":\"#E5ECF6\",\"gridcolor\":\"white\",\"linecolor\":\"white\",\"showbackground\":true,\"ticks\":\"\",\"zerolinecolor\":\"white\",\"gridwidth\":2},\"yaxis\":{\"backgroundcolor\":\"#E5ECF6\",\"gridcolor\":\"white\",\"linecolor\":\"white\",\"showbackground\":true,\"ticks\":\"\",\"zerolinecolor\":\"white\",\"gridwidth\":2},\"zaxis\":{\"backgroundcolor\":\"#E5ECF6\",\"gridcolor\":\"white\",\"linecolor\":\"white\",\"showbackground\":true,\"ticks\":\"\",\"zerolinecolor\":\"white\",\"gridwidth\":2}},\"shapedefaults\":{\"line\":{\"color\":\"#2a3f5f\"}},\"annotationdefaults\":{\"arrowcolor\":\"#2a3f5f\",\"arrowhead\":0,\"arrowwidth\":1},\"geo\":{\"bgcolor\":\"white\",\"landcolor\":\"#E5ECF6\",\"subunitcolor\":\"white\",\"showland\":true,\"showlakes\":true,\"lakecolor\":\"white\"},\"title\":{\"x\":0.05},\"mapbox\":{\"style\":\"light\"}}},\"xaxis\":{\"anchor\":\"y\",\"domain\":[0.0,1.0],\"title\":{\"text\":\"3. Relationship Status\"}},\"yaxis\":{\"anchor\":\"x\",\"domain\":[0.0,1.0],\"title\":{\"text\":\"10. How often do you get distracted by Social media when you are busy doing something?\"}},\"legend\":{\"tracegroupgap\":0,\"itemsizing\":\"constant\"},\"title\":{\"text\":\"Bubble Chart\"},\"width\":800,\"height\":600},                        {\"responsive\": true}                    ).then(function(){\n",
       "                            \n",
       "var gd = document.getElementById('ef7717b8-2148-4145-bde6-be17fb5d433b');\n",
       "var x = new MutationObserver(function (mutations, observer) {{\n",
       "        var display = window.getComputedStyle(gd).display;\n",
       "        if (!display || display === 'none') {{\n",
       "            console.log([gd, 'removed!']);\n",
       "            Plotly.purge(gd);\n",
       "            observer.disconnect();\n",
       "        }}\n",
       "}});\n",
       "\n",
       "// Listen for the removal of the full notebook cells\n",
       "var notebookContainer = gd.closest('#notebook-container');\n",
       "if (notebookContainer) {{\n",
       "    x.observe(notebookContainer, {childList: true});\n",
       "}}\n",
       "\n",
       "// Listen for the clearing of the current output cell\n",
       "var outputEl = gd.closest('.output');\n",
       "if (outputEl) {{\n",
       "    x.observe(outputEl, {childList: true});\n",
       "}}\n",
       "\n",
       "                        })                };                });            </script>        </div>"
      ]
     },
     "metadata": {},
     "output_type": "display_data"
    }
   ],
   "source": [
    "fig = px.scatter_3d(df, x='7. What social media platforms do you commonly use?', y='18. How often do you feel depressed or down?', z='1. What is your age?',color='18. How often do you feel depressed or down?', title='3D Scatter Plot of Ages, Apps, and level of depression')\n",
    "fig.update_layout(width=800, height=600) \n",
    "fig.show()\n",
    "fig = px.scatter(df, x='3. Relationship Status', y='10. How often do you get distracted by Social media when you are busy doing something?', size='20. On a scale of 1 to 5, how often do you face issues regarding sleep?', title='Bubble Chart')\n",
    "fig.update_layout(width=800, height=600) \n",
    "fig.show()"
   ]
  },
  {
   "cell_type": "markdown",
   "id": "complete-vegetarian",
   "metadata": {},
   "source": [
    "#### Write your insghts here"
   ]
  },
  {
   "cell_type": "markdown",
   "id": "b8298d33-cc3a-452b-90e5-aef0d3c0f3a6",
   "metadata": {},
   "source": [
    "### Scatter:\n",
    "- The highest density in people who uses more social media apps and depressed, so the more apps the more depressed.\n",
    "- older ages mostly has less depression levels."
   ]
  },
  {
   "cell_type": "markdown",
   "id": "arranged-sheet",
   "metadata": {},
   "source": [
    "#### Write your insghts here"
   ]
  },
  {
   "cell_type": "markdown",
   "id": "880022cf-5ef2-4ddb-9649-419afa065bcd",
   "metadata": {},
   "source": [
    "### Bubble chart:\n",
    "- People who divorced has less issues regarding sleep.\n",
    "- its seems that there is no relation between sleeping issues and getting distrackted."
   ]
  }
 ],
 "metadata": {
  "kernelspec": {
   "display_name": "Python 3 (ipykernel)",
   "language": "python",
   "name": "python3"
  },
  "language_info": {
   "codemirror_mode": {
    "name": "ipython",
    "version": 3
   },
   "file_extension": ".py",
   "mimetype": "text/x-python",
   "name": "python",
   "nbconvert_exporter": "python",
   "pygments_lexer": "ipython3",
   "version": "3.12.0"
  }
 },
 "nbformat": 4,
 "nbformat_minor": 5
}
